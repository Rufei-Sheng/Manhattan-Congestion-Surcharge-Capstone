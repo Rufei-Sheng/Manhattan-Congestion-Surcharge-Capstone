{
 "cells": [
  {
   "cell_type": "code",
   "execution_count": 89,
   "metadata": {},
   "outputs": [
    {
     "name": "stdout",
     "output_type": "stream",
     "text": [
      "Populating the interactive namespace from numpy and matplotlib\n"
     ]
    },
    {
     "name": "stderr",
     "output_type": "stream",
     "text": [
      "/Users/katharinevoorhees/anaconda3/lib/python3.6/site-packages/IPython/core/magics/pylab.py:160: UserWarning: pylab import has clobbered these variables: ['nan']\n",
      "`%matplotlib` prevents importing * from pylab and numpy\n",
      "  \"\\n`%matplotlib` prevents importing * from pylab and numpy\"\n"
     ]
    }
   ],
   "source": [
    "import pandas as pd\n",
    "import numpy as numpy\n",
    "import json \n",
    "import os \n",
    "import pylab as pl\n",
    "import urllib\n",
    "import requests\n",
    "import geopandas as gp\n",
    "import fiona\n",
    "import shapely\n",
    "from fiona.crs import from_epsg\n",
    "import os\n",
    "import pandas as pd\n",
    "import urllib\n",
    "import requests\n",
    "import json\n",
    "import sys\n",
    "import io\n",
    "import shapely\n",
    "import base64\n",
    "import urllib.request\n",
    "import functools\n",
    "import geopandas as gp\n",
    "import fiona\n",
    "import numpy as np\n",
    "\n",
    "pd.set_option('display.max_rows', 500)\n",
    "pd.set_option('display.max_columns', 500)\n",
    "%matplotlib inline\n",
    "\n",
    "%pylab inline"
   ]
  },
  {
   "cell_type": "code",
   "execution_count": 90,
   "metadata": {},
   "outputs": [],
   "source": [
    "myAPI = <<your api>>"
   ]
  },
  {
   "cell_type": "code",
   "execution_count": 91,
   "metadata": {},
   "outputs": [],
   "source": [
    "#pull in library of variable names\n",
    "url = \"https://api.census.gov/data/2016/acs/acs5/variables.json\"\n",
    "resp = requests.request('GET', url)\n",
    "aff1y = json.loads(resp.text)\n",
    "\n",
    "affkeys = np.array(list(aff1y['variables'].keys()))"
   ]
  },
  {
   "cell_type": "code",
   "execution_count": 92,
   "metadata": {},
   "outputs": [
    {
     "data": {
      "text/plain": [
       "[('B08301_001E', 'Estimate!!Total'),\n",
       " ('B08301_010E', 'Estimate!!Total!!Public transportation (excluding taxicab)'),\n",
       " ('B08301_011E',\n",
       "  'Estimate!!Total!!Public transportation (excluding taxicab)!!Bus or trolley bus'),\n",
       " ('B08301_012E',\n",
       "  'Estimate!!Total!!Public transportation (excluding taxicab)!!Streetcar or trolley car (carro publico in Puerto Rico)'),\n",
       " ('B08301_013E',\n",
       "  'Estimate!!Total!!Public transportation (excluding taxicab)!!Subway or elevated'),\n",
       " ('B08301_003E', 'Estimate!!Total!!Car, truck, or van!!Drove alone'),\n",
       " ('B08301_002E', 'Estimate!!Total!!Car, truck, or van'),\n",
       " ('B08301_005E',\n",
       "  'Estimate!!Total!!Car, truck, or van!!Carpooled!!In 2-person carpool'),\n",
       " ('B08301_004E', 'Estimate!!Total!!Car, truck, or van!!Carpooled'),\n",
       " ('B08301_007E',\n",
       "  'Estimate!!Total!!Car, truck, or van!!Carpooled!!In 4-person carpool'),\n",
       " ('B08301_006E',\n",
       "  'Estimate!!Total!!Car, truck, or van!!Carpooled!!In 3-person carpool'),\n",
       " ('B08301_009E',\n",
       "  'Estimate!!Total!!Car, truck, or van!!Carpooled!!In 7-or-more-person carpool'),\n",
       " ('B08301_008E',\n",
       "  'Estimate!!Total!!Car, truck, or van!!Carpooled!!In 5- or 6-person carpool'),\n",
       " ('B08301_018E', 'Estimate!!Total!!Bicycle'),\n",
       " ('B08301_019E', 'Estimate!!Total!!Walked'),\n",
       " ('B08301_014E',\n",
       "  'Estimate!!Total!!Public transportation (excluding taxicab)!!Railroad'),\n",
       " ('B08301_015E',\n",
       "  'Estimate!!Total!!Public transportation (excluding taxicab)!!Ferryboat'),\n",
       " ('B08301_016E', 'Estimate!!Total!!Taxicab'),\n",
       " ('B08301_017E', 'Estimate!!Total!!Motorcycle'),\n",
       " ('B08301_021E', 'Estimate!!Total!!Worked at home'),\n",
       " ('B08301_020E', 'Estimate!!Total!!Other means')]"
      ]
     },
     "execution_count": 92,
     "metadata": {},
     "output_type": "execute_result"
    }
   ],
   "source": [
    "#search for commute codes\n",
    "[(k, aff1y['variables'][k]['label'])  for k in affkeys if k.startswith ('B08301') ]"
   ]
  },
  {
   "cell_type": "code",
   "execution_count": 93,
   "metadata": {},
   "outputs": [],
   "source": [
    "#dictionary for renaming later\n",
    "column_keys= {'B08301_001E':'total_total','B08301_010E':'total_public_transpo',\n",
    "        'B08301_011E':'bus','B08301_012E':'streetcar','B08301_013E':'subway',\n",
    "        'B08301_002E': 'total_car_van_truck', 'B08301_003E':'car_vt_alone',\n",
    "        'B08301_004E':'car_vt_carpooled', 'B08301_018E':'bicycle','B08301_019E':'walked',\n",
    "        'B08301_014E':'railroad', 'B08301_015E':'ferry','B08301_016E':'taxi',\n",
    "        'B08301_017E':'motorcycle','B08301_021E':'worked_at_home', 'B08301_020E':'other_means'}"
   ]
  },
  {
   "cell_type": "code",
   "execution_count": 94,
   "metadata": {},
   "outputs": [],
   "source": [
    "#name keys\n",
    "key1 = 'B08301_001E,B08301_010E,B08301_011E,B08301_012E,B08301_013E,B08301_002E,B08301_003E,'\n",
    "key2 = 'B08301_004E,B08301_018E,B08301_019E,B08301_014E,B08301_015E,B08301_016E,B08301_017E,'\n",
    "key3 = 'B08301_021E,B08301_020E'"
   ]
  },
  {
   "cell_type": "code",
   "execution_count": 95,
   "metadata": {},
   "outputs": [
    {
     "data": {
      "text/html": [
       "<div>\n",
       "<style scoped>\n",
       "    .dataframe tbody tr th:only-of-type {\n",
       "        vertical-align: middle;\n",
       "    }\n",
       "\n",
       "    .dataframe tbody tr th {\n",
       "        vertical-align: top;\n",
       "    }\n",
       "\n",
       "    .dataframe thead th {\n",
       "        text-align: right;\n",
       "    }\n",
       "</style>\n",
       "<table border=\"1\" class=\"dataframe\">\n",
       "  <thead>\n",
       "    <tr style=\"text-align: right;\">\n",
       "      <th></th>\n",
       "      <th>B08301_001E</th>\n",
       "      <th>B08301_010E</th>\n",
       "      <th>B08301_011E</th>\n",
       "      <th>B08301_012E</th>\n",
       "      <th>B08301_013E</th>\n",
       "      <th>B08301_002E</th>\n",
       "      <th>B08301_003E</th>\n",
       "      <th>B08301_004E</th>\n",
       "      <th>B08301_018E</th>\n",
       "      <th>B08301_019E</th>\n",
       "      <th>B08301_014E</th>\n",
       "      <th>B08301_015E</th>\n",
       "      <th>B08301_016E</th>\n",
       "      <th>B08301_017E</th>\n",
       "      <th>B08301_021E</th>\n",
       "      <th>B08301_020E</th>\n",
       "      <th>NAME</th>\n",
       "      <th>state</th>\n",
       "      <th>county</th>\n",
       "      <th>tract</th>\n",
       "      <th>Unnamed: 20</th>\n",
       "    </tr>\n",
       "  </thead>\n",
       "  <tbody>\n",
       "    <tr>\n",
       "      <th>0</th>\n",
       "      <td>1812</td>\n",
       "      <td>1268</td>\n",
       "      <td>51</td>\n",
       "      <td>8</td>\n",
       "      <td>1190</td>\n",
       "      <td>418</td>\n",
       "      <td>338</td>\n",
       "      <td>80</td>\n",
       "      <td>42</td>\n",
       "      <td>35</td>\n",
       "      <td>19</td>\n",
       "      <td>0</td>\n",
       "      <td>0</td>\n",
       "      <td>0</td>\n",
       "      <td>49</td>\n",
       "      <td>0</td>\n",
       "      <td>Census Tract 245, Kings County, New York</td>\n",
       "      <td>36</td>\n",
       "      <td>47</td>\n",
       "      <td>24500</td>\n",
       "      <td>NaN</td>\n",
       "    </tr>\n",
       "  </tbody>\n",
       "</table>\n",
       "</div>"
      ],
      "text/plain": [
       "   B08301_001E  B08301_010E  B08301_011E  B08301_012E  B08301_013E  \\\n",
       "0         1812         1268           51            8         1190   \n",
       "\n",
       "   B08301_002E  B08301_003E  B08301_004E  B08301_018E  B08301_019E  \\\n",
       "0          418          338           80           42           35   \n",
       "\n",
       "   B08301_014E  B08301_015E  B08301_016E  B08301_017E  B08301_021E  \\\n",
       "0           19            0            0            0           49   \n",
       "\n",
       "   B08301_020E                                      NAME  state  county  \\\n",
       "0            0  Census Tract 245, Kings County, New York     36      47   \n",
       "\n",
       "   tract  Unnamed: 20  \n",
       "0  24500          NaN  "
      ]
     },
     "execution_count": 95,
     "metadata": {},
     "output_type": "execute_result"
    }
   ],
   "source": [
    "#download info from census\n",
    "year = '2015'\n",
    "\n",
    "counties = [ 5, 47, 61, 81, 85]\n",
    "\n",
    "url = \"https://api.census.gov/data/\" + year + \"/acs/acs5?get=\" +key1+key2+key3+\\\n",
    "    \",NAME&for=tract:*&in=state:36&in=county:*&key=\" + myAPI\n",
    "resp = requests.request('GET', url).content\n",
    "commute = pd.read_csv(io.StringIO(resp.decode('utf-8').replace('[','').replace(']','')))\n",
    "\n",
    "commute = commute[commute['county'].isin(counties)]\n",
    "\n",
    "\n",
    "commute.head(1)"
   ]
  },
  {
   "cell_type": "code",
   "execution_count": 96,
   "metadata": {},
   "outputs": [],
   "source": [
    "commute.rename(columns=column_keys, inplace=True)"
   ]
  },
  {
   "cell_type": "code",
   "execution_count": 97,
   "metadata": {},
   "outputs": [
    {
     "data": {
      "text/html": [
       "<div>\n",
       "<style scoped>\n",
       "    .dataframe tbody tr th:only-of-type {\n",
       "        vertical-align: middle;\n",
       "    }\n",
       "\n",
       "    .dataframe tbody tr th {\n",
       "        vertical-align: top;\n",
       "    }\n",
       "\n",
       "    .dataframe thead th {\n",
       "        text-align: right;\n",
       "    }\n",
       "</style>\n",
       "<table border=\"1\" class=\"dataframe\">\n",
       "  <thead>\n",
       "    <tr style=\"text-align: right;\">\n",
       "      <th></th>\n",
       "      <th>total_total</th>\n",
       "      <th>total_public_transpo</th>\n",
       "      <th>bus</th>\n",
       "      <th>streetcar</th>\n",
       "      <th>subway</th>\n",
       "      <th>total_car_van_truck</th>\n",
       "      <th>car_vt_alone</th>\n",
       "      <th>car_vt_carpooled</th>\n",
       "      <th>bicycle</th>\n",
       "      <th>walked</th>\n",
       "      <th>railroad</th>\n",
       "      <th>ferry</th>\n",
       "      <th>taxi</th>\n",
       "      <th>motorcycle</th>\n",
       "      <th>worked_at_home</th>\n",
       "      <th>other_means</th>\n",
       "      <th>NAME</th>\n",
       "      <th>state</th>\n",
       "      <th>county</th>\n",
       "      <th>tract</th>\n",
       "      <th>Unnamed: 20</th>\n",
       "    </tr>\n",
       "  </thead>\n",
       "  <tbody>\n",
       "    <tr>\n",
       "      <th>0</th>\n",
       "      <td>1812</td>\n",
       "      <td>1268</td>\n",
       "      <td>51</td>\n",
       "      <td>8</td>\n",
       "      <td>1190</td>\n",
       "      <td>418</td>\n",
       "      <td>338</td>\n",
       "      <td>80</td>\n",
       "      <td>42</td>\n",
       "      <td>35</td>\n",
       "      <td>19</td>\n",
       "      <td>0</td>\n",
       "      <td>0</td>\n",
       "      <td>0</td>\n",
       "      <td>49</td>\n",
       "      <td>0</td>\n",
       "      <td>Census Tract 245, Kings County, New York</td>\n",
       "      <td>36</td>\n",
       "      <td>47</td>\n",
       "      <td>24500</td>\n",
       "      <td>NaN</td>\n",
       "    </tr>\n",
       "    <tr>\n",
       "      <th>1</th>\n",
       "      <td>1263</td>\n",
       "      <td>629</td>\n",
       "      <td>51</td>\n",
       "      <td>0</td>\n",
       "      <td>578</td>\n",
       "      <td>499</td>\n",
       "      <td>389</td>\n",
       "      <td>110</td>\n",
       "      <td>0</td>\n",
       "      <td>112</td>\n",
       "      <td>0</td>\n",
       "      <td>0</td>\n",
       "      <td>0</td>\n",
       "      <td>0</td>\n",
       "      <td>23</td>\n",
       "      <td>0</td>\n",
       "      <td>Census Tract 246, Kings County, New York</td>\n",
       "      <td>36</td>\n",
       "      <td>47</td>\n",
       "      <td>24600</td>\n",
       "      <td>NaN</td>\n",
       "    </tr>\n",
       "    <tr>\n",
       "      <th>2</th>\n",
       "      <td>1041</td>\n",
       "      <td>790</td>\n",
       "      <td>63</td>\n",
       "      <td>17</td>\n",
       "      <td>703</td>\n",
       "      <td>123</td>\n",
       "      <td>86</td>\n",
       "      <td>37</td>\n",
       "      <td>19</td>\n",
       "      <td>60</td>\n",
       "      <td>7</td>\n",
       "      <td>0</td>\n",
       "      <td>0</td>\n",
       "      <td>0</td>\n",
       "      <td>33</td>\n",
       "      <td>16</td>\n",
       "      <td>Census Tract 247, Kings County, New York</td>\n",
       "      <td>36</td>\n",
       "      <td>47</td>\n",
       "      <td>24700</td>\n",
       "      <td>NaN</td>\n",
       "    </tr>\n",
       "  </tbody>\n",
       "</table>\n",
       "</div>"
      ],
      "text/plain": [
       "   total_total  total_public_transpo  bus  streetcar  subway  \\\n",
       "0         1812                  1268   51          8    1190   \n",
       "1         1263                   629   51          0     578   \n",
       "2         1041                   790   63         17     703   \n",
       "\n",
       "   total_car_van_truck  car_vt_alone  car_vt_carpooled  bicycle  walked  \\\n",
       "0                  418           338                80       42      35   \n",
       "1                  499           389               110        0     112   \n",
       "2                  123            86                37       19      60   \n",
       "\n",
       "   railroad  ferry  taxi  motorcycle  worked_at_home  other_means  \\\n",
       "0        19      0     0           0              49            0   \n",
       "1         0      0     0           0              23            0   \n",
       "2         7      0     0           0              33           16   \n",
       "\n",
       "                                       NAME  state  county  tract  Unnamed: 20  \n",
       "0  Census Tract 245, Kings County, New York     36      47  24500          NaN  \n",
       "1  Census Tract 246, Kings County, New York     36      47  24600          NaN  \n",
       "2  Census Tract 247, Kings County, New York     36      47  24700          NaN  "
      ]
     },
     "execution_count": 97,
     "metadata": {},
     "output_type": "execute_result"
    }
   ],
   "source": [
    "commute.head(3)"
   ]
  },
  {
   "cell_type": "code",
   "execution_count": 98,
   "metadata": {},
   "outputs": [
    {
     "data": {
      "text/html": [
       "<div>\n",
       "<style scoped>\n",
       "    .dataframe tbody tr th:only-of-type {\n",
       "        vertical-align: middle;\n",
       "    }\n",
       "\n",
       "    .dataframe tbody tr th {\n",
       "        vertical-align: top;\n",
       "    }\n",
       "\n",
       "    .dataframe thead th {\n",
       "        text-align: right;\n",
       "    }\n",
       "</style>\n",
       "<table border=\"1\" class=\"dataframe\">\n",
       "  <thead>\n",
       "    <tr style=\"text-align: right;\">\n",
       "      <th></th>\n",
       "      <th>index_right</th>\n",
       "      <th>OBJECTID</th>\n",
       "      <th>zone</th>\n",
       "      <th>tractid</th>\n",
       "      <th>bcode</th>\n",
       "      <th>tractnum</th>\n",
       "    </tr>\n",
       "  </thead>\n",
       "  <tbody>\n",
       "    <tr>\n",
       "      <th>0</th>\n",
       "      <td>1968</td>\n",
       "      <td>2.0</td>\n",
       "      <td>Jamaica Bay</td>\n",
       "      <td>36081107202</td>\n",
       "      <td>36081</td>\n",
       "      <td>107202</td>\n",
       "    </tr>\n",
       "    <tr>\n",
       "      <th>1</th>\n",
       "      <td>222</td>\n",
       "      <td>3.0</td>\n",
       "      <td>Allerton/Pelham Gardens</td>\n",
       "      <td>36005031000</td>\n",
       "      <td>36005</td>\n",
       "      <td>31000</td>\n",
       "    </tr>\n",
       "    <tr>\n",
       "      <th>2</th>\n",
       "      <td>224</td>\n",
       "      <td>3.0</td>\n",
       "      <td>Allerton/Pelham Gardens</td>\n",
       "      <td>36005031400</td>\n",
       "      <td>36005</td>\n",
       "      <td>31400</td>\n",
       "    </tr>\n",
       "    <tr>\n",
       "      <th>3</th>\n",
       "      <td>226</td>\n",
       "      <td>3.0</td>\n",
       "      <td>Allerton/Pelham Gardens</td>\n",
       "      <td>36005031800</td>\n",
       "      <td>36005</td>\n",
       "      <td>31800</td>\n",
       "    </tr>\n",
       "    <tr>\n",
       "      <th>4</th>\n",
       "      <td>225</td>\n",
       "      <td>3.0</td>\n",
       "      <td>Allerton/Pelham Gardens</td>\n",
       "      <td>36005031600</td>\n",
       "      <td>36005</td>\n",
       "      <td>31600</td>\n",
       "    </tr>\n",
       "  </tbody>\n",
       "</table>\n",
       "</div>"
      ],
      "text/plain": [
       "   index_right  OBJECTID                     zone      tractid  bcode  \\\n",
       "0         1968       2.0              Jamaica Bay  36081107202  36081   \n",
       "1          222       3.0  Allerton/Pelham Gardens  36005031000  36005   \n",
       "2          224       3.0  Allerton/Pelham Gardens  36005031400  36005   \n",
       "3          226       3.0  Allerton/Pelham Gardens  36005031800  36005   \n",
       "4          225       3.0  Allerton/Pelham Gardens  36005031600  36005   \n",
       "\n",
       "   tractnum  \n",
       "0    107202  \n",
       "1     31000  \n",
       "2     31400  \n",
       "3     31800  \n",
       "4     31600  "
      ]
     },
     "execution_count": 98,
     "metadata": {},
     "output_type": "execute_result"
    }
   ],
   "source": [
    "#pull in previously made key\n",
    "zones = pd.read_csv('better_taxizone_censustract_key.csv')\n",
    "zones.head()"
   ]
  },
  {
   "cell_type": "code",
   "execution_count": 99,
   "metadata": {},
   "outputs": [
    {
     "data": {
      "text/plain": [
       "1332"
      ]
     },
     "execution_count": 99,
     "metadata": {},
     "output_type": "execute_result"
    }
   ],
   "source": [
    "len(zones['tractnum'].unique())"
   ]
  },
  {
   "cell_type": "code",
   "execution_count": 100,
   "metadata": {},
   "outputs": [
    {
     "data": {
      "text/plain": [
       "1335"
      ]
     },
     "execution_count": 100,
     "metadata": {},
     "output_type": "execute_result"
    }
   ],
   "source": [
    "len(commute['tract'].unique())"
   ]
  },
  {
   "cell_type": "code",
   "execution_count": 101,
   "metadata": {},
   "outputs": [
    {
     "data": {
      "text/html": [
       "<div>\n",
       "<style scoped>\n",
       "    .dataframe tbody tr th:only-of-type {\n",
       "        vertical-align: middle;\n",
       "    }\n",
       "\n",
       "    .dataframe tbody tr th {\n",
       "        vertical-align: top;\n",
       "    }\n",
       "\n",
       "    .dataframe thead th {\n",
       "        text-align: right;\n",
       "    }\n",
       "</style>\n",
       "<table border=\"1\" class=\"dataframe\">\n",
       "  <thead>\n",
       "    <tr style=\"text-align: right;\">\n",
       "      <th></th>\n",
       "      <th>index_right</th>\n",
       "      <th>OBJECTID</th>\n",
       "      <th>zone</th>\n",
       "      <th>tractid</th>\n",
       "      <th>bcode</th>\n",
       "      <th>tractnum</th>\n",
       "      <th>cnty</th>\n",
       "    </tr>\n",
       "  </thead>\n",
       "  <tbody>\n",
       "    <tr>\n",
       "      <th>0</th>\n",
       "      <td>1968</td>\n",
       "      <td>2.0</td>\n",
       "      <td>Jamaica Bay</td>\n",
       "      <td>36081107202</td>\n",
       "      <td>36081</td>\n",
       "      <td>107202</td>\n",
       "      <td>81</td>\n",
       "    </tr>\n",
       "    <tr>\n",
       "      <th>1</th>\n",
       "      <td>222</td>\n",
       "      <td>3.0</td>\n",
       "      <td>Allerton/Pelham Gardens</td>\n",
       "      <td>36005031000</td>\n",
       "      <td>36005</td>\n",
       "      <td>31000</td>\n",
       "      <td>5</td>\n",
       "    </tr>\n",
       "    <tr>\n",
       "      <th>2</th>\n",
       "      <td>224</td>\n",
       "      <td>3.0</td>\n",
       "      <td>Allerton/Pelham Gardens</td>\n",
       "      <td>36005031400</td>\n",
       "      <td>36005</td>\n",
       "      <td>31400</td>\n",
       "      <td>5</td>\n",
       "    </tr>\n",
       "    <tr>\n",
       "      <th>3</th>\n",
       "      <td>226</td>\n",
       "      <td>3.0</td>\n",
       "      <td>Allerton/Pelham Gardens</td>\n",
       "      <td>36005031800</td>\n",
       "      <td>36005</td>\n",
       "      <td>31800</td>\n",
       "      <td>5</td>\n",
       "    </tr>\n",
       "    <tr>\n",
       "      <th>4</th>\n",
       "      <td>225</td>\n",
       "      <td>3.0</td>\n",
       "      <td>Allerton/Pelham Gardens</td>\n",
       "      <td>36005031600</td>\n",
       "      <td>36005</td>\n",
       "      <td>31600</td>\n",
       "      <td>5</td>\n",
       "    </tr>\n",
       "  </tbody>\n",
       "</table>\n",
       "</div>"
      ],
      "text/plain": [
       "   index_right  OBJECTID                     zone      tractid  bcode  \\\n",
       "0         1968       2.0              Jamaica Bay  36081107202  36081   \n",
       "1          222       3.0  Allerton/Pelham Gardens  36005031000  36005   \n",
       "2          224       3.0  Allerton/Pelham Gardens  36005031400  36005   \n",
       "3          226       3.0  Allerton/Pelham Gardens  36005031800  36005   \n",
       "4          225       3.0  Allerton/Pelham Gardens  36005031600  36005   \n",
       "\n",
       "   tractnum  cnty  \n",
       "0    107202    81  \n",
       "1     31000     5  \n",
       "2     31400     5  \n",
       "3     31800     5  \n",
       "4     31600     5  "
      ]
     },
     "execution_count": 101,
     "metadata": {},
     "output_type": "execute_result"
    }
   ],
   "source": [
    "#get country codes for join\n",
    "zones['bcode'] = zones['bcode'].astype('str')\n",
    "zones['cnty'] = zones['bcode'].str[-3:].astype('int')\n",
    "zones.head()"
   ]
  },
  {
   "cell_type": "code",
   "execution_count": 116,
   "metadata": {},
   "outputs": [
    {
     "data": {
      "text/plain": [
       "(2161, 28)"
      ]
     },
     "execution_count": 116,
     "metadata": {},
     "output_type": "execute_result"
    }
   ],
   "source": [
    "joined = commute.merge(zones, left_on=['county','tract'], right_on=['cnty','tractnum'])\n",
    "\n",
    "joined.shape"
   ]
  },
  {
   "cell_type": "code",
   "execution_count": 117,
   "metadata": {},
   "outputs": [
    {
     "data": {
      "text/html": [
       "<div>\n",
       "<style scoped>\n",
       "    .dataframe tbody tr th:only-of-type {\n",
       "        vertical-align: middle;\n",
       "    }\n",
       "\n",
       "    .dataframe tbody tr th {\n",
       "        vertical-align: top;\n",
       "    }\n",
       "\n",
       "    .dataframe thead th {\n",
       "        text-align: right;\n",
       "    }\n",
       "</style>\n",
       "<table border=\"1\" class=\"dataframe\">\n",
       "  <thead>\n",
       "    <tr style=\"text-align: right;\">\n",
       "      <th></th>\n",
       "      <th>total_total</th>\n",
       "      <th>total_public_transpo</th>\n",
       "      <th>bus</th>\n",
       "      <th>streetcar</th>\n",
       "      <th>subway</th>\n",
       "      <th>total_car_van_truck</th>\n",
       "      <th>car_vt_alone</th>\n",
       "      <th>car_vt_carpooled</th>\n",
       "      <th>bicycle</th>\n",
       "      <th>walked</th>\n",
       "      <th>railroad</th>\n",
       "      <th>ferry</th>\n",
       "      <th>taxi</th>\n",
       "      <th>motorcycle</th>\n",
       "      <th>worked_at_home</th>\n",
       "      <th>other_means</th>\n",
       "      <th>NAME</th>\n",
       "      <th>state</th>\n",
       "      <th>county</th>\n",
       "      <th>tract</th>\n",
       "      <th>Unnamed: 20</th>\n",
       "      <th>index_right</th>\n",
       "      <th>OBJECTID</th>\n",
       "      <th>zone</th>\n",
       "      <th>tractid</th>\n",
       "      <th>bcode</th>\n",
       "      <th>tractnum</th>\n",
       "      <th>cnty</th>\n",
       "    </tr>\n",
       "  </thead>\n",
       "  <tbody>\n",
       "  </tbody>\n",
       "</table>\n",
       "</div>"
      ],
      "text/plain": [
       "Empty DataFrame\n",
       "Columns: [total_total, total_public_transpo, bus, streetcar, subway, total_car_van_truck, car_vt_alone, car_vt_carpooled, bicycle, walked, railroad, ferry, taxi, motorcycle, worked_at_home, other_means, NAME, state, county, tract, Unnamed: 20, index_right, OBJECTID, zone, tractid, bcode, tractnum, cnty]\n",
       "Index: []"
      ]
     },
     "execution_count": 117,
     "metadata": {},
     "output_type": "execute_result"
    }
   ],
   "source": [
    "#see if any tracts don't have a taxi zone\n",
    "nan = joined[joined['OBJECTID'].isnull()]\n",
    "nan"
   ]
  },
  {
   "cell_type": "code",
   "execution_count": 118,
   "metadata": {},
   "outputs": [],
   "source": [
    "#aggregate by zone\n",
    "commute_taxi_zone = joined.groupby('OBJECTID').sum().reset_index()"
   ]
  },
  {
   "cell_type": "code",
   "execution_count": 119,
   "metadata": {},
   "outputs": [
    {
     "data": {
      "text/plain": [
       "Index(['OBJECTID', 'total_total', 'total_public_transpo', 'bus', 'streetcar',\n",
       "       'subway', 'total_car_van_truck', 'car_vt_alone', 'car_vt_carpooled',\n",
       "       'bicycle', 'walked', 'railroad', 'ferry', 'taxi', 'motorcycle',\n",
       "       'worked_at_home', 'other_means', 'state', 'county', 'tract',\n",
       "       'Unnamed: 20', 'index_right', 'tractid', 'tractnum', 'cnty'],\n",
       "      dtype='object')"
      ]
     },
     "execution_count": 119,
     "metadata": {},
     "output_type": "execute_result"
    }
   ],
   "source": [
    "commute_taxi_zone.columns"
   ]
  },
  {
   "cell_type": "code",
   "execution_count": 121,
   "metadata": {},
   "outputs": [],
   "source": [
    "commute_taxi_zone = commute_taxi_zone.loc[:,'OBJECTID':'other_means']"
   ]
  },
  {
   "cell_type": "code",
   "execution_count": 125,
   "metadata": {},
   "outputs": [
    {
     "data": {
      "text/html": [
       "<div>\n",
       "<style scoped>\n",
       "    .dataframe tbody tr th:only-of-type {\n",
       "        vertical-align: middle;\n",
       "    }\n",
       "\n",
       "    .dataframe tbody tr th {\n",
       "        vertical-align: top;\n",
       "    }\n",
       "\n",
       "    .dataframe thead th {\n",
       "        text-align: right;\n",
       "    }\n",
       "</style>\n",
       "<table border=\"1\" class=\"dataframe\">\n",
       "  <thead>\n",
       "    <tr style=\"text-align: right;\">\n",
       "      <th></th>\n",
       "      <th>taxi_zone</th>\n",
       "      <th>total_total</th>\n",
       "      <th>total_public_transpo</th>\n",
       "      <th>bus</th>\n",
       "      <th>streetcar</th>\n",
       "      <th>subway</th>\n",
       "      <th>total_car_van_truck</th>\n",
       "      <th>car_vt_alone</th>\n",
       "      <th>car_vt_carpooled</th>\n",
       "      <th>bicycle</th>\n",
       "      <th>walked</th>\n",
       "      <th>railroad</th>\n",
       "      <th>ferry</th>\n",
       "      <th>taxi</th>\n",
       "      <th>motorcycle</th>\n",
       "      <th>worked_at_home</th>\n",
       "      <th>other_means</th>\n",
       "    </tr>\n",
       "  </thead>\n",
       "  <tbody>\n",
       "    <tr>\n",
       "      <th>0</th>\n",
       "      <td>2.0</td>\n",
       "      <td>0</td>\n",
       "      <td>0</td>\n",
       "      <td>0</td>\n",
       "      <td>0</td>\n",
       "      <td>0</td>\n",
       "      <td>0</td>\n",
       "      <td>0</td>\n",
       "      <td>0</td>\n",
       "      <td>0</td>\n",
       "      <td>0</td>\n",
       "      <td>0</td>\n",
       "      <td>0</td>\n",
       "      <td>0</td>\n",
       "      <td>0</td>\n",
       "      <td>0</td>\n",
       "      <td>0</td>\n",
       "    </tr>\n",
       "    <tr>\n",
       "      <th>1</th>\n",
       "      <td>3.0</td>\n",
       "      <td>13605</td>\n",
       "      <td>5930</td>\n",
       "      <td>1492</td>\n",
       "      <td>41</td>\n",
       "      <td>4197</td>\n",
       "      <td>6450</td>\n",
       "      <td>5476</td>\n",
       "      <td>974</td>\n",
       "      <td>5</td>\n",
       "      <td>683</td>\n",
       "      <td>200</td>\n",
       "      <td>0</td>\n",
       "      <td>86</td>\n",
       "      <td>0</td>\n",
       "      <td>370</td>\n",
       "      <td>81</td>\n",
       "    </tr>\n",
       "  </tbody>\n",
       "</table>\n",
       "</div>"
      ],
      "text/plain": [
       "   taxi_zone  total_total  total_public_transpo   bus  streetcar  subway  \\\n",
       "0        2.0            0                     0     0          0       0   \n",
       "1        3.0        13605                  5930  1492         41    4197   \n",
       "\n",
       "   total_car_van_truck  car_vt_alone  car_vt_carpooled  bicycle  walked  \\\n",
       "0                    0             0                 0        0       0   \n",
       "1                 6450          5476               974        5     683   \n",
       "\n",
       "   railroad  ferry  taxi  motorcycle  worked_at_home  other_means  \n",
       "0         0      0     0           0               0            0  \n",
       "1       200      0    86           0             370           81  "
      ]
     },
     "execution_count": 125,
     "metadata": {},
     "output_type": "execute_result"
    }
   ],
   "source": [
    "commute_taxi_zone.rename(columns={'OBJECTID':'taxi_zone'}, inplace=True)\n",
    "\n",
    "commute_taxi_zone.head(2)"
   ]
  },
  {
   "cell_type": "code",
   "execution_count": 126,
   "metadata": {},
   "outputs": [],
   "source": [
    "commute_taxi_zone.to_csv('acs_commute_data_by_taxi_zone.csv')"
   ]
  },
  {
   "cell_type": "code",
   "execution_count": null,
   "metadata": {},
   "outputs": [],
   "source": []
  }
 ],
 "metadata": {
  "kernelspec": {
   "display_name": "Python 3",
   "language": "python",
   "name": "python3"
  },
  "language_info": {
   "codemirror_mode": {
    "name": "ipython",
    "version": 3
   },
   "file_extension": ".py",
   "mimetype": "text/x-python",
   "name": "python",
   "nbconvert_exporter": "python",
   "pygments_lexer": "ipython3",
   "version": "3.6.5"
  }
 },
 "nbformat": 4,
 "nbformat_minor": 2
}
