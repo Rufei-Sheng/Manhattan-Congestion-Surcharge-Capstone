{
 "cells": [
  {
   "cell_type": "markdown",
   "metadata": {},
   "source": [
    "#### Mapping the taxi zones to origin and destination lat-long for all permutations of the zones for getting the time and pricing information for walking and subway from HereMaps and the pricing info for FHVs from the Uber API."
   ]
  },
  {
   "cell_type": "code",
   "execution_count": 151,
   "metadata": {},
   "outputs": [],
   "source": [
    "import geopandas as gpd\n",
    "import pandas as pd"
   ]
  },
  {
   "cell_type": "code",
   "execution_count": 152,
   "metadata": {},
   "outputs": [],
   "source": [
    "zones = gpd.read_file('Data/Taxi_Zones/taxi_zones.shp')"
   ]
  },
  {
   "cell_type": "code",
   "execution_count": 154,
   "metadata": {},
   "outputs": [
    {
     "data": {
      "text/plain": [
       "(263, 7)"
      ]
     },
     "execution_count": 154,
     "metadata": {},
     "output_type": "execute_result"
    }
   ],
   "source": [
    "zones.shape"
   ]
  },
  {
   "cell_type": "code",
   "execution_count": 131,
   "metadata": {},
   "outputs": [],
   "source": [
    "zones = zones.to_crs(epsg=4326)"
   ]
  },
  {
   "cell_type": "code",
   "execution_count": 132,
   "metadata": {},
   "outputs": [
    {
     "data": {
      "text/html": [
       "<div>\n",
       "<table border=\"1\" class=\"dataframe\">\n",
       "  <thead>\n",
       "    <tr style=\"text-align: right;\">\n",
       "      <th></th>\n",
       "      <th>OBJECTID</th>\n",
       "      <th>Shape_Leng</th>\n",
       "      <th>Shape_Area</th>\n",
       "      <th>zone</th>\n",
       "      <th>LocationID</th>\n",
       "      <th>borough</th>\n",
       "      <th>geometry</th>\n",
       "    </tr>\n",
       "  </thead>\n",
       "  <tbody>\n",
       "    <tr>\n",
       "      <th>0</th>\n",
       "      <td>1</td>\n",
       "      <td>0.116357</td>\n",
       "      <td>0.000782</td>\n",
       "      <td>Newark Airport</td>\n",
       "      <td>1</td>\n",
       "      <td>EWR</td>\n",
       "      <td>POLYGON ((-74.18445299999996 40.6949959999999,...</td>\n",
       "    </tr>\n",
       "    <tr>\n",
       "      <th>1</th>\n",
       "      <td>2</td>\n",
       "      <td>0.433470</td>\n",
       "      <td>0.004866</td>\n",
       "      <td>Jamaica Bay</td>\n",
       "      <td>2</td>\n",
       "      <td>Queens</td>\n",
       "      <td>(POLYGON ((-73.82337597260663 40.6389870471767...</td>\n",
       "    </tr>\n",
       "    <tr>\n",
       "      <th>2</th>\n",
       "      <td>3</td>\n",
       "      <td>0.084341</td>\n",
       "      <td>0.000314</td>\n",
       "      <td>Allerton/Pelham Gardens</td>\n",
       "      <td>3</td>\n",
       "      <td>Bronx</td>\n",
       "      <td>POLYGON ((-73.84792614099985 40.87134223399991...</td>\n",
       "    </tr>\n",
       "    <tr>\n",
       "      <th>3</th>\n",
       "      <td>4</td>\n",
       "      <td>0.043567</td>\n",
       "      <td>0.000112</td>\n",
       "      <td>Alphabet City</td>\n",
       "      <td>4</td>\n",
       "      <td>Manhattan</td>\n",
       "      <td>POLYGON ((-73.97177410965318 40.72582128133705...</td>\n",
       "    </tr>\n",
       "    <tr>\n",
       "      <th>4</th>\n",
       "      <td>5</td>\n",
       "      <td>0.092146</td>\n",
       "      <td>0.000498</td>\n",
       "      <td>Arden Heights</td>\n",
       "      <td>5</td>\n",
       "      <td>Staten Island</td>\n",
       "      <td>POLYGON ((-74.17421738099989 40.56256808599987...</td>\n",
       "    </tr>\n",
       "  </tbody>\n",
       "</table>\n",
       "</div>"
      ],
      "text/plain": [
       "   OBJECTID  Shape_Leng  Shape_Area                     zone  LocationID  \\\n",
       "0         1    0.116357    0.000782           Newark Airport           1   \n",
       "1         2    0.433470    0.004866              Jamaica Bay           2   \n",
       "2         3    0.084341    0.000314  Allerton/Pelham Gardens           3   \n",
       "3         4    0.043567    0.000112            Alphabet City           4   \n",
       "4         5    0.092146    0.000498            Arden Heights           5   \n",
       "\n",
       "         borough                                           geometry  \n",
       "0            EWR  POLYGON ((-74.18445299999996 40.6949959999999,...  \n",
       "1         Queens  (POLYGON ((-73.82337597260663 40.6389870471767...  \n",
       "2          Bronx  POLYGON ((-73.84792614099985 40.87134223399991...  \n",
       "3      Manhattan  POLYGON ((-73.97177410965318 40.72582128133705...  \n",
       "4  Staten Island  POLYGON ((-74.17421738099989 40.56256808599987...  "
      ]
     },
     "execution_count": 132,
     "metadata": {},
     "output_type": "execute_result"
    }
   ],
   "source": [
    "zones.head()"
   ]
  },
  {
   "cell_type": "code",
   "execution_count": 133,
   "metadata": {},
   "outputs": [],
   "source": [
    "centroids = zones.geometry.centroid"
   ]
  },
  {
   "cell_type": "code",
   "execution_count": 134,
   "metadata": {},
   "outputs": [
    {
     "data": {
      "text/plain": [
       "shapely.geometry.point.Point"
      ]
     },
     "execution_count": 134,
     "metadata": {},
     "output_type": "execute_result"
    }
   ],
   "source": [
    "type(centroids[0])"
   ]
  },
  {
   "cell_type": "code",
   "execution_count": 135,
   "metadata": {},
   "outputs": [],
   "source": [
    "from shapely.geometry import Polygon"
   ]
  },
  {
   "cell_type": "markdown",
   "metadata": {},
   "source": [
    "#### Mapping the zones to a representative point(which is better than the centroid because it always lies inside the polygon especially for polygons with a weird shape like the one below)"
   ]
  },
  {
   "cell_type": "markdown",
   "metadata": {},
   "source": [
    "####                       Motivation for using a representative point"
   ]
  },
  {
   "cell_type": "markdown",
   "metadata": {},
   "source": [
    "![Why_to use_representative point](Repr_Point.png)"
   ]
  },
  {
   "cell_type": "code",
   "execution_count": 136,
   "metadata": {},
   "outputs": [],
   "source": [
    "zones['rps'] = zones['geometry'].representative_point()"
   ]
  },
  {
   "cell_type": "code",
   "execution_count": 137,
   "metadata": {},
   "outputs": [
    {
     "data": {
      "text/plain": [
       "shapely.geometry.point.Point"
      ]
     },
     "execution_count": 137,
     "metadata": {},
     "output_type": "execute_result"
    }
   ],
   "source": [
    "type(zones.rps[0])"
   ]
  },
  {
   "cell_type": "markdown",
   "metadata": {},
   "source": [
    "#### Mapping the points to lat-long"
   ]
  },
  {
   "cell_type": "code",
   "execution_count": 138,
   "metadata": {},
   "outputs": [],
   "source": [
    "zones['lon'] = zones.rps.apply(lambda p: p.x)\n",
    "zones['lat'] = zones.rps.apply(lambda p: p.y)"
   ]
  },
  {
   "cell_type": "code",
   "execution_count": 139,
   "metadata": {},
   "outputs": [
    {
     "data": {
      "text/html": [
       "<div>\n",
       "<table border=\"1\" class=\"dataframe\">\n",
       "  <thead>\n",
       "    <tr style=\"text-align: right;\">\n",
       "      <th></th>\n",
       "      <th>OBJECTID</th>\n",
       "      <th>Shape_Leng</th>\n",
       "      <th>Shape_Area</th>\n",
       "      <th>zone</th>\n",
       "      <th>LocationID</th>\n",
       "      <th>borough</th>\n",
       "      <th>geometry</th>\n",
       "      <th>rps</th>\n",
       "      <th>lon</th>\n",
       "      <th>lat</th>\n",
       "    </tr>\n",
       "  </thead>\n",
       "  <tbody>\n",
       "    <tr>\n",
       "      <th>0</th>\n",
       "      <td>1</td>\n",
       "      <td>0.116357</td>\n",
       "      <td>0.000782</td>\n",
       "      <td>Newark Airport</td>\n",
       "      <td>1</td>\n",
       "      <td>EWR</td>\n",
       "      <td>POLYGON ((-74.18445299999996 40.6949959999999,...</td>\n",
       "      <td>POINT (-74.17677842004377 40.68951499999988)</td>\n",
       "      <td>-74.176778</td>\n",
       "      <td>40.689515</td>\n",
       "    </tr>\n",
       "    <tr>\n",
       "      <th>1</th>\n",
       "      <td>2</td>\n",
       "      <td>0.433470</td>\n",
       "      <td>0.004866</td>\n",
       "      <td>Jamaica Bay</td>\n",
       "      <td>2</td>\n",
       "      <td>Queens</td>\n",
       "      <td>(POLYGON ((-73.82337597260663 40.6389870471767...</td>\n",
       "      <td>POINT (-73.82614118027297 40.62572435264644)</td>\n",
       "      <td>-73.826141</td>\n",
       "      <td>40.625724</td>\n",
       "    </tr>\n",
       "    <tr>\n",
       "      <th>2</th>\n",
       "      <td>3</td>\n",
       "      <td>0.084341</td>\n",
       "      <td>0.000314</td>\n",
       "      <td>Allerton/Pelham Gardens</td>\n",
       "      <td>3</td>\n",
       "      <td>Bronx</td>\n",
       "      <td>POLYGON ((-73.84792614099985 40.87134223399991...</td>\n",
       "      <td>POINT (-73.84947945770672 40.86587116199992)</td>\n",
       "      <td>-73.849479</td>\n",
       "      <td>40.865871</td>\n",
       "    </tr>\n",
       "    <tr>\n",
       "      <th>3</th>\n",
       "      <td>4</td>\n",
       "      <td>0.043567</td>\n",
       "      <td>0.000112</td>\n",
       "      <td>Alphabet City</td>\n",
       "      <td>4</td>\n",
       "      <td>Manhattan</td>\n",
       "      <td>POLYGON ((-73.97177410965318 40.72582128133705...</td>\n",
       "      <td>POINT (-73.97702362880241 40.72415107077562)</td>\n",
       "      <td>-73.977024</td>\n",
       "      <td>40.724151</td>\n",
       "    </tr>\n",
       "    <tr>\n",
       "      <th>4</th>\n",
       "      <td>5</td>\n",
       "      <td>0.092146</td>\n",
       "      <td>0.000498</td>\n",
       "      <td>Arden Heights</td>\n",
       "      <td>5</td>\n",
       "      <td>Staten Island</td>\n",
       "      <td>POLYGON ((-74.17421738099989 40.56256808599987...</td>\n",
       "      <td>POINT (-74.18993821824958 40.55033924549988)</td>\n",
       "      <td>-74.189938</td>\n",
       "      <td>40.550339</td>\n",
       "    </tr>\n",
       "  </tbody>\n",
       "</table>\n",
       "</div>"
      ],
      "text/plain": [
       "   OBJECTID  Shape_Leng  Shape_Area                     zone  LocationID  \\\n",
       "0         1    0.116357    0.000782           Newark Airport           1   \n",
       "1         2    0.433470    0.004866              Jamaica Bay           2   \n",
       "2         3    0.084341    0.000314  Allerton/Pelham Gardens           3   \n",
       "3         4    0.043567    0.000112            Alphabet City           4   \n",
       "4         5    0.092146    0.000498            Arden Heights           5   \n",
       "\n",
       "         borough                                           geometry  \\\n",
       "0            EWR  POLYGON ((-74.18445299999996 40.6949959999999,...   \n",
       "1         Queens  (POLYGON ((-73.82337597260663 40.6389870471767...   \n",
       "2          Bronx  POLYGON ((-73.84792614099985 40.87134223399991...   \n",
       "3      Manhattan  POLYGON ((-73.97177410965318 40.72582128133705...   \n",
       "4  Staten Island  POLYGON ((-74.17421738099989 40.56256808599987...   \n",
       "\n",
       "                                            rps        lon        lat  \n",
       "0  POINT (-74.17677842004377 40.68951499999988) -74.176778  40.689515  \n",
       "1  POINT (-73.82614118027297 40.62572435264644) -73.826141  40.625724  \n",
       "2  POINT (-73.84947945770672 40.86587116199992) -73.849479  40.865871  \n",
       "3  POINT (-73.97702362880241 40.72415107077562) -73.977024  40.724151  \n",
       "4  POINT (-74.18993821824958 40.55033924549988) -74.189938  40.550339  "
      ]
     },
     "execution_count": 139,
     "metadata": {},
     "output_type": "execute_result"
    }
   ],
   "source": [
    "zones.head()"
   ]
  },
  {
   "cell_type": "code",
   "execution_count": 140,
   "metadata": {},
   "outputs": [],
   "source": [
    "# Keeping only relevant columns\n",
    "zones_final = zones[['LocationID','lon','lat']]"
   ]
  },
  {
   "cell_type": "code",
   "execution_count": 155,
   "metadata": {},
   "outputs": [
    {
     "data": {
      "text/html": [
       "<div>\n",
       "<table border=\"1\" class=\"dataframe\">\n",
       "  <thead>\n",
       "    <tr style=\"text-align: right;\">\n",
       "      <th></th>\n",
       "      <th>LocationID_pickup</th>\n",
       "      <th>lon_pickup</th>\n",
       "      <th>lat_pickup</th>\n",
       "      <th>LocationID_dropoff</th>\n",
       "      <th>lon_dropoff</th>\n",
       "      <th>lat_dropoff</th>\n",
       "    </tr>\n",
       "  </thead>\n",
       "  <tbody>\n",
       "    <tr>\n",
       "      <th>1</th>\n",
       "      <td>1</td>\n",
       "      <td>-74.176778</td>\n",
       "      <td>40.689515</td>\n",
       "      <td>2</td>\n",
       "      <td>-73.826141</td>\n",
       "      <td>40.625724</td>\n",
       "    </tr>\n",
       "    <tr>\n",
       "      <th>2</th>\n",
       "      <td>1</td>\n",
       "      <td>-74.176778</td>\n",
       "      <td>40.689515</td>\n",
       "      <td>3</td>\n",
       "      <td>-73.849479</td>\n",
       "      <td>40.865871</td>\n",
       "    </tr>\n",
       "    <tr>\n",
       "      <th>3</th>\n",
       "      <td>1</td>\n",
       "      <td>-74.176778</td>\n",
       "      <td>40.689515</td>\n",
       "      <td>4</td>\n",
       "      <td>-73.977024</td>\n",
       "      <td>40.724151</td>\n",
       "    </tr>\n",
       "    <tr>\n",
       "      <th>4</th>\n",
       "      <td>1</td>\n",
       "      <td>-74.176778</td>\n",
       "      <td>40.689515</td>\n",
       "      <td>5</td>\n",
       "      <td>-74.189938</td>\n",
       "      <td>40.550339</td>\n",
       "    </tr>\n",
       "    <tr>\n",
       "      <th>5</th>\n",
       "      <td>1</td>\n",
       "      <td>-74.176778</td>\n",
       "      <td>40.689515</td>\n",
       "      <td>6</td>\n",
       "      <td>-74.067786</td>\n",
       "      <td>40.599053</td>\n",
       "    </tr>\n",
       "  </tbody>\n",
       "</table>\n",
       "</div>"
      ],
      "text/plain": [
       "   LocationID_pickup  lon_pickup  lat_pickup  LocationID_dropoff  lon_dropoff  \\\n",
       "1                  1  -74.176778   40.689515                   2   -73.826141   \n",
       "2                  1  -74.176778   40.689515                   3   -73.849479   \n",
       "3                  1  -74.176778   40.689515                   4   -73.977024   \n",
       "4                  1  -74.176778   40.689515                   5   -74.189938   \n",
       "5                  1  -74.176778   40.689515                   6   -74.067786   \n",
       "\n",
       "   lat_dropoff  \n",
       "1    40.625724  \n",
       "2    40.865871  \n",
       "3    40.724151  \n",
       "4    40.550339  \n",
       "5    40.599053  "
      ]
     },
     "execution_count": 155,
     "metadata": {},
     "output_type": "execute_result"
    }
   ],
   "source": [
    "zones_final.head()"
   ]
  },
  {
   "cell_type": "markdown",
   "metadata": {},
   "source": [
    "#### Creating a new dataframe which has origin and destination lat-longs for all possible combinations"
   ]
  },
  {
   "cell_type": "code",
   "execution_count": 142,
   "metadata": {},
   "outputs": [
    {
     "name": "stderr",
     "output_type": "stream",
     "text": [
      "/usr/local/Anaconda3-5.0.0-Linux-x86_64/envs/PUI2016_Python3/lib/python3.5/site-packages/ipykernel/__main__.py:2: SettingWithCopyWarning: \n",
      "A value is trying to be set on a copy of a slice from a DataFrame.\n",
      "Try using .loc[row_indexer,col_indexer] = value instead\n",
      "\n",
      "See the caveats in the documentation: http://pandas.pydata.org/pandas-docs/stable/indexing.html#indexing-view-versus-copy\n",
      "  from ipykernel import kernelapp as app\n"
     ]
    }
   ],
   "source": [
    "# Creating a new column on which the merge will take place\n",
    "zones_final['key'] = 1"
   ]
  },
  {
   "cell_type": "code",
   "execution_count": 143,
   "metadata": {},
   "outputs": [],
   "source": [
    "# Creating a copy that will be merged into the original data frame\n",
    "zones_final2 = zones_final.copy()"
   ]
  },
  {
   "cell_type": "code",
   "execution_count": 144,
   "metadata": {},
   "outputs": [],
   "source": [
    "# Merging the 2 dataframes \n",
    "zones_final = pd.merge(zones_final,zones_final2,on = 'key', suffixes=('_left','_right'))"
   ]
  },
  {
   "cell_type": "code",
   "execution_count": 145,
   "metadata": {},
   "outputs": [
    {
     "data": {
      "text/html": [
       "<div>\n",
       "<table border=\"1\" class=\"dataframe\">\n",
       "  <thead>\n",
       "    <tr style=\"text-align: right;\">\n",
       "      <th></th>\n",
       "      <th>LocationID_left</th>\n",
       "      <th>lon_left</th>\n",
       "      <th>lat_left</th>\n",
       "      <th>key</th>\n",
       "      <th>LocationID_right</th>\n",
       "      <th>lon_right</th>\n",
       "      <th>lat_right</th>\n",
       "    </tr>\n",
       "  </thead>\n",
       "  <tbody>\n",
       "    <tr>\n",
       "      <th>0</th>\n",
       "      <td>1</td>\n",
       "      <td>-74.176778</td>\n",
       "      <td>40.689515</td>\n",
       "      <td>1</td>\n",
       "      <td>1</td>\n",
       "      <td>-74.176778</td>\n",
       "      <td>40.689515</td>\n",
       "    </tr>\n",
       "    <tr>\n",
       "      <th>1</th>\n",
       "      <td>1</td>\n",
       "      <td>-74.176778</td>\n",
       "      <td>40.689515</td>\n",
       "      <td>1</td>\n",
       "      <td>2</td>\n",
       "      <td>-73.826141</td>\n",
       "      <td>40.625724</td>\n",
       "    </tr>\n",
       "    <tr>\n",
       "      <th>2</th>\n",
       "      <td>1</td>\n",
       "      <td>-74.176778</td>\n",
       "      <td>40.689515</td>\n",
       "      <td>1</td>\n",
       "      <td>3</td>\n",
       "      <td>-73.849479</td>\n",
       "      <td>40.865871</td>\n",
       "    </tr>\n",
       "    <tr>\n",
       "      <th>3</th>\n",
       "      <td>1</td>\n",
       "      <td>-74.176778</td>\n",
       "      <td>40.689515</td>\n",
       "      <td>1</td>\n",
       "      <td>4</td>\n",
       "      <td>-73.977024</td>\n",
       "      <td>40.724151</td>\n",
       "    </tr>\n",
       "    <tr>\n",
       "      <th>4</th>\n",
       "      <td>1</td>\n",
       "      <td>-74.176778</td>\n",
       "      <td>40.689515</td>\n",
       "      <td>1</td>\n",
       "      <td>5</td>\n",
       "      <td>-74.189938</td>\n",
       "      <td>40.550339</td>\n",
       "    </tr>\n",
       "  </tbody>\n",
       "</table>\n",
       "</div>"
      ],
      "text/plain": [
       "   LocationID_left   lon_left   lat_left  key  LocationID_right  lon_right  \\\n",
       "0                1 -74.176778  40.689515    1                 1 -74.176778   \n",
       "1                1 -74.176778  40.689515    1                 2 -73.826141   \n",
       "2                1 -74.176778  40.689515    1                 3 -73.849479   \n",
       "3                1 -74.176778  40.689515    1                 4 -73.977024   \n",
       "4                1 -74.176778  40.689515    1                 5 -74.189938   \n",
       "\n",
       "   lat_right  \n",
       "0  40.689515  \n",
       "1  40.625724  \n",
       "2  40.865871  \n",
       "3  40.724151  \n",
       "4  40.550339  "
      ]
     },
     "execution_count": 145,
     "metadata": {},
     "output_type": "execute_result"
    }
   ],
   "source": [
    "zones_final.head()"
   ]
  },
  {
   "cell_type": "code",
   "execution_count": 146,
   "metadata": {},
   "outputs": [],
   "source": [
    "# Dropping the rows with the same location ID as the origin and destination would be the same\n",
    "zones_final = zones_final[zones_final.LocationID_left!=zones_final.LocationID_right].drop('key',axis=1)"
   ]
  },
  {
   "cell_type": "code",
   "execution_count": 147,
   "metadata": {},
   "outputs": [],
   "source": [
    "# Renaming the columns to make more sense\n",
    "columns = ['LocationID_pickup', 'lon_pickup', 'lat_pickup', 'LocationID_dropoff',\n",
    "       'lon_dropoff', 'lat_dropoff']"
   ]
  },
  {
   "cell_type": "code",
   "execution_count": 148,
   "metadata": {},
   "outputs": [],
   "source": [
    "zones_final.columns = columns"
   ]
  },
  {
   "cell_type": "code",
   "execution_count": 149,
   "metadata": {},
   "outputs": [
    {
     "data": {
      "text/html": [
       "<div>\n",
       "<table border=\"1\" class=\"dataframe\">\n",
       "  <thead>\n",
       "    <tr style=\"text-align: right;\">\n",
       "      <th></th>\n",
       "      <th>LocationID_pickup</th>\n",
       "      <th>lon_pickup</th>\n",
       "      <th>lat_pickup</th>\n",
       "      <th>LocationID_dropoff</th>\n",
       "      <th>lon_dropoff</th>\n",
       "      <th>lat_dropoff</th>\n",
       "    </tr>\n",
       "  </thead>\n",
       "  <tbody>\n",
       "    <tr>\n",
       "      <th>1</th>\n",
       "      <td>1</td>\n",
       "      <td>-74.176778</td>\n",
       "      <td>40.689515</td>\n",
       "      <td>2</td>\n",
       "      <td>-73.826141</td>\n",
       "      <td>40.625724</td>\n",
       "    </tr>\n",
       "    <tr>\n",
       "      <th>2</th>\n",
       "      <td>1</td>\n",
       "      <td>-74.176778</td>\n",
       "      <td>40.689515</td>\n",
       "      <td>3</td>\n",
       "      <td>-73.849479</td>\n",
       "      <td>40.865871</td>\n",
       "    </tr>\n",
       "    <tr>\n",
       "      <th>3</th>\n",
       "      <td>1</td>\n",
       "      <td>-74.176778</td>\n",
       "      <td>40.689515</td>\n",
       "      <td>4</td>\n",
       "      <td>-73.977024</td>\n",
       "      <td>40.724151</td>\n",
       "    </tr>\n",
       "    <tr>\n",
       "      <th>4</th>\n",
       "      <td>1</td>\n",
       "      <td>-74.176778</td>\n",
       "      <td>40.689515</td>\n",
       "      <td>5</td>\n",
       "      <td>-74.189938</td>\n",
       "      <td>40.550339</td>\n",
       "    </tr>\n",
       "    <tr>\n",
       "      <th>5</th>\n",
       "      <td>1</td>\n",
       "      <td>-74.176778</td>\n",
       "      <td>40.689515</td>\n",
       "      <td>6</td>\n",
       "      <td>-74.067786</td>\n",
       "      <td>40.599053</td>\n",
       "    </tr>\n",
       "  </tbody>\n",
       "</table>\n",
       "</div>"
      ],
      "text/plain": [
       "   LocationID_pickup  lon_pickup  lat_pickup  LocationID_dropoff  lon_dropoff  \\\n",
       "1                  1  -74.176778   40.689515                   2   -73.826141   \n",
       "2                  1  -74.176778   40.689515                   3   -73.849479   \n",
       "3                  1  -74.176778   40.689515                   4   -73.977024   \n",
       "4                  1  -74.176778   40.689515                   5   -74.189938   \n",
       "5                  1  -74.176778   40.689515                   6   -74.067786   \n",
       "\n",
       "   lat_dropoff  \n",
       "1    40.625724  \n",
       "2    40.865871  \n",
       "3    40.724151  \n",
       "4    40.550339  \n",
       "5    40.599053  "
      ]
     },
     "execution_count": 149,
     "metadata": {},
     "output_type": "execute_result"
    }
   ],
   "source": [
    "zones_final.head()"
   ]
  },
  {
   "cell_type": "code",
   "execution_count": 150,
   "metadata": {},
   "outputs": [],
   "source": [
    "zones_final.to_csv('Data/Taxi_Zones/lat_long_for_API.csv')"
   ]
  }
 ],
 "metadata": {
  "kernelspec": {
   "display_name": "PUI2016_Python3",
   "language": "python",
   "name": "pui2016_python3"
  },
  "language_info": {
   "codemirror_mode": {
    "name": "ipython",
    "version": 3
   },
   "file_extension": ".py",
   "mimetype": "text/x-python",
   "name": "python",
   "nbconvert_exporter": "python",
   "pygments_lexer": "ipython3",
   "version": "3.5.4"
  }
 },
 "nbformat": 4,
 "nbformat_minor": 2
}
