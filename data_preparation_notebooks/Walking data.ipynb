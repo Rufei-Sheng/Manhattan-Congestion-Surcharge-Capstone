{
 "cells": [
  {
   "cell_type": "code",
   "execution_count": 1,
   "metadata": {},
   "outputs": [],
   "source": [
    "import pandas as pd\n",
    "import numpy as np\n",
    "try:\n",
    "    import urllib2 as urllib\n",
    "except ImportError:\n",
    "    import urllib.request as urllib\n",
    "import json\n",
    "import csv"
   ]
  },
  {
   "cell_type": "code",
   "execution_count": 2,
   "metadata": {
    "scrolled": false
   },
   "outputs": [],
   "source": [
    "location = pd.read_csv('lat_long_for_API.csv')\n",
    "location.drop(['Unnamed: 0'], axis=1, inplace=True)"
   ]
  },
  {
   "cell_type": "code",
   "execution_count": 3,
   "metadata": {
    "scrolled": true
   },
   "outputs": [
    {
     "data": {
      "text/html": [
       "<div>\n",
       "<style scoped>\n",
       "    .dataframe tbody tr th:only-of-type {\n",
       "        vertical-align: middle;\n",
       "    }\n",
       "\n",
       "    .dataframe tbody tr th {\n",
       "        vertical-align: top;\n",
       "    }\n",
       "\n",
       "    .dataframe thead th {\n",
       "        text-align: right;\n",
       "    }\n",
       "</style>\n",
       "<table border=\"1\" class=\"dataframe\">\n",
       "  <thead>\n",
       "    <tr style=\"text-align: right;\">\n",
       "      <th></th>\n",
       "      <th>LocationID_pickup</th>\n",
       "      <th>lon_pickup</th>\n",
       "      <th>lat_pickup</th>\n",
       "      <th>LocationID_dropoff</th>\n",
       "      <th>lon_dropoff</th>\n",
       "      <th>lat_dropoff</th>\n",
       "    </tr>\n",
       "  </thead>\n",
       "  <tbody>\n",
       "    <tr>\n",
       "      <th>68893</th>\n",
       "      <td>263</td>\n",
       "      <td>-73.951209</td>\n",
       "      <td>40.778495</td>\n",
       "      <td>258</td>\n",
       "      <td>-73.856646</td>\n",
       "      <td>40.690140</td>\n",
       "    </tr>\n",
       "    <tr>\n",
       "      <th>68894</th>\n",
       "      <td>263</td>\n",
       "      <td>-73.951209</td>\n",
       "      <td>40.778495</td>\n",
       "      <td>259</td>\n",
       "      <td>-73.856399</td>\n",
       "      <td>40.899080</td>\n",
       "    </tr>\n",
       "    <tr>\n",
       "      <th>68895</th>\n",
       "      <td>263</td>\n",
       "      <td>-73.951209</td>\n",
       "      <td>40.778495</td>\n",
       "      <td>260</td>\n",
       "      <td>-73.903715</td>\n",
       "      <td>40.746790</td>\n",
       "    </tr>\n",
       "    <tr>\n",
       "      <th>68896</th>\n",
       "      <td>263</td>\n",
       "      <td>-73.951209</td>\n",
       "      <td>40.778495</td>\n",
       "      <td>261</td>\n",
       "      <td>-74.012919</td>\n",
       "      <td>40.708976</td>\n",
       "    </tr>\n",
       "    <tr>\n",
       "      <th>68897</th>\n",
       "      <td>263</td>\n",
       "      <td>-73.951209</td>\n",
       "      <td>40.778495</td>\n",
       "      <td>262</td>\n",
       "      <td>-73.945830</td>\n",
       "      <td>40.776536</td>\n",
       "    </tr>\n",
       "  </tbody>\n",
       "</table>\n",
       "</div>"
      ],
      "text/plain": [
       "       LocationID_pickup  lon_pickup  lat_pickup  LocationID_dropoff  \\\n",
       "68893                263  -73.951209   40.778495                 258   \n",
       "68894                263  -73.951209   40.778495                 259   \n",
       "68895                263  -73.951209   40.778495                 260   \n",
       "68896                263  -73.951209   40.778495                 261   \n",
       "68897                263  -73.951209   40.778495                 262   \n",
       "\n",
       "       lon_dropoff  lat_dropoff  \n",
       "68893   -73.856646    40.690140  \n",
       "68894   -73.856399    40.899080  \n",
       "68895   -73.903715    40.746790  \n",
       "68896   -74.012919    40.708976  \n",
       "68897   -73.945830    40.776536  "
      ]
     },
     "execution_count": 3,
     "metadata": {},
     "output_type": "execute_result"
    }
   ],
   "source": [
    "location.tail()"
   ]
  },
  {
   "cell_type": "code",
   "execution_count": 29,
   "metadata": {},
   "outputs": [],
   "source": [
    "location1 = location.loc[:1000]\n",
    "location2 = location.loc[1001:30000]\n",
    "location3 = location.loc[30001:]"
   ]
  },
  {
   "cell_type": "code",
   "execution_count": 30,
   "metadata": {},
   "outputs": [
    {
     "data": {
      "text/plain": [
       "(1001, 30001, 68898)"
      ]
     },
     "execution_count": 30,
     "metadata": {},
     "output_type": "execute_result"
    }
   ],
   "source": [
    "#for chech purpose\n",
    "len(location1), len(location1) + len(location2), len(location1) + len(location2) + len(location3)"
   ]
  },
  {
   "cell_type": "markdown",
   "metadata": {},
   "source": [
    "https://transit.api.here.com/v3/route.json\n",
    "?dep=40.689515%2C-74.176778\n",
    "&arr=40.625724%2C-73.826141\n",
    "&time=2019-06-24T07%3A30%3A00\n",
    "&app_id=CZHAUHoFYaKRZeok8OaM\n",
    "&app_code=5mYVXKBCV5ROOwoURif4og\n",
    "&modes=bus%2Csubway\n",
    "&routing=tt\n",
    "&max=1\n",
    "&graph=1\n",
    "\n",
    "https://transit.api.here.com/v3/route.json?dep=41.9773%2C-87.9019&arr=41.8961%2C-87.6552&time=2019-06-24T07%3A30%3A00&app_id=devportal-demo-20180625&app_code=9v2BkviRwi9Ot26kp2IysQ&routing=tt&forward=6\n",
    "\n",
    "https://transit.api.here.com/v3/route.json?dep=41.9773%2C-87.9019&arr=41.8961%2C-87.6552&time=2019-06-24T07%3A30%3A00&app_id=devportal-demo-20180625&app_code=9v2BkviRwi9Ot26kp2IysQ&routing=tt&graph=1"
   ]
  },
  {
   "cell_type": "code",
   "execution_count": 35,
   "metadata": {
    "scrolled": false
   },
   "outputs": [],
   "source": [
    "lon_pickup = -74.176778\n",
    "lat_pickup = 40.689515\n",
    "lon_dropoff = -73.826141\n",
    "lat_dropoff = 40.625724\n",
    "appID = 'CZHAUHoFYaKRZeok8OaM'\n",
    "appCode = '5mYVXKBCV5ROOwoURif4og'\n",
    "url = str('https://route.api.here.com/routing/7.2/calculateroute.json?waypoint0={}%2C{}&waypoint1={}%2C{}&mode=fastest%3Bpedestrian&app_id={}&app_code={}'.format(lat_pickup, lon_pickup, lat_dropoff, lon_dropoff, appID, appCode))\n",
    "respond = urllib.urlopen(url)\n",
    "data = respond.read().decode('utf-8')\n",
    "data = json.loads(data)\n",
    "distance = data['response']['route'][0]['summary']['distance']\n",
    "time = data['response']['route'][0]['summary']['travelTime']"
   ]
  },
  {
   "cell_type": "code",
   "execution_count": 6,
   "metadata": {},
   "outputs": [],
   "source": [
    "def getWalkinginfo(lat_pickup, lon_pickup, lat_dropoff, lon_dropoff, appID, appCode):\n",
    "    import pandas as pd\n",
    "    try:\n",
    "        import urllib2 as urllib\n",
    "    except ImportError:\n",
    "        import urllib.request as urllib\n",
    "    import json\n",
    "    \n",
    "    try:\n",
    "        url = str('https://route.api.here.com/routing/7.2/calculateroute.json?waypoint0={}%2C{}&waypoint1={}%2C{}&mode=fastest%3Bpedestrian&app_id={}&app_code={}'.format(lat_pickup, lon_pickup, lat_dropoff, lon_dropoff, appID, appCode))\n",
    "        respond = urllib.urlopen(url)\n",
    "        data = respond.read().decode('utf-8')\n",
    "        data = json.loads(data)\n",
    "          \n",
    "        timespend = data['response']['route'][0]['summary']['travelTime']\n",
    "        distance =  data['response']['route'][0]['summary']['distance']\n",
    "    except:\n",
    "        data = 'N/A'\n",
    "        timespend = 'N/A'\n",
    "        distance = 'N/A'\n",
    "    \n",
    "    return data, timespend, distance"
   ]
  },
  {
   "cell_type": "code",
   "execution_count": 7,
   "metadata": {},
   "outputs": [],
   "source": [
    "import time, sys\n",
    "from IPython.display import clear_output\n",
    "def update_progress(progress):\n",
    "    bar_length = 20\n",
    "    if isinstance(progress, int):\n",
    "        progress = float(progress)\n",
    "    if not isinstance(progress, float):\n",
    "        progress = 0\n",
    "    if progress < 0:\n",
    "        progress = 0\n",
    "    if progress >= 1:\n",
    "        progress = 1\n",
    "    block = int(round(bar_length * progress))\n",
    "    clear_output(wait = True)\n",
    "    text = \"Progress: [{0}] {1:.1f}%\".format( \"#\" * block + \"-\" * (bar_length - block), progress * 100)\n",
    "    print(text)"
   ]
  },
  {
   "cell_type": "code",
   "execution_count": 8,
   "metadata": {},
   "outputs": [],
   "source": [
    "def walking(file, data_list, time_list, distance_list, appID, appCode):\n",
    "    for index, row in file.iterrows():\n",
    "        lon_pickup = row[1]\n",
    "        lat_pickup = row[2]\n",
    "        lon_dropoff = row[4]\n",
    "        lat_dropoff = row[5]\n",
    "\n",
    "        data, timespend, distance = getWalkinginfo(lat_pickup, lon_pickup, lat_dropoff, lon_dropoff, appID, appCode)\n",
    "\n",
    "        data_list.append(data)\n",
    "        time_list.append(timespend)\n",
    "        distance_list.append(distance)\n",
    "       \n",
    "        time.sleep(0.0001) \n",
    "        update_progress(index / len(file))\n",
    "    update_progress(1)\n",
    "    return data_list, time_list, distance_list"
   ]
  },
  {
   "cell_type": "markdown",
   "metadata": {},
   "source": [
    "### 1st CHUNK:"
   ]
  },
  {
   "cell_type": "code",
   "execution_count": 52,
   "metadata": {},
   "outputs": [
    {
     "name": "stdout",
     "output_type": "stream",
     "text": [
      "Progress: [####################] 100.0%\n"
     ]
    }
   ],
   "source": [
    "data_list = []\n",
    "time_list = []\n",
    "distance_list = []\n",
    "appID = 'CZHAUHoFYaKRZeok8OaM'\n",
    "app_code = '5mYVXKBCV5ROOwoURif4og'\n",
    "data_list1, time_list1, distance_list1 = walking(location1, data_list, time_list, distance_list, appID, app_code)"
   ]
  },
  {
   "cell_type": "code",
   "execution_count": 58,
   "metadata": {
    "scrolled": false
   },
   "outputs": [
    {
     "name": "stdout",
     "output_type": "stream",
     "text": [
      "1001\n"
     ]
    },
    {
     "data": {
      "text/plain": [
       "dict"
      ]
     },
     "execution_count": 58,
     "metadata": {},
     "output_type": "execute_result"
    }
   ],
   "source": [
    "print(len(time_list1))\n",
    "type(data_list1[0])"
   ]
  },
  {
   "cell_type": "code",
   "execution_count": 54,
   "metadata": {},
   "outputs": [],
   "source": [
    "w1 = pd.DataFrame(np.column_stack([time_list1, distance_list1]), \n",
    "                   columns=['time_list1', 'distance_list1'])\n",
    "w1.to_csv('walking1.csv')"
   ]
  },
  {
   "cell_type": "code",
   "execution_count": 67,
   "metadata": {},
   "outputs": [],
   "source": [
    "data = {}\n",
    "data['data1'] = data_list1\n",
    "data1 = pd.DataFrame(data)\n",
    "data1.to_csv('walkingoriginal1.csv')\n"
   ]
  },
  {
   "cell_type": "markdown",
   "metadata": {},
   "source": [
    "### 2nd CHUNK"
   ]
  },
  {
   "cell_type": "code",
   "execution_count": 68,
   "metadata": {
    "scrolled": true
   },
   "outputs": [
    {
     "name": "stdout",
     "output_type": "stream",
     "text": [
      "Progress: [####################] 100.0%\n"
     ]
    }
   ],
   "source": [
    "data_list = []\n",
    "time_list = []\n",
    "distance_list = []\n",
    "appID = 'CZHAUHoFYaKRZeok8OaM'\n",
    "app_code = '5mYVXKBCV5ROOwoURif4og'\n",
    "data_list2, time_list2, distance_list2 = walking(location2, data_list, time_list, distance_list, appID, app_code)"
   ]
  },
  {
   "cell_type": "code",
   "execution_count": 70,
   "metadata": {
    "scrolled": false
   },
   "outputs": [
    {
     "name": "stdout",
     "output_type": "stream",
     "text": [
      "29000\n"
     ]
    },
    {
     "data": {
      "text/plain": [
       "[5238, 22366, 22178, 17210, 10034, 14942, 7415, 1105, 8245, 7386]"
      ]
     },
     "execution_count": 70,
     "metadata": {},
     "output_type": "execute_result"
    }
   ],
   "source": [
    "print(len(time_list2))\n",
    "time_list2[:10]"
   ]
  },
  {
   "cell_type": "code",
   "execution_count": 71,
   "metadata": {},
   "outputs": [],
   "source": [
    "w2 = pd.DataFrame(np.column_stack([time_list2, distance_list2]), \n",
    "                   columns=['time_list2', 'distance_list2'], index=location2.index)\n",
    "w2.to_csv('walking2.csv')"
   ]
  },
  {
   "cell_type": "code",
   "execution_count": 72,
   "metadata": {},
   "outputs": [],
   "source": [
    "data = {}\n",
    "data['data2'] = data_list2\n",
    "data2 = pd.DataFrame(data)\n",
    "data2.to_csv('walkingoriginal2.csv')\n"
   ]
  },
  {
   "cell_type": "code",
   "execution_count": null,
   "metadata": {},
   "outputs": [],
   "source": []
  },
  {
   "cell_type": "markdown",
   "metadata": {},
   "source": [
    "### 3rd CHUNK"
   ]
  },
  {
   "cell_type": "code",
   "execution_count": 9,
   "metadata": {
    "scrolled": true
   },
   "outputs": [
    {
     "name": "stdout",
     "output_type": "stream",
     "text": [
      "Progress: [####################] 100.0%\n"
     ]
    }
   ],
   "source": [
    "data_list = []\n",
    "time_list = []\n",
    "distance_list = []\n",
    "appID = 'CZHAUHoFYaKRZeok8OaM'\n",
    "app_code = '5mYVXKBCV5ROOwoURif4og'\n",
    "data_list3, time_list3, distance_list3 = walking(location3, data_list, time_list, distance_list, appID, app_code)"
   ]
  },
  {
   "cell_type": "code",
   "execution_count": 28,
   "metadata": {
    "scrolled": true
   },
   "outputs": [
    {
     "name": "stdout",
     "output_type": "stream",
     "text": [
      "38897\n"
     ]
    },
    {
     "data": {
      "text/plain": [
       "[11955, 9394, 10967, 12738, 16770, 9685, 19004, 21798, 14047, 16109]"
      ]
     },
     "execution_count": 28,
     "metadata": {},
     "output_type": "execute_result"
    }
   ],
   "source": [
    "print(len(time_list3))\n",
    "time_list3[:10]"
   ]
  },
  {
   "cell_type": "code",
   "execution_count": 43,
   "metadata": {},
   "outputs": [
    {
     "data": {
      "text/html": [
       "<div>\n",
       "<style scoped>\n",
       "    .dataframe tbody tr th:only-of-type {\n",
       "        vertical-align: middle;\n",
       "    }\n",
       "\n",
       "    .dataframe tbody tr th {\n",
       "        vertical-align: top;\n",
       "    }\n",
       "\n",
       "    .dataframe thead th {\n",
       "        text-align: right;\n",
       "    }\n",
       "</style>\n",
       "<table border=\"1\" class=\"dataframe\">\n",
       "  <thead>\n",
       "    <tr style=\"text-align: right;\">\n",
       "      <th></th>\n",
       "      <th>time_list3</th>\n",
       "      <th>distance_list3</th>\n",
       "    </tr>\n",
       "  </thead>\n",
       "  <tbody>\n",
       "    <tr>\n",
       "      <th>30001</th>\n",
       "      <td>11955</td>\n",
       "      <td>23150</td>\n",
       "    </tr>\n",
       "    <tr>\n",
       "      <th>30002</th>\n",
       "      <td>9394</td>\n",
       "      <td>14898</td>\n",
       "    </tr>\n",
       "    <tr>\n",
       "      <th>30003</th>\n",
       "      <td>10967</td>\n",
       "      <td>22007</td>\n",
       "    </tr>\n",
       "    <tr>\n",
       "      <th>30004</th>\n",
       "      <td>12738</td>\n",
       "      <td>23770</td>\n",
       "    </tr>\n",
       "    <tr>\n",
       "      <th>30005</th>\n",
       "      <td>16770</td>\n",
       "      <td>39153</td>\n",
       "    </tr>\n",
       "  </tbody>\n",
       "</table>\n",
       "</div>"
      ],
      "text/plain": [
       "      time_list3 distance_list3\n",
       "30001      11955          23150\n",
       "30002       9394          14898\n",
       "30003      10967          22007\n",
       "30004      12738          23770\n",
       "30005      16770          39153"
      ]
     },
     "execution_count": 43,
     "metadata": {},
     "output_type": "execute_result"
    }
   ],
   "source": [
    "w3 = pd.DataFrame(np.column_stack([time_list3, distance_list3]), \n",
    "                   columns=['time_list3', 'distance_list3'], index=location3.index)\n",
    "w3.to_csv('walking3.csv')"
   ]
  },
  {
   "cell_type": "code",
   "execution_count": 52,
   "metadata": {},
   "outputs": [
    {
     "data": {
      "text/html": [
       "<div>\n",
       "<style scoped>\n",
       "    .dataframe tbody tr th:only-of-type {\n",
       "        vertical-align: middle;\n",
       "    }\n",
       "\n",
       "    .dataframe tbody tr th {\n",
       "        vertical-align: top;\n",
       "    }\n",
       "\n",
       "    .dataframe thead th {\n",
       "        text-align: right;\n",
       "    }\n",
       "</style>\n",
       "<table border=\"1\" class=\"dataframe\">\n",
       "  <thead>\n",
       "    <tr style=\"text-align: right;\">\n",
       "      <th></th>\n",
       "      <th>delete</th>\n",
       "      <th>time</th>\n",
       "      <th>distance</th>\n",
       "    </tr>\n",
       "  </thead>\n",
       "  <tbody>\n",
       "    <tr>\n",
       "      <th>0</th>\n",
       "      <td>30001</td>\n",
       "      <td>11955.0</td>\n",
       "      <td>23150.0</td>\n",
       "    </tr>\n",
       "    <tr>\n",
       "      <th>1</th>\n",
       "      <td>30002</td>\n",
       "      <td>9394.0</td>\n",
       "      <td>14898.0</td>\n",
       "    </tr>\n",
       "    <tr>\n",
       "      <th>2</th>\n",
       "      <td>30003</td>\n",
       "      <td>10967.0</td>\n",
       "      <td>22007.0</td>\n",
       "    </tr>\n",
       "    <tr>\n",
       "      <th>3</th>\n",
       "      <td>30004</td>\n",
       "      <td>12738.0</td>\n",
       "      <td>23770.0</td>\n",
       "    </tr>\n",
       "    <tr>\n",
       "      <th>4</th>\n",
       "      <td>30005</td>\n",
       "      <td>16770.0</td>\n",
       "      <td>39153.0</td>\n",
       "    </tr>\n",
       "  </tbody>\n",
       "</table>\n",
       "</div>"
      ],
      "text/plain": [
       "   delete     time  distance\n",
       "0   30001  11955.0   23150.0\n",
       "1   30002   9394.0   14898.0\n",
       "2   30003  10967.0   22007.0\n",
       "3   30004  12738.0   23770.0\n",
       "4   30005  16770.0   39153.0"
      ]
     },
     "execution_count": 52,
     "metadata": {},
     "output_type": "execute_result"
    }
   ],
   "source": [
    "w3.head()"
   ]
  },
  {
   "cell_type": "code",
   "execution_count": 15,
   "metadata": {},
   "outputs": [],
   "source": [
    "data = {}\n",
    "data['data3'] = data_list3\n",
    "data3 = pd.DataFrame(data)\n",
    "data3.to_csv('walkingoriginal3.csv')\n"
   ]
  },
  {
   "cell_type": "code",
   "execution_count": 53,
   "metadata": {},
   "outputs": [],
   "source": [
    "w1 = pd.read_csv('walking1.csv').rename(columns={'Unnamed: 0':'index', 'distance_list1': 'distance', 'time_list1' : 'time'})[['time', 'distance']]\n",
    "w2 = pd.read_csv('walking2.csv').rename(columns={'Unnamed: 0':'index', 'distance_list2': 'distance', 'time_list2' : 'time'})\n",
    "w3 = pd.read_csv('walking3.csv').rename(columns={'Unnamed: 0':'index', 'distance_list3': 'distance', 'time_list3' : 'time'}).set_index('index')"
   ]
  },
  {
   "cell_type": "code",
   "execution_count": 50,
   "metadata": {},
   "outputs": [
    {
     "name": "stdout",
     "output_type": "stream",
     "text": [
      "(68898, 2)\n"
     ]
    },
    {
     "name": "stderr",
     "output_type": "stream",
     "text": [
      "/anaconda3/lib/python3.7/site-packages/ipykernel_launcher.py:2: FutureWarning: Sorting because non-concatenation axis is not aligned. A future version\n",
      "of pandas will change to not sort by default.\n",
      "\n",
      "To accept the future behavior, pass 'sort=False'.\n",
      "\n",
      "To retain the current behavior and silence the warning, pass 'sort=True'.\n",
      "\n",
      "  \n"
     ]
    },
    {
     "data": {
      "text/html": [
       "<div>\n",
       "<style scoped>\n",
       "    .dataframe tbody tr th:only-of-type {\n",
       "        vertical-align: middle;\n",
       "    }\n",
       "\n",
       "    .dataframe tbody tr th {\n",
       "        vertical-align: top;\n",
       "    }\n",
       "\n",
       "    .dataframe thead th {\n",
       "        text-align: right;\n",
       "    }\n",
       "</style>\n",
       "<table border=\"1\" class=\"dataframe\">\n",
       "  <thead>\n",
       "    <tr style=\"text-align: right;\">\n",
       "      <th></th>\n",
       "      <th>time</th>\n",
       "      <th>distance</th>\n",
       "    </tr>\n",
       "  </thead>\n",
       "  <tbody>\n",
       "    <tr>\n",
       "      <th>0</th>\n",
       "      <td>31379.0</td>\n",
       "      <td>65155.0</td>\n",
       "    </tr>\n",
       "    <tr>\n",
       "      <th>1</th>\n",
       "      <td>34145.0</td>\n",
       "      <td>71302.0</td>\n",
       "    </tr>\n",
       "    <tr>\n",
       "      <th>2</th>\n",
       "      <td>25529.0</td>\n",
       "      <td>49169.0</td>\n",
       "    </tr>\n",
       "    <tr>\n",
       "      <th>3</th>\n",
       "      <td>42701.0</td>\n",
       "      <td>50553.0</td>\n",
       "    </tr>\n",
       "    <tr>\n",
       "      <th>4</th>\n",
       "      <td>31821.0</td>\n",
       "      <td>39772.0</td>\n",
       "    </tr>\n",
       "  </tbody>\n",
       "</table>\n",
       "</div>"
      ],
      "text/plain": [
       "      time  distance\n",
       "0  31379.0   65155.0\n",
       "1  34145.0   71302.0\n",
       "2  25529.0   49169.0\n",
       "3  42701.0   50553.0\n",
       "4  31821.0   39772.0"
      ]
     },
     "execution_count": 50,
     "metadata": {},
     "output_type": "execute_result"
    }
   ],
   "source": [
    "w123 = [w1, w2, w3]\n",
    "wdf123 = pd.concat(w123)[['time', 'distance']]\n",
    "print(wdf123.shape)\n",
    "wdf123.head()"
   ]
  },
  {
   "cell_type": "markdown",
   "metadata": {},
   "source": [
    "### Aggregated data"
   ]
  },
  {
   "cell_type": "code",
   "execution_count": 23,
   "metadata": {
    "scrolled": false
   },
   "outputs": [
    {
     "data": {
      "text/html": [
       "<div>\n",
       "<style scoped>\n",
       "    .dataframe tbody tr th:only-of-type {\n",
       "        vertical-align: middle;\n",
       "    }\n",
       "\n",
       "    .dataframe tbody tr th {\n",
       "        vertical-align: top;\n",
       "    }\n",
       "\n",
       "    .dataframe thead th {\n",
       "        text-align: right;\n",
       "    }\n",
       "</style>\n",
       "<table border=\"1\" class=\"dataframe\">\n",
       "  <thead>\n",
       "    <tr style=\"text-align: right;\">\n",
       "      <th></th>\n",
       "      <th>LocationID_pickup</th>\n",
       "      <th>lon_pickup</th>\n",
       "      <th>lat_pickup</th>\n",
       "      <th>LocationID_dropoff</th>\n",
       "      <th>lon_dropoff</th>\n",
       "      <th>lat_dropoff</th>\n",
       "    </tr>\n",
       "  </thead>\n",
       "  <tbody>\n",
       "    <tr>\n",
       "      <th>0</th>\n",
       "      <td>1</td>\n",
       "      <td>-74.176778</td>\n",
       "      <td>40.689515</td>\n",
       "      <td>2</td>\n",
       "      <td>-73.826141</td>\n",
       "      <td>40.625724</td>\n",
       "    </tr>\n",
       "    <tr>\n",
       "      <th>1</th>\n",
       "      <td>1</td>\n",
       "      <td>-74.176778</td>\n",
       "      <td>40.689515</td>\n",
       "      <td>3</td>\n",
       "      <td>-73.849479</td>\n",
       "      <td>40.865871</td>\n",
       "    </tr>\n",
       "    <tr>\n",
       "      <th>2</th>\n",
       "      <td>1</td>\n",
       "      <td>-74.176778</td>\n",
       "      <td>40.689515</td>\n",
       "      <td>4</td>\n",
       "      <td>-73.977024</td>\n",
       "      <td>40.724151</td>\n",
       "    </tr>\n",
       "    <tr>\n",
       "      <th>3</th>\n",
       "      <td>1</td>\n",
       "      <td>-74.176778</td>\n",
       "      <td>40.689515</td>\n",
       "      <td>5</td>\n",
       "      <td>-74.189938</td>\n",
       "      <td>40.550339</td>\n",
       "    </tr>\n",
       "    <tr>\n",
       "      <th>4</th>\n",
       "      <td>1</td>\n",
       "      <td>-74.176778</td>\n",
       "      <td>40.689515</td>\n",
       "      <td>6</td>\n",
       "      <td>-74.067786</td>\n",
       "      <td>40.599053</td>\n",
       "    </tr>\n",
       "  </tbody>\n",
       "</table>\n",
       "</div>"
      ],
      "text/plain": [
       "   LocationID_pickup  lon_pickup  lat_pickup  LocationID_dropoff  lon_dropoff  \\\n",
       "0                  1  -74.176778   40.689515                   2   -73.826141   \n",
       "1                  1  -74.176778   40.689515                   3   -73.849479   \n",
       "2                  1  -74.176778   40.689515                   4   -73.977024   \n",
       "3                  1  -74.176778   40.689515                   5   -74.189938   \n",
       "4                  1  -74.176778   40.689515                   6   -74.067786   \n",
       "\n",
       "   lat_dropoff  \n",
       "0    40.625724  \n",
       "1    40.865871  \n",
       "2    40.724151  \n",
       "3    40.550339  \n",
       "4    40.599053  "
      ]
     },
     "execution_count": 23,
     "metadata": {},
     "output_type": "execute_result"
    }
   ],
   "source": [
    "location1.head()"
   ]
  },
  {
   "cell_type": "code",
   "execution_count": 24,
   "metadata": {
    "scrolled": false
   },
   "outputs": [
    {
     "data": {
      "text/html": [
       "<div>\n",
       "<style scoped>\n",
       "    .dataframe tbody tr th:only-of-type {\n",
       "        vertical-align: middle;\n",
       "    }\n",
       "\n",
       "    .dataframe tbody tr th {\n",
       "        vertical-align: top;\n",
       "    }\n",
       "\n",
       "    .dataframe thead th {\n",
       "        text-align: right;\n",
       "    }\n",
       "</style>\n",
       "<table border=\"1\" class=\"dataframe\">\n",
       "  <thead>\n",
       "    <tr style=\"text-align: right;\">\n",
       "      <th></th>\n",
       "      <th>time</th>\n",
       "      <th>distance</th>\n",
       "    </tr>\n",
       "  </thead>\n",
       "  <tbody>\n",
       "    <tr>\n",
       "      <th>0</th>\n",
       "      <td>31379.0</td>\n",
       "      <td>65155.0</td>\n",
       "    </tr>\n",
       "    <tr>\n",
       "      <th>1</th>\n",
       "      <td>34145.0</td>\n",
       "      <td>71302.0</td>\n",
       "    </tr>\n",
       "    <tr>\n",
       "      <th>2</th>\n",
       "      <td>25529.0</td>\n",
       "      <td>49169.0</td>\n",
       "    </tr>\n",
       "    <tr>\n",
       "      <th>3</th>\n",
       "      <td>42701.0</td>\n",
       "      <td>50553.0</td>\n",
       "    </tr>\n",
       "    <tr>\n",
       "      <th>4</th>\n",
       "      <td>31821.0</td>\n",
       "      <td>39772.0</td>\n",
       "    </tr>\n",
       "  </tbody>\n",
       "</table>\n",
       "</div>"
      ],
      "text/plain": [
       "      time  distance\n",
       "0  31379.0   65155.0\n",
       "1  34145.0   71302.0\n",
       "2  25529.0   49169.0\n",
       "3  42701.0   50553.0\n",
       "4  31821.0   39772.0"
      ]
     },
     "execution_count": 24,
     "metadata": {},
     "output_type": "execute_result"
    }
   ],
   "source": [
    "w1.head()"
   ]
  },
  {
   "cell_type": "code",
   "execution_count": 25,
   "metadata": {
    "scrolled": true
   },
   "outputs": [
    {
     "name": "stdout",
     "output_type": "stream",
     "text": [
      "(1001, 8)\n",
      "(997, 8)\n"
     ]
    },
    {
     "data": {
      "text/html": [
       "<div>\n",
       "<style scoped>\n",
       "    .dataframe tbody tr th:only-of-type {\n",
       "        vertical-align: middle;\n",
       "    }\n",
       "\n",
       "    .dataframe tbody tr th {\n",
       "        vertical-align: top;\n",
       "    }\n",
       "\n",
       "    .dataframe thead th {\n",
       "        text-align: right;\n",
       "    }\n",
       "</style>\n",
       "<table border=\"1\" class=\"dataframe\">\n",
       "  <thead>\n",
       "    <tr style=\"text-align: right;\">\n",
       "      <th></th>\n",
       "      <th>LocationID_pickup</th>\n",
       "      <th>lon_pickup</th>\n",
       "      <th>lat_pickup</th>\n",
       "      <th>LocationID_dropoff</th>\n",
       "      <th>lon_dropoff</th>\n",
       "      <th>lat_dropoff</th>\n",
       "      <th>time</th>\n",
       "      <th>distance</th>\n",
       "    </tr>\n",
       "  </thead>\n",
       "  <tbody>\n",
       "    <tr>\n",
       "      <th>0</th>\n",
       "      <td>1</td>\n",
       "      <td>-74.176778</td>\n",
       "      <td>40.689515</td>\n",
       "      <td>2</td>\n",
       "      <td>-73.826141</td>\n",
       "      <td>40.625724</td>\n",
       "      <td>31379.0</td>\n",
       "      <td>65155.0</td>\n",
       "    </tr>\n",
       "    <tr>\n",
       "      <th>1</th>\n",
       "      <td>1</td>\n",
       "      <td>-74.176778</td>\n",
       "      <td>40.689515</td>\n",
       "      <td>3</td>\n",
       "      <td>-73.849479</td>\n",
       "      <td>40.865871</td>\n",
       "      <td>34145.0</td>\n",
       "      <td>71302.0</td>\n",
       "    </tr>\n",
       "    <tr>\n",
       "      <th>2</th>\n",
       "      <td>1</td>\n",
       "      <td>-74.176778</td>\n",
       "      <td>40.689515</td>\n",
       "      <td>4</td>\n",
       "      <td>-73.977024</td>\n",
       "      <td>40.724151</td>\n",
       "      <td>25529.0</td>\n",
       "      <td>49169.0</td>\n",
       "    </tr>\n",
       "    <tr>\n",
       "      <th>3</th>\n",
       "      <td>1</td>\n",
       "      <td>-74.176778</td>\n",
       "      <td>40.689515</td>\n",
       "      <td>5</td>\n",
       "      <td>-74.189938</td>\n",
       "      <td>40.550339</td>\n",
       "      <td>42701.0</td>\n",
       "      <td>50553.0</td>\n",
       "    </tr>\n",
       "    <tr>\n",
       "      <th>4</th>\n",
       "      <td>1</td>\n",
       "      <td>-74.176778</td>\n",
       "      <td>40.689515</td>\n",
       "      <td>6</td>\n",
       "      <td>-74.067786</td>\n",
       "      <td>40.599053</td>\n",
       "      <td>31821.0</td>\n",
       "      <td>39772.0</td>\n",
       "    </tr>\n",
       "  </tbody>\n",
       "</table>\n",
       "</div>"
      ],
      "text/plain": [
       "   LocationID_pickup  lon_pickup  lat_pickup  LocationID_dropoff  lon_dropoff  \\\n",
       "0                  1  -74.176778   40.689515                   2   -73.826141   \n",
       "1                  1  -74.176778   40.689515                   3   -73.849479   \n",
       "2                  1  -74.176778   40.689515                   4   -73.977024   \n",
       "3                  1  -74.176778   40.689515                   5   -74.189938   \n",
       "4                  1  -74.176778   40.689515                   6   -74.067786   \n",
       "\n",
       "   lat_dropoff     time  distance  \n",
       "0    40.625724  31379.0   65155.0  \n",
       "1    40.865871  34145.0   71302.0  \n",
       "2    40.724151  25529.0   49169.0  \n",
       "3    40.550339  42701.0   50553.0  \n",
       "4    40.599053  31821.0   39772.0  "
      ]
     },
     "execution_count": 25,
     "metadata": {},
     "output_type": "execute_result"
    }
   ],
   "source": [
    "combine1 = pd.merge(location1, w1, left_index =True, right_index=True)\n",
    "#combine1['LocationID_pickup'] = combine1['LocationID_pickup'].astype(float)\n",
    "print(combine1.shape)\n",
    "combine1 = combine1.dropna()\n",
    "combine1['LocationID_pickup'] = combine1['LocationID_pickup'].astype(int)\n",
    "print(combine1.shape)\n",
    "combine1.head()"
   ]
  },
  {
   "cell_type": "code",
   "execution_count": 56,
   "metadata": {
    "scrolled": false
   },
   "outputs": [
    {
     "name": "stdout",
     "output_type": "stream",
     "text": [
      "(27999, 9)\n",
      "(27892, 9)\n"
     ]
    },
    {
     "data": {
      "text/html": [
       "<div>\n",
       "<style scoped>\n",
       "    .dataframe tbody tr th:only-of-type {\n",
       "        vertical-align: middle;\n",
       "    }\n",
       "\n",
       "    .dataframe tbody tr th {\n",
       "        vertical-align: top;\n",
       "    }\n",
       "\n",
       "    .dataframe thead th {\n",
       "        text-align: right;\n",
       "    }\n",
       "</style>\n",
       "<table border=\"1\" class=\"dataframe\">\n",
       "  <thead>\n",
       "    <tr style=\"text-align: right;\">\n",
       "      <th></th>\n",
       "      <th>LocationID_pickup</th>\n",
       "      <th>lon_pickup</th>\n",
       "      <th>lat_pickup</th>\n",
       "      <th>LocationID_dropoff</th>\n",
       "      <th>lon_dropoff</th>\n",
       "      <th>lat_dropoff</th>\n",
       "      <th>index</th>\n",
       "      <th>time</th>\n",
       "      <th>distance</th>\n",
       "    </tr>\n",
       "  </thead>\n",
       "  <tbody>\n",
       "    <tr>\n",
       "      <th>1001</th>\n",
       "      <td>4</td>\n",
       "      <td>-73.977024</td>\n",
       "      <td>40.724151</td>\n",
       "      <td>217</td>\n",
       "      <td>-73.956841</td>\n",
       "      <td>40.703251</td>\n",
       "      <td>1001</td>\n",
       "      <td>4691.0</td>\n",
       "      <td>7031.0</td>\n",
       "    </tr>\n",
       "    <tr>\n",
       "      <th>1002</th>\n",
       "      <td>4</td>\n",
       "      <td>-73.977024</td>\n",
       "      <td>40.724151</td>\n",
       "      <td>218</td>\n",
       "      <td>-73.772117</td>\n",
       "      <td>40.673302</td>\n",
       "      <td>1002</td>\n",
       "      <td>11211.0</td>\n",
       "      <td>11136.0</td>\n",
       "    </tr>\n",
       "    <tr>\n",
       "      <th>1003</th>\n",
       "      <td>4</td>\n",
       "      <td>-73.977024</td>\n",
       "      <td>40.724151</td>\n",
       "      <td>219</td>\n",
       "      <td>-73.761009</td>\n",
       "      <td>40.660257</td>\n",
       "      <td>1003</td>\n",
       "      <td>17586.0</td>\n",
       "      <td>31596.0</td>\n",
       "    </tr>\n",
       "    <tr>\n",
       "      <th>1004</th>\n",
       "      <td>4</td>\n",
       "      <td>-73.977024</td>\n",
       "      <td>40.724151</td>\n",
       "      <td>220</td>\n",
       "      <td>-73.911881</td>\n",
       "      <td>40.881892</td>\n",
       "      <td>1004</td>\n",
       "      <td>6855.0</td>\n",
       "      <td>6776.0</td>\n",
       "    </tr>\n",
       "    <tr>\n",
       "      <th>1005</th>\n",
       "      <td>4</td>\n",
       "      <td>-73.977024</td>\n",
       "      <td>40.724151</td>\n",
       "      <td>221</td>\n",
       "      <td>-74.081329</td>\n",
       "      <td>40.620232</td>\n",
       "      <td>1005</td>\n",
       "      <td>14818.0</td>\n",
       "      <td>29653.0</td>\n",
       "    </tr>\n",
       "  </tbody>\n",
       "</table>\n",
       "</div>"
      ],
      "text/plain": [
       "      LocationID_pickup  lon_pickup  lat_pickup  LocationID_dropoff  \\\n",
       "1001                  4  -73.977024   40.724151                 217   \n",
       "1002                  4  -73.977024   40.724151                 218   \n",
       "1003                  4  -73.977024   40.724151                 219   \n",
       "1004                  4  -73.977024   40.724151                 220   \n",
       "1005                  4  -73.977024   40.724151                 221   \n",
       "\n",
       "      lon_dropoff  lat_dropoff  index     time  distance  \n",
       "1001   -73.956841    40.703251   1001   4691.0    7031.0  \n",
       "1002   -73.772117    40.673302   1002  11211.0   11136.0  \n",
       "1003   -73.761009    40.660257   1003  17586.0   31596.0  \n",
       "1004   -73.911881    40.881892   1004   6855.0    6776.0  \n",
       "1005   -74.081329    40.620232   1005  14818.0   29653.0  "
      ]
     },
     "execution_count": 56,
     "metadata": {},
     "output_type": "execute_result"
    }
   ],
   "source": [
    "combine2 = pd.merge(location2, w2, left_index =True, right_index=True)\n",
    "#combine1['LocationID_pickup'] = combine1['LocationID_pickup'].astype(float)\n",
    "print(combine2.shape)\n",
    "combine2 = combine2.dropna()\n",
    "combine2['LocationID_pickup'] = combine2['LocationID_pickup'].astype(int)\n",
    "print(combine2.shape)\n",
    "combine2.head()\n",
    "combine2.head()"
   ]
  },
  {
   "cell_type": "code",
   "execution_count": 54,
   "metadata": {},
   "outputs": [
    {
     "data": {
      "text/html": [
       "<div>\n",
       "<style scoped>\n",
       "    .dataframe tbody tr th:only-of-type {\n",
       "        vertical-align: middle;\n",
       "    }\n",
       "\n",
       "    .dataframe tbody tr th {\n",
       "        vertical-align: top;\n",
       "    }\n",
       "\n",
       "    .dataframe thead th {\n",
       "        text-align: right;\n",
       "    }\n",
       "</style>\n",
       "<table border=\"1\" class=\"dataframe\">\n",
       "  <thead>\n",
       "    <tr style=\"text-align: right;\">\n",
       "      <th></th>\n",
       "      <th>time</th>\n",
       "      <th>distance</th>\n",
       "    </tr>\n",
       "    <tr>\n",
       "      <th>index</th>\n",
       "      <th></th>\n",
       "      <th></th>\n",
       "    </tr>\n",
       "  </thead>\n",
       "  <tbody>\n",
       "    <tr>\n",
       "      <th>30001</th>\n",
       "      <td>11955.0</td>\n",
       "      <td>23150.0</td>\n",
       "    </tr>\n",
       "    <tr>\n",
       "      <th>30002</th>\n",
       "      <td>9394.0</td>\n",
       "      <td>14898.0</td>\n",
       "    </tr>\n",
       "    <tr>\n",
       "      <th>30003</th>\n",
       "      <td>10967.0</td>\n",
       "      <td>22007.0</td>\n",
       "    </tr>\n",
       "    <tr>\n",
       "      <th>30004</th>\n",
       "      <td>12738.0</td>\n",
       "      <td>23770.0</td>\n",
       "    </tr>\n",
       "    <tr>\n",
       "      <th>30005</th>\n",
       "      <td>16770.0</td>\n",
       "      <td>39153.0</td>\n",
       "    </tr>\n",
       "  </tbody>\n",
       "</table>\n",
       "</div>"
      ],
      "text/plain": [
       "          time  distance\n",
       "index                   \n",
       "30001  11955.0   23150.0\n",
       "30002   9394.0   14898.0\n",
       "30003  10967.0   22007.0\n",
       "30004  12738.0   23770.0\n",
       "30005  16770.0   39153.0"
      ]
     },
     "execution_count": 54,
     "metadata": {},
     "output_type": "execute_result"
    }
   ],
   "source": [
    "w3.head()"
   ]
  },
  {
   "cell_type": "code",
   "execution_count": 55,
   "metadata": {
    "scrolled": true
   },
   "outputs": [
    {
     "name": "stdout",
     "output_type": "stream",
     "text": [
      "(38897, 8)\n",
      "(38488, 8)\n"
     ]
    },
    {
     "data": {
      "text/html": [
       "<div>\n",
       "<style scoped>\n",
       "    .dataframe tbody tr th:only-of-type {\n",
       "        vertical-align: middle;\n",
       "    }\n",
       "\n",
       "    .dataframe tbody tr th {\n",
       "        vertical-align: top;\n",
       "    }\n",
       "\n",
       "    .dataframe thead th {\n",
       "        text-align: right;\n",
       "    }\n",
       "</style>\n",
       "<table border=\"1\" class=\"dataframe\">\n",
       "  <thead>\n",
       "    <tr style=\"text-align: right;\">\n",
       "      <th></th>\n",
       "      <th>LocationID_pickup</th>\n",
       "      <th>lon_pickup</th>\n",
       "      <th>lat_pickup</th>\n",
       "      <th>LocationID_dropoff</th>\n",
       "      <th>lon_dropoff</th>\n",
       "      <th>lat_dropoff</th>\n",
       "      <th>time</th>\n",
       "      <th>distance</th>\n",
       "    </tr>\n",
       "  </thead>\n",
       "  <tbody>\n",
       "    <tr>\n",
       "      <th>30001</th>\n",
       "      <td>115</td>\n",
       "      <td>-74.092474</td>\n",
       "      <td>40.620141</td>\n",
       "      <td>143</td>\n",
       "      <td>-73.987973</td>\n",
       "      <td>40.775771</td>\n",
       "      <td>11955.0</td>\n",
       "      <td>23150.0</td>\n",
       "    </tr>\n",
       "    <tr>\n",
       "      <th>30002</th>\n",
       "      <td>115</td>\n",
       "      <td>-74.092474</td>\n",
       "      <td>40.620141</td>\n",
       "      <td>144</td>\n",
       "      <td>-73.997407</td>\n",
       "      <td>40.720581</td>\n",
       "      <td>9394.0</td>\n",
       "      <td>14898.0</td>\n",
       "    </tr>\n",
       "    <tr>\n",
       "      <th>30003</th>\n",
       "      <td>115</td>\n",
       "      <td>-74.092474</td>\n",
       "      <td>40.620141</td>\n",
       "      <td>145</td>\n",
       "      <td>-73.948693</td>\n",
       "      <td>40.746594</td>\n",
       "      <td>10967.0</td>\n",
       "      <td>22007.0</td>\n",
       "    </tr>\n",
       "    <tr>\n",
       "      <th>30004</th>\n",
       "      <td>115</td>\n",
       "      <td>-74.092474</td>\n",
       "      <td>40.620141</td>\n",
       "      <td>146</td>\n",
       "      <td>-73.933639</td>\n",
       "      <td>40.754524</td>\n",
       "      <td>12738.0</td>\n",
       "      <td>23770.0</td>\n",
       "    </tr>\n",
       "    <tr>\n",
       "      <th>30005</th>\n",
       "      <td>115</td>\n",
       "      <td>-74.092474</td>\n",
       "      <td>40.620141</td>\n",
       "      <td>147</td>\n",
       "      <td>-73.898192</td>\n",
       "      <td>40.819199</td>\n",
       "      <td>16770.0</td>\n",
       "      <td>39153.0</td>\n",
       "    </tr>\n",
       "  </tbody>\n",
       "</table>\n",
       "</div>"
      ],
      "text/plain": [
       "       LocationID_pickup  lon_pickup  lat_pickup  LocationID_dropoff  \\\n",
       "30001                115  -74.092474   40.620141                 143   \n",
       "30002                115  -74.092474   40.620141                 144   \n",
       "30003                115  -74.092474   40.620141                 145   \n",
       "30004                115  -74.092474   40.620141                 146   \n",
       "30005                115  -74.092474   40.620141                 147   \n",
       "\n",
       "       lon_dropoff  lat_dropoff     time  distance  \n",
       "30001   -73.987973    40.775771  11955.0   23150.0  \n",
       "30002   -73.997407    40.720581   9394.0   14898.0  \n",
       "30003   -73.948693    40.746594  10967.0   22007.0  \n",
       "30004   -73.933639    40.754524  12738.0   23770.0  \n",
       "30005   -73.898192    40.819199  16770.0   39153.0  "
      ]
     },
     "execution_count": 55,
     "metadata": {},
     "output_type": "execute_result"
    }
   ],
   "source": [
    "combine3 = pd.merge(location3, w3, left_index =True, right_index=True)\n",
    "print(combine3.shape)\n",
    "combine3 = combine3.dropna()\n",
    "combine3['LocationID_pickup'] = combine3['LocationID_pickup'].astype(int)\n",
    "print(combine3.shape)\n",
    "combine3.head()"
   ]
  },
  {
   "cell_type": "code",
   "execution_count": 57,
   "metadata": {},
   "outputs": [
    {
     "name": "stdout",
     "output_type": "stream",
     "text": [
      "(67377, 4)\n"
     ]
    },
    {
     "name": "stderr",
     "output_type": "stream",
     "text": [
      "/anaconda3/lib/python3.7/site-packages/ipykernel_launcher.py:2: FutureWarning: Sorting because non-concatenation axis is not aligned. A future version\n",
      "of pandas will change to not sort by default.\n",
      "\n",
      "To accept the future behavior, pass 'sort=False'.\n",
      "\n",
      "To retain the current behavior and silence the warning, pass 'sort=True'.\n",
      "\n",
      "  \n"
     ]
    },
    {
     "data": {
      "text/html": [
       "<div>\n",
       "<style scoped>\n",
       "    .dataframe tbody tr th:only-of-type {\n",
       "        vertical-align: middle;\n",
       "    }\n",
       "\n",
       "    .dataframe tbody tr th {\n",
       "        vertical-align: top;\n",
       "    }\n",
       "\n",
       "    .dataframe thead th {\n",
       "        text-align: right;\n",
       "    }\n",
       "</style>\n",
       "<table border=\"1\" class=\"dataframe\">\n",
       "  <thead>\n",
       "    <tr style=\"text-align: right;\">\n",
       "      <th></th>\n",
       "      <th>LocationID_pickup</th>\n",
       "      <th>LocationID_dropoff</th>\n",
       "      <th>time</th>\n",
       "      <th>distance</th>\n",
       "    </tr>\n",
       "  </thead>\n",
       "  <tbody>\n",
       "    <tr>\n",
       "      <th>0</th>\n",
       "      <td>1</td>\n",
       "      <td>2</td>\n",
       "      <td>31379.0</td>\n",
       "      <td>65155.0</td>\n",
       "    </tr>\n",
       "    <tr>\n",
       "      <th>1</th>\n",
       "      <td>1</td>\n",
       "      <td>3</td>\n",
       "      <td>34145.0</td>\n",
       "      <td>71302.0</td>\n",
       "    </tr>\n",
       "    <tr>\n",
       "      <th>2</th>\n",
       "      <td>1</td>\n",
       "      <td>4</td>\n",
       "      <td>25529.0</td>\n",
       "      <td>49169.0</td>\n",
       "    </tr>\n",
       "    <tr>\n",
       "      <th>3</th>\n",
       "      <td>1</td>\n",
       "      <td>5</td>\n",
       "      <td>42701.0</td>\n",
       "      <td>50553.0</td>\n",
       "    </tr>\n",
       "    <tr>\n",
       "      <th>4</th>\n",
       "      <td>1</td>\n",
       "      <td>6</td>\n",
       "      <td>31821.0</td>\n",
       "      <td>39772.0</td>\n",
       "    </tr>\n",
       "  </tbody>\n",
       "</table>\n",
       "</div>"
      ],
      "text/plain": [
       "   LocationID_pickup  LocationID_dropoff     time  distance\n",
       "0                  1                   2  31379.0   65155.0\n",
       "1                  1                   3  34145.0   71302.0\n",
       "2                  1                   4  25529.0   49169.0\n",
       "3                  1                   5  42701.0   50553.0\n",
       "4                  1                   6  31821.0   39772.0"
      ]
     },
     "execution_count": 57,
     "metadata": {},
     "output_type": "execute_result"
    }
   ],
   "source": [
    "walkingAll = [combine1, combine2, combine3]\n",
    "final_walking = pd.concat(walkingAll)[['LocationID_pickup', 'LocationID_dropoff', 'time', 'distance']]\n",
    "print(final_walking.shape)\n",
    "final_walking.head()"
   ]
  },
  {
   "cell_type": "code",
   "execution_count": 58,
   "metadata": {},
   "outputs": [],
   "source": [
    "final_walking.to_csv('final_walking.csv')"
   ]
  },
  {
   "cell_type": "code",
   "execution_count": null,
   "metadata": {},
   "outputs": [],
   "source": []
  }
 ],
 "metadata": {
  "kernelspec": {
   "display_name": "Python 3",
   "language": "python",
   "name": "python3"
  },
  "language_info": {
   "codemirror_mode": {
    "name": "ipython",
    "version": 3
   },
   "file_extension": ".py",
   "mimetype": "text/x-python",
   "name": "python",
   "nbconvert_exporter": "python",
   "pygments_lexer": "ipython3",
   "version": "3.7.1"
  }
 },
 "nbformat": 4,
 "nbformat_minor": 2
}
