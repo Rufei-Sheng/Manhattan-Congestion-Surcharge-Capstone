{
 "cells": [
  {
   "cell_type": "code",
   "execution_count": 1,
   "metadata": {},
   "outputs": [],
   "source": [
    "import pandas as pd"
   ]
  },
  {
   "cell_type": "code",
   "execution_count": 2,
   "metadata": {},
   "outputs": [],
   "source": [
    "data = pd.read_csv('results_scenario1_0.05_1.5.csv')\n",
    "data = data.set_index('Unnamed: 0')\n",
    "data1 = pd.read_csv('results_scenario2_0.05_1.5.csv')\n",
    "data1 = data1.drop(['Unnamed: 0'],axis=1)\n",
    "data1 = data1.set_index('Unnamed: 0.1')\n",
    "data2 = pd.read_csv('results_scenario3_with_scenario1_0.05_1.5.csv')\n",
    "data2 = data2.set_index('Unnamed: 0')\n",
    "ground = pd.read_csv(\"final_acs_transportation_choice.csv\")\n",
    "ground = ground.set_index('taxi_zone')"
   ]
  },
  {
   "cell_type": "code",
   "execution_count": 3,
   "metadata": {},
   "outputs": [
    {
     "data": {
      "text/html": [
       "<div>\n",
       "<style scoped>\n",
       "    .dataframe tbody tr th:only-of-type {\n",
       "        vertical-align: middle;\n",
       "    }\n",
       "\n",
       "    .dataframe tbody tr th {\n",
       "        vertical-align: top;\n",
       "    }\n",
       "\n",
       "    .dataframe thead th {\n",
       "        text-align: right;\n",
       "    }\n",
       "</style>\n",
       "<table border=\"1\" class=\"dataframe\">\n",
       "  <thead>\n",
       "    <tr style=\"text-align: right;\">\n",
       "      <th></th>\n",
       "      <th>P(mode1)</th>\n",
       "      <th>P(mode2)</th>\n",
       "      <th>P(mode3)</th>\n",
       "      <th>P(mode4)</th>\n",
       "      <th>P(mode5)</th>\n",
       "      <th>P(mode6)</th>\n",
       "    </tr>\n",
       "    <tr>\n",
       "      <th>taxi_zone</th>\n",
       "      <th></th>\n",
       "      <th></th>\n",
       "      <th></th>\n",
       "      <th></th>\n",
       "      <th></th>\n",
       "      <th></th>\n",
       "    </tr>\n",
       "  </thead>\n",
       "  <tbody>\n",
       "    <tr>\n",
       "      <th>3.0</th>\n",
       "      <td>0.115434</td>\n",
       "      <td>17.843262</td>\n",
       "      <td>7.334361</td>\n",
       "      <td>3885.402712</td>\n",
       "      <td>478.622467</td>\n",
       "      <td>4316.681764</td>\n",
       "    </tr>\n",
       "    <tr>\n",
       "      <th>4.0</th>\n",
       "      <td>42.851015</td>\n",
       "      <td>140.891180</td>\n",
       "      <td>84.609811</td>\n",
       "      <td>6937.780033</td>\n",
       "      <td>2631.714648</td>\n",
       "      <td>779.153313</td>\n",
       "    </tr>\n",
       "    <tr>\n",
       "      <th>5.0</th>\n",
       "      <td>0.081377</td>\n",
       "      <td>13.158607</td>\n",
       "      <td>2.120444</td>\n",
       "      <td>1860.706347</td>\n",
       "      <td>40.495673</td>\n",
       "      <td>6312.437553</td>\n",
       "    </tr>\n",
       "    <tr>\n",
       "      <th>6.0</th>\n",
       "      <td>0.109017</td>\n",
       "      <td>7.637848</td>\n",
       "      <td>1.878344</td>\n",
       "      <td>1974.772111</td>\n",
       "      <td>198.118892</td>\n",
       "      <td>3086.483787</td>\n",
       "    </tr>\n",
       "    <tr>\n",
       "      <th>7.0</th>\n",
       "      <td>25.522468</td>\n",
       "      <td>142.614028</td>\n",
       "      <td>37.582529</td>\n",
       "      <td>28436.765508</td>\n",
       "      <td>2680.397880</td>\n",
       "      <td>5365.117587</td>\n",
       "    </tr>\n",
       "  </tbody>\n",
       "</table>\n",
       "</div>"
      ],
      "text/plain": [
       "            P(mode1)    P(mode2)   P(mode3)      P(mode4)     P(mode5)  \\\n",
       "taxi_zone                                                                \n",
       "3.0         0.115434   17.843262   7.334361   3885.402712   478.622467   \n",
       "4.0        42.851015  140.891180  84.609811   6937.780033  2631.714648   \n",
       "5.0         0.081377   13.158607   2.120444   1860.706347    40.495673   \n",
       "6.0         0.109017    7.637848   1.878344   1974.772111   198.118892   \n",
       "7.0        25.522468  142.614028  37.582529  28436.765508  2680.397880   \n",
       "\n",
       "              P(mode6)  \n",
       "taxi_zone               \n",
       "3.0        4316.681764  \n",
       "4.0         779.153313  \n",
       "5.0        6312.437553  \n",
       "6.0        3086.483787  \n",
       "7.0        5365.117587  "
      ]
     },
     "execution_count": 3,
     "metadata": {},
     "output_type": "execute_result"
    }
   ],
   "source": [
    "ground.head()"
   ]
  },
  {
   "cell_type": "code",
   "execution_count": 4,
   "metadata": {},
   "outputs": [
    {
     "data": {
      "text/plain": [
       "P(mode1)    5.696786e+04\n",
       "P(mode2)    6.993359e+03\n",
       "P(mode3)    2.557339e+03\n",
       "P(mode4)    1.448266e+06\n",
       "P(mode5)    2.281302e+05\n",
       "P(mode6)    1.138436e+06\n",
       "dtype: float64"
      ]
     },
     "execution_count": 4,
     "metadata": {},
     "output_type": "execute_result"
    }
   ],
   "source": [
    "data.sum()"
   ]
  },
  {
   "cell_type": "code",
   "execution_count": 5,
   "metadata": {},
   "outputs": [
    {
     "data": {
      "text/plain": [
       "P(mode1)    9.720936e+03\n",
       "P(mode2)    1.475381e+04\n",
       "P(mode3)    5.745300e+03\n",
       "P(mode4)    1.756041e+06\n",
       "P(mode5)    3.071924e+05\n",
       "P(mode6)    7.865649e+05\n",
       "dtype: float64"
      ]
     },
     "execution_count": 5,
     "metadata": {},
     "output_type": "execute_result"
    }
   ],
   "source": [
    "ground.sum()"
   ]
  },
  {
   "cell_type": "code",
   "execution_count": 6,
   "metadata": {},
   "outputs": [
    {
     "data": {
      "text/html": [
       "<div>\n",
       "<style scoped>\n",
       "    .dataframe tbody tr th:only-of-type {\n",
       "        vertical-align: middle;\n",
       "    }\n",
       "\n",
       "    .dataframe tbody tr th {\n",
       "        vertical-align: top;\n",
       "    }\n",
       "\n",
       "    .dataframe thead th {\n",
       "        text-align: right;\n",
       "    }\n",
       "</style>\n",
       "<table border=\"1\" class=\"dataframe\">\n",
       "  <thead>\n",
       "    <tr style=\"text-align: right;\">\n",
       "      <th></th>\n",
       "      <th>P(mode1)</th>\n",
       "      <th>P(mode2)</th>\n",
       "      <th>P(mode3)</th>\n",
       "      <th>P(mode4)</th>\n",
       "      <th>P(mode5)</th>\n",
       "      <th>P(mode6)</th>\n",
       "    </tr>\n",
       "  </thead>\n",
       "  <tbody>\n",
       "    <tr>\n",
       "      <th>0</th>\n",
       "      <td>0.170639</td>\n",
       "      <td>2.109688</td>\n",
       "      <td>2.246593</td>\n",
       "      <td>1.212513</td>\n",
       "      <td>1.346566</td>\n",
       "      <td>0.690917</td>\n",
       "    </tr>\n",
       "  </tbody>\n",
       "</table>\n",
       "</div>"
      ],
      "text/plain": [
       "   P(mode1)  P(mode2)  P(mode3)  P(mode4)  P(mode5)  P(mode6)\n",
       "0  0.170639  2.109688  2.246593  1.212513  1.346566  0.690917"
      ]
     },
     "execution_count": 6,
     "metadata": {},
     "output_type": "execute_result"
    }
   ],
   "source": [
    "ratio = pd.DataFrame(ground.sum()/data.sum())\n",
    "ratio = ratio.T\n",
    "ratio"
   ]
  },
  {
   "cell_type": "code",
   "execution_count": 7,
   "metadata": {},
   "outputs": [],
   "source": [
    "def scaleing(df,ratio):\n",
    "    df['P(mode1)'] = df['P(mode1)']*ratio['P(mode1)'].values\n",
    "    df['P(mode2)'] = df['P(mode2)']*ratio['P(mode2)'].values\n",
    "    df['P(mode3)'] = df['P(mode3)']*ratio['P(mode3)'].values\n",
    "    df['P(mode4)'] = df['P(mode4)']*ratio['P(mode4)'].values\n",
    "    df['P(mode5)'] = df['P(mode5)']*ratio['P(mode5)'].values\n",
    "    df['P(mode6)'] = df['P(mode6)']*ratio['P(mode6)'].values"
   ]
  },
  {
   "cell_type": "code",
   "execution_count": 8,
   "metadata": {},
   "outputs": [],
   "source": [
    "scaleing(data,ratio)"
   ]
  },
  {
   "cell_type": "code",
   "execution_count": 9,
   "metadata": {},
   "outputs": [
    {
     "data": {
      "text/plain": [
       "P(mode1)    9.720936e+03\n",
       "P(mode2)    1.475381e+04\n",
       "P(mode3)    5.745300e+03\n",
       "P(mode4)    1.756041e+06\n",
       "P(mode5)    3.071924e+05\n",
       "P(mode6)    7.865649e+05\n",
       "dtype: float64"
      ]
     },
     "execution_count": 9,
     "metadata": {},
     "output_type": "execute_result"
    }
   ],
   "source": [
    "data.sum()"
   ]
  },
  {
   "cell_type": "code",
   "execution_count": 10,
   "metadata": {},
   "outputs": [],
   "source": [
    "data.to_csv('Scaled_results_scenario1_0.05_1.5.csv')"
   ]
  },
  {
   "cell_type": "code",
   "execution_count": 11,
   "metadata": {},
   "outputs": [
    {
     "data": {
      "text/plain": [
       "P(mode1)    3.357086e+04\n",
       "P(mode2)    6.760843e+03\n",
       "P(mode3)    3.624433e+03\n",
       "P(mode4)    1.466963e+06\n",
       "P(mode5)    2.295121e+05\n",
       "P(mode6)    1.140920e+06\n",
       "dtype: float64"
      ]
     },
     "execution_count": 11,
     "metadata": {},
     "output_type": "execute_result"
    }
   ],
   "source": [
    "data1.sum()"
   ]
  },
  {
   "cell_type": "code",
   "execution_count": 12,
   "metadata": {},
   "outputs": [
    {
     "data": {
      "text/plain": [
       "P(mode1)    2.244691e+04\n",
       "P(mode2)    6.759563e+03\n",
       "P(mode3)    4.706100e+03\n",
       "P(mode4)    1.568532e+06\n",
       "P(mode5)    2.310550e+05\n",
       "P(mode6)    1.047852e+06\n",
       "dtype: float64"
      ]
     },
     "execution_count": 12,
     "metadata": {},
     "output_type": "execute_result"
    }
   ],
   "source": [
    "data2.sum()"
   ]
  },
  {
   "cell_type": "code",
   "execution_count": 13,
   "metadata": {},
   "outputs": [],
   "source": [
    "scaleing(data1,ratio)\n",
    "scaleing(data2,ratio)"
   ]
  },
  {
   "cell_type": "code",
   "execution_count": 14,
   "metadata": {},
   "outputs": [
    {
     "data": {
      "text/plain": [
       "P(mode1)    5.728496e+03\n",
       "P(mode2)    1.426327e+04\n",
       "P(mode3)    8.142628e+03\n",
       "P(mode4)    1.778711e+06\n",
       "P(mode5)    3.090532e+05\n",
       "P(mode6)    7.882809e+05\n",
       "dtype: float64"
      ]
     },
     "execution_count": 14,
     "metadata": {},
     "output_type": "execute_result"
    }
   ],
   "source": [
    "data1.sum()"
   ]
  },
  {
   "cell_type": "code",
   "execution_count": 15,
   "metadata": {},
   "outputs": [
    {
     "data": {
      "text/plain": [
       "P(mode1)    3.830317e+03\n",
       "P(mode2)    1.426057e+04\n",
       "P(mode3)    1.057269e+04\n",
       "P(mode4)    1.901864e+06\n",
       "P(mode5)    3.111308e+05\n",
       "P(mode6)    7.239785e+05\n",
       "dtype: float64"
      ]
     },
     "execution_count": 15,
     "metadata": {},
     "output_type": "execute_result"
    }
   ],
   "source": [
    "data2.sum()"
   ]
  },
  {
   "cell_type": "code",
   "execution_count": 16,
   "metadata": {},
   "outputs": [],
   "source": [
    "data1.to_csv('Scaled_results_scenario2_0.05_1.5.csv')\n",
    "data2.to_csv('Scaled_results_scenario3_0.05_1.5.csv')"
   ]
  }
 ],
 "metadata": {
  "kernelspec": {
   "display_name": "Python 3",
   "language": "python",
   "name": "python3"
  },
  "language_info": {
   "codemirror_mode": {
    "name": "ipython",
    "version": 3
   },
   "file_extension": ".py",
   "mimetype": "text/x-python",
   "name": "python",
   "nbconvert_exporter": "python",
   "pygments_lexer": "ipython3",
   "version": "3.7.3"
  }
 },
 "nbformat": 4,
 "nbformat_minor": 2
}
