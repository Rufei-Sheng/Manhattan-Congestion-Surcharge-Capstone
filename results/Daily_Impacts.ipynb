{
 "cells": [
  {
   "cell_type": "markdown",
   "metadata": {},
   "source": [
    "## Daily Impacts"
   ]
  },
  {
   "cell_type": "code",
   "execution_count": 2,
   "metadata": {},
   "outputs": [],
   "source": [
    "import numpy as np\n",
    "import pandas as pd\n",
    "import warnings\n",
    "warnings.filterwarnings(\"ignore\")\n",
    "import time\n",
    "import timeit\n",
    "from tqdm import tqdm\n",
    "from sklearn.model_selection import GridSearchCV\n",
    "import re"
   ]
  },
  {
   "cell_type": "code",
   "execution_count": 3,
   "metadata": {},
   "outputs": [
    {
     "data": {
      "text/html": [
       "<div>\n",
       "<style scoped>\n",
       "    .dataframe tbody tr th:only-of-type {\n",
       "        vertical-align: middle;\n",
       "    }\n",
       "\n",
       "    .dataframe tbody tr th {\n",
       "        vertical-align: top;\n",
       "    }\n",
       "\n",
       "    .dataframe thead th {\n",
       "        text-align: right;\n",
       "    }\n",
       "</style>\n",
       "<table border=\"1\" class=\"dataframe\">\n",
       "  <thead>\n",
       "    <tr style=\"text-align: right;\">\n",
       "      <th></th>\n",
       "      <th>P(mode1)</th>\n",
       "      <th>P(mode2)</th>\n",
       "      <th>P(mode3)</th>\n",
       "      <th>P(mode4)</th>\n",
       "      <th>P(mode5)</th>\n",
       "    </tr>\n",
       "  </thead>\n",
       "  <tbody>\n",
       "    <tr>\n",
       "      <th>3-4</th>\n",
       "      <td>0.000000e+00</td>\n",
       "      <td>5.143610e-01</td>\n",
       "      <td>2.955623e-09</td>\n",
       "      <td>5.216414</td>\n",
       "      <td>0.269225</td>\n",
       "    </tr>\n",
       "    <tr>\n",
       "      <th>3-7</th>\n",
       "      <td>1.992068e-07</td>\n",
       "      <td>3.910663e+00</td>\n",
       "      <td>1.179624e-06</td>\n",
       "      <td>30.705659</td>\n",
       "      <td>1.383677</td>\n",
       "    </tr>\n",
       "    <tr>\n",
       "      <th>3-9</th>\n",
       "      <td>0.000000e+00</td>\n",
       "      <td>6.564801e-01</td>\n",
       "      <td>4.014125e-07</td>\n",
       "      <td>1.288755</td>\n",
       "      <td>0.054765</td>\n",
       "    </tr>\n",
       "    <tr>\n",
       "      <th>3-10</th>\n",
       "      <td>0.000000e+00</td>\n",
       "      <td>6.715375e-01</td>\n",
       "      <td>4.977698e-13</td>\n",
       "      <td>2.220289</td>\n",
       "      <td>0.108173</td>\n",
       "    </tr>\n",
       "    <tr>\n",
       "      <th>3-11</th>\n",
       "      <td>0.000000e+00</td>\n",
       "      <td>2.144113e-18</td>\n",
       "      <td>0.000000e+00</td>\n",
       "      <td>3.883684</td>\n",
       "      <td>0.116316</td>\n",
       "    </tr>\n",
       "  </tbody>\n",
       "</table>\n",
       "</div>"
      ],
      "text/plain": [
       "          P(mode1)      P(mode2)      P(mode3)   P(mode4)  P(mode5)\n",
       "3-4   0.000000e+00  5.143610e-01  2.955623e-09   5.216414  0.269225\n",
       "3-7   1.992068e-07  3.910663e+00  1.179624e-06  30.705659  1.383677\n",
       "3-9   0.000000e+00  6.564801e-01  4.014125e-07   1.288755  0.054765\n",
       "3-10  0.000000e+00  6.715375e-01  4.977698e-13   2.220289  0.108173\n",
       "3-11  0.000000e+00  2.144113e-18  0.000000e+00   3.883684  0.116316"
      ]
     },
     "execution_count": 3,
     "metadata": {},
     "output_type": "execute_result"
    }
   ],
   "source": [
    "results_scene_1 = pd.read_csv('../results/Final_results/results_scenario1_SRM.csv',index_col=0,usecols=range(6))\n",
    "results_scene_1.head()"
   ]
  },
  {
   "cell_type": "code",
   "execution_count": 4,
   "metadata": {},
   "outputs": [
    {
     "data": {
      "text/html": [
       "<div>\n",
       "<style scoped>\n",
       "    .dataframe tbody tr th:only-of-type {\n",
       "        vertical-align: middle;\n",
       "    }\n",
       "\n",
       "    .dataframe tbody tr th {\n",
       "        vertical-align: top;\n",
       "    }\n",
       "\n",
       "    .dataframe thead th {\n",
       "        text-align: right;\n",
       "    }\n",
       "</style>\n",
       "<table border=\"1\" class=\"dataframe\">\n",
       "  <thead>\n",
       "    <tr style=\"text-align: right;\">\n",
       "      <th></th>\n",
       "      <th>P(mode1)</th>\n",
       "      <th>P(mode2)</th>\n",
       "      <th>P(mode3)</th>\n",
       "      <th>P(mode4)</th>\n",
       "      <th>P(mode5)</th>\n",
       "    </tr>\n",
       "  </thead>\n",
       "  <tbody>\n",
       "    <tr>\n",
       "      <th>3-4</th>\n",
       "      <td>0.000000e+00</td>\n",
       "      <td>5.139874e-01</td>\n",
       "      <td>7.175188e-07</td>\n",
       "      <td>5.216787</td>\n",
       "      <td>0.269225</td>\n",
       "    </tr>\n",
       "    <tr>\n",
       "      <th>3-7</th>\n",
       "      <td>1.992068e-07</td>\n",
       "      <td>3.910663e+00</td>\n",
       "      <td>1.179624e-06</td>\n",
       "      <td>30.705659</td>\n",
       "      <td>1.383677</td>\n",
       "    </tr>\n",
       "    <tr>\n",
       "      <th>3-9</th>\n",
       "      <td>0.000000e+00</td>\n",
       "      <td>6.564801e-01</td>\n",
       "      <td>4.014125e-07</td>\n",
       "      <td>1.288755</td>\n",
       "      <td>0.054765</td>\n",
       "    </tr>\n",
       "    <tr>\n",
       "      <th>3-10</th>\n",
       "      <td>0.000000e+00</td>\n",
       "      <td>6.715375e-01</td>\n",
       "      <td>4.977698e-13</td>\n",
       "      <td>2.220289</td>\n",
       "      <td>0.108173</td>\n",
       "    </tr>\n",
       "    <tr>\n",
       "      <th>3-11</th>\n",
       "      <td>0.000000e+00</td>\n",
       "      <td>2.144113e-18</td>\n",
       "      <td>0.000000e+00</td>\n",
       "      <td>3.883684</td>\n",
       "      <td>0.116316</td>\n",
       "    </tr>\n",
       "  </tbody>\n",
       "</table>\n",
       "</div>"
      ],
      "text/plain": [
       "          P(mode1)      P(mode2)      P(mode3)   P(mode4)  P(mode5)\n",
       "3-4   0.000000e+00  5.139874e-01  7.175188e-07   5.216787  0.269225\n",
       "3-7   1.992068e-07  3.910663e+00  1.179624e-06  30.705659  1.383677\n",
       "3-9   0.000000e+00  6.564801e-01  4.014125e-07   1.288755  0.054765\n",
       "3-10  0.000000e+00  6.715375e-01  4.977698e-13   2.220289  0.108173\n",
       "3-11  0.000000e+00  2.144113e-18  0.000000e+00   3.883684  0.116316"
      ]
     },
     "execution_count": 4,
     "metadata": {},
     "output_type": "execute_result"
    }
   ],
   "source": [
    "results_scene_2 = pd.read_csv('../results/Final_results/results_scenario2 -$2.75.csv',index_col=0,usecols=range(6))\n",
    "results_scene_2.head()"
   ]
  },
  {
   "cell_type": "code",
   "execution_count": 5,
   "metadata": {},
   "outputs": [
    {
     "data": {
      "text/html": [
       "<div>\n",
       "<style scoped>\n",
       "    .dataframe tbody tr th:only-of-type {\n",
       "        vertical-align: middle;\n",
       "    }\n",
       "\n",
       "    .dataframe tbody tr th {\n",
       "        vertical-align: top;\n",
       "    }\n",
       "\n",
       "    .dataframe thead th {\n",
       "        text-align: right;\n",
       "    }\n",
       "</style>\n",
       "<table border=\"1\" class=\"dataframe\">\n",
       "  <thead>\n",
       "    <tr style=\"text-align: right;\">\n",
       "      <th></th>\n",
       "      <th>P(mode1)</th>\n",
       "      <th>P(mode2)</th>\n",
       "      <th>P(mode3)</th>\n",
       "      <th>P(mode4)</th>\n",
       "      <th>P(mode5)</th>\n",
       "    </tr>\n",
       "  </thead>\n",
       "  <tbody>\n",
       "    <tr>\n",
       "      <th>3-4</th>\n",
       "      <td>0.000000e+00</td>\n",
       "      <td>5.097572e-01</td>\n",
       "      <td>1.991519e-11</td>\n",
       "      <td>5.221018</td>\n",
       "      <td>0.269225</td>\n",
       "    </tr>\n",
       "    <tr>\n",
       "      <th>3-7</th>\n",
       "      <td>1.992068e-07</td>\n",
       "      <td>3.910663e+00</td>\n",
       "      <td>1.179624e-06</td>\n",
       "      <td>30.705659</td>\n",
       "      <td>1.383677</td>\n",
       "    </tr>\n",
       "    <tr>\n",
       "      <th>3-9</th>\n",
       "      <td>0.000000e+00</td>\n",
       "      <td>6.564801e-01</td>\n",
       "      <td>4.014125e-07</td>\n",
       "      <td>1.288755</td>\n",
       "      <td>0.054765</td>\n",
       "    </tr>\n",
       "    <tr>\n",
       "      <th>3-10</th>\n",
       "      <td>0.000000e+00</td>\n",
       "      <td>6.715375e-01</td>\n",
       "      <td>4.977698e-13</td>\n",
       "      <td>2.220289</td>\n",
       "      <td>0.108173</td>\n",
       "    </tr>\n",
       "    <tr>\n",
       "      <th>3-11</th>\n",
       "      <td>0.000000e+00</td>\n",
       "      <td>2.144113e-18</td>\n",
       "      <td>0.000000e+00</td>\n",
       "      <td>3.883684</td>\n",
       "      <td>0.116316</td>\n",
       "    </tr>\n",
       "  </tbody>\n",
       "</table>\n",
       "</div>"
      ],
      "text/plain": [
       "          P(mode1)      P(mode2)      P(mode3)   P(mode4)  P(mode5)\n",
       "3-4   0.000000e+00  5.097572e-01  1.991519e-11   5.221018  0.269225\n",
       "3-7   1.992068e-07  3.910663e+00  1.179624e-06  30.705659  1.383677\n",
       "3-9   0.000000e+00  6.564801e-01  4.014125e-07   1.288755  0.054765\n",
       "3-10  0.000000e+00  6.715375e-01  4.977698e-13   2.220289  0.108173\n",
       "3-11  0.000000e+00  2.144113e-18  0.000000e+00   3.883684  0.116316"
      ]
     },
     "execution_count": 5,
     "metadata": {},
     "output_type": "execute_result"
    }
   ],
   "source": [
    "results_scene_3 = pd.read_csv('../results/Final_results/results_scenario3 -$10.csv',index_col=0,usecols=range(6))\n",
    "results_scene_3.head()"
   ]
  },
  {
   "cell_type": "code",
   "execution_count": 6,
   "metadata": {},
   "outputs": [
    {
     "data": {
      "text/html": [
       "<div>\n",
       "<style scoped>\n",
       "    .dataframe tbody tr th:only-of-type {\n",
       "        vertical-align: middle;\n",
       "    }\n",
       "\n",
       "    .dataframe tbody tr th {\n",
       "        vertical-align: top;\n",
       "    }\n",
       "\n",
       "    .dataframe thead th {\n",
       "        text-align: right;\n",
       "    }\n",
       "</style>\n",
       "<table border=\"1\" class=\"dataframe\">\n",
       "  <thead>\n",
       "    <tr style=\"text-align: right;\">\n",
       "      <th></th>\n",
       "      <th>ODpair</th>\n",
       "      <th>12500</th>\n",
       "      <th>125000</th>\n",
       "      <th>17500</th>\n",
       "      <th>22500</th>\n",
       "      <th>225000</th>\n",
       "      <th>2500</th>\n",
       "      <th>30000</th>\n",
       "      <th>42500</th>\n",
       "      <th>62500</th>\n",
       "      <th>7500</th>\n",
       "      <th>87500</th>\n",
       "      <th>DOlocationID</th>\n",
       "      <th>PUlocationID</th>\n",
       "      <th>duration</th>\n",
       "      <th>mode</th>\n",
       "      <th>nest</th>\n",
       "      <th>price</th>\n",
       "    </tr>\n",
       "  </thead>\n",
       "  <tbody>\n",
       "    <tr>\n",
       "      <th>0</th>\n",
       "      <td>3-4</td>\n",
       "      <td>0.648452</td>\n",
       "      <td>0.740725</td>\n",
       "      <td>0.282211</td>\n",
       "      <td>0.414755</td>\n",
       "      <td>0.514005</td>\n",
       "      <td>0.250819</td>\n",
       "      <td>0.592009</td>\n",
       "      <td>0.671282</td>\n",
       "      <td>0.93859</td>\n",
       "      <td>0.360216</td>\n",
       "      <td>0.586936</td>\n",
       "      <td>4</td>\n",
       "      <td>3</td>\n",
       "      <td>39.695000</td>\n",
       "      <td>2</td>\n",
       "      <td>1</td>\n",
       "      <td>64.000000</td>\n",
       "    </tr>\n",
       "    <tr>\n",
       "      <th>1</th>\n",
       "      <td>3-4</td>\n",
       "      <td>0.648452</td>\n",
       "      <td>0.740725</td>\n",
       "      <td>0.282211</td>\n",
       "      <td>0.414755</td>\n",
       "      <td>0.514005</td>\n",
       "      <td>0.250819</td>\n",
       "      <td>0.592009</td>\n",
       "      <td>0.671282</td>\n",
       "      <td>0.93859</td>\n",
       "      <td>0.360216</td>\n",
       "      <td>0.586936</td>\n",
       "      <td>4</td>\n",
       "      <td>3</td>\n",
       "      <td>45.216667</td>\n",
       "      <td>3</td>\n",
       "      <td>1</td>\n",
       "      <td>61.500000</td>\n",
       "    </tr>\n",
       "    <tr>\n",
       "      <th>2</th>\n",
       "      <td>3-4</td>\n",
       "      <td>0.648452</td>\n",
       "      <td>0.740725</td>\n",
       "      <td>0.282211</td>\n",
       "      <td>0.414755</td>\n",
       "      <td>0.514005</td>\n",
       "      <td>0.250819</td>\n",
       "      <td>0.592009</td>\n",
       "      <td>0.671282</td>\n",
       "      <td>0.93859</td>\n",
       "      <td>0.360216</td>\n",
       "      <td>0.586936</td>\n",
       "      <td>4</td>\n",
       "      <td>3</td>\n",
       "      <td>83.000000</td>\n",
       "      <td>4</td>\n",
       "      <td>2</td>\n",
       "      <td>5.500000</td>\n",
       "    </tr>\n",
       "    <tr>\n",
       "      <th>3</th>\n",
       "      <td>3-4</td>\n",
       "      <td>0.648452</td>\n",
       "      <td>0.740725</td>\n",
       "      <td>0.282211</td>\n",
       "      <td>0.414755</td>\n",
       "      <td>0.514005</td>\n",
       "      <td>0.250819</td>\n",
       "      <td>0.592009</td>\n",
       "      <td>0.671282</td>\n",
       "      <td>0.93859</td>\n",
       "      <td>0.360216</td>\n",
       "      <td>0.586936</td>\n",
       "      <td>4</td>\n",
       "      <td>3</td>\n",
       "      <td>225.933333</td>\n",
       "      <td>5</td>\n",
       "      <td>3</td>\n",
       "      <td>0.000000</td>\n",
       "    </tr>\n",
       "    <tr>\n",
       "      <th>4</th>\n",
       "      <td>3-7</td>\n",
       "      <td>3.890709</td>\n",
       "      <td>4.444350</td>\n",
       "      <td>1.693267</td>\n",
       "      <td>2.488532</td>\n",
       "      <td>3.084029</td>\n",
       "      <td>1.504915</td>\n",
       "      <td>3.552056</td>\n",
       "      <td>4.027693</td>\n",
       "      <td>5.63154</td>\n",
       "      <td>2.161294</td>\n",
       "      <td>3.521615</td>\n",
       "      <td>7</td>\n",
       "      <td>3</td>\n",
       "      <td>47.880952</td>\n",
       "      <td>1</td>\n",
       "      <td>1</td>\n",
       "      <td>43.157143</td>\n",
       "    </tr>\n",
       "  </tbody>\n",
       "</table>\n",
       "</div>"
      ],
      "text/plain": [
       "  ODpair     12500    125000     17500     22500    225000      2500  \\\n",
       "0    3-4  0.648452  0.740725  0.282211  0.414755  0.514005  0.250819   \n",
       "1    3-4  0.648452  0.740725  0.282211  0.414755  0.514005  0.250819   \n",
       "2    3-4  0.648452  0.740725  0.282211  0.414755  0.514005  0.250819   \n",
       "3    3-4  0.648452  0.740725  0.282211  0.414755  0.514005  0.250819   \n",
       "4    3-7  3.890709  4.444350  1.693267  2.488532  3.084029  1.504915   \n",
       "\n",
       "      30000     42500    62500      7500     87500  DOlocationID  \\\n",
       "0  0.592009  0.671282  0.93859  0.360216  0.586936             4   \n",
       "1  0.592009  0.671282  0.93859  0.360216  0.586936             4   \n",
       "2  0.592009  0.671282  0.93859  0.360216  0.586936             4   \n",
       "3  0.592009  0.671282  0.93859  0.360216  0.586936             4   \n",
       "4  3.552056  4.027693  5.63154  2.161294  3.521615             7   \n",
       "\n",
       "   PUlocationID    duration  mode  nest      price  \n",
       "0             3   39.695000     2     1  64.000000  \n",
       "1             3   45.216667     3     1  61.500000  \n",
       "2             3   83.000000     4     2   5.500000  \n",
       "3             3  225.933333     5     3   0.000000  \n",
       "4             3   47.880952     1     1  43.157143  "
      ]
     },
     "execution_count": 6,
     "metadata": {},
     "output_type": "execute_result"
    }
   ],
   "source": [
    "wages = pd.read_csv('../modeling/final_allMode_with_wage_cleaned_update.csv')\n",
    "wages.head(5)"
   ]
  },
  {
   "cell_type": "code",
   "execution_count": 7,
   "metadata": {},
   "outputs": [],
   "source": [
    "# agg_scene_1 = results_scene_1.drop('destination',axis=1).groupby('origin').sum()\n",
    "# agg_scene_1.head()\n",
    "# agg_scene_1.columns = [name + '_predicted' for name in agg_scene_1.columns]\n",
    "# acs = pd.read_csv('final_acs_transportation_choice.csv',index_col=0)\n",
    "# acs.head()\n",
    "# acs.columns = [name + '_actual' for name in acs.columns]\n",
    "# scene_1_combined = agg_scene_1.merge(acs,how='left',left_index=True,right_index=True)\n",
    "# scene_1_combined.head()"
   ]
  },
  {
   "cell_type": "code",
   "execution_count": 8,
   "metadata": {},
   "outputs": [],
   "source": [
    "# Renaming for convenience in calculation\n",
    "results_scene_1.columns = [re.sub(r'[^\\d.]+','',col) for col in results_scene_1.columns]\n",
    "results_scene_2.columns = [re.sub(r'[^\\d.]+','',col) for col in results_scene_2.columns]\n",
    "results_scene_3.columns = [re.sub(r'[^\\d.]+','',col) for col in results_scene_3.columns]"
   ]
  },
  {
   "cell_type": "code",
   "execution_count": 9,
   "metadata": {},
   "outputs": [],
   "source": [
    "results_scene_1.reset_index(inplace=True)\n",
    "results_scene_2.reset_index(inplace=True)\n",
    "results_scene_3.reset_index(inplace=True)\n",
    "results_scene_1.rename_axis({'index':'ODpair'},axis=1,inplace=True)\n",
    "results_scene_2.rename_axis({'index':'ODpair'},axis=1,inplace=True)\n",
    "results_scene_3.rename_axis({'index':'ODpair'},axis=1,inplace=True)"
   ]
  },
  {
   "cell_type": "code",
   "execution_count": 10,
   "metadata": {},
   "outputs": [
    {
     "data": {
      "text/html": [
       "<div>\n",
       "<style scoped>\n",
       "    .dataframe tbody tr th:only-of-type {\n",
       "        vertical-align: middle;\n",
       "    }\n",
       "\n",
       "    .dataframe tbody tr th {\n",
       "        vertical-align: top;\n",
       "    }\n",
       "\n",
       "    .dataframe thead th {\n",
       "        text-align: right;\n",
       "    }\n",
       "</style>\n",
       "<table border=\"1\" class=\"dataframe\">\n",
       "  <thead>\n",
       "    <tr style=\"text-align: right;\">\n",
       "      <th></th>\n",
       "      <th>ODpair</th>\n",
       "      <th>1</th>\n",
       "      <th>2</th>\n",
       "      <th>3</th>\n",
       "      <th>4</th>\n",
       "      <th>5</th>\n",
       "    </tr>\n",
       "  </thead>\n",
       "  <tbody>\n",
       "    <tr>\n",
       "      <th>0</th>\n",
       "      <td>3-4</td>\n",
       "      <td>0.000000e+00</td>\n",
       "      <td>5.143610e-01</td>\n",
       "      <td>2.955623e-09</td>\n",
       "      <td>5.216414</td>\n",
       "      <td>0.269225</td>\n",
       "    </tr>\n",
       "    <tr>\n",
       "      <th>1</th>\n",
       "      <td>3-7</td>\n",
       "      <td>1.992068e-07</td>\n",
       "      <td>3.910663e+00</td>\n",
       "      <td>1.179624e-06</td>\n",
       "      <td>30.705659</td>\n",
       "      <td>1.383677</td>\n",
       "    </tr>\n",
       "    <tr>\n",
       "      <th>2</th>\n",
       "      <td>3-9</td>\n",
       "      <td>0.000000e+00</td>\n",
       "      <td>6.564801e-01</td>\n",
       "      <td>4.014125e-07</td>\n",
       "      <td>1.288755</td>\n",
       "      <td>0.054765</td>\n",
       "    </tr>\n",
       "    <tr>\n",
       "      <th>3</th>\n",
       "      <td>3-10</td>\n",
       "      <td>0.000000e+00</td>\n",
       "      <td>6.715375e-01</td>\n",
       "      <td>4.977698e-13</td>\n",
       "      <td>2.220289</td>\n",
       "      <td>0.108173</td>\n",
       "    </tr>\n",
       "    <tr>\n",
       "      <th>4</th>\n",
       "      <td>3-11</td>\n",
       "      <td>0.000000e+00</td>\n",
       "      <td>2.144113e-18</td>\n",
       "      <td>0.000000e+00</td>\n",
       "      <td>3.883684</td>\n",
       "      <td>0.116316</td>\n",
       "    </tr>\n",
       "  </tbody>\n",
       "</table>\n",
       "</div>"
      ],
      "text/plain": [
       "  ODpair             1             2             3          4         5\n",
       "0    3-4  0.000000e+00  5.143610e-01  2.955623e-09   5.216414  0.269225\n",
       "1    3-7  1.992068e-07  3.910663e+00  1.179624e-06  30.705659  1.383677\n",
       "2    3-9  0.000000e+00  6.564801e-01  4.014125e-07   1.288755  0.054765\n",
       "3   3-10  0.000000e+00  6.715375e-01  4.977698e-13   2.220289  0.108173\n",
       "4   3-11  0.000000e+00  2.144113e-18  0.000000e+00   3.883684  0.116316"
      ]
     },
     "execution_count": 10,
     "metadata": {},
     "output_type": "execute_result"
    }
   ],
   "source": [
    "results_scene_1.head()"
   ]
  },
  {
   "cell_type": "code",
   "execution_count": 11,
   "metadata": {},
   "outputs": [],
   "source": [
    "# Getting the origin taxi zone\n",
    "results_scene_1['origin'] = results_scene_1.ODpair.apply(lambda x: x.split('-')[0]).astype('int')\n",
    "results_scene_2['origin'] = results_scene_2.ODpair.apply(lambda x: x.split('-')[0]).astype('int')\n",
    "results_scene_3['origin'] = results_scene_3.ODpair.apply(lambda x: x.split('-')[0]).astype('int')"
   ]
  },
  {
   "cell_type": "code",
   "execution_count": 12,
   "metadata": {},
   "outputs": [
    {
     "data": {
      "text/html": [
       "<div>\n",
       "<style scoped>\n",
       "    .dataframe tbody tr th:only-of-type {\n",
       "        vertical-align: middle;\n",
       "    }\n",
       "\n",
       "    .dataframe tbody tr th {\n",
       "        vertical-align: top;\n",
       "    }\n",
       "\n",
       "    .dataframe thead th {\n",
       "        text-align: right;\n",
       "    }\n",
       "</style>\n",
       "<table border=\"1\" class=\"dataframe\">\n",
       "  <thead>\n",
       "    <tr style=\"text-align: right;\">\n",
       "      <th></th>\n",
       "      <th>ODpair</th>\n",
       "      <th>1</th>\n",
       "      <th>2</th>\n",
       "      <th>3</th>\n",
       "      <th>4</th>\n",
       "      <th>5</th>\n",
       "      <th>origin</th>\n",
       "    </tr>\n",
       "  </thead>\n",
       "  <tbody>\n",
       "    <tr>\n",
       "      <th>0</th>\n",
       "      <td>3-4</td>\n",
       "      <td>0.000000e+00</td>\n",
       "      <td>5.143610e-01</td>\n",
       "      <td>2.955623e-09</td>\n",
       "      <td>5.216414</td>\n",
       "      <td>0.269225</td>\n",
       "      <td>3</td>\n",
       "    </tr>\n",
       "    <tr>\n",
       "      <th>1</th>\n",
       "      <td>3-7</td>\n",
       "      <td>1.992068e-07</td>\n",
       "      <td>3.910663e+00</td>\n",
       "      <td>1.179624e-06</td>\n",
       "      <td>30.705659</td>\n",
       "      <td>1.383677</td>\n",
       "      <td>3</td>\n",
       "    </tr>\n",
       "    <tr>\n",
       "      <th>2</th>\n",
       "      <td>3-9</td>\n",
       "      <td>0.000000e+00</td>\n",
       "      <td>6.564801e-01</td>\n",
       "      <td>4.014125e-07</td>\n",
       "      <td>1.288755</td>\n",
       "      <td>0.054765</td>\n",
       "      <td>3</td>\n",
       "    </tr>\n",
       "    <tr>\n",
       "      <th>3</th>\n",
       "      <td>3-10</td>\n",
       "      <td>0.000000e+00</td>\n",
       "      <td>6.715375e-01</td>\n",
       "      <td>4.977698e-13</td>\n",
       "      <td>2.220289</td>\n",
       "      <td>0.108173</td>\n",
       "      <td>3</td>\n",
       "    </tr>\n",
       "    <tr>\n",
       "      <th>4</th>\n",
       "      <td>3-11</td>\n",
       "      <td>0.000000e+00</td>\n",
       "      <td>2.144113e-18</td>\n",
       "      <td>0.000000e+00</td>\n",
       "      <td>3.883684</td>\n",
       "      <td>0.116316</td>\n",
       "      <td>3</td>\n",
       "    </tr>\n",
       "  </tbody>\n",
       "</table>\n",
       "</div>"
      ],
      "text/plain": [
       "  ODpair             1             2             3          4         5  \\\n",
       "0    3-4  0.000000e+00  5.143610e-01  2.955623e-09   5.216414  0.269225   \n",
       "1    3-7  1.992068e-07  3.910663e+00  1.179624e-06  30.705659  1.383677   \n",
       "2    3-9  0.000000e+00  6.564801e-01  4.014125e-07   1.288755  0.054765   \n",
       "3   3-10  0.000000e+00  6.715375e-01  4.977698e-13   2.220289  0.108173   \n",
       "4   3-11  0.000000e+00  2.144113e-18  0.000000e+00   3.883684  0.116316   \n",
       "\n",
       "   origin  \n",
       "0       3  \n",
       "1       3  \n",
       "2       3  \n",
       "3       3  \n",
       "4       3  "
      ]
     },
     "execution_count": 12,
     "metadata": {},
     "output_type": "execute_result"
    }
   ],
   "source": [
    "results_scene_1.head()"
   ]
  },
  {
   "cell_type": "code",
   "execution_count": 13,
   "metadata": {},
   "outputs": [],
   "source": [
    "# Aggregating the number of people in each ODpair by the origin zone\n",
    "agg_scene_1 = results_scene_1.groupby('origin').sum()\n",
    "agg_scene_2 = results_scene_2.groupby('origin').sum()\n",
    "agg_scene_3 = results_scene_3.groupby('origin').sum()"
   ]
  },
  {
   "cell_type": "code",
   "execution_count": 14,
   "metadata": {},
   "outputs": [],
   "source": [
    "agg_scene_1.columns = agg_scene_1.columns.astype('int')\n",
    "agg_scene_2.columns = agg_scene_2.columns.astype('int')\n",
    "agg_scene_3.columns = agg_scene_3.columns.astype('int')"
   ]
  },
  {
   "cell_type": "code",
   "execution_count": 15,
   "metadata": {},
   "outputs": [
    {
     "data": {
      "text/html": [
       "<div>\n",
       "<style scoped>\n",
       "    .dataframe tbody tr th:only-of-type {\n",
       "        vertical-align: middle;\n",
       "    }\n",
       "\n",
       "    .dataframe tbody tr th {\n",
       "        vertical-align: top;\n",
       "    }\n",
       "\n",
       "    .dataframe thead th {\n",
       "        text-align: right;\n",
       "    }\n",
       "</style>\n",
       "<table border=\"1\" class=\"dataframe\">\n",
       "  <thead>\n",
       "    <tr style=\"text-align: right;\">\n",
       "      <th></th>\n",
       "      <th>1</th>\n",
       "      <th>2</th>\n",
       "      <th>3</th>\n",
       "      <th>4</th>\n",
       "      <th>5</th>\n",
       "    </tr>\n",
       "    <tr>\n",
       "      <th>origin</th>\n",
       "      <th></th>\n",
       "      <th></th>\n",
       "      <th></th>\n",
       "      <th></th>\n",
       "      <th></th>\n",
       "    </tr>\n",
       "  </thead>\n",
       "  <tbody>\n",
       "    <tr>\n",
       "      <th>3</th>\n",
       "      <td>685.603794</td>\n",
       "      <td>977.251252</td>\n",
       "      <td>75.745589</td>\n",
       "      <td>6180.570657</td>\n",
       "      <td>786.828708</td>\n",
       "    </tr>\n",
       "    <tr>\n",
       "      <th>4</th>\n",
       "      <td>3702.898406</td>\n",
       "      <td>143.502105</td>\n",
       "      <td>18.156156</td>\n",
       "      <td>4343.766378</td>\n",
       "      <td>2408.676955</td>\n",
       "    </tr>\n",
       "    <tr>\n",
       "      <th>5</th>\n",
       "      <td>20.785981</td>\n",
       "      <td>2194.477610</td>\n",
       "      <td>332.314740</td>\n",
       "      <td>5113.791586</td>\n",
       "      <td>566.630083</td>\n",
       "    </tr>\n",
       "    <tr>\n",
       "      <th>6</th>\n",
       "      <td>469.347879</td>\n",
       "      <td>833.123340</td>\n",
       "      <td>458.550032</td>\n",
       "      <td>3303.577898</td>\n",
       "      <td>204.400852</td>\n",
       "    </tr>\n",
       "    <tr>\n",
       "      <th>7</th>\n",
       "      <td>11600.290406</td>\n",
       "      <td>1758.881372</td>\n",
       "      <td>56.419983</td>\n",
       "      <td>21768.173576</td>\n",
       "      <td>1504.234664</td>\n",
       "    </tr>\n",
       "  </tbody>\n",
       "</table>\n",
       "</div>"
      ],
      "text/plain": [
       "                   1            2           3             4            5\n",
       "origin                                                                  \n",
       "3         685.603794   977.251252   75.745589   6180.570657   786.828708\n",
       "4        3702.898406   143.502105   18.156156   4343.766378  2408.676955\n",
       "5          20.785981  2194.477610  332.314740   5113.791586   566.630083\n",
       "6         469.347879   833.123340  458.550032   3303.577898   204.400852\n",
       "7       11600.290406  1758.881372   56.419983  21768.173576  1504.234664"
      ]
     },
     "execution_count": 15,
     "metadata": {},
     "output_type": "execute_result"
    }
   ],
   "source": [
    "agg_scene_1.head()"
   ]
  },
  {
   "cell_type": "code",
   "execution_count": 16,
   "metadata": {},
   "outputs": [],
   "source": [
    "pickup_list = wages.PUlocationID.unique()"
   ]
  },
  {
   "cell_type": "code",
   "execution_count": 17,
   "metadata": {},
   "outputs": [],
   "source": [
    "origin_time_and_money_avg = wages.groupby(['PUlocationID','mode'],as_index=False)['duration','price'].mean()"
   ]
  },
  {
   "cell_type": "code",
   "execution_count": 18,
   "metadata": {},
   "outputs": [
    {
     "data": {
      "text/html": [
       "<div>\n",
       "<style scoped>\n",
       "    .dataframe tbody tr th:only-of-type {\n",
       "        vertical-align: middle;\n",
       "    }\n",
       "\n",
       "    .dataframe tbody tr th {\n",
       "        vertical-align: top;\n",
       "    }\n",
       "\n",
       "    .dataframe thead th {\n",
       "        text-align: right;\n",
       "    }\n",
       "</style>\n",
       "<table border=\"1\" class=\"dataframe\">\n",
       "  <thead>\n",
       "    <tr style=\"text-align: right;\">\n",
       "      <th></th>\n",
       "      <th>PUlocationID</th>\n",
       "      <th>mode</th>\n",
       "      <th>duration</th>\n",
       "      <th>price</th>\n",
       "    </tr>\n",
       "  </thead>\n",
       "  <tbody>\n",
       "    <tr>\n",
       "      <th>0</th>\n",
       "      <td>3</td>\n",
       "      <td>1</td>\n",
       "      <td>38.302359</td>\n",
       "      <td>37.428045</td>\n",
       "    </tr>\n",
       "    <tr>\n",
       "      <th>1</th>\n",
       "      <td>3</td>\n",
       "      <td>2</td>\n",
       "      <td>37.718869</td>\n",
       "      <td>56.582192</td>\n",
       "    </tr>\n",
       "    <tr>\n",
       "      <th>2</th>\n",
       "      <td>3</td>\n",
       "      <td>3</td>\n",
       "      <td>41.066196</td>\n",
       "      <td>50.717949</td>\n",
       "    </tr>\n",
       "    <tr>\n",
       "      <th>3</th>\n",
       "      <td>3</td>\n",
       "      <td>4</td>\n",
       "      <td>81.756356</td>\n",
       "      <td>5.948623</td>\n",
       "    </tr>\n",
       "    <tr>\n",
       "      <th>4</th>\n",
       "      <td>3</td>\n",
       "      <td>5</td>\n",
       "      <td>268.553355</td>\n",
       "      <td>0.000000</td>\n",
       "    </tr>\n",
       "  </tbody>\n",
       "</table>\n",
       "</div>"
      ],
      "text/plain": [
       "   PUlocationID  mode    duration      price\n",
       "0             3     1   38.302359  37.428045\n",
       "1             3     2   37.718869  56.582192\n",
       "2             3     3   41.066196  50.717949\n",
       "3             3     4   81.756356   5.948623\n",
       "4             3     5  268.553355   0.000000"
      ]
     },
     "execution_count": 18,
     "metadata": {},
     "output_type": "execute_result"
    }
   ],
   "source": [
    "origin_time_and_money_avg.head()"
   ]
  },
  {
   "cell_type": "code",
   "execution_count": 25,
   "metadata": {},
   "outputs": [
    {
     "data": {
      "text/plain": [
       "(256, 5)"
      ]
     },
     "execution_count": 25,
     "metadata": {},
     "output_type": "execute_result"
    }
   ],
   "source": [
    "agg_scene_1.shape"
   ]
  },
  {
   "cell_type": "code",
   "execution_count": 26,
   "metadata": {},
   "outputs": [
    {
     "data": {
      "text/plain": [
       "256"
      ]
     },
     "execution_count": 26,
     "metadata": {},
     "output_type": "execute_result"
    }
   ],
   "source": [
    "len(pickup_list)"
   ]
  },
  {
   "cell_type": "markdown",
   "metadata": {},
   "source": [
    "## Status quo Commute Statistics"
   ]
  },
  {
   "cell_type": "code",
   "execution_count": 19,
   "metadata": {},
   "outputs": [],
   "source": [
    "pivoted_time = origin_time_and_money_avg.reset_index().pivot(index='PUlocationID',columns='mode',values='duration')"
   ]
  },
  {
   "cell_type": "code",
   "execution_count": 20,
   "metadata": {},
   "outputs": [],
   "source": [
    "commute_time = pivoted_time.multiply(agg_scene_1).sum().sum()"
   ]
  },
  {
   "cell_type": "code",
   "execution_count": 21,
   "metadata": {},
   "outputs": [
    {
     "data": {
      "text/plain": [
       "78.74569460772672"
      ]
     },
     "execution_count": 21,
     "metadata": {},
     "output_type": "execute_result"
    }
   ],
   "source": [
    "avg_commute_time = commute_time/agg_scene_1.sum().sum()\n",
    "avg_commute_time"
   ]
  },
  {
   "cell_type": "code",
   "execution_count": 22,
   "metadata": {},
   "outputs": [],
   "source": [
    "pivoted_money = origin_time_and_money_avg.reset_index().pivot(index='PUlocationID',columns='mode',values='price')"
   ]
  },
  {
   "cell_type": "code",
   "execution_count": 23,
   "metadata": {},
   "outputs": [],
   "source": [
    "commute_cost = pivoted_money.multiply(agg_scene_1).sum().sum()"
   ]
  },
  {
   "cell_type": "code",
   "execution_count": 24,
   "metadata": {},
   "outputs": [
    {
     "data": {
      "text/plain": [
       "13.736955111569769"
      ]
     },
     "execution_count": 24,
     "metadata": {},
     "output_type": "execute_result"
    }
   ],
   "source": [
    "avg_commute_cost = commute_cost/agg_scene_1.sum().sum()\n",
    "avg_commute_cost"
   ]
  },
  {
   "cell_type": "markdown",
   "metadata": {},
   "source": [
    "## Subway ridership"
   ]
  },
  {
   "cell_type": "code",
   "execution_count": 47,
   "metadata": {},
   "outputs": [
    {
     "data": {
      "text/plain": [
       "1919490.4661805523"
      ]
     },
     "execution_count": 47,
     "metadata": {},
     "output_type": "execute_result"
    }
   ],
   "source": [
    "agg_scene_1.sum()[4]"
   ]
  },
  {
   "cell_type": "code",
   "execution_count": 48,
   "metadata": {},
   "outputs": [
    {
     "data": {
      "text/plain": [
       "1963122.658801557"
      ]
     },
     "execution_count": 48,
     "metadata": {},
     "output_type": "execute_result"
    }
   ],
   "source": [
    "agg_scene_2.sum()[4]"
   ]
  },
  {
   "cell_type": "code",
   "execution_count": 49,
   "metadata": {},
   "outputs": [
    {
     "data": {
      "text/plain": [
       "2036112.2199620812"
      ]
     },
     "execution_count": 49,
     "metadata": {},
     "output_type": "execute_result"
    }
   ],
   "source": [
    "agg_scene_3.sum()[4]"
   ]
  },
  {
   "cell_type": "markdown",
   "metadata": {},
   "source": [
    "### Scenario 1 VS 2"
   ]
  },
  {
   "cell_type": "code",
   "execution_count": 41,
   "metadata": {},
   "outputs": [
    {
     "name": "stderr",
     "output_type": "stream",
     "text": [
      "100%|██████████| 256/256 [00:01<00:00, 221.17it/s]\n"
     ]
    }
   ],
   "source": [
    "time_diff = 0\n",
    "money_diff = 0\n",
    "for zone in tqdm(pickup_list,position=0):\n",
    "    for col in agg_scene_1.columns:\n",
    "        diff = (agg_scene_2.loc[zone,col]-agg_scene_1.loc[zone,col])\n",
    "        time_and_money = (origin_time_and_money_avg.loc[(origin_time_and_money_avg['PUlocationID']==zone)\\\n",
    "                                                       & (origin_time_and_money_avg['mode']==col)])\n",
    "        time_diff+= diff * (0 if time_and_money.empty else time_and_money['duration'].values[0])\n",
    "        money_diff+= diff * (0 if time_and_money.empty else time_and_money['price'].values[0])"
   ]
  },
  {
   "cell_type": "code",
   "execution_count": 42,
   "metadata": {},
   "outputs": [
    {
     "data": {
      "text/plain": [
       "1667692.829832572"
      ]
     },
     "execution_count": 42,
     "metadata": {},
     "output_type": "execute_result"
    }
   ],
   "source": [
    "time_diff"
   ]
  },
  {
   "cell_type": "code",
   "execution_count": 43,
   "metadata": {},
   "outputs": [
    {
     "data": {
      "text/plain": [
       "-1286908.224275543"
      ]
     },
     "execution_count": 43,
     "metadata": {},
     "output_type": "execute_result"
    }
   ],
   "source": [
    "money_diff"
   ]
  },
  {
   "cell_type": "code",
   "execution_count": 44,
   "metadata": {},
   "outputs": [],
   "source": [
    "population = agg_scene_1.sum().sum()"
   ]
  },
  {
   "cell_type": "code",
   "execution_count": 45,
   "metadata": {},
   "outputs": [
    {
     "data": {
      "text/plain": [
       "0.5787885396030046"
      ]
     },
     "execution_count": 45,
     "metadata": {},
     "output_type": "execute_result"
    }
   ],
   "source": [
    "time_diff/population"
   ]
  },
  {
   "cell_type": "code",
   "execution_count": 46,
   "metadata": {},
   "outputs": [
    {
     "data": {
      "text/plain": [
       "-0.446633647640205"
      ]
     },
     "execution_count": 46,
     "metadata": {},
     "output_type": "execute_result"
    }
   ],
   "source": [
    "money_diff/population"
   ]
  },
  {
   "cell_type": "markdown",
   "metadata": {},
   "source": [
    "### Scenario 1 VS 3"
   ]
  },
  {
   "cell_type": "code",
   "execution_count": 50,
   "metadata": {},
   "outputs": [
    {
     "name": "stderr",
     "output_type": "stream",
     "text": [
      "100%|██████████| 256/256 [00:01<00:00, 226.10it/s]\n"
     ]
    }
   ],
   "source": [
    "time_diff = 0\n",
    "money_diff = 0\n",
    "for zone in tqdm(pickup_list,position=0):\n",
    "    for col in agg_scene_1.columns:\n",
    "        diff = (agg_scene_3.loc[zone,col]-agg_scene_1.loc[zone,col])\n",
    "        time_and_money = (origin_time_and_money_avg.loc[(origin_time_and_money_avg['PUlocationID']==zone)\\\n",
    "                                                       & (origin_time_and_money_avg['mode']==int(col))])\n",
    "        time_diff+= diff * (0 if time_and_money.empty else time_and_money['duration'].values[0])\n",
    "        money_diff+= diff * (0 if time_and_money.empty else time_and_money['price'].values[0])"
   ]
  },
  {
   "cell_type": "code",
   "execution_count": 51,
   "metadata": {},
   "outputs": [
    {
     "data": {
      "text/plain": [
       "4214488.158604856"
      ]
     },
     "execution_count": 51,
     "metadata": {},
     "output_type": "execute_result"
    }
   ],
   "source": [
    "time_diff"
   ]
  },
  {
   "cell_type": "code",
   "execution_count": 52,
   "metadata": {},
   "outputs": [
    {
     "data": {
      "text/plain": [
       "-3453331.6291632275"
      ]
     },
     "execution_count": 52,
     "metadata": {},
     "output_type": "execute_result"
    }
   ],
   "source": [
    "money_diff"
   ]
  },
  {
   "cell_type": "code",
   "execution_count": 53,
   "metadata": {},
   "outputs": [],
   "source": [
    "population = agg_scene_2.sum().sum()"
   ]
  },
  {
   "cell_type": "code",
   "execution_count": 54,
   "metadata": {},
   "outputs": [
    {
     "data": {
      "text/plain": [
       "1.4626779001849843"
      ]
     },
     "execution_count": 54,
     "metadata": {},
     "output_type": "execute_result"
    }
   ],
   "source": [
    "time_diff/population"
   ]
  },
  {
   "cell_type": "code",
   "execution_count": 55,
   "metadata": {},
   "outputs": [
    {
     "data": {
      "text/plain": [
       "-1.1985113413295143"
      ]
     },
     "execution_count": 55,
     "metadata": {},
     "output_type": "execute_result"
    }
   ],
   "source": [
    "money_diff/population"
   ]
  },
  {
   "cell_type": "markdown",
   "metadata": {},
   "source": [
    "### Scenario 2 VS 3"
   ]
  },
  {
   "cell_type": "code",
   "execution_count": 56,
   "metadata": {},
   "outputs": [
    {
     "name": "stderr",
     "output_type": "stream",
     "text": [
      "100%|██████████| 256/256 [00:01<00:00, 219.80it/s]\n"
     ]
    }
   ],
   "source": [
    "time_diff = 0\n",
    "money_diff = 0\n",
    "for zone in tqdm(pickup_list,position=0):\n",
    "    for col in agg_scene_2.columns:\n",
    "        diff = (agg_scene_3.loc[zone,col]-agg_scene_2.loc[zone,col])\n",
    "        time_and_money = (origin_time_and_money_avg.loc[(origin_time_and_money_avg['PUlocationID']==zone)\\\n",
    "                                                       & (origin_time_and_money_avg['mode']==int(col))])\n",
    "        time_diff+= diff * (0 if time_and_money.empty else time_and_money['duration'].values[0])\n",
    "        money_diff+= diff * (0 if time_and_money.empty else time_and_money['price'].values[0])"
   ]
  },
  {
   "cell_type": "code",
   "execution_count": 57,
   "metadata": {},
   "outputs": [
    {
     "data": {
      "text/plain": [
       "2546795.3287722874"
      ]
     },
     "execution_count": 57,
     "metadata": {},
     "output_type": "execute_result"
    }
   ],
   "source": [
    "time_diff"
   ]
  },
  {
   "cell_type": "code",
   "execution_count": 58,
   "metadata": {},
   "outputs": [
    {
     "data": {
      "text/plain": [
       "-2166423.404887686"
      ]
     },
     "execution_count": 58,
     "metadata": {},
     "output_type": "execute_result"
    }
   ],
   "source": [
    "money_diff"
   ]
  },
  {
   "cell_type": "code",
   "execution_count": 59,
   "metadata": {},
   "outputs": [],
   "source": [
    "population = agg_scene_2.sum().sum()"
   ]
  },
  {
   "cell_type": "code",
   "execution_count": 60,
   "metadata": {},
   "outputs": [
    {
     "data": {
      "text/plain": [
       "0.883889360581981"
      ]
     },
     "execution_count": 60,
     "metadata": {},
     "output_type": "execute_result"
    }
   ],
   "source": [
    "time_diff/population"
   ]
  },
  {
   "cell_type": "code",
   "execution_count": 367,
   "metadata": {},
   "outputs": [
    {
     "data": {
      "text/plain": [
       "-0.7518776936893098"
      ]
     },
     "execution_count": 367,
     "metadata": {},
     "output_type": "execute_result"
    }
   ],
   "source": [
    "money_diff/population"
   ]
  },
  {
   "cell_type": "markdown",
   "metadata": {},
   "source": [
    "#### Use below code only if you want exact values for the difference in time/money for commuters as it takes a very long time to run (>3 hours). It can also be used to get the difference for each taxi zone (after some minor changes)."
   ]
  },
  {
   "cell_type": "code",
   "execution_count": 148,
   "metadata": {},
   "outputs": [],
   "source": [
    "# time_total = 0\n",
    "# money_total = 0\n",
    "# for pair in tqdm(ODpair_list,position=0):\n",
    "#     time_pair = 0\n",
    "#     money_pair = 0\n",
    "#     for col in results_scene_1.columns:\n",
    "#         time_pair+=(results_scene_1.loc[results_scene_1.index==pair,col]-results_scene_2.loc[results_scene_2.index==pair,col])\\\n",
    "#         *wages.loc[(wages['ODpair']==pair) & wages['mode']==int(col),'duration']\n",
    "#         money_pair+=(results_scene_1.loc[results_scene_1.index==pair,col]-results_scene_2.loc[results_scene_2.index==pair,col])\\\n",
    "#         *wages.loc[(wages['ODpair']==pair) & wages['mode']==int(col),'price']\n",
    "#     time_total+=time_pair\n",
    "#     money_total+=money_pair"
   ]
  }
 ],
 "metadata": {
  "kernelspec": {
   "display_name": "Python 3",
   "language": "python",
   "name": "python3"
  },
  "language_info": {
   "codemirror_mode": {
    "name": "ipython",
    "version": 3
   },
   "file_extension": ".py",
   "mimetype": "text/x-python",
   "name": "python",
   "nbconvert_exporter": "python",
   "pygments_lexer": "ipython3",
   "version": "3.7.1"
  }
 },
 "nbformat": 4,
 "nbformat_minor": 2
}
