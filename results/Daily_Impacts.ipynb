{
 "cells": [
  {
   "cell_type": "markdown",
   "metadata": {},
   "source": [
    "## Daily Impacts"
   ]
  },
  {
   "cell_type": "code",
   "execution_count": 256,
   "metadata": {},
   "outputs": [],
   "source": [
    "import numpy as np\n",
    "import pandas as pd\n",
    "import warnings\n",
    "warnings.filterwarnings(\"ignore\")\n",
    "import time\n",
    "import timeit\n",
    "from tqdm import tqdm\n",
    "from sklearn.model_selection import GridSearchCV\n",
    "import re"
   ]
  },
  {
   "cell_type": "code",
   "execution_count": 257,
   "metadata": {},
   "outputs": [
    {
     "data": {
      "text/html": [
       "<div>\n",
       "<style scoped>\n",
       "    .dataframe tbody tr th:only-of-type {\n",
       "        vertical-align: middle;\n",
       "    }\n",
       "\n",
       "    .dataframe tbody tr th {\n",
       "        vertical-align: top;\n",
       "    }\n",
       "\n",
       "    .dataframe thead th {\n",
       "        text-align: right;\n",
       "    }\n",
       "</style>\n",
       "<table border=\"1\" class=\"dataframe\">\n",
       "  <thead>\n",
       "    <tr style=\"text-align: right;\">\n",
       "      <th></th>\n",
       "      <th>P(mode1)</th>\n",
       "      <th>P(mode2)</th>\n",
       "      <th>P(mode3)</th>\n",
       "      <th>P(mode4)</th>\n",
       "      <th>P(mode5)</th>\n",
       "      <th>P(mode6)</th>\n",
       "    </tr>\n",
       "  </thead>\n",
       "  <tbody>\n",
       "    <tr>\n",
       "      <th>10-100</th>\n",
       "      <td>0.000000e+00</td>\n",
       "      <td>0.000000e+00</td>\n",
       "      <td>0.000000e+00</td>\n",
       "      <td>158.828172</td>\n",
       "      <td>6.649449</td>\n",
       "      <td>2.759008e-08</td>\n",
       "    </tr>\n",
       "    <tr>\n",
       "      <th>10-101</th>\n",
       "      <td>0.000000e+00</td>\n",
       "      <td>7.740615e-28</td>\n",
       "      <td>2.098397e-15</td>\n",
       "      <td>2.354082</td>\n",
       "      <td>25.406733</td>\n",
       "      <td>4.918105e+01</td>\n",
       "    </tr>\n",
       "    <tr>\n",
       "      <th>10-102</th>\n",
       "      <td>1.454861e-09</td>\n",
       "      <td>7.388491e-65</td>\n",
       "      <td>1.800968e-56</td>\n",
       "      <td>0.051022</td>\n",
       "      <td>7.632700</td>\n",
       "      <td>2.990798e+01</td>\n",
       "    </tr>\n",
       "    <tr>\n",
       "      <th>10-106</th>\n",
       "      <td>0.000000e+00</td>\n",
       "      <td>0.000000e+00</td>\n",
       "      <td>0.000000e+00</td>\n",
       "      <td>6.353696</td>\n",
       "      <td>2.722766</td>\n",
       "      <td>1.432569e+01</td>\n",
       "    </tr>\n",
       "    <tr>\n",
       "      <th>10-107</th>\n",
       "      <td>0.000000e+00</td>\n",
       "      <td>0.000000e+00</td>\n",
       "      <td>0.000000e+00</td>\n",
       "      <td>47.264959</td>\n",
       "      <td>1.615579</td>\n",
       "      <td>4.696987e+00</td>\n",
       "    </tr>\n",
       "  </tbody>\n",
       "</table>\n",
       "</div>"
      ],
      "text/plain": [
       "            P(mode1)      P(mode2)      P(mode3)    P(mode4)   P(mode5)  \\\n",
       "10-100  0.000000e+00  0.000000e+00  0.000000e+00  158.828172   6.649449   \n",
       "10-101  0.000000e+00  7.740615e-28  2.098397e-15    2.354082  25.406733   \n",
       "10-102  1.454861e-09  7.388491e-65  1.800968e-56    0.051022   7.632700   \n",
       "10-106  0.000000e+00  0.000000e+00  0.000000e+00    6.353696   2.722766   \n",
       "10-107  0.000000e+00  0.000000e+00  0.000000e+00   47.264959   1.615579   \n",
       "\n",
       "            P(mode6)  \n",
       "10-100  2.759008e-08  \n",
       "10-101  4.918105e+01  \n",
       "10-102  2.990798e+01  \n",
       "10-106  1.432569e+01  \n",
       "10-107  4.696987e+00  "
      ]
     },
     "execution_count": 257,
     "metadata": {},
     "output_type": "execute_result"
    }
   ],
   "source": [
    "results_scene_1 = pd.read_csv('Final_results/Uncertainty/Scaled_results_scenario1_mean.csv',index_col=0)#,usecols=range(6))\n",
    "results_scene_1.head()"
   ]
  },
  {
   "cell_type": "code",
   "execution_count": 258,
   "metadata": {},
   "outputs": [
    {
     "data": {
      "text/html": [
       "<div>\n",
       "<style scoped>\n",
       "    .dataframe tbody tr th:only-of-type {\n",
       "        vertical-align: middle;\n",
       "    }\n",
       "\n",
       "    .dataframe tbody tr th {\n",
       "        vertical-align: top;\n",
       "    }\n",
       "\n",
       "    .dataframe thead th {\n",
       "        text-align: right;\n",
       "    }\n",
       "</style>\n",
       "<table border=\"1\" class=\"dataframe\">\n",
       "  <thead>\n",
       "    <tr style=\"text-align: right;\">\n",
       "      <th></th>\n",
       "      <th>P(mode1)</th>\n",
       "      <th>P(mode2)</th>\n",
       "      <th>P(mode3)</th>\n",
       "      <th>P(mode4)</th>\n",
       "      <th>P(mode5)</th>\n",
       "      <th>P(mode6)</th>\n",
       "    </tr>\n",
       "  </thead>\n",
       "  <tbody>\n",
       "    <tr>\n",
       "      <th>10-100</th>\n",
       "      <td>0.000000e+00</td>\n",
       "      <td>0.000000e+00</td>\n",
       "      <td>0.000000e+00</td>\n",
       "      <td>158.828215</td>\n",
       "      <td>6.649401</td>\n",
       "      <td>2.760007e-08</td>\n",
       "    </tr>\n",
       "    <tr>\n",
       "      <th>10-101</th>\n",
       "      <td>0.000000e+00</td>\n",
       "      <td>7.760745e-28</td>\n",
       "      <td>2.103854e-15</td>\n",
       "      <td>2.354165</td>\n",
       "      <td>25.406658</td>\n",
       "      <td>4.918104e+01</td>\n",
       "    </tr>\n",
       "    <tr>\n",
       "      <th>10-102</th>\n",
       "      <td>1.456814e-09</td>\n",
       "      <td>7.407705e-65</td>\n",
       "      <td>1.805652e-56</td>\n",
       "      <td>0.051028</td>\n",
       "      <td>7.632722</td>\n",
       "      <td>2.990797e+01</td>\n",
       "    </tr>\n",
       "    <tr>\n",
       "      <th>10-106</th>\n",
       "      <td>0.000000e+00</td>\n",
       "      <td>0.000000e+00</td>\n",
       "      <td>0.000000e+00</td>\n",
       "      <td>6.353690</td>\n",
       "      <td>2.722769</td>\n",
       "      <td>1.432569e+01</td>\n",
       "    </tr>\n",
       "    <tr>\n",
       "      <th>10-107</th>\n",
       "      <td>0.000000e+00</td>\n",
       "      <td>0.000000e+00</td>\n",
       "      <td>0.000000e+00</td>\n",
       "      <td>47.264937</td>\n",
       "      <td>1.615578</td>\n",
       "      <td>4.697000e+00</td>\n",
       "    </tr>\n",
       "  </tbody>\n",
       "</table>\n",
       "</div>"
      ],
      "text/plain": [
       "            P(mode1)      P(mode2)      P(mode3)    P(mode4)   P(mode5)  \\\n",
       "10-100  0.000000e+00  0.000000e+00  0.000000e+00  158.828215   6.649401   \n",
       "10-101  0.000000e+00  7.760745e-28  2.103854e-15    2.354165  25.406658   \n",
       "10-102  1.456814e-09  7.407705e-65  1.805652e-56    0.051028   7.632722   \n",
       "10-106  0.000000e+00  0.000000e+00  0.000000e+00    6.353690   2.722769   \n",
       "10-107  0.000000e+00  0.000000e+00  0.000000e+00   47.264937   1.615578   \n",
       "\n",
       "            P(mode6)  \n",
       "10-100  2.760007e-08  \n",
       "10-101  4.918104e+01  \n",
       "10-102  2.990797e+01  \n",
       "10-106  1.432569e+01  \n",
       "10-107  4.697000e+00  "
      ]
     },
     "execution_count": 258,
     "metadata": {},
     "output_type": "execute_result"
    }
   ],
   "source": [
    "results_scene_2 = pd.read_csv('Final_results/Uncertainty/Scaled_results_scenario2_mean.csv',index_col=0)\n",
    "results_scene_2.head()"
   ]
  },
  {
   "cell_type": "code",
   "execution_count": 259,
   "metadata": {},
   "outputs": [
    {
     "data": {
      "text/html": [
       "<div>\n",
       "<style scoped>\n",
       "    .dataframe tbody tr th:only-of-type {\n",
       "        vertical-align: middle;\n",
       "    }\n",
       "\n",
       "    .dataframe tbody tr th {\n",
       "        vertical-align: top;\n",
       "    }\n",
       "\n",
       "    .dataframe thead th {\n",
       "        text-align: right;\n",
       "    }\n",
       "</style>\n",
       "<table border=\"1\" class=\"dataframe\">\n",
       "  <thead>\n",
       "    <tr style=\"text-align: right;\">\n",
       "      <th></th>\n",
       "      <th>P(mode1)</th>\n",
       "      <th>P(mode2)</th>\n",
       "      <th>P(mode3)</th>\n",
       "      <th>P(mode4)</th>\n",
       "      <th>P(mode5)</th>\n",
       "      <th>P(mode6)</th>\n",
       "    </tr>\n",
       "  </thead>\n",
       "  <tbody>\n",
       "    <tr>\n",
       "      <th>10-100</th>\n",
       "      <td>0.000000e+00</td>\n",
       "      <td>0.000000e+00</td>\n",
       "      <td>0.000000e+00</td>\n",
       "      <td>158.828203</td>\n",
       "      <td>6.649414</td>\n",
       "      <td>1.601495e-14</td>\n",
       "    </tr>\n",
       "    <tr>\n",
       "      <th>10-101</th>\n",
       "      <td>0.000000e+00</td>\n",
       "      <td>7.770634e-28</td>\n",
       "      <td>2.106535e-15</td>\n",
       "      <td>2.354142</td>\n",
       "      <td>25.406678</td>\n",
       "      <td>4.918104e+01</td>\n",
       "    </tr>\n",
       "    <tr>\n",
       "      <th>10-102</th>\n",
       "      <td>1.457172e-09</td>\n",
       "      <td>7.417145e-65</td>\n",
       "      <td>1.807953e-56</td>\n",
       "      <td>0.051026</td>\n",
       "      <td>7.632716</td>\n",
       "      <td>2.990797e+01</td>\n",
       "    </tr>\n",
       "    <tr>\n",
       "      <th>10-106</th>\n",
       "      <td>0.000000e+00</td>\n",
       "      <td>0.000000e+00</td>\n",
       "      <td>0.000000e+00</td>\n",
       "      <td>6.353692</td>\n",
       "      <td>2.722768</td>\n",
       "      <td>1.432569e+01</td>\n",
       "    </tr>\n",
       "    <tr>\n",
       "      <th>10-107</th>\n",
       "      <td>0.000000e+00</td>\n",
       "      <td>0.000000e+00</td>\n",
       "      <td>0.000000e+00</td>\n",
       "      <td>49.869840</td>\n",
       "      <td>1.615579</td>\n",
       "      <td>3.211887e+00</td>\n",
       "    </tr>\n",
       "  </tbody>\n",
       "</table>\n",
       "</div>"
      ],
      "text/plain": [
       "            P(mode1)      P(mode2)      P(mode3)    P(mode4)   P(mode5)  \\\n",
       "10-100  0.000000e+00  0.000000e+00  0.000000e+00  158.828203   6.649414   \n",
       "10-101  0.000000e+00  7.770634e-28  2.106535e-15    2.354142  25.406678   \n",
       "10-102  1.457172e-09  7.417145e-65  1.807953e-56    0.051026   7.632716   \n",
       "10-106  0.000000e+00  0.000000e+00  0.000000e+00    6.353692   2.722768   \n",
       "10-107  0.000000e+00  0.000000e+00  0.000000e+00   49.869840   1.615579   \n",
       "\n",
       "            P(mode6)  \n",
       "10-100  1.601495e-14  \n",
       "10-101  4.918104e+01  \n",
       "10-102  2.990797e+01  \n",
       "10-106  1.432569e+01  \n",
       "10-107  3.211887e+00  "
      ]
     },
     "execution_count": 259,
     "metadata": {},
     "output_type": "execute_result"
    }
   ],
   "source": [
    "results_scene_3 = pd.read_csv('Final_results/Uncertainty/Scaled_results_scenario3_mean.csv',index_col=0)#,usecols=range(6))\n",
    "results_scene_3.head()"
   ]
  },
  {
   "cell_type": "code",
   "execution_count": 260,
   "metadata": {},
   "outputs": [
    {
     "data": {
      "text/html": [
       "<div>\n",
       "<style scoped>\n",
       "    .dataframe tbody tr th:only-of-type {\n",
       "        vertical-align: middle;\n",
       "    }\n",
       "\n",
       "    .dataframe tbody tr th {\n",
       "        vertical-align: top;\n",
       "    }\n",
       "\n",
       "    .dataframe thead th {\n",
       "        text-align: right;\n",
       "    }\n",
       "</style>\n",
       "<table border=\"1\" class=\"dataframe\">\n",
       "  <thead>\n",
       "    <tr style=\"text-align: right;\">\n",
       "      <th></th>\n",
       "      <th>Unnamed: 0</th>\n",
       "      <th>DOlocationID</th>\n",
       "      <th>ODpair</th>\n",
       "      <th>PUlocationID</th>\n",
       "      <th>duration</th>\n",
       "      <th>mode</th>\n",
       "      <th>nest</th>\n",
       "      <th>price</th>\n",
       "      <th>2500</th>\n",
       "      <th>7500</th>\n",
       "      <th>12500</th>\n",
       "      <th>17500</th>\n",
       "      <th>22500</th>\n",
       "      <th>30000</th>\n",
       "      <th>42500</th>\n",
       "      <th>62500</th>\n",
       "      <th>87500</th>\n",
       "      <th>125000</th>\n",
       "      <th>225000</th>\n",
       "    </tr>\n",
       "  </thead>\n",
       "  <tbody>\n",
       "    <tr>\n",
       "      <th>0</th>\n",
       "      <td>0</td>\n",
       "      <td>4</td>\n",
       "      <td>3-4</td>\n",
       "      <td>3</td>\n",
       "      <td>39.695000</td>\n",
       "      <td>2</td>\n",
       "      <td>1</td>\n",
       "      <td>64.000</td>\n",
       "      <td>0.250819</td>\n",
       "      <td>0.360216</td>\n",
       "      <td>0.648452</td>\n",
       "      <td>0.282211</td>\n",
       "      <td>0.414755</td>\n",
       "      <td>0.592009</td>\n",
       "      <td>0.671282</td>\n",
       "      <td>0.93859</td>\n",
       "      <td>0.586936</td>\n",
       "      <td>0.740725</td>\n",
       "      <td>0.514005</td>\n",
       "    </tr>\n",
       "    <tr>\n",
       "      <th>1</th>\n",
       "      <td>1</td>\n",
       "      <td>4</td>\n",
       "      <td>3-4</td>\n",
       "      <td>3</td>\n",
       "      <td>45.216667</td>\n",
       "      <td>3</td>\n",
       "      <td>1</td>\n",
       "      <td>61.500</td>\n",
       "      <td>0.250819</td>\n",
       "      <td>0.360216</td>\n",
       "      <td>0.648452</td>\n",
       "      <td>0.282211</td>\n",
       "      <td>0.414755</td>\n",
       "      <td>0.592009</td>\n",
       "      <td>0.671282</td>\n",
       "      <td>0.93859</td>\n",
       "      <td>0.586936</td>\n",
       "      <td>0.740725</td>\n",
       "      <td>0.514005</td>\n",
       "    </tr>\n",
       "    <tr>\n",
       "      <th>2</th>\n",
       "      <td>2</td>\n",
       "      <td>4</td>\n",
       "      <td>3-4</td>\n",
       "      <td>3</td>\n",
       "      <td>83.000000</td>\n",
       "      <td>4</td>\n",
       "      <td>2</td>\n",
       "      <td>5.500</td>\n",
       "      <td>0.250819</td>\n",
       "      <td>0.360216</td>\n",
       "      <td>0.648452</td>\n",
       "      <td>0.282211</td>\n",
       "      <td>0.414755</td>\n",
       "      <td>0.592009</td>\n",
       "      <td>0.671282</td>\n",
       "      <td>0.93859</td>\n",
       "      <td>0.586936</td>\n",
       "      <td>0.740725</td>\n",
       "      <td>0.514005</td>\n",
       "    </tr>\n",
       "    <tr>\n",
       "      <th>3</th>\n",
       "      <td>3</td>\n",
       "      <td>4</td>\n",
       "      <td>3-4</td>\n",
       "      <td>3</td>\n",
       "      <td>225.933333</td>\n",
       "      <td>5</td>\n",
       "      <td>3</td>\n",
       "      <td>0.000</td>\n",
       "      <td>0.250819</td>\n",
       "      <td>0.360216</td>\n",
       "      <td>0.648452</td>\n",
       "      <td>0.282211</td>\n",
       "      <td>0.414755</td>\n",
       "      <td>0.592009</td>\n",
       "      <td>0.671282</td>\n",
       "      <td>0.93859</td>\n",
       "      <td>0.586936</td>\n",
       "      <td>0.740725</td>\n",
       "      <td>0.514005</td>\n",
       "    </tr>\n",
       "    <tr>\n",
       "      <th>4</th>\n",
       "      <td>4</td>\n",
       "      <td>4</td>\n",
       "      <td>3-4</td>\n",
       "      <td>3</td>\n",
       "      <td>39.695000</td>\n",
       "      <td>6</td>\n",
       "      <td>4</td>\n",
       "      <td>29.424</td>\n",
       "      <td>0.250819</td>\n",
       "      <td>0.360216</td>\n",
       "      <td>0.648452</td>\n",
       "      <td>0.282211</td>\n",
       "      <td>0.414755</td>\n",
       "      <td>0.592009</td>\n",
       "      <td>0.671282</td>\n",
       "      <td>0.93859</td>\n",
       "      <td>0.586936</td>\n",
       "      <td>0.740725</td>\n",
       "      <td>0.514005</td>\n",
       "    </tr>\n",
       "  </tbody>\n",
       "</table>\n",
       "</div>"
      ],
      "text/plain": [
       "   Unnamed: 0  DOlocationID ODpair  PUlocationID    duration  mode  nest  \\\n",
       "0           0             4    3-4             3   39.695000     2     1   \n",
       "1           1             4    3-4             3   45.216667     3     1   \n",
       "2           2             4    3-4             3   83.000000     4     2   \n",
       "3           3             4    3-4             3  225.933333     5     3   \n",
       "4           4             4    3-4             3   39.695000     6     4   \n",
       "\n",
       "    price      2500      7500     12500     17500     22500     30000  \\\n",
       "0  64.000  0.250819  0.360216  0.648452  0.282211  0.414755  0.592009   \n",
       "1  61.500  0.250819  0.360216  0.648452  0.282211  0.414755  0.592009   \n",
       "2   5.500  0.250819  0.360216  0.648452  0.282211  0.414755  0.592009   \n",
       "3   0.000  0.250819  0.360216  0.648452  0.282211  0.414755  0.592009   \n",
       "4  29.424  0.250819  0.360216  0.648452  0.282211  0.414755  0.592009   \n",
       "\n",
       "      42500    62500     87500    125000    225000  \n",
       "0  0.671282  0.93859  0.586936  0.740725  0.514005  \n",
       "1  0.671282  0.93859  0.586936  0.740725  0.514005  \n",
       "2  0.671282  0.93859  0.586936  0.740725  0.514005  \n",
       "3  0.671282  0.93859  0.586936  0.740725  0.514005  \n",
       "4  0.671282  0.93859  0.586936  0.740725  0.514005  "
      ]
     },
     "execution_count": 260,
     "metadata": {},
     "output_type": "execute_result"
    }
   ],
   "source": [
    "wages = pd.read_csv('../modeling/final_allMode_with_2017wage_cleaned_update.csv')\n",
    "wages.head(5)"
   ]
  },
  {
   "cell_type": "code",
   "execution_count": 261,
   "metadata": {},
   "outputs": [],
   "source": [
    "# agg_scene_1 = results_scene_1.drop('destination',axis=1).groupby('origin').sum()\n",
    "# agg_scene_1.head()\n",
    "# agg_scene_1.columns = [name + '_predicted' for name in agg_scene_1.columns]\n",
    "# acs = pd.read_csv('final_acs_transportation_choice.csv',index_col=0)\n",
    "# acs.head()\n",
    "# acs.columns = [name + '_actual' for name in acs.columns]\n",
    "# scene_1_combined = agg_scene_1.merge(acs,how='left',left_index=True,right_index=True)\n",
    "# scene_1_combined.head()"
   ]
  },
  {
   "cell_type": "code",
   "execution_count": 262,
   "metadata": {},
   "outputs": [],
   "source": [
    "# Renaming for convenience in calculation\n",
    "results_scene_1.columns = [re.sub(r'[^\\d.]+','',col) for col in results_scene_1.columns]\n",
    "results_scene_2.columns = [re.sub(r'[^\\d.]+','',col) for col in results_scene_2.columns]\n",
    "results_scene_3.columns = [re.sub(r'[^\\d.]+','',col) for col in results_scene_3.columns]"
   ]
  },
  {
   "cell_type": "code",
   "execution_count": 263,
   "metadata": {},
   "outputs": [],
   "source": [
    "results_scene_1.reset_index(inplace=True)\n",
    "results_scene_2.reset_index(inplace=True)\n",
    "results_scene_3.reset_index(inplace=True)\n",
    "results_scene_1.rename_axis({'index':'ODpair'},axis=1,inplace=True)\n",
    "results_scene_2.rename_axis({'index':'ODpair'},axis=1,inplace=True)\n",
    "results_scene_3.rename_axis({'index':'ODpair'},axis=1,inplace=True)"
   ]
  },
  {
   "cell_type": "code",
   "execution_count": 264,
   "metadata": {},
   "outputs": [
    {
     "data": {
      "text/html": [
       "<div>\n",
       "<style scoped>\n",
       "    .dataframe tbody tr th:only-of-type {\n",
       "        vertical-align: middle;\n",
       "    }\n",
       "\n",
       "    .dataframe tbody tr th {\n",
       "        vertical-align: top;\n",
       "    }\n",
       "\n",
       "    .dataframe thead th {\n",
       "        text-align: right;\n",
       "    }\n",
       "</style>\n",
       "<table border=\"1\" class=\"dataframe\">\n",
       "  <thead>\n",
       "    <tr style=\"text-align: right;\">\n",
       "      <th></th>\n",
       "      <th>ODpair</th>\n",
       "      <th>1</th>\n",
       "      <th>2</th>\n",
       "      <th>3</th>\n",
       "      <th>4</th>\n",
       "      <th>5</th>\n",
       "      <th>6</th>\n",
       "    </tr>\n",
       "  </thead>\n",
       "  <tbody>\n",
       "    <tr>\n",
       "      <th>0</th>\n",
       "      <td>10-100</td>\n",
       "      <td>0.000000e+00</td>\n",
       "      <td>0.000000e+00</td>\n",
       "      <td>0.000000e+00</td>\n",
       "      <td>158.828172</td>\n",
       "      <td>6.649449</td>\n",
       "      <td>2.759008e-08</td>\n",
       "    </tr>\n",
       "    <tr>\n",
       "      <th>1</th>\n",
       "      <td>10-101</td>\n",
       "      <td>0.000000e+00</td>\n",
       "      <td>7.740615e-28</td>\n",
       "      <td>2.098397e-15</td>\n",
       "      <td>2.354082</td>\n",
       "      <td>25.406733</td>\n",
       "      <td>4.918105e+01</td>\n",
       "    </tr>\n",
       "    <tr>\n",
       "      <th>2</th>\n",
       "      <td>10-102</td>\n",
       "      <td>1.454861e-09</td>\n",
       "      <td>7.388491e-65</td>\n",
       "      <td>1.800968e-56</td>\n",
       "      <td>0.051022</td>\n",
       "      <td>7.632700</td>\n",
       "      <td>2.990798e+01</td>\n",
       "    </tr>\n",
       "    <tr>\n",
       "      <th>3</th>\n",
       "      <td>10-106</td>\n",
       "      <td>0.000000e+00</td>\n",
       "      <td>0.000000e+00</td>\n",
       "      <td>0.000000e+00</td>\n",
       "      <td>6.353696</td>\n",
       "      <td>2.722766</td>\n",
       "      <td>1.432569e+01</td>\n",
       "    </tr>\n",
       "    <tr>\n",
       "      <th>4</th>\n",
       "      <td>10-107</td>\n",
       "      <td>0.000000e+00</td>\n",
       "      <td>0.000000e+00</td>\n",
       "      <td>0.000000e+00</td>\n",
       "      <td>47.264959</td>\n",
       "      <td>1.615579</td>\n",
       "      <td>4.696987e+00</td>\n",
       "    </tr>\n",
       "  </tbody>\n",
       "</table>\n",
       "</div>"
      ],
      "text/plain": [
       "   ODpair             1             2             3           4          5  \\\n",
       "0  10-100  0.000000e+00  0.000000e+00  0.000000e+00  158.828172   6.649449   \n",
       "1  10-101  0.000000e+00  7.740615e-28  2.098397e-15    2.354082  25.406733   \n",
       "2  10-102  1.454861e-09  7.388491e-65  1.800968e-56    0.051022   7.632700   \n",
       "3  10-106  0.000000e+00  0.000000e+00  0.000000e+00    6.353696   2.722766   \n",
       "4  10-107  0.000000e+00  0.000000e+00  0.000000e+00   47.264959   1.615579   \n",
       "\n",
       "              6  \n",
       "0  2.759008e-08  \n",
       "1  4.918105e+01  \n",
       "2  2.990798e+01  \n",
       "3  1.432569e+01  \n",
       "4  4.696987e+00  "
      ]
     },
     "execution_count": 264,
     "metadata": {},
     "output_type": "execute_result"
    }
   ],
   "source": [
    "results_scene_1.head()"
   ]
  },
  {
   "cell_type": "code",
   "execution_count": 265,
   "metadata": {},
   "outputs": [],
   "source": [
    "# Getting the origin taxi zone\n",
    "results_scene_1['origin'] = results_scene_1.ODpair.apply(lambda x: x.split('-')[0]).astype('int')\n",
    "results_scene_2['origin'] = results_scene_2.ODpair.apply(lambda x: x.split('-')[0]).astype('int')\n",
    "results_scene_3['origin'] = results_scene_3.ODpair.apply(lambda x: x.split('-')[0]).astype('int')"
   ]
  },
  {
   "cell_type": "code",
   "execution_count": 266,
   "metadata": {},
   "outputs": [
    {
     "data": {
      "text/html": [
       "<div>\n",
       "<style scoped>\n",
       "    .dataframe tbody tr th:only-of-type {\n",
       "        vertical-align: middle;\n",
       "    }\n",
       "\n",
       "    .dataframe tbody tr th {\n",
       "        vertical-align: top;\n",
       "    }\n",
       "\n",
       "    .dataframe thead th {\n",
       "        text-align: right;\n",
       "    }\n",
       "</style>\n",
       "<table border=\"1\" class=\"dataframe\">\n",
       "  <thead>\n",
       "    <tr style=\"text-align: right;\">\n",
       "      <th></th>\n",
       "      <th>ODpair</th>\n",
       "      <th>1</th>\n",
       "      <th>2</th>\n",
       "      <th>3</th>\n",
       "      <th>4</th>\n",
       "      <th>5</th>\n",
       "      <th>6</th>\n",
       "      <th>origin</th>\n",
       "    </tr>\n",
       "  </thead>\n",
       "  <tbody>\n",
       "    <tr>\n",
       "      <th>0</th>\n",
       "      <td>10-100</td>\n",
       "      <td>0.000000e+00</td>\n",
       "      <td>0.000000e+00</td>\n",
       "      <td>0.000000e+00</td>\n",
       "      <td>158.828172</td>\n",
       "      <td>6.649449</td>\n",
       "      <td>2.759008e-08</td>\n",
       "      <td>10</td>\n",
       "    </tr>\n",
       "    <tr>\n",
       "      <th>1</th>\n",
       "      <td>10-101</td>\n",
       "      <td>0.000000e+00</td>\n",
       "      <td>7.740615e-28</td>\n",
       "      <td>2.098397e-15</td>\n",
       "      <td>2.354082</td>\n",
       "      <td>25.406733</td>\n",
       "      <td>4.918105e+01</td>\n",
       "      <td>10</td>\n",
       "    </tr>\n",
       "    <tr>\n",
       "      <th>2</th>\n",
       "      <td>10-102</td>\n",
       "      <td>1.454861e-09</td>\n",
       "      <td>7.388491e-65</td>\n",
       "      <td>1.800968e-56</td>\n",
       "      <td>0.051022</td>\n",
       "      <td>7.632700</td>\n",
       "      <td>2.990798e+01</td>\n",
       "      <td>10</td>\n",
       "    </tr>\n",
       "    <tr>\n",
       "      <th>3</th>\n",
       "      <td>10-106</td>\n",
       "      <td>0.000000e+00</td>\n",
       "      <td>0.000000e+00</td>\n",
       "      <td>0.000000e+00</td>\n",
       "      <td>6.353696</td>\n",
       "      <td>2.722766</td>\n",
       "      <td>1.432569e+01</td>\n",
       "      <td>10</td>\n",
       "    </tr>\n",
       "    <tr>\n",
       "      <th>4</th>\n",
       "      <td>10-107</td>\n",
       "      <td>0.000000e+00</td>\n",
       "      <td>0.000000e+00</td>\n",
       "      <td>0.000000e+00</td>\n",
       "      <td>47.264959</td>\n",
       "      <td>1.615579</td>\n",
       "      <td>4.696987e+00</td>\n",
       "      <td>10</td>\n",
       "    </tr>\n",
       "  </tbody>\n",
       "</table>\n",
       "</div>"
      ],
      "text/plain": [
       "   ODpair             1             2             3           4          5  \\\n",
       "0  10-100  0.000000e+00  0.000000e+00  0.000000e+00  158.828172   6.649449   \n",
       "1  10-101  0.000000e+00  7.740615e-28  2.098397e-15    2.354082  25.406733   \n",
       "2  10-102  1.454861e-09  7.388491e-65  1.800968e-56    0.051022   7.632700   \n",
       "3  10-106  0.000000e+00  0.000000e+00  0.000000e+00    6.353696   2.722766   \n",
       "4  10-107  0.000000e+00  0.000000e+00  0.000000e+00   47.264959   1.615579   \n",
       "\n",
       "              6  origin  \n",
       "0  2.759008e-08      10  \n",
       "1  4.918105e+01      10  \n",
       "2  2.990798e+01      10  \n",
       "3  1.432569e+01      10  \n",
       "4  4.696987e+00      10  "
      ]
     },
     "execution_count": 266,
     "metadata": {},
     "output_type": "execute_result"
    }
   ],
   "source": [
    "results_scene_1.head()"
   ]
  },
  {
   "cell_type": "code",
   "execution_count": 267,
   "metadata": {},
   "outputs": [],
   "source": [
    "# Aggregating the number of people in each ODpair by the origin zone\n",
    "agg_scene_1 = results_scene_1.groupby('origin').sum()\n",
    "agg_scene_2 = results_scene_2.groupby('origin').sum()\n",
    "agg_scene_3 = results_scene_3.groupby('origin').sum()"
   ]
  },
  {
   "cell_type": "code",
   "execution_count": 268,
   "metadata": {},
   "outputs": [],
   "source": [
    "agg_scene_1.columns = agg_scene_1.columns.astype('int')\n",
    "agg_scene_2.columns = agg_scene_2.columns.astype('int')\n",
    "agg_scene_3.columns = agg_scene_3.columns.astype('int')"
   ]
  },
  {
   "cell_type": "code",
   "execution_count": 269,
   "metadata": {},
   "outputs": [
    {
     "data": {
      "text/html": [
       "<div>\n",
       "<style scoped>\n",
       "    .dataframe tbody tr th:only-of-type {\n",
       "        vertical-align: middle;\n",
       "    }\n",
       "\n",
       "    .dataframe tbody tr th {\n",
       "        vertical-align: top;\n",
       "    }\n",
       "\n",
       "    .dataframe thead th {\n",
       "        text-align: right;\n",
       "    }\n",
       "</style>\n",
       "<table border=\"1\" class=\"dataframe\">\n",
       "  <thead>\n",
       "    <tr style=\"text-align: right;\">\n",
       "      <th></th>\n",
       "      <th>1</th>\n",
       "      <th>2</th>\n",
       "      <th>3</th>\n",
       "      <th>4</th>\n",
       "      <th>5</th>\n",
       "      <th>6</th>\n",
       "    </tr>\n",
       "    <tr>\n",
       "      <th>origin</th>\n",
       "      <th></th>\n",
       "      <th></th>\n",
       "      <th></th>\n",
       "      <th></th>\n",
       "      <th></th>\n",
       "      <th></th>\n",
       "    </tr>\n",
       "  </thead>\n",
       "  <tbody>\n",
       "    <tr>\n",
       "      <th>3</th>\n",
       "      <td>3.311202</td>\n",
       "      <td>196.551869</td>\n",
       "      <td>0.048530</td>\n",
       "      <td>4858.407047</td>\n",
       "      <td>1013.583266</td>\n",
       "      <td>2646.069284</td>\n",
       "    </tr>\n",
       "    <tr>\n",
       "      <th>4</th>\n",
       "      <td>255.586386</td>\n",
       "      <td>26.467301</td>\n",
       "      <td>0.002885</td>\n",
       "      <td>4403.281834</td>\n",
       "      <td>3518.324628</td>\n",
       "      <td>1991.791573</td>\n",
       "    </tr>\n",
       "    <tr>\n",
       "      <th>5</th>\n",
       "      <td>0.000000</td>\n",
       "      <td>119.487407</td>\n",
       "      <td>4.169056</td>\n",
       "      <td>3386.868638</td>\n",
       "      <td>524.934274</td>\n",
       "      <td>3443.316615</td>\n",
       "    </tr>\n",
       "    <tr>\n",
       "      <th>6</th>\n",
       "      <td>38.528731</td>\n",
       "      <td>0.013227</td>\n",
       "      <td>56.680988</td>\n",
       "      <td>2757.475339</td>\n",
       "      <td>230.209875</td>\n",
       "      <td>1779.845916</td>\n",
       "    </tr>\n",
       "    <tr>\n",
       "      <th>7</th>\n",
       "      <td>130.928285</td>\n",
       "      <td>23.437035</td>\n",
       "      <td>7.541725</td>\n",
       "      <td>26039.810683</td>\n",
       "      <td>1831.405661</td>\n",
       "      <td>9030.608541</td>\n",
       "    </tr>\n",
       "  </tbody>\n",
       "</table>\n",
       "</div>"
      ],
      "text/plain": [
       "                 1           2          3             4            5  \\\n",
       "origin                                                                 \n",
       "3         3.311202  196.551869   0.048530   4858.407047  1013.583266   \n",
       "4       255.586386   26.467301   0.002885   4403.281834  3518.324628   \n",
       "5         0.000000  119.487407   4.169056   3386.868638   524.934274   \n",
       "6        38.528731    0.013227  56.680988   2757.475339   230.209875   \n",
       "7       130.928285   23.437035   7.541725  26039.810683  1831.405661   \n",
       "\n",
       "                  6  \n",
       "origin               \n",
       "3       2646.069284  \n",
       "4       1991.791573  \n",
       "5       3443.316615  \n",
       "6       1779.845916  \n",
       "7       9030.608541  "
      ]
     },
     "execution_count": 269,
     "metadata": {},
     "output_type": "execute_result"
    }
   ],
   "source": [
    "agg_scene_1.head()"
   ]
  },
  {
   "cell_type": "code",
   "execution_count": 270,
   "metadata": {},
   "outputs": [],
   "source": [
    "pickup_list = wages.PUlocationID.unique()"
   ]
  },
  {
   "cell_type": "code",
   "execution_count": 271,
   "metadata": {},
   "outputs": [],
   "source": [
    "origin_time_and_money_avg = wages.groupby(['PUlocationID','mode'],as_index=False)['duration','price'].mean()"
   ]
  },
  {
   "cell_type": "code",
   "execution_count": 272,
   "metadata": {},
   "outputs": [
    {
     "data": {
      "text/html": [
       "<div>\n",
       "<style scoped>\n",
       "    .dataframe tbody tr th:only-of-type {\n",
       "        vertical-align: middle;\n",
       "    }\n",
       "\n",
       "    .dataframe tbody tr th {\n",
       "        vertical-align: top;\n",
       "    }\n",
       "\n",
       "    .dataframe thead th {\n",
       "        text-align: right;\n",
       "    }\n",
       "</style>\n",
       "<table border=\"1\" class=\"dataframe\">\n",
       "  <thead>\n",
       "    <tr style=\"text-align: right;\">\n",
       "      <th></th>\n",
       "      <th>PUlocationID</th>\n",
       "      <th>mode</th>\n",
       "      <th>duration</th>\n",
       "      <th>price</th>\n",
       "    </tr>\n",
       "  </thead>\n",
       "  <tbody>\n",
       "    <tr>\n",
       "      <th>0</th>\n",
       "      <td>3</td>\n",
       "      <td>1</td>\n",
       "      <td>38.302359</td>\n",
       "      <td>37.428045</td>\n",
       "    </tr>\n",
       "    <tr>\n",
       "      <th>1</th>\n",
       "      <td>3</td>\n",
       "      <td>2</td>\n",
       "      <td>37.718869</td>\n",
       "      <td>56.582192</td>\n",
       "    </tr>\n",
       "    <tr>\n",
       "      <th>2</th>\n",
       "      <td>3</td>\n",
       "      <td>3</td>\n",
       "      <td>41.066196</td>\n",
       "      <td>50.717949</td>\n",
       "    </tr>\n",
       "    <tr>\n",
       "      <th>3</th>\n",
       "      <td>3</td>\n",
       "      <td>4</td>\n",
       "      <td>81.756356</td>\n",
       "      <td>5.948623</td>\n",
       "    </tr>\n",
       "    <tr>\n",
       "      <th>4</th>\n",
       "      <td>3</td>\n",
       "      <td>5</td>\n",
       "      <td>268.553355</td>\n",
       "      <td>0.000000</td>\n",
       "    </tr>\n",
       "  </tbody>\n",
       "</table>\n",
       "</div>"
      ],
      "text/plain": [
       "   PUlocationID  mode    duration      price\n",
       "0             3     1   38.302359  37.428045\n",
       "1             3     2   37.718869  56.582192\n",
       "2             3     3   41.066196  50.717949\n",
       "3             3     4   81.756356   5.948623\n",
       "4             3     5  268.553355   0.000000"
      ]
     },
     "execution_count": 272,
     "metadata": {},
     "output_type": "execute_result"
    }
   ],
   "source": [
    "origin_time_and_money_avg.head()"
   ]
  },
  {
   "cell_type": "code",
   "execution_count": 273,
   "metadata": {},
   "outputs": [
    {
     "data": {
      "text/plain": [
       "(256, 6)"
      ]
     },
     "execution_count": 273,
     "metadata": {},
     "output_type": "execute_result"
    }
   ],
   "source": [
    "agg_scene_1.shape"
   ]
  },
  {
   "cell_type": "code",
   "execution_count": 274,
   "metadata": {},
   "outputs": [
    {
     "data": {
      "text/plain": [
       "256"
      ]
     },
     "execution_count": 274,
     "metadata": {},
     "output_type": "execute_result"
    }
   ],
   "source": [
    "len(pickup_list)"
   ]
  },
  {
   "cell_type": "markdown",
   "metadata": {},
   "source": [
    "## Status quo Commute Statistics"
   ]
  },
  {
   "cell_type": "code",
   "execution_count": 275,
   "metadata": {},
   "outputs": [],
   "source": [
    "pivoted_time = origin_time_and_money_avg.reset_index().pivot(index='PUlocationID',columns='mode',values='duration')"
   ]
  },
  {
   "cell_type": "code",
   "execution_count": 276,
   "metadata": {},
   "outputs": [],
   "source": [
    "commute_time = pivoted_time.multiply(agg_scene_1).sum().sum()"
   ]
  },
  {
   "cell_type": "code",
   "execution_count": 277,
   "metadata": {},
   "outputs": [
    {
     "data": {
      "text/plain": [
       "80.60096236584032"
      ]
     },
     "execution_count": 277,
     "metadata": {},
     "output_type": "execute_result"
    }
   ],
   "source": [
    "avg_commute_time = commute_time/agg_scene_1.sum().sum()\n",
    "avg_commute_time"
   ]
  },
  {
   "cell_type": "code",
   "execution_count": 278,
   "metadata": {},
   "outputs": [],
   "source": [
    "pivoted_money = origin_time_and_money_avg.reset_index().pivot(index='PUlocationID',columns='mode',values='price')"
   ]
  },
  {
   "cell_type": "code",
   "execution_count": 279,
   "metadata": {},
   "outputs": [],
   "source": [
    "commute_cost = pivoted_money.multiply(agg_scene_1).sum().sum()"
   ]
  },
  {
   "cell_type": "code",
   "execution_count": 280,
   "metadata": {},
   "outputs": [
    {
     "data": {
      "text/plain": [
       "8.4719982055186"
      ]
     },
     "execution_count": 280,
     "metadata": {},
     "output_type": "execute_result"
    }
   ],
   "source": [
    "avg_commute_cost = commute_cost/agg_scene_1.sum().sum()\n",
    "avg_commute_cost"
   ]
  },
  {
   "cell_type": "markdown",
   "metadata": {},
   "source": [
    "## Subway ridership"
   ]
  },
  {
   "cell_type": "code",
   "execution_count": 291,
   "metadata": {},
   "outputs": [
    {
     "data": {
      "text/plain": [
       "30070.99586424346"
      ]
     },
     "execution_count": 291,
     "metadata": {},
     "output_type": "execute_result"
    }
   ],
   "source": [
    "agg_scene_3.sum()[0:3].sum()"
   ]
  },
  {
   "cell_type": "code",
   "execution_count": 295,
   "metadata": {},
   "outputs": [
    {
     "data": {
      "text/plain": [
       "1    9.720936e+03\n",
       "2    1.475381e+04\n",
       "3    5.745300e+03\n",
       "4    1.756041e+06\n",
       "5    3.071924e+05\n",
       "6    7.865649e+05\n",
       "dtype: float64"
      ]
     },
     "execution_count": 295,
     "metadata": {},
     "output_type": "execute_result"
    }
   ],
   "source": [
    "agg_scene_1.sum()"
   ]
  },
  {
   "cell_type": "code",
   "execution_count": 294,
   "metadata": {},
   "outputs": [
    {
     "data": {
      "text/plain": [
       "1    5.793675e+03\n",
       "2    1.398503e+04\n",
       "3    8.367045e+03\n",
       "4    1.778084e+06\n",
       "5    3.091317e+05\n",
       "6    7.881317e+05\n",
       "dtype: float64"
      ]
     },
     "execution_count": 294,
     "metadata": {},
     "output_type": "execute_result"
    }
   ],
   "source": [
    "agg_scene_2.sum()"
   ]
  },
  {
   "cell_type": "code",
   "execution_count": 293,
   "metadata": {},
   "outputs": [
    {
     "data": {
      "text/plain": [
       "28145.751241283964"
      ]
     },
     "execution_count": 293,
     "metadata": {},
     "output_type": "execute_result"
    }
   ],
   "source": [
    "agg_scene_2.sum()[0:3].sum()"
   ]
  },
  {
   "cell_type": "code",
   "execution_count": 292,
   "metadata": {},
   "outputs": [
    {
     "data": {
      "text/plain": [
       "30220.042331546683"
      ]
     },
     "execution_count": 292,
     "metadata": {},
     "output_type": "execute_result"
    }
   ],
   "source": [
    "agg_scene_1.sum()[0:3].sum()"
   ]
  },
  {
   "cell_type": "code",
   "execution_count": 220,
   "metadata": {},
   "outputs": [
    {
     "data": {
      "text/plain": [
       "1756040.673507589"
      ]
     },
     "execution_count": 220,
     "metadata": {},
     "output_type": "execute_result"
    }
   ],
   "source": [
    "agg_scene_1.sum()[4]"
   ]
  },
  {
   "cell_type": "code",
   "execution_count": 221,
   "metadata": {},
   "outputs": [
    {
     "data": {
      "text/plain": [
       "1778084.3584629146"
      ]
     },
     "execution_count": 221,
     "metadata": {},
     "output_type": "execute_result"
    }
   ],
   "source": [
    "agg_scene_2.sum()[4]"
   ]
  },
  {
   "cell_type": "code",
   "execution_count": 222,
   "metadata": {},
   "outputs": [
    {
     "data": {
      "text/plain": [
       "1900406.553350882"
      ]
     },
     "execution_count": 222,
     "metadata": {},
     "output_type": "execute_result"
    }
   ],
   "source": [
    "agg_scene_3.sum()[4]"
   ]
  },
  {
   "cell_type": "code",
   "execution_count": 223,
   "metadata": {},
   "outputs": [
    {
     "data": {
      "text/plain": [
       "22043.684955325676"
      ]
     },
     "execution_count": 223,
     "metadata": {},
     "output_type": "execute_result"
    }
   ],
   "source": [
    "agg_scene_2.sum()[4] - agg_scene_1.sum()[4]"
   ]
  },
  {
   "cell_type": "code",
   "execution_count": 224,
   "metadata": {},
   "outputs": [
    {
     "data": {
      "text/plain": [
       "144365.879843293"
      ]
     },
     "execution_count": 224,
     "metadata": {},
     "output_type": "execute_result"
    }
   ],
   "source": [
    "agg_scene_3.sum()[4] - agg_scene_1.sum()[4]"
   ]
  },
  {
   "cell_type": "code",
   "execution_count": 225,
   "metadata": {},
   "outputs": [
    {
     "data": {
      "text/plain": [
       "122322.19488796731"
      ]
     },
     "execution_count": 225,
     "metadata": {},
     "output_type": "execute_result"
    }
   ],
   "source": [
    "agg_scene_3.sum()[4] - agg_scene_2.sum()[4]"
   ]
  },
  {
   "cell_type": "code",
   "execution_count": 226,
   "metadata": {},
   "outputs": [
    {
     "data": {
      "text/plain": [
       "1.2553060579909405"
      ]
     },
     "execution_count": 226,
     "metadata": {},
     "output_type": "execute_result"
    }
   ],
   "source": [
    "(agg_scene_2.sum()[4] - agg_scene_1.sum()[4])/agg_scene_1.sum()[4] * 100"
   ]
  },
  {
   "cell_type": "code",
   "execution_count": 227,
   "metadata": {},
   "outputs": [
    {
     "data": {
      "text/plain": [
       "8.221101140836936"
      ]
     },
     "execution_count": 227,
     "metadata": {},
     "output_type": "execute_result"
    }
   ],
   "source": [
    "(agg_scene_3.sum()[4] - agg_scene_1.sum()[4])/agg_scene_1.sum()[4] * 100"
   ]
  },
  {
   "cell_type": "code",
   "execution_count": 228,
   "metadata": {},
   "outputs": [
    {
     "data": {
      "text/plain": [
       "6.87943709227104"
      ]
     },
     "execution_count": 228,
     "metadata": {},
     "output_type": "execute_result"
    }
   ],
   "source": [
    "(agg_scene_3.sum()[4] - agg_scene_2.sum()[4])/agg_scene_2.sum()[4] * 100"
   ]
  },
  {
   "cell_type": "markdown",
   "metadata": {},
   "source": [
    "### Scenario 1 VS 2"
   ]
  },
  {
   "cell_type": "code",
   "execution_count": 229,
   "metadata": {},
   "outputs": [
    {
     "name": "stderr",
     "output_type": "stream",
     "text": [
      "100%|██████████| 256/256 [00:01<00:00, 184.93it/s]\n"
     ]
    }
   ],
   "source": [
    "time_diff = 0\n",
    "money_diff = 0\n",
    "for zone in tqdm(pickup_list,position=0):\n",
    "    for col in agg_scene_1.columns:\n",
    "        diff = (agg_scene_2.loc[zone,col]-agg_scene_1.loc[zone,col])\n",
    "        time_and_money = (origin_time_and_money_avg.loc[(origin_time_and_money_avg['PUlocationID']==zone)\\\n",
    "                                                       & (origin_time_and_money_avg['mode']==col)])\n",
    "        time_diff+= diff * (0 if time_and_money.empty else time_and_money['duration'].values[0])\n",
    "        money_diff+= diff * (0 if time_and_money.empty else time_and_money['price'].values[0])"
   ]
  },
  {
   "cell_type": "code",
   "execution_count": 230,
   "metadata": {},
   "outputs": [
    {
     "data": {
      "text/plain": [
       "1550685.4703231545"
      ]
     },
     "execution_count": 230,
     "metadata": {},
     "output_type": "execute_result"
    }
   ],
   "source": [
    "time_diff"
   ]
  },
  {
   "cell_type": "code",
   "execution_count": 231,
   "metadata": {},
   "outputs": [
    {
     "data": {
      "text/plain": [
       "84635.50569066391"
      ]
     },
     "execution_count": 231,
     "metadata": {},
     "output_type": "execute_result"
    }
   ],
   "source": [
    "money_diff"
   ]
  },
  {
   "cell_type": "code",
   "execution_count": 232,
   "metadata": {},
   "outputs": [],
   "source": [
    "population = agg_scene_1.sum().sum()"
   ]
  },
  {
   "cell_type": "code",
   "execution_count": 233,
   "metadata": {},
   "outputs": [
    {
     "data": {
      "text/plain": [
       "0.5384290897915075"
      ]
     },
     "execution_count": 233,
     "metadata": {},
     "output_type": "execute_result"
    }
   ],
   "source": [
    "# Extra commute time per person\n",
    "time_diff/population"
   ]
  },
  {
   "cell_type": "code",
   "execution_count": 234,
   "metadata": {},
   "outputs": [
    {
     "data": {
      "text/plain": [
       "0.6680181898419868"
      ]
     },
     "execution_count": 234,
     "metadata": {},
     "output_type": "execute_result"
    }
   ],
   "source": [
    "time_diff/population/avg_commute_time *100"
   ]
  },
  {
   "cell_type": "code",
   "execution_count": 235,
   "metadata": {},
   "outputs": [
    {
     "data": {
      "text/plain": [
       "0.029387144695159573"
      ]
     },
     "execution_count": 235,
     "metadata": {},
     "output_type": "execute_result"
    }
   ],
   "source": [
    "# Extra Money spent per person\n",
    "money_diff/population"
   ]
  },
  {
   "cell_type": "code",
   "execution_count": 236,
   "metadata": {},
   "outputs": [
    {
     "data": {
      "text/plain": [
       "0.34687383049747333"
      ]
     },
     "execution_count": 236,
     "metadata": {},
     "output_type": "execute_result"
    }
   ],
   "source": [
    "money_diff/population/avg_commute_cost *100"
   ]
  },
  {
   "cell_type": "markdown",
   "metadata": {},
   "source": [
    "### Scenario 1 VS 3"
   ]
  },
  {
   "cell_type": "code",
   "execution_count": 237,
   "metadata": {},
   "outputs": [
    {
     "name": "stderr",
     "output_type": "stream",
     "text": [
      "100%|██████████| 256/256 [00:01<00:00, 181.47it/s]\n"
     ]
    }
   ],
   "source": [
    "time_diff = 0\n",
    "money_diff = 0\n",
    "for zone in tqdm(pickup_list,position=0):\n",
    "    for col in agg_scene_1.columns:\n",
    "        diff = (agg_scene_3.loc[zone,col]-agg_scene_1.loc[zone,col])\n",
    "        time_and_money = (origin_time_and_money_avg.loc[(origin_time_and_money_avg['PUlocationID']==zone)\\\n",
    "                                                       & (origin_time_and_money_avg['mode']==int(col))])\n",
    "        time_diff+= diff * (0 if time_and_money.empty else time_and_money['duration'].values[0])\n",
    "        money_diff+= diff * (0 if time_and_money.empty else time_and_money['price'].values[0])"
   ]
  },
  {
   "cell_type": "code",
   "execution_count": 238,
   "metadata": {},
   "outputs": [
    {
     "data": {
      "text/plain": [
       "7902222.673756203"
      ]
     },
     "execution_count": 238,
     "metadata": {},
     "output_type": "execute_result"
    }
   ],
   "source": [
    "time_diff"
   ]
  },
  {
   "cell_type": "code",
   "execution_count": 239,
   "metadata": {},
   "outputs": [
    {
     "data": {
      "text/plain": [
       "-88340.20101180812"
      ]
     },
     "execution_count": 239,
     "metadata": {},
     "output_type": "execute_result"
    }
   ],
   "source": [
    "money_diff"
   ]
  },
  {
   "cell_type": "code",
   "execution_count": 240,
   "metadata": {},
   "outputs": [],
   "source": [
    "population = agg_scene_2.sum().sum()"
   ]
  },
  {
   "cell_type": "code",
   "execution_count": 241,
   "metadata": {},
   "outputs": [
    {
     "data": {
      "text/plain": [
       "2.7216258006010774"
      ]
     },
     "execution_count": 241,
     "metadata": {},
     "output_type": "execute_result"
    }
   ],
   "source": [
    "# Extra commute time per person\n",
    "time_diff/population"
   ]
  },
  {
   "cell_type": "code",
   "execution_count": 242,
   "metadata": {},
   "outputs": [
    {
     "data": {
      "text/plain": [
       "3.376666631159898"
      ]
     },
     "execution_count": 242,
     "metadata": {},
     "output_type": "execute_result"
    }
   ],
   "source": [
    "time_diff/population/avg_commute_time *100"
   ]
  },
  {
   "cell_type": "code",
   "execution_count": 243,
   "metadata": {},
   "outputs": [
    {
     "data": {
      "text/plain": [
       "-0.030425486629540657"
      ]
     },
     "execution_count": 243,
     "metadata": {},
     "output_type": "execute_result"
    }
   ],
   "source": [
    "# Money saved per person\n",
    "money_diff/population"
   ]
  },
  {
   "cell_type": "code",
   "execution_count": 244,
   "metadata": {},
   "outputs": [
    {
     "data": {
      "text/plain": [
       "-0.3591299937920396"
      ]
     },
     "execution_count": 244,
     "metadata": {},
     "output_type": "execute_result"
    }
   ],
   "source": [
    "money_diff/population/avg_commute_cost *100"
   ]
  },
  {
   "cell_type": "markdown",
   "metadata": {},
   "source": [
    "### Scenario 2 VS 3"
   ]
  },
  {
   "cell_type": "code",
   "execution_count": 245,
   "metadata": {},
   "outputs": [
    {
     "name": "stderr",
     "output_type": "stream",
     "text": [
      "100%|██████████| 256/256 [00:01<00:00, 180.48it/s]\n"
     ]
    }
   ],
   "source": [
    "time_diff = 0\n",
    "money_diff = 0\n",
    "for zone in tqdm(pickup_list,position=0):\n",
    "    for col in agg_scene_2.columns:\n",
    "        diff = (agg_scene_3.loc[zone,col]-agg_scene_2.loc[zone,col])\n",
    "        time_and_money = (origin_time_and_money_avg.loc[(origin_time_and_money_avg['PUlocationID']==zone)\\\n",
    "                                                       & (origin_time_and_money_avg['mode']==int(col))])\n",
    "        time_diff+= diff * (0 if time_and_money.empty else time_and_money['duration'].values[0])\n",
    "        money_diff+= diff * (0 if time_and_money.empty else time_and_money['price'].values[0])"
   ]
  },
  {
   "cell_type": "code",
   "execution_count": 246,
   "metadata": {},
   "outputs": [
    {
     "data": {
      "text/plain": [
       "6351537.203433033"
      ]
     },
     "execution_count": 246,
     "metadata": {},
     "output_type": "execute_result"
    }
   ],
   "source": [
    "time_diff"
   ]
  },
  {
   "cell_type": "code",
   "execution_count": 247,
   "metadata": {},
   "outputs": [
    {
     "data": {
      "text/plain": [
       "-172975.7067024721"
      ]
     },
     "execution_count": 247,
     "metadata": {},
     "output_type": "execute_result"
    }
   ],
   "source": [
    "money_diff"
   ]
  },
  {
   "cell_type": "code",
   "execution_count": 248,
   "metadata": {},
   "outputs": [],
   "source": [
    "population = agg_scene_2.sum().sum()"
   ]
  },
  {
   "cell_type": "code",
   "execution_count": 249,
   "metadata": {},
   "outputs": [
    {
     "data": {
      "text/plain": [
       "2.187550040035011"
      ]
     },
     "execution_count": 249,
     "metadata": {},
     "output_type": "execute_result"
    }
   ],
   "source": [
    "# Extra commute time per person\n",
    "time_diff/population"
   ]
  },
  {
   "cell_type": "code",
   "execution_count": 250,
   "metadata": {},
   "outputs": [
    {
     "data": {
      "text/plain": [
       "2.706309747344972"
      ]
     },
     "execution_count": 250,
     "metadata": {},
     "output_type": "execute_result"
    }
   ],
   "source": [
    "time_diff/population/(avg_commute_time+0.23051090439821367) *100"
   ]
  },
  {
   "cell_type": "code",
   "execution_count": 251,
   "metadata": {},
   "outputs": [
    {
     "data": {
      "text/plain": [
       "-0.059575029162633915"
      ]
     },
     "execution_count": 251,
     "metadata": {},
     "output_type": "execute_result"
    }
   ],
   "source": [
    "# Money saved per person\n",
    "money_diff/population"
   ]
  },
  {
   "cell_type": "code",
   "execution_count": 252,
   "metadata": {},
   "outputs": [
    {
     "data": {
      "text/plain": [
       "-0.7200724905802572"
      ]
     },
     "execution_count": 252,
     "metadata": {},
     "output_type": "execute_result"
    }
   ],
   "source": [
    "money_diff/population/(avg_commute_cost-0.19852158448750543) *100"
   ]
  },
  {
   "cell_type": "markdown",
   "metadata": {},
   "source": [
    "#### Use below code only if you want exact values for the difference in time/money for commuters as it takes a very long time to run (>3 hours). It can also be used to get the difference for each taxi zone (after some minor changes)."
   ]
  },
  {
   "cell_type": "code",
   "execution_count": 148,
   "metadata": {},
   "outputs": [],
   "source": [
    "# time_total = 0\n",
    "# money_total = 0\n",
    "# for pair in tqdm(ODpair_list,position=0):\n",
    "#     time_pair = 0\n",
    "#     money_pair = 0\n",
    "#     for col in results_scene_1.columns:\n",
    "#         time_pair+=(results_scene_1.loc[results_scene_1.index==pair,col]-results_scene_2.loc[results_scene_2.index==pair,col])\\\n",
    "#         *wages.loc[(wages['ODpair']==pair) & wages['mode']==int(col),'duration']\n",
    "#         money_pair+=(results_scene_1.loc[results_scene_1.index==pair,col]-results_scene_2.loc[results_scene_2.index==pair,col])\\\n",
    "#         *wages.loc[(wages['ODpair']==pair) & wages['mode']==int(col),'price']\n",
    "#     time_total+=time_pair\n",
    "#     money_total+=money_pair"
   ]
  }
 ],
 "metadata": {
  "kernelspec": {
   "display_name": "Python 3",
   "language": "python",
   "name": "python3"
  },
  "language_info": {
   "codemirror_mode": {
    "name": "ipython",
    "version": 3
   },
   "file_extension": ".py",
   "mimetype": "text/x-python",
   "name": "python",
   "nbconvert_exporter": "python",
   "pygments_lexer": "ipython3",
   "version": "3.7.1"
  }
 },
 "nbformat": 4,
 "nbformat_minor": 2
}
