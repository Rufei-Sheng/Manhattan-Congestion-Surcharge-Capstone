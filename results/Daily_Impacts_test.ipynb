{
 "cells": [
  {
   "cell_type": "markdown",
   "metadata": {},
   "source": [
    "## Daily Impacts"
   ]
  },
  {
   "cell_type": "code",
   "execution_count": 2,
   "metadata": {},
   "outputs": [],
   "source": [
    "import numpy as np\n",
    "import pandas as pd\n",
    "import warnings\n",
    "warnings.filterwarnings(\"ignore\")\n",
    "import time\n",
    "import timeit\n",
    "from tqdm import tqdm\n",
    "from sklearn.model_selection import GridSearchCV\n",
    "import re"
   ]
  },
  {
   "cell_type": "code",
   "execution_count": 7,
   "metadata": {},
   "outputs": [],
   "source": [
    "results_1_scene_1 = pd.read_csv('Final_results/Scaled_results_scenario1_0.04_1.5.csv',index_col=0)#,usecols=range(6))\n",
    "results_2_scene_1 = pd.read_csv('Final_results/Scaled_results_scenario1_0.05_1.5.csv',index_col=0)#,usecols=range(6))\n",
    "results_3_scene_1 = pd.read_csv('Final_results/Scaled_results_scenario1_0.06_1.5.csv',index_col=0)#,usecols=range(6))\n",
    "results_4_scene_1 = pd.read_csv('Final_results/Scaled_results_scenario1_0.05_1.4.csv',index_col=0)#,usecols=range(6))\n",
    "results_5_scene_1 = pd.read_csv('Final_results/Scaled_results_scenario1_0.05_1.6.csv',index_col=0)#,usecols=range(6))\n",
    "results_1_scene_1.head()"
   ]
  },
  {
   "cell_type": "code",
   "execution_count": 5,
   "metadata": {},
   "outputs": [
    {
     "data": {
      "text/html": [
       "<div>\n",
       "<style scoped>\n",
       "    .dataframe tbody tr th:only-of-type {\n",
       "        vertical-align: middle;\n",
       "    }\n",
       "\n",
       "    .dataframe tbody tr th {\n",
       "        vertical-align: top;\n",
       "    }\n",
       "\n",
       "    .dataframe thead th {\n",
       "        text-align: right;\n",
       "    }\n",
       "</style>\n",
       "<table border=\"1\" class=\"dataframe\">\n",
       "  <thead>\n",
       "    <tr style=\"text-align: right;\">\n",
       "      <th></th>\n",
       "      <th>P(mode1)</th>\n",
       "      <th>P(mode2)</th>\n",
       "      <th>P(mode3)</th>\n",
       "      <th>P(mode4)</th>\n",
       "      <th>P(mode5)</th>\n",
       "      <th>P(mode6)</th>\n",
       "    </tr>\n",
       "  </thead>\n",
       "  <tbody>\n",
       "    <tr>\n",
       "      <th>3-4</th>\n",
       "      <td>0.0</td>\n",
       "      <td>0.0</td>\n",
       "      <td>0.0</td>\n",
       "      <td>4.652835</td>\n",
       "      <td>0.335085</td>\n",
       "      <td>1.286075</td>\n",
       "    </tr>\n",
       "    <tr>\n",
       "      <th>3-7</th>\n",
       "      <td>0.0</td>\n",
       "      <td>0.0</td>\n",
       "      <td>0.0</td>\n",
       "      <td>14.415664</td>\n",
       "      <td>1.958350</td>\n",
       "      <td>15.466983</td>\n",
       "    </tr>\n",
       "    <tr>\n",
       "      <th>3-9</th>\n",
       "      <td>0.0</td>\n",
       "      <td>0.0</td>\n",
       "      <td>0.0</td>\n",
       "      <td>0.168665</td>\n",
       "      <td>0.097421</td>\n",
       "      <td>1.226766</td>\n",
       "    </tr>\n",
       "    <tr>\n",
       "      <th>3-10</th>\n",
       "      <td>0.0</td>\n",
       "      <td>0.0</td>\n",
       "      <td>0.0</td>\n",
       "      <td>0.188487</td>\n",
       "      <td>0.167608</td>\n",
       "      <td>1.866074</td>\n",
       "    </tr>\n",
       "    <tr>\n",
       "      <th>3-11</th>\n",
       "      <td>0.0</td>\n",
       "      <td>0.0</td>\n",
       "      <td>0.0</td>\n",
       "      <td>4.624413</td>\n",
       "      <td>0.195994</td>\n",
       "      <td>0.000385</td>\n",
       "    </tr>\n",
       "  </tbody>\n",
       "</table>\n",
       "</div>"
      ],
      "text/plain": [
       "      P(mode1)  P(mode2)  P(mode3)   P(mode4)  P(mode5)   P(mode6)\n",
       "3-4        0.0       0.0       0.0   4.652835  0.335085   1.286075\n",
       "3-7        0.0       0.0       0.0  14.415664  1.958350  15.466983\n",
       "3-9        0.0       0.0       0.0   0.168665  0.097421   1.226766\n",
       "3-10       0.0       0.0       0.0   0.188487  0.167608   1.866074\n",
       "3-11       0.0       0.0       0.0   4.624413  0.195994   0.000385"
      ]
     },
     "execution_count": 5,
     "metadata": {},
     "output_type": "execute_result"
    }
   ],
   "source": [
    "results_1_scene_2 = pd.read_csv('Final_results/Scaled_results_scenario2_0.04_1.5.csv',index_col=0)\n",
    "results_2_scene_2 = pd.read_csv('Final_results/Scaled_results_scenario2_0.05_1.5.csv',index_col=0)\n",
    "results_3_scene_2 = pd.read_csv('Final_results/Scaled_results_scenario2_0.06_1.5.csv',index_col=0)\n",
    "results_4_scene_2 = pd.read_csv('Final_results/Scaled_results_scenario2_0.05_1.4.csv',index_col=0)\n",
    "results_5_scene_2 = pd.read_csv('Final_results/Scaled_results_scenario2_0.05_1.6.csv',index_col=0)\n",
    "results_1_scene_2.head()"
   ]
  },
  {
   "cell_type": "code",
   "execution_count": 6,
   "metadata": {},
   "outputs": [
    {
     "data": {
      "text/html": [
       "<div>\n",
       "<style scoped>\n",
       "    .dataframe tbody tr th:only-of-type {\n",
       "        vertical-align: middle;\n",
       "    }\n",
       "\n",
       "    .dataframe tbody tr th {\n",
       "        vertical-align: top;\n",
       "    }\n",
       "\n",
       "    .dataframe thead th {\n",
       "        text-align: right;\n",
       "    }\n",
       "</style>\n",
       "<table border=\"1\" class=\"dataframe\">\n",
       "  <thead>\n",
       "    <tr style=\"text-align: right;\">\n",
       "      <th></th>\n",
       "      <th>P(mode1)</th>\n",
       "      <th>P(mode2)</th>\n",
       "      <th>P(mode3)</th>\n",
       "      <th>P(mode4)</th>\n",
       "      <th>P(mode5)</th>\n",
       "      <th>P(mode6)</th>\n",
       "    </tr>\n",
       "  </thead>\n",
       "  <tbody>\n",
       "    <tr>\n",
       "      <th>3-4</th>\n",
       "      <td>0.0</td>\n",
       "      <td>0.0</td>\n",
       "      <td>0.0</td>\n",
       "      <td>5.391788</td>\n",
       "      <td>0.335085</td>\n",
       "      <td>0.863334</td>\n",
       "    </tr>\n",
       "    <tr>\n",
       "      <th>3-7</th>\n",
       "      <td>0.0</td>\n",
       "      <td>0.0</td>\n",
       "      <td>0.0</td>\n",
       "      <td>14.415664</td>\n",
       "      <td>1.958350</td>\n",
       "      <td>15.466983</td>\n",
       "    </tr>\n",
       "    <tr>\n",
       "      <th>3-9</th>\n",
       "      <td>0.0</td>\n",
       "      <td>0.0</td>\n",
       "      <td>0.0</td>\n",
       "      <td>0.168665</td>\n",
       "      <td>0.097421</td>\n",
       "      <td>1.226766</td>\n",
       "    </tr>\n",
       "    <tr>\n",
       "      <th>3-10</th>\n",
       "      <td>0.0</td>\n",
       "      <td>0.0</td>\n",
       "      <td>0.0</td>\n",
       "      <td>0.188487</td>\n",
       "      <td>0.167608</td>\n",
       "      <td>1.866074</td>\n",
       "    </tr>\n",
       "    <tr>\n",
       "      <th>3-11</th>\n",
       "      <td>0.0</td>\n",
       "      <td>0.0</td>\n",
       "      <td>0.0</td>\n",
       "      <td>4.624413</td>\n",
       "      <td>0.195994</td>\n",
       "      <td>0.000385</td>\n",
       "    </tr>\n",
       "  </tbody>\n",
       "</table>\n",
       "</div>"
      ],
      "text/plain": [
       "      P(mode1)  P(mode2)  P(mode3)   P(mode4)  P(mode5)   P(mode6)\n",
       "3-4        0.0       0.0       0.0   5.391788  0.335085   0.863334\n",
       "3-7        0.0       0.0       0.0  14.415664  1.958350  15.466983\n",
       "3-9        0.0       0.0       0.0   0.168665  0.097421   1.226766\n",
       "3-10       0.0       0.0       0.0   0.188487  0.167608   1.866074\n",
       "3-11       0.0       0.0       0.0   4.624413  0.195994   0.000385"
      ]
     },
     "execution_count": 6,
     "metadata": {},
     "output_type": "execute_result"
    }
   ],
   "source": [
    "results_1_scene_3 = pd.read_csv('Final_results/Scaled_results_scenario3_0.04_1.5.csv',index_col=0)#,usecols=range(6))\n",
    "results_1_scene_3.head()"
   ]
  },
  {
   "cell_type": "code",
   "execution_count": 5,
   "metadata": {},
   "outputs": [
    {
     "data": {
      "text/html": [
       "<div>\n",
       "<style scoped>\n",
       "    .dataframe tbody tr th:only-of-type {\n",
       "        vertical-align: middle;\n",
       "    }\n",
       "\n",
       "    .dataframe tbody tr th {\n",
       "        vertical-align: top;\n",
       "    }\n",
       "\n",
       "    .dataframe thead th {\n",
       "        text-align: right;\n",
       "    }\n",
       "</style>\n",
       "<table border=\"1\" class=\"dataframe\">\n",
       "  <thead>\n",
       "    <tr style=\"text-align: right;\">\n",
       "      <th></th>\n",
       "      <th>Unnamed: 0</th>\n",
       "      <th>DOlocationID</th>\n",
       "      <th>ODpair</th>\n",
       "      <th>PUlocationID</th>\n",
       "      <th>duration</th>\n",
       "      <th>mode</th>\n",
       "      <th>nest</th>\n",
       "      <th>price</th>\n",
       "      <th>2500</th>\n",
       "      <th>7500</th>\n",
       "      <th>12500</th>\n",
       "      <th>17500</th>\n",
       "      <th>22500</th>\n",
       "      <th>30000</th>\n",
       "      <th>42500</th>\n",
       "      <th>62500</th>\n",
       "      <th>87500</th>\n",
       "      <th>125000</th>\n",
       "      <th>225000</th>\n",
       "    </tr>\n",
       "  </thead>\n",
       "  <tbody>\n",
       "    <tr>\n",
       "      <th>0</th>\n",
       "      <td>0</td>\n",
       "      <td>4</td>\n",
       "      <td>3-4</td>\n",
       "      <td>3</td>\n",
       "      <td>39.695000</td>\n",
       "      <td>2</td>\n",
       "      <td>1</td>\n",
       "      <td>64.000</td>\n",
       "      <td>0.250819</td>\n",
       "      <td>0.360216</td>\n",
       "      <td>0.648452</td>\n",
       "      <td>0.282211</td>\n",
       "      <td>0.414755</td>\n",
       "      <td>0.592009</td>\n",
       "      <td>0.671282</td>\n",
       "      <td>0.93859</td>\n",
       "      <td>0.586936</td>\n",
       "      <td>0.740725</td>\n",
       "      <td>0.514005</td>\n",
       "    </tr>\n",
       "    <tr>\n",
       "      <th>1</th>\n",
       "      <td>1</td>\n",
       "      <td>4</td>\n",
       "      <td>3-4</td>\n",
       "      <td>3</td>\n",
       "      <td>45.216667</td>\n",
       "      <td>3</td>\n",
       "      <td>1</td>\n",
       "      <td>61.500</td>\n",
       "      <td>0.250819</td>\n",
       "      <td>0.360216</td>\n",
       "      <td>0.648452</td>\n",
       "      <td>0.282211</td>\n",
       "      <td>0.414755</td>\n",
       "      <td>0.592009</td>\n",
       "      <td>0.671282</td>\n",
       "      <td>0.93859</td>\n",
       "      <td>0.586936</td>\n",
       "      <td>0.740725</td>\n",
       "      <td>0.514005</td>\n",
       "    </tr>\n",
       "    <tr>\n",
       "      <th>2</th>\n",
       "      <td>2</td>\n",
       "      <td>4</td>\n",
       "      <td>3-4</td>\n",
       "      <td>3</td>\n",
       "      <td>83.000000</td>\n",
       "      <td>4</td>\n",
       "      <td>2</td>\n",
       "      <td>5.500</td>\n",
       "      <td>0.250819</td>\n",
       "      <td>0.360216</td>\n",
       "      <td>0.648452</td>\n",
       "      <td>0.282211</td>\n",
       "      <td>0.414755</td>\n",
       "      <td>0.592009</td>\n",
       "      <td>0.671282</td>\n",
       "      <td>0.93859</td>\n",
       "      <td>0.586936</td>\n",
       "      <td>0.740725</td>\n",
       "      <td>0.514005</td>\n",
       "    </tr>\n",
       "    <tr>\n",
       "      <th>3</th>\n",
       "      <td>3</td>\n",
       "      <td>4</td>\n",
       "      <td>3-4</td>\n",
       "      <td>3</td>\n",
       "      <td>225.933333</td>\n",
       "      <td>5</td>\n",
       "      <td>3</td>\n",
       "      <td>0.000</td>\n",
       "      <td>0.250819</td>\n",
       "      <td>0.360216</td>\n",
       "      <td>0.648452</td>\n",
       "      <td>0.282211</td>\n",
       "      <td>0.414755</td>\n",
       "      <td>0.592009</td>\n",
       "      <td>0.671282</td>\n",
       "      <td>0.93859</td>\n",
       "      <td>0.586936</td>\n",
       "      <td>0.740725</td>\n",
       "      <td>0.514005</td>\n",
       "    </tr>\n",
       "    <tr>\n",
       "      <th>4</th>\n",
       "      <td>4</td>\n",
       "      <td>4</td>\n",
       "      <td>3-4</td>\n",
       "      <td>3</td>\n",
       "      <td>39.695000</td>\n",
       "      <td>6</td>\n",
       "      <td>4</td>\n",
       "      <td>29.424</td>\n",
       "      <td>0.250819</td>\n",
       "      <td>0.360216</td>\n",
       "      <td>0.648452</td>\n",
       "      <td>0.282211</td>\n",
       "      <td>0.414755</td>\n",
       "      <td>0.592009</td>\n",
       "      <td>0.671282</td>\n",
       "      <td>0.93859</td>\n",
       "      <td>0.586936</td>\n",
       "      <td>0.740725</td>\n",
       "      <td>0.514005</td>\n",
       "    </tr>\n",
       "  </tbody>\n",
       "</table>\n",
       "</div>"
      ],
      "text/plain": [
       "   Unnamed: 0  DOlocationID ODpair  PUlocationID    duration  mode  nest  \\\n",
       "0           0             4    3-4             3   39.695000     2     1   \n",
       "1           1             4    3-4             3   45.216667     3     1   \n",
       "2           2             4    3-4             3   83.000000     4     2   \n",
       "3           3             4    3-4             3  225.933333     5     3   \n",
       "4           4             4    3-4             3   39.695000     6     4   \n",
       "\n",
       "    price      2500      7500     12500     17500     22500     30000  \\\n",
       "0  64.000  0.250819  0.360216  0.648452  0.282211  0.414755  0.592009   \n",
       "1  61.500  0.250819  0.360216  0.648452  0.282211  0.414755  0.592009   \n",
       "2   5.500  0.250819  0.360216  0.648452  0.282211  0.414755  0.592009   \n",
       "3   0.000  0.250819  0.360216  0.648452  0.282211  0.414755  0.592009   \n",
       "4  29.424  0.250819  0.360216  0.648452  0.282211  0.414755  0.592009   \n",
       "\n",
       "      42500    62500     87500    125000    225000  \n",
       "0  0.671282  0.93859  0.586936  0.740725  0.514005  \n",
       "1  0.671282  0.93859  0.586936  0.740725  0.514005  \n",
       "2  0.671282  0.93859  0.586936  0.740725  0.514005  \n",
       "3  0.671282  0.93859  0.586936  0.740725  0.514005  \n",
       "4  0.671282  0.93859  0.586936  0.740725  0.514005  "
      ]
     },
     "execution_count": 5,
     "metadata": {},
     "output_type": "execute_result"
    }
   ],
   "source": [
    "wages = pd.read_csv('../modeling/final_allMode_with_2017wage_cleaned_update.csv')\n",
    "wages.head(5)"
   ]
  },
  {
   "cell_type": "code",
   "execution_count": 6,
   "metadata": {},
   "outputs": [],
   "source": [
    "# agg_scene_1 = results_scene_1.drop('destination',axis=1).groupby('origin').sum()\n",
    "# agg_scene_1.head()\n",
    "# agg_scene_1.columns = [name + '_predicted' for name in agg_scene_1.columns]\n",
    "# acs = pd.read_csv('final_acs_transportation_choice.csv',index_col=0)\n",
    "# acs.head()\n",
    "# acs.columns = [name + '_actual' for name in acs.columns]\n",
    "# scene_1_combined = agg_scene_1.merge(acs,how='left',left_index=True,right_index=True)\n",
    "# scene_1_combined.head()"
   ]
  },
  {
   "cell_type": "code",
   "execution_count": 7,
   "metadata": {},
   "outputs": [],
   "source": [
    "# Renaming for convenience in calculation\n",
    "results_scene_1.columns = [re.sub(r'[^\\d.]+','',col) for col in results_scene_1.columns]\n",
    "results_scene_2.columns = [re.sub(r'[^\\d.]+','',col) for col in results_scene_2.columns]\n",
    "results_scene_3.columns = [re.sub(r'[^\\d.]+','',col) for col in results_scene_3.columns]"
   ]
  },
  {
   "cell_type": "code",
   "execution_count": 8,
   "metadata": {},
   "outputs": [],
   "source": [
    "results_scene_1.reset_index(inplace=True)\n",
    "results_scene_2.reset_index(inplace=True)\n",
    "results_scene_3.reset_index(inplace=True)\n",
    "results_scene_1.rename_axis({'index':'ODpair'},axis=1,inplace=True)\n",
    "results_scene_2.rename_axis({'index':'ODpair'},axis=1,inplace=True)\n",
    "results_scene_3.rename_axis({'index':'ODpair'},axis=1,inplace=True)"
   ]
  },
  {
   "cell_type": "code",
   "execution_count": 9,
   "metadata": {},
   "outputs": [
    {
     "data": {
      "text/html": [
       "<div>\n",
       "<style scoped>\n",
       "    .dataframe tbody tr th:only-of-type {\n",
       "        vertical-align: middle;\n",
       "    }\n",
       "\n",
       "    .dataframe tbody tr th {\n",
       "        vertical-align: top;\n",
       "    }\n",
       "\n",
       "    .dataframe thead th {\n",
       "        text-align: right;\n",
       "    }\n",
       "</style>\n",
       "<table border=\"1\" class=\"dataframe\">\n",
       "  <thead>\n",
       "    <tr style=\"text-align: right;\">\n",
       "      <th></th>\n",
       "      <th>ODpair</th>\n",
       "      <th>1</th>\n",
       "      <th>2</th>\n",
       "      <th>3</th>\n",
       "      <th>4</th>\n",
       "      <th>5</th>\n",
       "      <th>6</th>\n",
       "    </tr>\n",
       "  </thead>\n",
       "  <tbody>\n",
       "    <tr>\n",
       "      <th>0</th>\n",
       "      <td>10-100</td>\n",
       "      <td>0.000000e+00</td>\n",
       "      <td>0.000000e+00</td>\n",
       "      <td>0.000000e+00</td>\n",
       "      <td>158.836678</td>\n",
       "      <td>6.649285</td>\n",
       "      <td>2.766530e-08</td>\n",
       "    </tr>\n",
       "    <tr>\n",
       "      <th>1</th>\n",
       "      <td>10-101</td>\n",
       "      <td>0.000000e+00</td>\n",
       "      <td>7.819299e-28</td>\n",
       "      <td>2.118372e-15</td>\n",
       "      <td>2.354671</td>\n",
       "      <td>25.406686</td>\n",
       "      <td>4.918278e+01</td>\n",
       "    </tr>\n",
       "    <tr>\n",
       "      <th>2</th>\n",
       "      <td>10-102</td>\n",
       "      <td>1.464256e-09</td>\n",
       "      <td>7.463596e-65</td>\n",
       "      <td>1.818113e-56</td>\n",
       "      <td>0.051058</td>\n",
       "      <td>7.632931</td>\n",
       "      <td>2.990898e+01</td>\n",
       "    </tr>\n",
       "    <tr>\n",
       "      <th>3</th>\n",
       "      <td>10-106</td>\n",
       "      <td>0.000000e+00</td>\n",
       "      <td>0.000000e+00</td>\n",
       "      <td>0.000000e+00</td>\n",
       "      <td>6.353996</td>\n",
       "      <td>2.722825</td>\n",
       "      <td>1.432621e+01</td>\n",
       "    </tr>\n",
       "    <tr>\n",
       "      <th>4</th>\n",
       "      <td>10-107</td>\n",
       "      <td>0.000000e+00</td>\n",
       "      <td>0.000000e+00</td>\n",
       "      <td>0.000000e+00</td>\n",
       "      <td>47.267298</td>\n",
       "      <td>1.615599</td>\n",
       "      <td>4.697229e+00</td>\n",
       "    </tr>\n",
       "  </tbody>\n",
       "</table>\n",
       "</div>"
      ],
      "text/plain": [
       "   ODpair             1             2             3           4          5  \\\n",
       "0  10-100  0.000000e+00  0.000000e+00  0.000000e+00  158.836678   6.649285   \n",
       "1  10-101  0.000000e+00  7.819299e-28  2.118372e-15    2.354671  25.406686   \n",
       "2  10-102  1.464256e-09  7.463596e-65  1.818113e-56    0.051058   7.632931   \n",
       "3  10-106  0.000000e+00  0.000000e+00  0.000000e+00    6.353996   2.722825   \n",
       "4  10-107  0.000000e+00  0.000000e+00  0.000000e+00   47.267298   1.615599   \n",
       "\n",
       "              6  \n",
       "0  2.766530e-08  \n",
       "1  4.918278e+01  \n",
       "2  2.990898e+01  \n",
       "3  1.432621e+01  \n",
       "4  4.697229e+00  "
      ]
     },
     "execution_count": 9,
     "metadata": {},
     "output_type": "execute_result"
    }
   ],
   "source": [
    "results_scene_1.head()"
   ]
  },
  {
   "cell_type": "code",
   "execution_count": 10,
   "metadata": {},
   "outputs": [],
   "source": [
    "# Getting the origin taxi zone\n",
    "results_scene_1['origin'] = results_scene_1.ODpair.apply(lambda x: x.split('-')[0]).astype('int')\n",
    "results_scene_2['origin'] = results_scene_2.ODpair.apply(lambda x: x.split('-')[0]).astype('int')\n",
    "results_scene_3['origin'] = results_scene_3.ODpair.apply(lambda x: x.split('-')[0]).astype('int')"
   ]
  },
  {
   "cell_type": "code",
   "execution_count": 11,
   "metadata": {},
   "outputs": [
    {
     "data": {
      "text/html": [
       "<div>\n",
       "<style scoped>\n",
       "    .dataframe tbody tr th:only-of-type {\n",
       "        vertical-align: middle;\n",
       "    }\n",
       "\n",
       "    .dataframe tbody tr th {\n",
       "        vertical-align: top;\n",
       "    }\n",
       "\n",
       "    .dataframe thead th {\n",
       "        text-align: right;\n",
       "    }\n",
       "</style>\n",
       "<table border=\"1\" class=\"dataframe\">\n",
       "  <thead>\n",
       "    <tr style=\"text-align: right;\">\n",
       "      <th></th>\n",
       "      <th>ODpair</th>\n",
       "      <th>1</th>\n",
       "      <th>2</th>\n",
       "      <th>3</th>\n",
       "      <th>4</th>\n",
       "      <th>5</th>\n",
       "      <th>6</th>\n",
       "      <th>origin</th>\n",
       "    </tr>\n",
       "  </thead>\n",
       "  <tbody>\n",
       "    <tr>\n",
       "      <th>0</th>\n",
       "      <td>10-100</td>\n",
       "      <td>0.000000e+00</td>\n",
       "      <td>0.000000e+00</td>\n",
       "      <td>0.000000e+00</td>\n",
       "      <td>158.836678</td>\n",
       "      <td>6.649285</td>\n",
       "      <td>2.766530e-08</td>\n",
       "      <td>10</td>\n",
       "    </tr>\n",
       "    <tr>\n",
       "      <th>1</th>\n",
       "      <td>10-101</td>\n",
       "      <td>0.000000e+00</td>\n",
       "      <td>7.819299e-28</td>\n",
       "      <td>2.118372e-15</td>\n",
       "      <td>2.354671</td>\n",
       "      <td>25.406686</td>\n",
       "      <td>4.918278e+01</td>\n",
       "      <td>10</td>\n",
       "    </tr>\n",
       "    <tr>\n",
       "      <th>2</th>\n",
       "      <td>10-102</td>\n",
       "      <td>1.464256e-09</td>\n",
       "      <td>7.463596e-65</td>\n",
       "      <td>1.818113e-56</td>\n",
       "      <td>0.051058</td>\n",
       "      <td>7.632931</td>\n",
       "      <td>2.990898e+01</td>\n",
       "      <td>10</td>\n",
       "    </tr>\n",
       "    <tr>\n",
       "      <th>3</th>\n",
       "      <td>10-106</td>\n",
       "      <td>0.000000e+00</td>\n",
       "      <td>0.000000e+00</td>\n",
       "      <td>0.000000e+00</td>\n",
       "      <td>6.353996</td>\n",
       "      <td>2.722825</td>\n",
       "      <td>1.432621e+01</td>\n",
       "      <td>10</td>\n",
       "    </tr>\n",
       "    <tr>\n",
       "      <th>4</th>\n",
       "      <td>10-107</td>\n",
       "      <td>0.000000e+00</td>\n",
       "      <td>0.000000e+00</td>\n",
       "      <td>0.000000e+00</td>\n",
       "      <td>47.267298</td>\n",
       "      <td>1.615599</td>\n",
       "      <td>4.697229e+00</td>\n",
       "      <td>10</td>\n",
       "    </tr>\n",
       "  </tbody>\n",
       "</table>\n",
       "</div>"
      ],
      "text/plain": [
       "   ODpair             1             2             3           4          5  \\\n",
       "0  10-100  0.000000e+00  0.000000e+00  0.000000e+00  158.836678   6.649285   \n",
       "1  10-101  0.000000e+00  7.819299e-28  2.118372e-15    2.354671  25.406686   \n",
       "2  10-102  1.464256e-09  7.463596e-65  1.818113e-56    0.051058   7.632931   \n",
       "3  10-106  0.000000e+00  0.000000e+00  0.000000e+00    6.353996   2.722825   \n",
       "4  10-107  0.000000e+00  0.000000e+00  0.000000e+00   47.267298   1.615599   \n",
       "\n",
       "              6  origin  \n",
       "0  2.766530e-08      10  \n",
       "1  4.918278e+01      10  \n",
       "2  2.990898e+01      10  \n",
       "3  1.432621e+01      10  \n",
       "4  4.697229e+00      10  "
      ]
     },
     "execution_count": 11,
     "metadata": {},
     "output_type": "execute_result"
    }
   ],
   "source": [
    "results_scene_1.head()"
   ]
  },
  {
   "cell_type": "code",
   "execution_count": 12,
   "metadata": {},
   "outputs": [],
   "source": [
    "# Aggregating the number of people in each ODpair by the origin zone\n",
    "agg_scene_1 = results_scene_1.groupby('origin').sum()\n",
    "agg_scene_2 = results_scene_2.groupby('origin').sum()\n",
    "agg_scene_3 = results_scene_3.groupby('origin').sum()"
   ]
  },
  {
   "cell_type": "code",
   "execution_count": 13,
   "metadata": {},
   "outputs": [],
   "source": [
    "agg_scene_1.columns = agg_scene_1.columns.astype('int')\n",
    "agg_scene_2.columns = agg_scene_2.columns.astype('int')\n",
    "agg_scene_3.columns = agg_scene_3.columns.astype('int')"
   ]
  },
  {
   "cell_type": "code",
   "execution_count": 14,
   "metadata": {},
   "outputs": [
    {
     "data": {
      "text/html": [
       "<div>\n",
       "<style scoped>\n",
       "    .dataframe tbody tr th:only-of-type {\n",
       "        vertical-align: middle;\n",
       "    }\n",
       "\n",
       "    .dataframe tbody tr th {\n",
       "        vertical-align: top;\n",
       "    }\n",
       "\n",
       "    .dataframe thead th {\n",
       "        text-align: right;\n",
       "    }\n",
       "</style>\n",
       "<table border=\"1\" class=\"dataframe\">\n",
       "  <thead>\n",
       "    <tr style=\"text-align: right;\">\n",
       "      <th></th>\n",
       "      <th>1</th>\n",
       "      <th>2</th>\n",
       "      <th>3</th>\n",
       "      <th>4</th>\n",
       "      <th>5</th>\n",
       "      <th>6</th>\n",
       "    </tr>\n",
       "    <tr>\n",
       "      <th>origin</th>\n",
       "      <th></th>\n",
       "      <th></th>\n",
       "      <th></th>\n",
       "      <th></th>\n",
       "      <th></th>\n",
       "      <th></th>\n",
       "    </tr>\n",
       "  </thead>\n",
       "  <tbody>\n",
       "    <tr>\n",
       "      <th>3</th>\n",
       "      <td>3.309133</td>\n",
       "      <td>196.244949</td>\n",
       "      <td>0.048633</td>\n",
       "      <td>4858.671555</td>\n",
       "      <td>1013.582303</td>\n",
       "      <td>2646.097794</td>\n",
       "    </tr>\n",
       "    <tr>\n",
       "      <th>4</th>\n",
       "      <td>255.673052</td>\n",
       "      <td>26.554637</td>\n",
       "      <td>0.002890</td>\n",
       "      <td>4401.149421</td>\n",
       "      <td>3518.346003</td>\n",
       "      <td>1991.096026</td>\n",
       "    </tr>\n",
       "    <tr>\n",
       "      <th>5</th>\n",
       "      <td>0.000000</td>\n",
       "      <td>119.877305</td>\n",
       "      <td>4.170957</td>\n",
       "      <td>3387.044986</td>\n",
       "      <td>524.942466</td>\n",
       "      <td>3443.210360</td>\n",
       "    </tr>\n",
       "    <tr>\n",
       "      <th>6</th>\n",
       "      <td>38.479078</td>\n",
       "      <td>0.013244</td>\n",
       "      <td>56.515609</td>\n",
       "      <td>2757.610445</td>\n",
       "      <td>230.213139</td>\n",
       "      <td>1779.850299</td>\n",
       "    </tr>\n",
       "    <tr>\n",
       "      <th>7</th>\n",
       "      <td>130.927202</td>\n",
       "      <td>23.475937</td>\n",
       "      <td>7.535659</td>\n",
       "      <td>26040.374400</td>\n",
       "      <td>1831.437034</td>\n",
       "      <td>9030.464309</td>\n",
       "    </tr>\n",
       "  </tbody>\n",
       "</table>\n",
       "</div>"
      ],
      "text/plain": [
       "                 1           2          3             4            5  \\\n",
       "origin                                                                 \n",
       "3         3.309133  196.244949   0.048633   4858.671555  1013.582303   \n",
       "4       255.673052   26.554637   0.002890   4401.149421  3518.346003   \n",
       "5         0.000000  119.877305   4.170957   3387.044986   524.942466   \n",
       "6        38.479078    0.013244  56.515609   2757.610445   230.213139   \n",
       "7       130.927202   23.475937   7.535659  26040.374400  1831.437034   \n",
       "\n",
       "                  6  \n",
       "origin               \n",
       "3       2646.097794  \n",
       "4       1991.096026  \n",
       "5       3443.210360  \n",
       "6       1779.850299  \n",
       "7       9030.464309  "
      ]
     },
     "execution_count": 14,
     "metadata": {},
     "output_type": "execute_result"
    }
   ],
   "source": [
    "agg_scene_1.head()"
   ]
  },
  {
   "cell_type": "code",
   "execution_count": 15,
   "metadata": {},
   "outputs": [],
   "source": [
    "pickup_list = wages.PUlocationID.unique()"
   ]
  },
  {
   "cell_type": "code",
   "execution_count": 16,
   "metadata": {},
   "outputs": [],
   "source": [
    "origin_time_and_money_avg = wages.groupby(['PUlocationID','mode'],as_index=False)['duration','price'].mean()"
   ]
  },
  {
   "cell_type": "code",
   "execution_count": 17,
   "metadata": {},
   "outputs": [
    {
     "data": {
      "text/html": [
       "<div>\n",
       "<style scoped>\n",
       "    .dataframe tbody tr th:only-of-type {\n",
       "        vertical-align: middle;\n",
       "    }\n",
       "\n",
       "    .dataframe tbody tr th {\n",
       "        vertical-align: top;\n",
       "    }\n",
       "\n",
       "    .dataframe thead th {\n",
       "        text-align: right;\n",
       "    }\n",
       "</style>\n",
       "<table border=\"1\" class=\"dataframe\">\n",
       "  <thead>\n",
       "    <tr style=\"text-align: right;\">\n",
       "      <th></th>\n",
       "      <th>PUlocationID</th>\n",
       "      <th>mode</th>\n",
       "      <th>duration</th>\n",
       "      <th>price</th>\n",
       "    </tr>\n",
       "  </thead>\n",
       "  <tbody>\n",
       "    <tr>\n",
       "      <th>0</th>\n",
       "      <td>3</td>\n",
       "      <td>1</td>\n",
       "      <td>38.302359</td>\n",
       "      <td>37.428045</td>\n",
       "    </tr>\n",
       "    <tr>\n",
       "      <th>1</th>\n",
       "      <td>3</td>\n",
       "      <td>2</td>\n",
       "      <td>37.718869</td>\n",
       "      <td>56.582192</td>\n",
       "    </tr>\n",
       "    <tr>\n",
       "      <th>2</th>\n",
       "      <td>3</td>\n",
       "      <td>3</td>\n",
       "      <td>41.066196</td>\n",
       "      <td>50.717949</td>\n",
       "    </tr>\n",
       "    <tr>\n",
       "      <th>3</th>\n",
       "      <td>3</td>\n",
       "      <td>4</td>\n",
       "      <td>81.756356</td>\n",
       "      <td>5.948623</td>\n",
       "    </tr>\n",
       "    <tr>\n",
       "      <th>4</th>\n",
       "      <td>3</td>\n",
       "      <td>5</td>\n",
       "      <td>268.553355</td>\n",
       "      <td>0.000000</td>\n",
       "    </tr>\n",
       "  </tbody>\n",
       "</table>\n",
       "</div>"
      ],
      "text/plain": [
       "   PUlocationID  mode    duration      price\n",
       "0             3     1   38.302359  37.428045\n",
       "1             3     2   37.718869  56.582192\n",
       "2             3     3   41.066196  50.717949\n",
       "3             3     4   81.756356   5.948623\n",
       "4             3     5  268.553355   0.000000"
      ]
     },
     "execution_count": 17,
     "metadata": {},
     "output_type": "execute_result"
    }
   ],
   "source": [
    "origin_time_and_money_avg.head()"
   ]
  },
  {
   "cell_type": "code",
   "execution_count": 18,
   "metadata": {},
   "outputs": [
    {
     "data": {
      "text/plain": [
       "(256, 6)"
      ]
     },
     "execution_count": 18,
     "metadata": {},
     "output_type": "execute_result"
    }
   ],
   "source": [
    "agg_scene_1.shape"
   ]
  },
  {
   "cell_type": "code",
   "execution_count": 19,
   "metadata": {},
   "outputs": [
    {
     "data": {
      "text/plain": [
       "256"
      ]
     },
     "execution_count": 19,
     "metadata": {},
     "output_type": "execute_result"
    }
   ],
   "source": [
    "len(pickup_list)"
   ]
  },
  {
   "cell_type": "markdown",
   "metadata": {},
   "source": [
    "## Status quo Commute Statistics"
   ]
  },
  {
   "cell_type": "code",
   "execution_count": 20,
   "metadata": {},
   "outputs": [],
   "source": [
    "pivoted_time = origin_time_and_money_avg.reset_index().pivot(index='PUlocationID',columns='mode',values='duration')"
   ]
  },
  {
   "cell_type": "code",
   "execution_count": 21,
   "metadata": {},
   "outputs": [],
   "source": [
    "commute_time = pivoted_time.multiply(agg_scene_1).sum().sum()"
   ]
  },
  {
   "cell_type": "code",
   "execution_count": 22,
   "metadata": {},
   "outputs": [
    {
     "data": {
      "text/plain": [
       "80.60148231599001"
      ]
     },
     "execution_count": 22,
     "metadata": {},
     "output_type": "execute_result"
    }
   ],
   "source": [
    "avg_commute_time = commute_time/agg_scene_1.sum().sum()\n",
    "avg_commute_time"
   ]
  },
  {
   "cell_type": "code",
   "execution_count": 23,
   "metadata": {},
   "outputs": [],
   "source": [
    "pivoted_money = origin_time_and_money_avg.reset_index().pivot(index='PUlocationID',columns='mode',values='price')"
   ]
  },
  {
   "cell_type": "code",
   "execution_count": 24,
   "metadata": {},
   "outputs": [],
   "source": [
    "commute_cost = pivoted_money.multiply(agg_scene_1).sum().sum()"
   ]
  },
  {
   "cell_type": "code",
   "execution_count": 25,
   "metadata": {},
   "outputs": [
    {
     "data": {
      "text/plain": [
       "8.47199408181695"
      ]
     },
     "execution_count": 25,
     "metadata": {},
     "output_type": "execute_result"
    }
   ],
   "source": [
    "avg_commute_cost = commute_cost/agg_scene_1.sum().sum()\n",
    "avg_commute_cost"
   ]
  },
  {
   "cell_type": "markdown",
   "metadata": {},
   "source": [
    "## Subway ridership"
   ]
  },
  {
   "cell_type": "code",
   "execution_count": 26,
   "metadata": {},
   "outputs": [
    {
     "data": {
      "text/plain": [
       "30060.923814646987"
      ]
     },
     "execution_count": 26,
     "metadata": {},
     "output_type": "execute_result"
    }
   ],
   "source": [
    "agg_scene_3.sum()[0:3].sum()"
   ]
  },
  {
   "cell_type": "code",
   "execution_count": 27,
   "metadata": {},
   "outputs": [
    {
     "data": {
      "text/plain": [
       "1    9.720936e+03\n",
       "2    1.475381e+04\n",
       "3    5.745300e+03\n",
       "4    1.756041e+06\n",
       "5    3.071924e+05\n",
       "6    7.865649e+05\n",
       "dtype: float64"
      ]
     },
     "execution_count": 27,
     "metadata": {},
     "output_type": "execute_result"
    }
   ],
   "source": [
    "agg_scene_1.sum()"
   ]
  },
  {
   "cell_type": "code",
   "execution_count": 28,
   "metadata": {},
   "outputs": [
    {
     "data": {
      "text/plain": [
       "1    5.792926e+03\n",
       "2    1.397524e+04\n",
       "3    8.366256e+03\n",
       "4    1.778124e+06\n",
       "5    3.091325e+05\n",
       "6    7.881405e+05\n",
       "dtype: float64"
      ]
     },
     "execution_count": 28,
     "metadata": {},
     "output_type": "execute_result"
    }
   ],
   "source": [
    "agg_scene_2.sum()"
   ]
  },
  {
   "cell_type": "code",
   "execution_count": 29,
   "metadata": {},
   "outputs": [
    {
     "data": {
      "text/plain": [
       "28134.42353826024"
      ]
     },
     "execution_count": 29,
     "metadata": {},
     "output_type": "execute_result"
    }
   ],
   "source": [
    "agg_scene_2.sum()[0:3].sum()"
   ]
  },
  {
   "cell_type": "code",
   "execution_count": 30,
   "metadata": {},
   "outputs": [
    {
     "data": {
      "text/plain": [
       "30220.042331546694"
      ]
     },
     "execution_count": 30,
     "metadata": {},
     "output_type": "execute_result"
    }
   ],
   "source": [
    "agg_scene_1.sum()[0:3].sum()"
   ]
  },
  {
   "cell_type": "code",
   "execution_count": 31,
   "metadata": {},
   "outputs": [
    {
     "data": {
      "text/plain": [
       "1756040.673507573"
      ]
     },
     "execution_count": 31,
     "metadata": {},
     "output_type": "execute_result"
    }
   ],
   "source": [
    "agg_scene_1.sum()[4]"
   ]
  },
  {
   "cell_type": "code",
   "execution_count": 34,
   "metadata": {},
   "outputs": [
    {
     "data": {
      "text/plain": [
       "1778124.369028269"
      ]
     },
     "execution_count": 34,
     "metadata": {},
     "output_type": "execute_result"
    }
   ],
   "source": [
    "agg_scene_2.sum()[4]"
   ]
  },
  {
   "cell_type": "code",
   "execution_count": 36,
   "metadata": {},
   "outputs": [
    {
     "data": {
      "text/plain": [
       "1900475.985169863"
      ]
     },
     "execution_count": 36,
     "metadata": {},
     "output_type": "execute_result"
    }
   ],
   "source": [
    "agg_scene_3.sum()[4]"
   ]
  },
  {
   "cell_type": "code",
   "execution_count": 37,
   "metadata": {},
   "outputs": [
    {
     "data": {
      "text/plain": [
       "22083.695520695997"
      ]
     },
     "execution_count": 37,
     "metadata": {},
     "output_type": "execute_result"
    }
   ],
   "source": [
    "agg_scene_2.sum()[4] - agg_scene_1.sum()[4]"
   ]
  },
  {
   "cell_type": "code",
   "execution_count": 38,
   "metadata": {},
   "outputs": [
    {
     "data": {
      "text/plain": [
       "144435.31166229"
      ]
     },
     "execution_count": 38,
     "metadata": {},
     "output_type": "execute_result"
    }
   ],
   "source": [
    "agg_scene_3.sum()[4] - agg_scene_1.sum()[4]"
   ]
  },
  {
   "cell_type": "code",
   "execution_count": 39,
   "metadata": {},
   "outputs": [
    {
     "data": {
      "text/plain": [
       "122351.61614159402"
      ]
     },
     "execution_count": 39,
     "metadata": {},
     "output_type": "execute_result"
    }
   ],
   "source": [
    "agg_scene_3.sum()[4] - agg_scene_2.sum()[4]"
   ]
  },
  {
   "cell_type": "code",
   "execution_count": 40,
   "metadata": {},
   "outputs": [
    {
     "data": {
      "text/plain": [
       "1.2575845112166624"
      ]
     },
     "execution_count": 40,
     "metadata": {},
     "output_type": "execute_result"
    }
   ],
   "source": [
    "(agg_scene_2.sum()[4] - agg_scene_1.sum()[4])/agg_scene_1.sum()[4] * 100"
   ]
  },
  {
   "cell_type": "code",
   "execution_count": 41,
   "metadata": {},
   "outputs": [
    {
     "data": {
      "text/plain": [
       "8.225055025279692"
      ]
     },
     "execution_count": 41,
     "metadata": {},
     "output_type": "execute_result"
    }
   ],
   "source": [
    "(agg_scene_3.sum()[4] - agg_scene_1.sum()[4])/agg_scene_1.sum()[4] * 100"
   ]
  },
  {
   "cell_type": "code",
   "execution_count": 42,
   "metadata": {},
   "outputs": [
    {
     "data": {
      "text/plain": [
       "6.88093691716616"
      ]
     },
     "execution_count": 42,
     "metadata": {},
     "output_type": "execute_result"
    }
   ],
   "source": [
    "(agg_scene_3.sum()[4] - agg_scene_2.sum()[4])/agg_scene_2.sum()[4] * 100"
   ]
  },
  {
   "cell_type": "markdown",
   "metadata": {},
   "source": [
    "### Scenario 1 VS 2"
   ]
  },
  {
   "cell_type": "code",
   "execution_count": 43,
   "metadata": {},
   "outputs": [
    {
     "name": "stderr",
     "output_type": "stream",
     "text": [
      "100%|██████████| 256/256 [00:01<00:00, 197.51it/s]\n"
     ]
    }
   ],
   "source": [
    "time_diff = 0\n",
    "money_diff = 0\n",
    "for zone in tqdm(pickup_list,position=0):\n",
    "    for col in agg_scene_1.columns:\n",
    "        diff = (agg_scene_2.loc[zone,col]-agg_scene_1.loc[zone,col])\n",
    "        time_and_money = (origin_time_and_money_avg.loc[(origin_time_and_money_avg['PUlocationID']==zone)\\\n",
    "                                                       & (origin_time_and_money_avg['mode']==col)])\n",
    "        time_diff+= diff * (0 if time_and_money.empty else time_and_money['duration'].values[0])\n",
    "        money_diff+= diff * (0 if time_and_money.empty else time_and_money['price'].values[0])"
   ]
  },
  {
   "cell_type": "code",
   "execution_count": 44,
   "metadata": {},
   "outputs": [
    {
     "data": {
      "text/plain": [
       "1553001.4970121356"
      ]
     },
     "execution_count": 44,
     "metadata": {},
     "output_type": "execute_result"
    }
   ],
   "source": [
    "time_diff"
   ]
  },
  {
   "cell_type": "code",
   "execution_count": 45,
   "metadata": {},
   "outputs": [
    {
     "data": {
      "text/plain": [
       "84485.61321272806"
      ]
     },
     "execution_count": 45,
     "metadata": {},
     "output_type": "execute_result"
    }
   ],
   "source": [
    "money_diff"
   ]
  },
  {
   "cell_type": "code",
   "execution_count": 46,
   "metadata": {},
   "outputs": [],
   "source": [
    "population = agg_scene_1.sum().sum()"
   ]
  },
  {
   "cell_type": "code",
   "execution_count": 51,
   "metadata": {},
   "outputs": [
    {
     "data": {
      "text/plain": [
       "0.5392332606991136"
      ]
     },
     "execution_count": 51,
     "metadata": {},
     "output_type": "execute_result"
    }
   ],
   "source": [
    "# Extra commute time per person\n",
    "time_diff/population"
   ]
  },
  {
   "cell_type": "code",
   "execution_count": 52,
   "metadata": {},
   "outputs": [
    {
     "data": {
      "text/plain": [
       "0.6690115928452827"
      ]
     },
     "execution_count": 52,
     "metadata": {},
     "output_type": "execute_result"
    }
   ],
   "source": [
    "time_diff/population/avg_commute_time *100"
   ]
  },
  {
   "cell_type": "code",
   "execution_count": 53,
   "metadata": {},
   "outputs": [
    {
     "data": {
      "text/plain": [
       "0.02933509902116177"
      ]
     },
     "execution_count": 53,
     "metadata": {},
     "output_type": "execute_result"
    }
   ],
   "source": [
    "# Extra Money spent per person\n",
    "money_diff/population"
   ]
  },
  {
   "cell_type": "code",
   "execution_count": 54,
   "metadata": {},
   "outputs": [
    {
     "data": {
      "text/plain": [
       "0.3462596731992807"
      ]
     },
     "execution_count": 54,
     "metadata": {},
     "output_type": "execute_result"
    }
   ],
   "source": [
    "money_diff/population/avg_commute_cost *100"
   ]
  },
  {
   "cell_type": "markdown",
   "metadata": {},
   "source": [
    "### Scenario 1 VS 3"
   ]
  },
  {
   "cell_type": "code",
   "execution_count": 55,
   "metadata": {},
   "outputs": [
    {
     "name": "stderr",
     "output_type": "stream",
     "text": [
      "100%|██████████| 256/256 [00:01<00:00, 176.37it/s]\n"
     ]
    }
   ],
   "source": [
    "time_diff = 0\n",
    "money_diff = 0\n",
    "for zone in tqdm(pickup_list,position=0):\n",
    "    for col in agg_scene_1.columns:\n",
    "        diff = (agg_scene_3.loc[zone,col]-agg_scene_1.loc[zone,col])\n",
    "        time_and_money = (origin_time_and_money_avg.loc[(origin_time_and_money_avg['PUlocationID']==zone)\\\n",
    "                                                       & (origin_time_and_money_avg['mode']==int(col))])\n",
    "        time_diff+= diff * (0 if time_and_money.empty else time_and_money['duration'].values[0])\n",
    "        money_diff+= diff * (0 if time_and_money.empty else time_and_money['price'].values[0])"
   ]
  },
  {
   "cell_type": "code",
   "execution_count": 56,
   "metadata": {},
   "outputs": [
    {
     "data": {
      "text/plain": [
       "7906522.972436135"
      ]
     },
     "execution_count": 56,
     "metadata": {},
     "output_type": "execute_result"
    }
   ],
   "source": [
    "time_diff"
   ]
  },
  {
   "cell_type": "code",
   "execution_count": 57,
   "metadata": {},
   "outputs": [
    {
     "data": {
      "text/plain": [
       "-88272.66465275346"
      ]
     },
     "execution_count": 57,
     "metadata": {},
     "output_type": "execute_result"
    }
   ],
   "source": [
    "money_diff"
   ]
  },
  {
   "cell_type": "code",
   "execution_count": 58,
   "metadata": {},
   "outputs": [],
   "source": [
    "population = agg_scene_2.sum().sum()"
   ]
  },
  {
   "cell_type": "code",
   "execution_count": 59,
   "metadata": {},
   "outputs": [
    {
     "data": {
      "text/plain": [
       "2.723070866977508"
      ]
     },
     "execution_count": 59,
     "metadata": {},
     "output_type": "execute_result"
    }
   ],
   "source": [
    "# Extra commute time per person\n",
    "time_diff/population"
   ]
  },
  {
   "cell_type": "code",
   "execution_count": 60,
   "metadata": {},
   "outputs": [
    {
     "data": {
      "text/plain": [
       "3.3784377020536454"
      ]
     },
     "execution_count": 60,
     "metadata": {},
     "output_type": "execute_result"
    }
   ],
   "source": [
    "time_diff/population/avg_commute_time *100"
   ]
  },
  {
   "cell_type": "code",
   "execution_count": 61,
   "metadata": {},
   "outputs": [
    {
     "data": {
      "text/plain": [
       "-0.03040182420317755"
      ]
     },
     "execution_count": 61,
     "metadata": {},
     "output_type": "execute_result"
    }
   ],
   "source": [
    "# Money saved per person\n",
    "money_diff/population"
   ]
  },
  {
   "cell_type": "code",
   "execution_count": 62,
   "metadata": {},
   "outputs": [
    {
     "data": {
      "text/plain": [
       "-0.35885086686294526"
      ]
     },
     "execution_count": 62,
     "metadata": {},
     "output_type": "execute_result"
    }
   ],
   "source": [
    "money_diff/population/avg_commute_cost *100"
   ]
  },
  {
   "cell_type": "markdown",
   "metadata": {},
   "source": [
    "### Scenario 2 VS 3"
   ]
  },
  {
   "cell_type": "code",
   "execution_count": 63,
   "metadata": {},
   "outputs": [
    {
     "name": "stderr",
     "output_type": "stream",
     "text": [
      "100%|██████████| 256/256 [00:01<00:00, 197.39it/s]\n"
     ]
    }
   ],
   "source": [
    "time_diff = 0\n",
    "money_diff = 0\n",
    "for zone in tqdm(pickup_list,position=0):\n",
    "    for col in agg_scene_2.columns:\n",
    "        diff = (agg_scene_3.loc[zone,col]-agg_scene_2.loc[zone,col])\n",
    "        time_and_money = (origin_time_and_money_avg.loc[(origin_time_and_money_avg['PUlocationID']==zone)\\\n",
    "                                                       & (origin_time_and_money_avg['mode']==int(col))])\n",
    "        time_diff+= diff * (0 if time_and_money.empty else time_and_money['duration'].values[0])\n",
    "        money_diff+= diff * (0 if time_and_money.empty else time_and_money['price'].values[0])"
   ]
  },
  {
   "cell_type": "code",
   "execution_count": 64,
   "metadata": {},
   "outputs": [
    {
     "data": {
      "text/plain": [
       "6353521.475424019"
      ]
     },
     "execution_count": 64,
     "metadata": {},
     "output_type": "execute_result"
    }
   ],
   "source": [
    "time_diff"
   ]
  },
  {
   "cell_type": "code",
   "execution_count": 65,
   "metadata": {},
   "outputs": [
    {
     "data": {
      "text/plain": [
       "-172758.27786548133"
      ]
     },
     "execution_count": 65,
     "metadata": {},
     "output_type": "execute_result"
    }
   ],
   "source": [
    "money_diff"
   ]
  },
  {
   "cell_type": "code",
   "execution_count": 66,
   "metadata": {},
   "outputs": [],
   "source": [
    "population = agg_scene_2.sum().sum()"
   ]
  },
  {
   "cell_type": "code",
   "execution_count": 67,
   "metadata": {},
   "outputs": [
    {
     "data": {
      "text/plain": [
       "2.1882045107259502"
      ]
     },
     "execution_count": 67,
     "metadata": {},
     "output_type": "execute_result"
    }
   ],
   "source": [
    "# Extra commute time per person\n",
    "time_diff/population"
   ]
  },
  {
   "cell_type": "code",
   "execution_count": 68,
   "metadata": {},
   "outputs": [
    {
     "data": {
      "text/plain": [
       "2.707102006948927"
      ]
     },
     "execution_count": 68,
     "metadata": {},
     "output_type": "execute_result"
    }
   ],
   "source": [
    "time_diff/population/(avg_commute_time+0.23051090439821367) *100"
   ]
  },
  {
   "cell_type": "code",
   "execution_count": 69,
   "metadata": {},
   "outputs": [
    {
     "data": {
      "text/plain": [
       "-0.05949935706564437"
      ]
     },
     "execution_count": 69,
     "metadata": {},
     "output_type": "execute_result"
    }
   ],
   "source": [
    "# Money saved per person\n",
    "money_diff/population"
   ]
  },
  {
   "cell_type": "code",
   "execution_count": 70,
   "metadata": {},
   "outputs": [
    {
     "data": {
      "text/plain": [
       "-0.7191582142183935"
      ]
     },
     "execution_count": 70,
     "metadata": {},
     "output_type": "execute_result"
    }
   ],
   "source": [
    "money_diff/population/(avg_commute_cost-0.19852158448750543) *100"
   ]
  },
  {
   "cell_type": "markdown",
   "metadata": {},
   "source": [
    "#### Use below code only if you want exact values for the difference in time/money for commuters as it takes a very long time to run (>3 hours). It can also be used to get the difference for each taxi zone (after some minor changes)."
   ]
  },
  {
   "cell_type": "code",
   "execution_count": 148,
   "metadata": {},
   "outputs": [],
   "source": [
    "# time_total = 0\n",
    "# money_total = 0\n",
    "# for pair in tqdm(ODpair_list,position=0):\n",
    "#     time_pair = 0\n",
    "#     money_pair = 0\n",
    "#     for col in results_scene_1.columns:\n",
    "#         time_pair+=(results_scene_1.loc[results_scene_1.index==pair,col]-results_scene_2.loc[results_scene_2.index==pair,col])\\\n",
    "#         *wages.loc[(wages['ODpair']==pair) & wages['mode']==int(col),'duration']\n",
    "#         money_pair+=(results_scene_1.loc[results_scene_1.index==pair,col]-results_scene_2.loc[results_scene_2.index==pair,col])\\\n",
    "#         *wages.loc[(wages['ODpair']==pair) & wages['mode']==int(col),'price']\n",
    "#     time_total+=time_pair\n",
    "#     money_total+=money_pair"
   ]
  }
 ],
 "metadata": {
  "kernelspec": {
   "display_name": "Python 3",
   "language": "python",
   "name": "python3"
  },
  "language_info": {
   "codemirror_mode": {
    "name": "ipython",
    "version": 3
   },
   "file_extension": ".py",
   "mimetype": "text/x-python",
   "name": "python",
   "nbconvert_exporter": "python",
   "pygments_lexer": "ipython3",
   "version": "3.7.1"
  }
 },
 "nbformat": 4,
 "nbformat_minor": 2
}
