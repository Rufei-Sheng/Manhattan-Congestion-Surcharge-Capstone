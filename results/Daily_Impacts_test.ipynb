{
 "cells": [
  {
   "cell_type": "markdown",
   "metadata": {},
   "source": [
    "## Daily Impacts"
   ]
  },
  {
   "cell_type": "code",
   "execution_count": 2,
   "metadata": {},
   "outputs": [],
   "source": [
    "import numpy as np\n",
    "import pandas as pd\n",
    "import warnings\n",
    "warnings.filterwarnings(\"ignore\")\n",
    "import time\n",
    "import timeit\n",
    "from tqdm import tqdm\n",
    "from sklearn.model_selection import GridSearchCV\n",
    "import re"
   ]
  },
  {
   "cell_type": "code",
   "execution_count": 15,
   "metadata": {},
   "outputs": [
    {
     "data": {
      "text/html": [
       "<div>\n",
       "<style scoped>\n",
       "    .dataframe tbody tr th:only-of-type {\n",
       "        vertical-align: middle;\n",
       "    }\n",
       "\n",
       "    .dataframe tbody tr th {\n",
       "        vertical-align: top;\n",
       "    }\n",
       "\n",
       "    .dataframe thead th {\n",
       "        text-align: right;\n",
       "    }\n",
       "</style>\n",
       "<table border=\"1\" class=\"dataframe\">\n",
       "  <thead>\n",
       "    <tr style=\"text-align: right;\">\n",
       "      <th></th>\n",
       "      <th>P(mode1)</th>\n",
       "      <th>P(mode2)</th>\n",
       "      <th>P(mode3)</th>\n",
       "      <th>P(mode4)</th>\n",
       "      <th>P(mode5)</th>\n",
       "      <th>P(mode6)</th>\n",
       "    </tr>\n",
       "  </thead>\n",
       "  <tbody>\n",
       "    <tr>\n",
       "      <th>3-4</th>\n",
       "      <td>0.0</td>\n",
       "      <td>0.0</td>\n",
       "      <td>0.0</td>\n",
       "      <td>4.652835</td>\n",
       "      <td>0.335085</td>\n",
       "      <td>1.286075</td>\n",
       "    </tr>\n",
       "    <tr>\n",
       "      <th>3-7</th>\n",
       "      <td>0.0</td>\n",
       "      <td>0.0</td>\n",
       "      <td>0.0</td>\n",
       "      <td>14.415664</td>\n",
       "      <td>1.958350</td>\n",
       "      <td>15.466983</td>\n",
       "    </tr>\n",
       "    <tr>\n",
       "      <th>3-9</th>\n",
       "      <td>0.0</td>\n",
       "      <td>0.0</td>\n",
       "      <td>0.0</td>\n",
       "      <td>0.168665</td>\n",
       "      <td>0.097421</td>\n",
       "      <td>1.226766</td>\n",
       "    </tr>\n",
       "    <tr>\n",
       "      <th>3-10</th>\n",
       "      <td>0.0</td>\n",
       "      <td>0.0</td>\n",
       "      <td>0.0</td>\n",
       "      <td>0.188487</td>\n",
       "      <td>0.167608</td>\n",
       "      <td>1.866074</td>\n",
       "    </tr>\n",
       "    <tr>\n",
       "      <th>3-11</th>\n",
       "      <td>0.0</td>\n",
       "      <td>0.0</td>\n",
       "      <td>0.0</td>\n",
       "      <td>4.624413</td>\n",
       "      <td>0.195994</td>\n",
       "      <td>0.000385</td>\n",
       "    </tr>\n",
       "  </tbody>\n",
       "</table>\n",
       "</div>"
      ],
      "text/plain": [
       "      P(mode1)  P(mode2)  P(mode3)   P(mode4)  P(mode5)   P(mode6)\n",
       "3-4        0.0       0.0       0.0   4.652835  0.335085   1.286075\n",
       "3-7        0.0       0.0       0.0  14.415664  1.958350  15.466983\n",
       "3-9        0.0       0.0       0.0   0.168665  0.097421   1.226766\n",
       "3-10       0.0       0.0       0.0   0.188487  0.167608   1.866074\n",
       "3-11       0.0       0.0       0.0   4.624413  0.195994   0.000385"
      ]
     },
     "execution_count": 15,
     "metadata": {},
     "output_type": "execute_result"
    }
   ],
   "source": [
    "results_1_scene_1 = pd.read_csv('Final_results/Scaled_results_scenario1_0.04_1.5.csv',index_col=0)#,usecols=range(6))\n",
    "results_2_scene_1 = pd.read_csv('Final_results/Scaled_results_scenario1_0.05_1.5.csv',index_col=0)#,usecols=range(6))\n",
    "results_3_scene_1 = pd.read_csv('Final_results/Scaled_results_scenario1_0.06_1.5.csv',index_col=0)#,usecols=range(6))\n",
    "results_4_scene_1 = pd.read_csv('Final_results/Scaled_results_scenario1_0.05_1.4.csv',index_col=0)#,usecols=range(6))\n",
    "results_5_scene_1 = pd.read_csv('Final_results/Scaled_results_scenario1_0.05_1.6.csv',index_col=0)#,usecols=range(6))\n",
    "results_1_scene_1.head()"
   ]
  },
  {
   "cell_type": "code",
   "execution_count": 16,
   "metadata": {},
   "outputs": [
    {
     "data": {
      "text/html": [
       "<div>\n",
       "<style scoped>\n",
       "    .dataframe tbody tr th:only-of-type {\n",
       "        vertical-align: middle;\n",
       "    }\n",
       "\n",
       "    .dataframe tbody tr th {\n",
       "        vertical-align: top;\n",
       "    }\n",
       "\n",
       "    .dataframe thead th {\n",
       "        text-align: right;\n",
       "    }\n",
       "</style>\n",
       "<table border=\"1\" class=\"dataframe\">\n",
       "  <thead>\n",
       "    <tr style=\"text-align: right;\">\n",
       "      <th></th>\n",
       "      <th>P(mode1)</th>\n",
       "      <th>P(mode2)</th>\n",
       "      <th>P(mode3)</th>\n",
       "      <th>P(mode4)</th>\n",
       "      <th>P(mode5)</th>\n",
       "      <th>P(mode6)</th>\n",
       "    </tr>\n",
       "  </thead>\n",
       "  <tbody>\n",
       "    <tr>\n",
       "      <th>3-4</th>\n",
       "      <td>0.0</td>\n",
       "      <td>0.0</td>\n",
       "      <td>0.0</td>\n",
       "      <td>4.652835</td>\n",
       "      <td>0.335085</td>\n",
       "      <td>1.286075</td>\n",
       "    </tr>\n",
       "    <tr>\n",
       "      <th>3-7</th>\n",
       "      <td>0.0</td>\n",
       "      <td>0.0</td>\n",
       "      <td>0.0</td>\n",
       "      <td>14.415664</td>\n",
       "      <td>1.958350</td>\n",
       "      <td>15.466983</td>\n",
       "    </tr>\n",
       "    <tr>\n",
       "      <th>3-9</th>\n",
       "      <td>0.0</td>\n",
       "      <td>0.0</td>\n",
       "      <td>0.0</td>\n",
       "      <td>0.168665</td>\n",
       "      <td>0.097421</td>\n",
       "      <td>1.226766</td>\n",
       "    </tr>\n",
       "    <tr>\n",
       "      <th>3-10</th>\n",
       "      <td>0.0</td>\n",
       "      <td>0.0</td>\n",
       "      <td>0.0</td>\n",
       "      <td>0.188487</td>\n",
       "      <td>0.167608</td>\n",
       "      <td>1.866074</td>\n",
       "    </tr>\n",
       "    <tr>\n",
       "      <th>3-11</th>\n",
       "      <td>0.0</td>\n",
       "      <td>0.0</td>\n",
       "      <td>0.0</td>\n",
       "      <td>4.624413</td>\n",
       "      <td>0.195994</td>\n",
       "      <td>0.000385</td>\n",
       "    </tr>\n",
       "  </tbody>\n",
       "</table>\n",
       "</div>"
      ],
      "text/plain": [
       "      P(mode1)  P(mode2)  P(mode3)   P(mode4)  P(mode5)   P(mode6)\n",
       "3-4        0.0       0.0       0.0   4.652835  0.335085   1.286075\n",
       "3-7        0.0       0.0       0.0  14.415664  1.958350  15.466983\n",
       "3-9        0.0       0.0       0.0   0.168665  0.097421   1.226766\n",
       "3-10       0.0       0.0       0.0   0.188487  0.167608   1.866074\n",
       "3-11       0.0       0.0       0.0   4.624413  0.195994   0.000385"
      ]
     },
     "execution_count": 16,
     "metadata": {},
     "output_type": "execute_result"
    }
   ],
   "source": [
    "results_1_scene_2 = pd.read_csv('Final_results/Scaled_results_scenario2_0.04_1.5.csv',index_col=0)\n",
    "results_2_scene_2 = pd.read_csv('Final_results/Scaled_results_scenario2_0.05_1.5.csv',index_col=0)\n",
    "results_3_scene_2 = pd.read_csv('Final_results/Scaled_results_scenario2_0.06_1.5.csv',index_col=0)\n",
    "results_4_scene_2 = pd.read_csv('Final_results/Scaled_results_scenario2_0.05_1.4.csv',index_col=0)\n",
    "results_5_scene_2 = pd.read_csv('Final_results/Scaled_results_scenario2_0.05_1.6.csv',index_col=0)\n",
    "results_1_scene_2.head()"
   ]
  },
  {
   "cell_type": "code",
   "execution_count": 17,
   "metadata": {},
   "outputs": [
    {
     "data": {
      "text/html": [
       "<div>\n",
       "<style scoped>\n",
       "    .dataframe tbody tr th:only-of-type {\n",
       "        vertical-align: middle;\n",
       "    }\n",
       "\n",
       "    .dataframe tbody tr th {\n",
       "        vertical-align: top;\n",
       "    }\n",
       "\n",
       "    .dataframe thead th {\n",
       "        text-align: right;\n",
       "    }\n",
       "</style>\n",
       "<table border=\"1\" class=\"dataframe\">\n",
       "  <thead>\n",
       "    <tr style=\"text-align: right;\">\n",
       "      <th></th>\n",
       "      <th>P(mode1)</th>\n",
       "      <th>P(mode2)</th>\n",
       "      <th>P(mode3)</th>\n",
       "      <th>P(mode4)</th>\n",
       "      <th>P(mode5)</th>\n",
       "      <th>P(mode6)</th>\n",
       "    </tr>\n",
       "  </thead>\n",
       "  <tbody>\n",
       "    <tr>\n",
       "      <th>3-4</th>\n",
       "      <td>0.0</td>\n",
       "      <td>0.0</td>\n",
       "      <td>0.0</td>\n",
       "      <td>5.391788</td>\n",
       "      <td>0.335085</td>\n",
       "      <td>0.863334</td>\n",
       "    </tr>\n",
       "    <tr>\n",
       "      <th>3-7</th>\n",
       "      <td>0.0</td>\n",
       "      <td>0.0</td>\n",
       "      <td>0.0</td>\n",
       "      <td>14.415664</td>\n",
       "      <td>1.958350</td>\n",
       "      <td>15.466983</td>\n",
       "    </tr>\n",
       "    <tr>\n",
       "      <th>3-9</th>\n",
       "      <td>0.0</td>\n",
       "      <td>0.0</td>\n",
       "      <td>0.0</td>\n",
       "      <td>0.168665</td>\n",
       "      <td>0.097421</td>\n",
       "      <td>1.226766</td>\n",
       "    </tr>\n",
       "    <tr>\n",
       "      <th>3-10</th>\n",
       "      <td>0.0</td>\n",
       "      <td>0.0</td>\n",
       "      <td>0.0</td>\n",
       "      <td>0.188487</td>\n",
       "      <td>0.167608</td>\n",
       "      <td>1.866074</td>\n",
       "    </tr>\n",
       "    <tr>\n",
       "      <th>3-11</th>\n",
       "      <td>0.0</td>\n",
       "      <td>0.0</td>\n",
       "      <td>0.0</td>\n",
       "      <td>4.624413</td>\n",
       "      <td>0.195994</td>\n",
       "      <td>0.000385</td>\n",
       "    </tr>\n",
       "  </tbody>\n",
       "</table>\n",
       "</div>"
      ],
      "text/plain": [
       "      P(mode1)  P(mode2)  P(mode3)   P(mode4)  P(mode5)   P(mode6)\n",
       "3-4        0.0       0.0       0.0   5.391788  0.335085   0.863334\n",
       "3-7        0.0       0.0       0.0  14.415664  1.958350  15.466983\n",
       "3-9        0.0       0.0       0.0   0.168665  0.097421   1.226766\n",
       "3-10       0.0       0.0       0.0   0.188487  0.167608   1.866074\n",
       "3-11       0.0       0.0       0.0   4.624413  0.195994   0.000385"
      ]
     },
     "execution_count": 17,
     "metadata": {},
     "output_type": "execute_result"
    }
   ],
   "source": [
    "results_1_scene_3 = pd.read_csv('Final_results/Scaled_results_scenario3_0.04_1.5.csv',index_col=0)\n",
    "results_2_scene_3 = pd.read_csv('Final_results/Scaled_results_scenario3_0.05_1.5.csv',index_col=0)\n",
    "results_3_scene_3 = pd.read_csv('Final_results/Scaled_results_scenario3_0.06_1.5.csv',index_col=0)\n",
    "results_4_scene_3 = pd.read_csv('Final_results/Scaled_results_scenario3_0.05_1.4.csv',index_col=0)\n",
    "results_5_scene_3 = pd.read_csv('Final_results/Scaled_results_scenario3_0.05_1.6.csv',index_col=0)\n",
    "results_1_scene_3.head()"
   ]
  },
  {
   "cell_type": "code",
   "execution_count": 18,
   "metadata": {},
   "outputs": [
    {
     "data": {
      "text/html": [
       "<div>\n",
       "<style scoped>\n",
       "    .dataframe tbody tr th:only-of-type {\n",
       "        vertical-align: middle;\n",
       "    }\n",
       "\n",
       "    .dataframe tbody tr th {\n",
       "        vertical-align: top;\n",
       "    }\n",
       "\n",
       "    .dataframe thead th {\n",
       "        text-align: right;\n",
       "    }\n",
       "</style>\n",
       "<table border=\"1\" class=\"dataframe\">\n",
       "  <thead>\n",
       "    <tr style=\"text-align: right;\">\n",
       "      <th></th>\n",
       "      <th>Unnamed: 0</th>\n",
       "      <th>DOlocationID</th>\n",
       "      <th>ODpair</th>\n",
       "      <th>PUlocationID</th>\n",
       "      <th>duration</th>\n",
       "      <th>mode</th>\n",
       "      <th>nest</th>\n",
       "      <th>price</th>\n",
       "      <th>2500</th>\n",
       "      <th>7500</th>\n",
       "      <th>12500</th>\n",
       "      <th>17500</th>\n",
       "      <th>22500</th>\n",
       "      <th>30000</th>\n",
       "      <th>42500</th>\n",
       "      <th>62500</th>\n",
       "      <th>87500</th>\n",
       "      <th>125000</th>\n",
       "      <th>225000</th>\n",
       "    </tr>\n",
       "  </thead>\n",
       "  <tbody>\n",
       "    <tr>\n",
       "      <th>0</th>\n",
       "      <td>0</td>\n",
       "      <td>4</td>\n",
       "      <td>3-4</td>\n",
       "      <td>3</td>\n",
       "      <td>39.695000</td>\n",
       "      <td>2</td>\n",
       "      <td>1</td>\n",
       "      <td>64.000</td>\n",
       "      <td>0.250819</td>\n",
       "      <td>0.360216</td>\n",
       "      <td>0.648452</td>\n",
       "      <td>0.282211</td>\n",
       "      <td>0.414755</td>\n",
       "      <td>0.592009</td>\n",
       "      <td>0.671282</td>\n",
       "      <td>0.93859</td>\n",
       "      <td>0.586936</td>\n",
       "      <td>0.740725</td>\n",
       "      <td>0.514005</td>\n",
       "    </tr>\n",
       "    <tr>\n",
       "      <th>1</th>\n",
       "      <td>1</td>\n",
       "      <td>4</td>\n",
       "      <td>3-4</td>\n",
       "      <td>3</td>\n",
       "      <td>45.216667</td>\n",
       "      <td>3</td>\n",
       "      <td>1</td>\n",
       "      <td>61.500</td>\n",
       "      <td>0.250819</td>\n",
       "      <td>0.360216</td>\n",
       "      <td>0.648452</td>\n",
       "      <td>0.282211</td>\n",
       "      <td>0.414755</td>\n",
       "      <td>0.592009</td>\n",
       "      <td>0.671282</td>\n",
       "      <td>0.93859</td>\n",
       "      <td>0.586936</td>\n",
       "      <td>0.740725</td>\n",
       "      <td>0.514005</td>\n",
       "    </tr>\n",
       "    <tr>\n",
       "      <th>2</th>\n",
       "      <td>2</td>\n",
       "      <td>4</td>\n",
       "      <td>3-4</td>\n",
       "      <td>3</td>\n",
       "      <td>83.000000</td>\n",
       "      <td>4</td>\n",
       "      <td>2</td>\n",
       "      <td>5.500</td>\n",
       "      <td>0.250819</td>\n",
       "      <td>0.360216</td>\n",
       "      <td>0.648452</td>\n",
       "      <td>0.282211</td>\n",
       "      <td>0.414755</td>\n",
       "      <td>0.592009</td>\n",
       "      <td>0.671282</td>\n",
       "      <td>0.93859</td>\n",
       "      <td>0.586936</td>\n",
       "      <td>0.740725</td>\n",
       "      <td>0.514005</td>\n",
       "    </tr>\n",
       "    <tr>\n",
       "      <th>3</th>\n",
       "      <td>3</td>\n",
       "      <td>4</td>\n",
       "      <td>3-4</td>\n",
       "      <td>3</td>\n",
       "      <td>225.933333</td>\n",
       "      <td>5</td>\n",
       "      <td>3</td>\n",
       "      <td>0.000</td>\n",
       "      <td>0.250819</td>\n",
       "      <td>0.360216</td>\n",
       "      <td>0.648452</td>\n",
       "      <td>0.282211</td>\n",
       "      <td>0.414755</td>\n",
       "      <td>0.592009</td>\n",
       "      <td>0.671282</td>\n",
       "      <td>0.93859</td>\n",
       "      <td>0.586936</td>\n",
       "      <td>0.740725</td>\n",
       "      <td>0.514005</td>\n",
       "    </tr>\n",
       "    <tr>\n",
       "      <th>4</th>\n",
       "      <td>4</td>\n",
       "      <td>4</td>\n",
       "      <td>3-4</td>\n",
       "      <td>3</td>\n",
       "      <td>39.695000</td>\n",
       "      <td>6</td>\n",
       "      <td>4</td>\n",
       "      <td>29.424</td>\n",
       "      <td>0.250819</td>\n",
       "      <td>0.360216</td>\n",
       "      <td>0.648452</td>\n",
       "      <td>0.282211</td>\n",
       "      <td>0.414755</td>\n",
       "      <td>0.592009</td>\n",
       "      <td>0.671282</td>\n",
       "      <td>0.93859</td>\n",
       "      <td>0.586936</td>\n",
       "      <td>0.740725</td>\n",
       "      <td>0.514005</td>\n",
       "    </tr>\n",
       "  </tbody>\n",
       "</table>\n",
       "</div>"
      ],
      "text/plain": [
       "   Unnamed: 0  DOlocationID ODpair  PUlocationID    duration  mode  nest  \\\n",
       "0           0             4    3-4             3   39.695000     2     1   \n",
       "1           1             4    3-4             3   45.216667     3     1   \n",
       "2           2             4    3-4             3   83.000000     4     2   \n",
       "3           3             4    3-4             3  225.933333     5     3   \n",
       "4           4             4    3-4             3   39.695000     6     4   \n",
       "\n",
       "    price      2500      7500     12500     17500     22500     30000  \\\n",
       "0  64.000  0.250819  0.360216  0.648452  0.282211  0.414755  0.592009   \n",
       "1  61.500  0.250819  0.360216  0.648452  0.282211  0.414755  0.592009   \n",
       "2   5.500  0.250819  0.360216  0.648452  0.282211  0.414755  0.592009   \n",
       "3   0.000  0.250819  0.360216  0.648452  0.282211  0.414755  0.592009   \n",
       "4  29.424  0.250819  0.360216  0.648452  0.282211  0.414755  0.592009   \n",
       "\n",
       "      42500    62500     87500    125000    225000  \n",
       "0  0.671282  0.93859  0.586936  0.740725  0.514005  \n",
       "1  0.671282  0.93859  0.586936  0.740725  0.514005  \n",
       "2  0.671282  0.93859  0.586936  0.740725  0.514005  \n",
       "3  0.671282  0.93859  0.586936  0.740725  0.514005  \n",
       "4  0.671282  0.93859  0.586936  0.740725  0.514005  "
      ]
     },
     "execution_count": 18,
     "metadata": {},
     "output_type": "execute_result"
    }
   ],
   "source": [
    "wages = pd.read_csv('../modeling/final_allMode_with_2017wage_cleaned_update.csv')\n",
    "wages.head(5)"
   ]
  },
  {
   "cell_type": "code",
   "execution_count": 19,
   "metadata": {},
   "outputs": [],
   "source": [
    "# agg_scene_1 = results_scene_1.drop('destination',axis=1).groupby('origin').sum()\n",
    "# agg_scene_1.head()\n",
    "# agg_scene_1.columns = [name + '_predicted' for name in agg_scene_1.columns]\n",
    "# acs = pd.read_csv('final_acs_transportation_choice.csv',index_col=0)\n",
    "# acs.head()\n",
    "# acs.columns = [name + '_actual' for name in acs.columns]\n",
    "# scene_1_combined = agg_scene_1.merge(acs,how='left',left_index=True,right_index=True)\n",
    "# scene_1_combined.head()"
   ]
  },
  {
   "cell_type": "code",
   "execution_count": 20,
   "metadata": {},
   "outputs": [],
   "source": [
    "# Renaming for convenience in calculation\n",
    "results_1_scene_1.columns = [re.sub(r'[^\\d.]+','',col) for col in results_1_scene_1.columns]\n",
    "results_1_scene_2.columns = [re.sub(r'[^\\d.]+','',col) for col in results_1_scene_2.columns]\n",
    "results_1_scene_3.columns = [re.sub(r'[^\\d.]+','',col) for col in results_1_scene_3.columns]\n",
    "\n",
    "results_2_scene_1.columns = [re.sub(r'[^\\d.]+','',col) for col in results_2_scene_1.columns]\n",
    "results_2_scene_2.columns = [re.sub(r'[^\\d.]+','',col) for col in results_2_scene_2.columns]\n",
    "results_2_scene_3.columns = [re.sub(r'[^\\d.]+','',col) for col in results_2_scene_3.columns]\n",
    "\n",
    "results_3_scene_1.columns = [re.sub(r'[^\\d.]+','',col) for col in results_3_scene_1.columns]\n",
    "results_3_scene_2.columns = [re.sub(r'[^\\d.]+','',col) for col in results_3_scene_2.columns]\n",
    "results_3_scene_3.columns = [re.sub(r'[^\\d.]+','',col) for col in results_3_scene_3.columns]\n",
    "\n",
    "results_4_scene_1.columns = [re.sub(r'[^\\d.]+','',col) for col in results_4_scene_1.columns]\n",
    "results_4_scene_2.columns = [re.sub(r'[^\\d.]+','',col) for col in results_4_scene_2.columns]\n",
    "results_4_scene_3.columns = [re.sub(r'[^\\d.]+','',col) for col in results_4_scene_3.columns]\n",
    "\n",
    "results_5_scene_1.columns = [re.sub(r'[^\\d.]+','',col) for col in results_5_scene_1.columns]\n",
    "results_5_scene_2.columns = [re.sub(r'[^\\d.]+','',col) for col in results_5_scene_2.columns]\n",
    "results_5_scene_3.columns = [re.sub(r'[^\\d.]+','',col) for col in results_5_scene_3.columns]"
   ]
  },
  {
   "cell_type": "code",
   "execution_count": 21,
   "metadata": {},
   "outputs": [],
   "source": [
    "results_1_scene_1.reset_index(inplace=True)\n",
    "results_1_scene_2.reset_index(inplace=True)\n",
    "results_1_scene_3.reset_index(inplace=True)\n",
    "results_1_scene_1.rename_axis({'index':'ODpair'},axis=1,inplace=True)\n",
    "results_1_scene_2.rename_axis({'index':'ODpair'},axis=1,inplace=True)\n",
    "results_1_scene_3.rename_axis({'index':'ODpair'},axis=1,inplace=True)\n",
    "\n",
    "results_2_scene_1.reset_index(inplace=True)\n",
    "results_2_scene_2.reset_index(inplace=True)\n",
    "results_2_scene_3.reset_index(inplace=True)\n",
    "results_2_scene_1.rename_axis({'index':'ODpair'},axis=1,inplace=True)\n",
    "results_2_scene_2.rename_axis({'index':'ODpair'},axis=1,inplace=True)\n",
    "results_2_scene_3.rename_axis({'index':'ODpair'},axis=1,inplace=True)\n",
    "\n",
    "results_3_scene_1.reset_index(inplace=True)\n",
    "results_3_scene_2.reset_index(inplace=True)\n",
    "results_3_scene_3.reset_index(inplace=True)\n",
    "results_3_scene_1.rename_axis({'index':'ODpair'},axis=1,inplace=True)\n",
    "results_3_scene_2.rename_axis({'index':'ODpair'},axis=1,inplace=True)\n",
    "results_3_scene_3.rename_axis({'index':'ODpair'},axis=1,inplace=True)\n",
    "\n",
    "results_4_scene_1.reset_index(inplace=True)\n",
    "results_4_scene_2.reset_index(inplace=True)\n",
    "results_4_scene_3.reset_index(inplace=True)\n",
    "results_4_scene_1.rename_axis({'index':'ODpair'},axis=1,inplace=True)\n",
    "results_4_scene_2.rename_axis({'index':'ODpair'},axis=1,inplace=True)\n",
    "results_4_scene_3.rename_axis({'index':'ODpair'},axis=1,inplace=True)\n",
    "\n",
    "results_5_scene_1.reset_index(inplace=True)\n",
    "results_5_scene_2.reset_index(inplace=True)\n",
    "results_5_scene_3.reset_index(inplace=True)\n",
    "results_5_scene_1.rename_axis({'index':'ODpair'},axis=1,inplace=True)\n",
    "results_5_scene_2.rename_axis({'index':'ODpair'},axis=1,inplace=True)\n",
    "results_5_scene_3.rename_axis({'index':'ODpair'},axis=1,inplace=True)"
   ]
  },
  {
   "cell_type": "code",
   "execution_count": 22,
   "metadata": {},
   "outputs": [
    {
     "data": {
      "text/html": [
       "<div>\n",
       "<style scoped>\n",
       "    .dataframe tbody tr th:only-of-type {\n",
       "        vertical-align: middle;\n",
       "    }\n",
       "\n",
       "    .dataframe tbody tr th {\n",
       "        vertical-align: top;\n",
       "    }\n",
       "\n",
       "    .dataframe thead th {\n",
       "        text-align: right;\n",
       "    }\n",
       "</style>\n",
       "<table border=\"1\" class=\"dataframe\">\n",
       "  <thead>\n",
       "    <tr style=\"text-align: right;\">\n",
       "      <th></th>\n",
       "      <th>ODpair</th>\n",
       "      <th>1</th>\n",
       "      <th>2</th>\n",
       "      <th>3</th>\n",
       "      <th>4</th>\n",
       "      <th>5</th>\n",
       "      <th>6</th>\n",
       "    </tr>\n",
       "  </thead>\n",
       "  <tbody>\n",
       "    <tr>\n",
       "      <th>0</th>\n",
       "      <td>3-4</td>\n",
       "      <td>0.0</td>\n",
       "      <td>0.0</td>\n",
       "      <td>0.0</td>\n",
       "      <td>4.652835</td>\n",
       "      <td>0.335085</td>\n",
       "      <td>1.286075</td>\n",
       "    </tr>\n",
       "    <tr>\n",
       "      <th>1</th>\n",
       "      <td>3-7</td>\n",
       "      <td>0.0</td>\n",
       "      <td>0.0</td>\n",
       "      <td>0.0</td>\n",
       "      <td>14.415664</td>\n",
       "      <td>1.958350</td>\n",
       "      <td>15.466983</td>\n",
       "    </tr>\n",
       "    <tr>\n",
       "      <th>2</th>\n",
       "      <td>3-9</td>\n",
       "      <td>0.0</td>\n",
       "      <td>0.0</td>\n",
       "      <td>0.0</td>\n",
       "      <td>0.168665</td>\n",
       "      <td>0.097421</td>\n",
       "      <td>1.226766</td>\n",
       "    </tr>\n",
       "    <tr>\n",
       "      <th>3</th>\n",
       "      <td>3-10</td>\n",
       "      <td>0.0</td>\n",
       "      <td>0.0</td>\n",
       "      <td>0.0</td>\n",
       "      <td>0.188487</td>\n",
       "      <td>0.167608</td>\n",
       "      <td>1.866074</td>\n",
       "    </tr>\n",
       "    <tr>\n",
       "      <th>4</th>\n",
       "      <td>3-11</td>\n",
       "      <td>0.0</td>\n",
       "      <td>0.0</td>\n",
       "      <td>0.0</td>\n",
       "      <td>4.624413</td>\n",
       "      <td>0.195994</td>\n",
       "      <td>0.000385</td>\n",
       "    </tr>\n",
       "  </tbody>\n",
       "</table>\n",
       "</div>"
      ],
      "text/plain": [
       "  ODpair    1    2    3          4         5          6\n",
       "0    3-4  0.0  0.0  0.0   4.652835  0.335085   1.286075\n",
       "1    3-7  0.0  0.0  0.0  14.415664  1.958350  15.466983\n",
       "2    3-9  0.0  0.0  0.0   0.168665  0.097421   1.226766\n",
       "3   3-10  0.0  0.0  0.0   0.188487  0.167608   1.866074\n",
       "4   3-11  0.0  0.0  0.0   4.624413  0.195994   0.000385"
      ]
     },
     "execution_count": 22,
     "metadata": {},
     "output_type": "execute_result"
    }
   ],
   "source": [
    "results_1_scene_1.head()"
   ]
  },
  {
   "cell_type": "code",
   "execution_count": 23,
   "metadata": {},
   "outputs": [],
   "source": [
    "# Getting the origin taxi zone\n",
    "results_1_scene_1['origin'] = results_1_scene_1.ODpair.apply(lambda x: x.split('-')[0]).astype('int')\n",
    "results_1_scene_2['origin'] = results_1_scene_2.ODpair.apply(lambda x: x.split('-')[0]).astype('int')\n",
    "results_1_scene_3['origin'] = results_1_scene_3.ODpair.apply(lambda x: x.split('-')[0]).astype('int')\n",
    "\n",
    "results_2_scene_1['origin'] = results_2_scene_1.ODpair.apply(lambda x: x.split('-')[0]).astype('int')\n",
    "results_2_scene_2['origin'] = results_2_scene_2.ODpair.apply(lambda x: x.split('-')[0]).astype('int')\n",
    "results_2_scene_3['origin'] = results_2_scene_3.ODpair.apply(lambda x: x.split('-')[0]).astype('int')\n",
    "\n",
    "results_3_scene_1['origin'] = results_3_scene_1.ODpair.apply(lambda x: x.split('-')[0]).astype('int')\n",
    "results_3_scene_2['origin'] = results_3_scene_2.ODpair.apply(lambda x: x.split('-')[0]).astype('int')\n",
    "results_3_scene_3['origin'] = results_3_scene_3.ODpair.apply(lambda x: x.split('-')[0]).astype('int')\n",
    "\n",
    "results_4_scene_1['origin'] = results_4_scene_1.ODpair.apply(lambda x: x.split('-')[0]).astype('int')\n",
    "results_4_scene_2['origin'] = results_4_scene_2.ODpair.apply(lambda x: x.split('-')[0]).astype('int')\n",
    "results_4_scene_3['origin'] = results_4_scene_3.ODpair.apply(lambda x: x.split('-')[0]).astype('int')\n",
    "\n",
    "results_5_scene_1['origin'] = results_5_scene_1.ODpair.apply(lambda x: x.split('-')[0]).astype('int')\n",
    "results_5_scene_2['origin'] = results_5_scene_2.ODpair.apply(lambda x: x.split('-')[0]).astype('int')\n",
    "results_5_scene_3['origin'] = results_5_scene_3.ODpair.apply(lambda x: x.split('-')[0]).astype('int')"
   ]
  },
  {
   "cell_type": "code",
   "execution_count": 24,
   "metadata": {},
   "outputs": [
    {
     "data": {
      "text/html": [
       "<div>\n",
       "<style scoped>\n",
       "    .dataframe tbody tr th:only-of-type {\n",
       "        vertical-align: middle;\n",
       "    }\n",
       "\n",
       "    .dataframe tbody tr th {\n",
       "        vertical-align: top;\n",
       "    }\n",
       "\n",
       "    .dataframe thead th {\n",
       "        text-align: right;\n",
       "    }\n",
       "</style>\n",
       "<table border=\"1\" class=\"dataframe\">\n",
       "  <thead>\n",
       "    <tr style=\"text-align: right;\">\n",
       "      <th></th>\n",
       "      <th>ODpair</th>\n",
       "      <th>1</th>\n",
       "      <th>2</th>\n",
       "      <th>3</th>\n",
       "      <th>4</th>\n",
       "      <th>5</th>\n",
       "      <th>6</th>\n",
       "      <th>origin</th>\n",
       "    </tr>\n",
       "  </thead>\n",
       "  <tbody>\n",
       "    <tr>\n",
       "      <th>0</th>\n",
       "      <td>3-4</td>\n",
       "      <td>0.0</td>\n",
       "      <td>0.0</td>\n",
       "      <td>0.0</td>\n",
       "      <td>4.652835</td>\n",
       "      <td>0.335085</td>\n",
       "      <td>1.286075</td>\n",
       "      <td>3</td>\n",
       "    </tr>\n",
       "    <tr>\n",
       "      <th>1</th>\n",
       "      <td>3-7</td>\n",
       "      <td>0.0</td>\n",
       "      <td>0.0</td>\n",
       "      <td>0.0</td>\n",
       "      <td>14.415664</td>\n",
       "      <td>1.958350</td>\n",
       "      <td>15.466983</td>\n",
       "      <td>3</td>\n",
       "    </tr>\n",
       "    <tr>\n",
       "      <th>2</th>\n",
       "      <td>3-9</td>\n",
       "      <td>0.0</td>\n",
       "      <td>0.0</td>\n",
       "      <td>0.0</td>\n",
       "      <td>0.168665</td>\n",
       "      <td>0.097421</td>\n",
       "      <td>1.226766</td>\n",
       "      <td>3</td>\n",
       "    </tr>\n",
       "    <tr>\n",
       "      <th>3</th>\n",
       "      <td>3-10</td>\n",
       "      <td>0.0</td>\n",
       "      <td>0.0</td>\n",
       "      <td>0.0</td>\n",
       "      <td>0.188487</td>\n",
       "      <td>0.167608</td>\n",
       "      <td>1.866074</td>\n",
       "      <td>3</td>\n",
       "    </tr>\n",
       "    <tr>\n",
       "      <th>4</th>\n",
       "      <td>3-11</td>\n",
       "      <td>0.0</td>\n",
       "      <td>0.0</td>\n",
       "      <td>0.0</td>\n",
       "      <td>4.624413</td>\n",
       "      <td>0.195994</td>\n",
       "      <td>0.000385</td>\n",
       "      <td>3</td>\n",
       "    </tr>\n",
       "  </tbody>\n",
       "</table>\n",
       "</div>"
      ],
      "text/plain": [
       "  ODpair    1    2    3          4         5          6  origin\n",
       "0    3-4  0.0  0.0  0.0   4.652835  0.335085   1.286075       3\n",
       "1    3-7  0.0  0.0  0.0  14.415664  1.958350  15.466983       3\n",
       "2    3-9  0.0  0.0  0.0   0.168665  0.097421   1.226766       3\n",
       "3   3-10  0.0  0.0  0.0   0.188487  0.167608   1.866074       3\n",
       "4   3-11  0.0  0.0  0.0   4.624413  0.195994   0.000385       3"
      ]
     },
     "execution_count": 24,
     "metadata": {},
     "output_type": "execute_result"
    }
   ],
   "source": [
    "results_1_scene_1.head()"
   ]
  },
  {
   "cell_type": "code",
   "execution_count": 25,
   "metadata": {},
   "outputs": [],
   "source": [
    "# Aggregating the number of people in each ODpair by the origin zone\n",
    "agg_1_scene_1 = results_1_scene_1.groupby('origin').sum()\n",
    "agg_1_scene_2 = results_1_scene_2.groupby('origin').sum()\n",
    "agg_1_scene_3 = results_1_scene_3.groupby('origin').sum()\n",
    "\n",
    "agg_2_scene_1 = results_2_scene_1.groupby('origin').sum()\n",
    "agg_2_scene_2 = results_2_scene_2.groupby('origin').sum()\n",
    "agg_2_scene_3 = results_2_scene_3.groupby('origin').sum()\n",
    "\n",
    "agg_3_scene_1 = results_3_scene_1.groupby('origin').sum()\n",
    "agg_3_scene_2 = results_3_scene_2.groupby('origin').sum()\n",
    "agg_3_scene_3 = results_3_scene_3.groupby('origin').sum()\n",
    "\n",
    "agg_4_scene_1 = results_4_scene_1.groupby('origin').sum()\n",
    "agg_4_scene_2 = results_4_scene_2.groupby('origin').sum()\n",
    "agg_4_scene_3 = results_4_scene_3.groupby('origin').sum()\n",
    "\n",
    "agg_5_scene_1 = results_5_scene_1.groupby('origin').sum()\n",
    "agg_5_scene_2 = results_5_scene_2.groupby('origin').sum()\n",
    "agg_5_scene_3 = results_5_scene_3.groupby('origin').sum()"
   ]
  },
  {
   "cell_type": "code",
   "execution_count": 26,
   "metadata": {},
   "outputs": [],
   "source": [
    "agg_1_scene_1.columns = agg_1_scene_1.columns.astype('int')\n",
    "agg_1_scene_2.columns = agg_1_scene_2.columns.astype('int')\n",
    "agg_1_scene_3.columns = agg_1_scene_3.columns.astype('int')\n",
    "\n",
    "agg_2_scene_1.columns = agg_2_scene_1.columns.astype('int')\n",
    "agg_2_scene_2.columns = agg_2_scene_2.columns.astype('int')\n",
    "agg_2_scene_3.columns = agg_2_scene_3.columns.astype('int')\n",
    "\n",
    "agg_3_scene_1.columns = agg_3_scene_1.columns.astype('int')\n",
    "agg_3_scene_2.columns = agg_3_scene_2.columns.astype('int')\n",
    "agg_3_scene_3.columns = agg_3_scene_3.columns.astype('int')\n",
    "\n",
    "agg_4_scene_1.columns = agg_4_scene_1.columns.astype('int')\n",
    "agg_4_scene_2.columns = agg_4_scene_2.columns.astype('int')\n",
    "agg_4_scene_3.columns = agg_4_scene_3.columns.astype('int')\n",
    "\n",
    "agg_5_scene_1.columns = agg_5_scene_1.columns.astype('int')\n",
    "agg_5_scene_2.columns = agg_5_scene_2.columns.astype('int')\n",
    "agg_5_scene_3.columns = agg_5_scene_3.columns.astype('int')"
   ]
  },
  {
   "cell_type": "code",
   "execution_count": 27,
   "metadata": {},
   "outputs": [
    {
     "data": {
      "text/html": [
       "<div>\n",
       "<style scoped>\n",
       "    .dataframe tbody tr th:only-of-type {\n",
       "        vertical-align: middle;\n",
       "    }\n",
       "\n",
       "    .dataframe tbody tr th {\n",
       "        vertical-align: top;\n",
       "    }\n",
       "\n",
       "    .dataframe thead th {\n",
       "        text-align: right;\n",
       "    }\n",
       "</style>\n",
       "<table border=\"1\" class=\"dataframe\">\n",
       "  <thead>\n",
       "    <tr style=\"text-align: right;\">\n",
       "      <th></th>\n",
       "      <th>1</th>\n",
       "      <th>2</th>\n",
       "      <th>3</th>\n",
       "      <th>4</th>\n",
       "      <th>5</th>\n",
       "      <th>6</th>\n",
       "    </tr>\n",
       "    <tr>\n",
       "      <th>origin</th>\n",
       "      <th></th>\n",
       "      <th></th>\n",
       "      <th></th>\n",
       "      <th></th>\n",
       "      <th></th>\n",
       "      <th></th>\n",
       "    </tr>\n",
       "  </thead>\n",
       "  <tbody>\n",
       "    <tr>\n",
       "      <th>3</th>\n",
       "      <td>4.462693</td>\n",
       "      <td>286.531580</td>\n",
       "      <td>0.028732</td>\n",
       "      <td>4810.958529</td>\n",
       "      <td>1011.191574</td>\n",
       "      <td>2640.339213</td>\n",
       "    </tr>\n",
       "    <tr>\n",
       "      <th>4</th>\n",
       "      <td>232.968111</td>\n",
       "      <td>0.257645</td>\n",
       "      <td>0.001515</td>\n",
       "      <td>4842.596277</td>\n",
       "      <td>3509.851627</td>\n",
       "      <td>2093.584765</td>\n",
       "    </tr>\n",
       "    <tr>\n",
       "      <th>5</th>\n",
       "      <td>0.000000</td>\n",
       "      <td>26.748950</td>\n",
       "      <td>2.364467</td>\n",
       "      <td>3353.875630</td>\n",
       "      <td>523.604902</td>\n",
       "      <td>3456.916322</td>\n",
       "    </tr>\n",
       "    <tr>\n",
       "      <th>6</th>\n",
       "      <td>51.895957</td>\n",
       "      <td>0.010567</td>\n",
       "      <td>124.342579</td>\n",
       "      <td>2732.216841</td>\n",
       "      <td>229.620976</td>\n",
       "      <td>1779.896650</td>\n",
       "    </tr>\n",
       "    <tr>\n",
       "      <th>7</th>\n",
       "      <td>144.508999</td>\n",
       "      <td>19.172316</td>\n",
       "      <td>10.405674</td>\n",
       "      <td>25917.759782</td>\n",
       "      <td>1826.714437</td>\n",
       "      <td>9030.461451</td>\n",
       "    </tr>\n",
       "  </tbody>\n",
       "</table>\n",
       "</div>"
      ],
      "text/plain": [
       "                 1           2           3             4            5  \\\n",
       "origin                                                                  \n",
       "3         4.462693  286.531580    0.028732   4810.958529  1011.191574   \n",
       "4       232.968111    0.257645    0.001515   4842.596277  3509.851627   \n",
       "5         0.000000   26.748950    2.364467   3353.875630   523.604902   \n",
       "6        51.895957    0.010567  124.342579   2732.216841   229.620976   \n",
       "7       144.508999   19.172316   10.405674  25917.759782  1826.714437   \n",
       "\n",
       "                  6  \n",
       "origin               \n",
       "3       2640.339213  \n",
       "4       2093.584765  \n",
       "5       3456.916322  \n",
       "6       1779.896650  \n",
       "7       9030.461451  "
      ]
     },
     "execution_count": 27,
     "metadata": {},
     "output_type": "execute_result"
    }
   ],
   "source": [
    "agg_1_scene_1.head()"
   ]
  },
  {
   "cell_type": "code",
   "execution_count": 28,
   "metadata": {},
   "outputs": [],
   "source": [
    "pickup_list = wages.PUlocationID.unique()"
   ]
  },
  {
   "cell_type": "code",
   "execution_count": 29,
   "metadata": {},
   "outputs": [],
   "source": [
    "origin_time_and_money_avg = wages.groupby(['PUlocationID','mode'],as_index=False)['duration','price'].mean()"
   ]
  },
  {
   "cell_type": "code",
   "execution_count": 30,
   "metadata": {},
   "outputs": [
    {
     "data": {
      "text/html": [
       "<div>\n",
       "<style scoped>\n",
       "    .dataframe tbody tr th:only-of-type {\n",
       "        vertical-align: middle;\n",
       "    }\n",
       "\n",
       "    .dataframe tbody tr th {\n",
       "        vertical-align: top;\n",
       "    }\n",
       "\n",
       "    .dataframe thead th {\n",
       "        text-align: right;\n",
       "    }\n",
       "</style>\n",
       "<table border=\"1\" class=\"dataframe\">\n",
       "  <thead>\n",
       "    <tr style=\"text-align: right;\">\n",
       "      <th></th>\n",
       "      <th>PUlocationID</th>\n",
       "      <th>mode</th>\n",
       "      <th>duration</th>\n",
       "      <th>price</th>\n",
       "    </tr>\n",
       "  </thead>\n",
       "  <tbody>\n",
       "    <tr>\n",
       "      <th>0</th>\n",
       "      <td>3</td>\n",
       "      <td>1</td>\n",
       "      <td>38.302359</td>\n",
       "      <td>37.428045</td>\n",
       "    </tr>\n",
       "    <tr>\n",
       "      <th>1</th>\n",
       "      <td>3</td>\n",
       "      <td>2</td>\n",
       "      <td>37.718869</td>\n",
       "      <td>56.582192</td>\n",
       "    </tr>\n",
       "    <tr>\n",
       "      <th>2</th>\n",
       "      <td>3</td>\n",
       "      <td>3</td>\n",
       "      <td>41.066196</td>\n",
       "      <td>50.717949</td>\n",
       "    </tr>\n",
       "    <tr>\n",
       "      <th>3</th>\n",
       "      <td>3</td>\n",
       "      <td>4</td>\n",
       "      <td>81.756356</td>\n",
       "      <td>5.948623</td>\n",
       "    </tr>\n",
       "    <tr>\n",
       "      <th>4</th>\n",
       "      <td>3</td>\n",
       "      <td>5</td>\n",
       "      <td>268.553355</td>\n",
       "      <td>0.000000</td>\n",
       "    </tr>\n",
       "  </tbody>\n",
       "</table>\n",
       "</div>"
      ],
      "text/plain": [
       "   PUlocationID  mode    duration      price\n",
       "0             3     1   38.302359  37.428045\n",
       "1             3     2   37.718869  56.582192\n",
       "2             3     3   41.066196  50.717949\n",
       "3             3     4   81.756356   5.948623\n",
       "4             3     5  268.553355   0.000000"
      ]
     },
     "execution_count": 30,
     "metadata": {},
     "output_type": "execute_result"
    }
   ],
   "source": [
    "origin_time_and_money_avg.head()"
   ]
  },
  {
   "cell_type": "code",
   "execution_count": 31,
   "metadata": {},
   "outputs": [
    {
     "data": {
      "text/plain": [
       "(256, 6)"
      ]
     },
     "execution_count": 31,
     "metadata": {},
     "output_type": "execute_result"
    }
   ],
   "source": [
    "agg_1_scene_1.shape"
   ]
  },
  {
   "cell_type": "code",
   "execution_count": 32,
   "metadata": {},
   "outputs": [
    {
     "data": {
      "text/plain": [
       "256"
      ]
     },
     "execution_count": 32,
     "metadata": {},
     "output_type": "execute_result"
    }
   ],
   "source": [
    "len(pickup_list)"
   ]
  },
  {
   "cell_type": "markdown",
   "metadata": {},
   "source": [
    "## Status quo Commute Statistics"
   ]
  },
  {
   "cell_type": "code",
   "execution_count": 111,
   "metadata": {},
   "outputs": [],
   "source": [
    "pivoted_time = origin_time_and_money_avg.reset_index().pivot(index='PUlocationID',columns='mode',values='duration')"
   ]
  },
  {
   "cell_type": "code",
   "execution_count": 112,
   "metadata": {},
   "outputs": [],
   "source": [
    "# Total commute time for all 5 sets\n",
    "commute_time_1 = pivoted_time.multiply(agg_1_scene_1).sum().sum()\n",
    "commute_time_2 = pivoted_time.multiply(agg_2_scene_1).sum().sum()\n",
    "commute_time_3 = pivoted_time.multiply(agg_3_scene_1).sum().sum()\n",
    "commute_time_4 = pivoted_time.multiply(agg_4_scene_1).sum().sum()\n",
    "commute_time_5 = pivoted_time.multiply(agg_5_scene_1).sum().sum()"
   ]
  },
  {
   "cell_type": "code",
   "execution_count": 113,
   "metadata": {},
   "outputs": [
    {
     "data": {
      "text/plain": [
       "80.50188225619885"
      ]
     },
     "execution_count": 113,
     "metadata": {},
     "output_type": "execute_result"
    }
   ],
   "source": [
    "# Average commute time for all 5 sets\n",
    "avg_commute_time_1 = commute_time_1/agg_1_scene_1.sum().sum()\n",
    "avg_commute_time_2 = commute_time_2/agg_2_scene_1.sum().sum()\n",
    "avg_commute_time_3 = commute_time_3/agg_3_scene_1.sum().sum()\n",
    "avg_commute_time_4 = commute_time_4/agg_4_scene_1.sum().sum()\n",
    "avg_commute_time_5 = commute_time_5/agg_5_scene_1.sum().sum()\n",
    "avg_commute_time_1"
   ]
  },
  {
   "cell_type": "code",
   "execution_count": 114,
   "metadata": {},
   "outputs": [],
   "source": [
    "def weighted_mean_and_std(value_set1,value_set2,value_set3,value_set4,value_set5):\n",
    "    values = np.array([value_set1,value_set2,value_set3,value_set4,value_set5])\n",
    "    average = (np.average(values, weights=(rmse),axis=0))\n",
    "    # Fast and numerically precise:\n",
    "    variance = np.average((values-average)**2, weights=(rmse),axis=0)\n",
    "    return (average,np.sqrt(np.abs(variance)))"
   ]
  },
  {
   "cell_type": "code",
   "execution_count": 115,
   "metadata": {},
   "outputs": [],
   "source": [
    "rmse = [0.19999994, 0.2, 0.20000007, 0.20000003, 0.19999997]"
   ]
  },
  {
   "cell_type": "code",
   "execution_count": 116,
   "metadata": {},
   "outputs": [
    {
     "data": {
      "text/plain": [
       "(80.60289039899904, 0.06358223662088189)"
      ]
     },
     "execution_count": 116,
     "metadata": {},
     "output_type": "execute_result"
    }
   ],
   "source": [
    "# mean and std for individual commute time\n",
    "weighted_mean_and_std(avg_commute_time_1,avg_commute_time_2,avg_commute_time_3,avg_commute_time_4,avg_commute_time_5)"
   ]
  },
  {
   "cell_type": "code",
   "execution_count": 117,
   "metadata": {},
   "outputs": [],
   "source": [
    "pivoted_money = origin_time_and_money_avg.reset_index().pivot(index='PUlocationID',columns='mode',values='price')"
   ]
  },
  {
   "cell_type": "code",
   "execution_count": 118,
   "metadata": {},
   "outputs": [],
   "source": [
    "# Total commute cost for all 5 sets\n",
    "commute_cost_1 = pivoted_money.multiply(agg_1_scene_1).sum().sum()\n",
    "commute_cost_2 = pivoted_money.multiply(agg_2_scene_1).sum().sum()\n",
    "commute_cost_3 = pivoted_money.multiply(agg_3_scene_1).sum().sum()\n",
    "commute_cost_4 = pivoted_money.multiply(agg_4_scene_1).sum().sum()\n",
    "commute_cost_5 = pivoted_money.multiply(agg_5_scene_1).sum().sum()"
   ]
  },
  {
   "cell_type": "code",
   "execution_count": 119,
   "metadata": {},
   "outputs": [
    {
     "data": {
      "text/plain": [
       "8.470237507940025"
      ]
     },
     "execution_count": 119,
     "metadata": {},
     "output_type": "execute_result"
    }
   ],
   "source": [
    "# Average commute cost for all 5 sets\n",
    "avg_commute_cost_1 = commute_cost_1/agg_1_scene_1.sum().sum()\n",
    "avg_commute_cost_2 = commute_cost_2/agg_2_scene_1.sum().sum()\n",
    "avg_commute_cost_3 = commute_cost_3/agg_3_scene_1.sum().sum()\n",
    "avg_commute_cost_4 = commute_cost_4/agg_4_scene_1.sum().sum()\n",
    "avg_commute_cost_5 = commute_cost_5/agg_5_scene_1.sum().sum()\n",
    "avg_commute_cost_1"
   ]
  },
  {
   "cell_type": "code",
   "execution_count": 120,
   "metadata": {},
   "outputs": [
    {
     "data": {
      "text/plain": [
       "(8.472995726267149, 0.002390033229233965)"
      ]
     },
     "execution_count": 120,
     "metadata": {},
     "output_type": "execute_result"
    }
   ],
   "source": [
    "# mean and std for individual commute cost\n",
    "weighted_mean_and_std(avg_commute_cost_1,avg_commute_cost_2,avg_commute_cost_3,avg_commute_cost_4,avg_commute_cost_5)"
   ]
  },
  {
   "cell_type": "markdown",
   "metadata": {},
   "source": [
    "## Subway ridership"
   ]
  },
  {
   "cell_type": "code",
   "execution_count": 57,
   "metadata": {},
   "outputs": [
    {
     "data": {
      "text/plain": [
       "(1756040.6735075843, 6.707786108597534e-09)"
      ]
     },
     "execution_count": 57,
     "metadata": {},
     "output_type": "execute_result"
    }
   ],
   "source": [
    "# mean and std for subway ridership in scenario-1\n",
    "weighted_mean_and_std(agg_1_scene_1.sum()[4],agg_2_scene_1.sum()[4],agg_3_scene_1.sum()[4],agg_4_scene_1.sum()[4],agg_5_scene_1.sum()[4])"
   ]
  },
  {
   "cell_type": "code",
   "execution_count": 59,
   "metadata": {},
   "outputs": [
    {
     "data": {
      "text/plain": [
       "(1778145.7943502804, 3382.7631175725273)"
      ]
     },
     "execution_count": 59,
     "metadata": {},
     "output_type": "execute_result"
    }
   ],
   "source": [
    "# mean and std for subway ridership in scenario-2\n",
    "weighted_mean_and_std(agg_1_scene_2.sum()[4],agg_2_scene_2.sum()[4],agg_3_scene_2.sum()[4],agg_4_scene_2.sum()[4],agg_5_scene_2.sum()[4])"
   ]
  },
  {
   "cell_type": "code",
   "execution_count": 58,
   "metadata": {},
   "outputs": [
    {
     "data": {
      "text/plain": [
       "(1900522.6326651135, 7377.090457609239)"
      ]
     },
     "execution_count": 58,
     "metadata": {},
     "output_type": "execute_result"
    }
   ],
   "source": [
    "# mean and std for subway ridership in scenario-3\n",
    "weighted_mean_and_std(agg_1_scene_3.sum()[4],agg_2_scene_3.sum()[4],agg_3_scene_3.sum()[4],agg_4_scene_3.sum()[4],agg_5_scene_3.sum()[4])"
   ]
  },
  {
   "cell_type": "code",
   "execution_count": 60,
   "metadata": {},
   "outputs": [
    {
     "data": {
      "text/plain": [
       "(22105.120842696182, 3382.763117572982)"
      ]
     },
     "execution_count": 60,
     "metadata": {},
     "output_type": "execute_result"
    }
   ],
   "source": [
    "# mean and std for increase in subway ridership from 1 to 2\n",
    "weighted_mean_and_std(agg_1_scene_2.sum()[4] - agg_1_scene_1.sum()[4], agg_2_scene_2.sum()[4] - agg_2_scene_1.sum()[4],\\\n",
    "            agg_3_scene_2.sum()[4] - agg_3_scene_1.sum()[4], agg_4_scene_2.sum()[4] - agg_4_scene_1.sum()[4],\\\n",
    "                    agg_5_scene_2.sum()[4] - agg_5_scene_1.sum()[4])"
   ]
  },
  {
   "cell_type": "code",
   "execution_count": 38,
   "metadata": {},
   "outputs": [
    {
     "data": {
      "text/plain": [
       "144435.31166229"
      ]
     },
     "execution_count": 38,
     "metadata": {},
     "output_type": "execute_result"
    }
   ],
   "source": [
    "# mean and std for increase in subway ridership\n",
    "agg_scene_3.sum()[4] - agg_scene_1.sum()[4]"
   ]
  },
  {
   "cell_type": "code",
   "execution_count": 39,
   "metadata": {},
   "outputs": [
    {
     "data": {
      "text/plain": [
       "122351.61614159402"
      ]
     },
     "execution_count": 39,
     "metadata": {},
     "output_type": "execute_result"
    }
   ],
   "source": [
    "# mean and std for increase in subway ridership\n",
    "agg_scene_3.sum()[4] - agg_scene_2.sum()[4]"
   ]
  },
  {
   "cell_type": "code",
   "execution_count": 62,
   "metadata": {},
   "outputs": [
    {
     "data": {
      "text/plain": [
       "(1.2588046037989857, 0.1926358067103377)"
      ]
     },
     "execution_count": 62,
     "metadata": {},
     "output_type": "execute_result"
    }
   ],
   "source": [
    "# mean and std for percent increase in subway ridership from scenario 1 to 2\n",
    "weighted_mean_and_std((agg_1_scene_2.sum()[4] - agg_1_scene_1.sum()[4])/agg_1_scene_1.sum()[4] * 100,\\\n",
    "                      (agg_2_scene_2.sum()[4] - agg_2_scene_1.sum()[4])/agg_2_scene_1.sum()[4] * 100,\\\n",
    "                      (agg_3_scene_2.sum()[4] - agg_3_scene_1.sum()[4])/agg_3_scene_1.sum()[4] * 100,\\\n",
    "                      (agg_4_scene_2.sum()[4] - agg_4_scene_1.sum()[4])/agg_4_scene_1.sum()[4] * 100,\\\n",
    "                      (agg_5_scene_2.sum()[4] - agg_5_scene_1.sum()[4])/agg_5_scene_1.sum()[4] * 100)"
   ]
  },
  {
   "cell_type": "code",
   "execution_count": 63,
   "metadata": {},
   "outputs": [
    {
     "data": {
      "text/plain": [
       "(8.227711427032911, 0.4200979264833643)"
      ]
     },
     "execution_count": 63,
     "metadata": {},
     "output_type": "execute_result"
    }
   ],
   "source": [
    "# mean and std for percent increase in subway ridership from scenario 1 to 3\n",
    "weighted_mean_and_std((agg_1_scene_3.sum()[4] - agg_1_scene_1.sum()[4])/agg_1_scene_1.sum()[4] * 100,\\\n",
    "                      (agg_2_scene_3.sum()[4] - agg_2_scene_1.sum()[4])/agg_2_scene_1.sum()[4] * 100,\\\n",
    "                      (agg_3_scene_3.sum()[4] - agg_3_scene_1.sum()[4])/agg_3_scene_1.sum()[4] * 100,\\\n",
    "                      (agg_4_scene_3.sum()[4] - agg_4_scene_1.sum()[4])/agg_4_scene_1.sum()[4] * 100,\\\n",
    "                      (agg_5_scene_3.sum()[4] - agg_5_scene_1.sum()[4])/agg_5_scene_1.sum()[4] * 100)"
   ]
  },
  {
   "cell_type": "code",
   "execution_count": 64,
   "metadata": {},
   "outputs": [
    {
     "data": {
      "text/plain": [
       "(6.881870960800143, 0.21233335187078597)"
      ]
     },
     "execution_count": 64,
     "metadata": {},
     "output_type": "execute_result"
    }
   ],
   "source": [
    "# mean and std for percent increase in subway ridership from scenario 2 to 3\n",
    "weighted_mean_and_std((agg_1_scene_3.sum()[4] - agg_1_scene_2.sum()[4])/agg_1_scene_2.sum()[4] * 100,\\\n",
    "                      (agg_2_scene_3.sum()[4] - agg_2_scene_2.sum()[4])/agg_2_scene_2.sum()[4] * 100,\\\n",
    "                      (agg_3_scene_3.sum()[4] - agg_3_scene_2.sum()[4])/agg_3_scene_2.sum()[4] * 100,\\\n",
    "                      (agg_4_scene_3.sum()[4] - agg_4_scene_2.sum()[4])/agg_4_scene_2.sum()[4] * 100,\\\n",
    "                      (agg_5_scene_3.sum()[4] - agg_5_scene_2.sum()[4])/agg_5_scene_2.sum()[4] * 100)"
   ]
  },
  {
   "cell_type": "markdown",
   "metadata": {},
   "source": [
    "### Scenario 1 VS 2"
   ]
  },
  {
   "cell_type": "code",
   "execution_count": 65,
   "metadata": {},
   "outputs": [
    {
     "name": "stderr",
     "output_type": "stream",
     "text": [
      "100%|██████████| 256/256 [00:01<00:00, 196.88it/s]\n"
     ]
    }
   ],
   "source": [
    "time_diff_1 = 0\n",
    "money_diff_1 = 0\n",
    "for zone in tqdm(pickup_list,position=0):\n",
    "    for col in agg_1_scene_1.columns:\n",
    "        diff = (agg_1_scene_2.loc[zone,col]-agg_1_scene_1.loc[zone,col])\n",
    "        time_and_money = (origin_time_and_money_avg.loc[(origin_time_and_money_avg['PUlocationID']==zone)\\\n",
    "                                                       & (origin_time_and_money_avg['mode']==col)])\n",
    "        time_diff_1+= diff * (0 if time_and_money.empty else time_and_money['duration'].values[0])\n",
    "        money_diff_1+= diff * (0 if time_and_money.empty else time_and_money['price'].values[0])"
   ]
  },
  {
   "cell_type": "code",
   "execution_count": 66,
   "metadata": {},
   "outputs": [
    {
     "name": "stderr",
     "output_type": "stream",
     "text": [
      "100%|██████████| 256/256 [00:01<00:00, 185.47it/s]\n"
     ]
    }
   ],
   "source": [
    "time_diff_2 = 0\n",
    "money_diff_2 = 0\n",
    "for zone in tqdm(pickup_list,position=0):\n",
    "    for col in agg_2_scene_1.columns:\n",
    "        diff = (agg_2_scene_2.loc[zone,col]-agg_2_scene_1.loc[zone,col])\n",
    "        time_and_money = (origin_time_and_money_avg.loc[(origin_time_and_money_avg['PUlocationID']==zone)\\\n",
    "                                                       & (origin_time_and_money_avg['mode']==col)])\n",
    "        time_diff_2+= diff * (0 if time_and_money.empty else time_and_money['duration'].values[0])\n",
    "        money_diff_2+= diff * (0 if time_and_money.empty else time_and_money['price'].values[0])"
   ]
  },
  {
   "cell_type": "code",
   "execution_count": 67,
   "metadata": {},
   "outputs": [
    {
     "name": "stderr",
     "output_type": "stream",
     "text": [
      "100%|██████████| 256/256 [00:01<00:00, 188.40it/s]\n"
     ]
    }
   ],
   "source": [
    "time_diff_3 = 0\n",
    "money_diff_3 = 0\n",
    "for zone in tqdm(pickup_list,position=0):\n",
    "    for col in agg_3_scene_1.columns:\n",
    "        diff = (agg_3_scene_2.loc[zone,col]-agg_3_scene_1.loc[zone,col])\n",
    "        time_and_money = (origin_time_and_money_avg.loc[(origin_time_and_money_avg['PUlocationID']==zone)\\\n",
    "                                                       & (origin_time_and_money_avg['mode']==col)])\n",
    "        time_diff_3+= diff * (0 if time_and_money.empty else time_and_money['duration'].values[0])\n",
    "        money_diff_3+= diff * (0 if time_and_money.empty else time_and_money['price'].values[0])"
   ]
  },
  {
   "cell_type": "code",
   "execution_count": 68,
   "metadata": {},
   "outputs": [
    {
     "name": "stderr",
     "output_type": "stream",
     "text": [
      "100%|██████████| 256/256 [00:01<00:00, 180.29it/s]\n"
     ]
    }
   ],
   "source": [
    "time_diff_4 = 0\n",
    "money_diff_4 = 0\n",
    "for zone in tqdm(pickup_list,position=0):\n",
    "    for col in agg_4_scene_1.columns:\n",
    "        diff = (agg_4_scene_2.loc[zone,col]-agg_4_scene_1.loc[zone,col])\n",
    "        time_and_money = (origin_time_and_money_avg.loc[(origin_time_and_money_avg['PUlocationID']==zone)\\\n",
    "                                                       & (origin_time_and_money_avg['mode']==col)])\n",
    "        time_diff_4+= diff * (0 if time_and_money.empty else time_and_money['duration'].values[0])\n",
    "        money_diff_4+= diff * (0 if time_and_money.empty else time_and_money['price'].values[0])"
   ]
  },
  {
   "cell_type": "code",
   "execution_count": 69,
   "metadata": {},
   "outputs": [
    {
     "name": "stderr",
     "output_type": "stream",
     "text": [
      "100%|██████████| 256/256 [00:01<00:00, 197.92it/s]\n"
     ]
    }
   ],
   "source": [
    "time_diff_5 = 0\n",
    "money_diff_5 = 0\n",
    "for zone in tqdm(pickup_list,position=0):\n",
    "    for col in agg_5_scene_1.columns:\n",
    "        diff = (agg_5_scene_2.loc[zone,col]-agg_5_scene_1.loc[zone,col])\n",
    "        time_and_money = (origin_time_and_money_avg.loc[(origin_time_and_money_avg['PUlocationID']==zone)\\\n",
    "                                                       & (origin_time_and_money_avg['mode']==col)])\n",
    "        time_diff_5+= diff * (0 if time_and_money.empty else time_and_money['duration'].values[0])\n",
    "        money_diff_5+= diff * (0 if time_and_money.empty else time_and_money['price'].values[0])"
   ]
  },
  {
   "cell_type": "code",
   "execution_count": 78,
   "metadata": {},
   "outputs": [],
   "source": [
    "# Population is the same for all sets for scenario 1 as we have scaled the values to match the ground truth\n",
    "population = agg_1_scene_1.sum().sum()"
   ]
  },
  {
   "cell_type": "code",
   "execution_count": 86,
   "metadata": {},
   "outputs": [
    {
     "data": {
      "text/plain": [
       "(0.5376001221618046, 0.07711663204317586)"
      ]
     },
     "execution_count": 86,
     "metadata": {},
     "output_type": "execute_result"
    }
   ],
   "source": [
    "weighted_mean_and_std(time_diff_1/population,time_diff_2/population,time_diff_3/population,time_diff_4/population,time_diff_5/population)"
   ]
  },
  {
   "cell_type": "code",
   "execution_count": 122,
   "metadata": {},
   "outputs": [
    {
     "data": {
      "text/plain": [
       "(0.6668988950001545, 0.09516343741104812)"
      ]
     },
     "execution_count": 122,
     "metadata": {},
     "output_type": "execute_result"
    }
   ],
   "source": [
    "weighted_mean_and_std(time_diff_1/population/avg_commute_time_1 *100, time_diff_2/population/avg_commute_time_2 *100,\\\n",
    "                    time_diff_3/population/avg_commute_time_3 *100, time_diff_4/population/avg_commute_time_4 *100,\\\n",
    "                        time_diff_5/population/avg_commute_time_5 *100)"
   ]
  },
  {
   "cell_type": "code",
   "execution_count": 124,
   "metadata": {},
   "outputs": [
    {
     "data": {
      "text/plain": [
       "(0.3239613111358733, 0.17753648468299413)"
      ]
     },
     "execution_count": 124,
     "metadata": {},
     "output_type": "execute_result"
    }
   ],
   "source": [
    "weighted_mean_and_std(money_diff_1/population/avg_commute_cost_1 *100, money_diff_2/population/avg_commute_cost_2 *100,\\\n",
    "                    money_diff_3/population/avg_commute_cost_3 *100, money_diff_4/population/avg_commute_cost_4 *100, \\\n",
    "                        money_diff_5/population/avg_commute_cost_5 *100)"
   ]
  },
  {
   "cell_type": "markdown",
   "metadata": {},
   "source": [
    "### Scenario 1 VS 3"
   ]
  },
  {
   "cell_type": "code",
   "execution_count": 125,
   "metadata": {},
   "outputs": [
    {
     "name": "stderr",
     "output_type": "stream",
     "text": [
      "100%|██████████| 256/256 [00:01<00:00, 189.10it/s]\n"
     ]
    }
   ],
   "source": [
    "time_diff_1 = 0\n",
    "money_diff_1 = 0\n",
    "for zone in tqdm(pickup_list,position=0):\n",
    "    for col in agg_1_scene_1.columns:\n",
    "        diff = (agg_1_scene_3.loc[zone,col]-agg_1_scene_1.loc[zone,col])\n",
    "        time_and_money = (origin_time_and_money_avg.loc[(origin_time_and_money_avg['PUlocationID']==zone)\\\n",
    "                                                       & (origin_time_and_money_avg['mode']==col)])\n",
    "        time_diff_1+= diff * (0 if time_and_money.empty else time_and_money['duration'].values[0])\n",
    "        money_diff_1+= diff * (0 if time_and_money.empty else time_and_money['price'].values[0])"
   ]
  },
  {
   "cell_type": "code",
   "execution_count": 126,
   "metadata": {},
   "outputs": [
    {
     "name": "stderr",
     "output_type": "stream",
     "text": [
      "100%|██████████| 256/256 [00:01<00:00, 192.11it/s]\n"
     ]
    }
   ],
   "source": [
    "time_diff_2 = 0\n",
    "money_diff_2 = 0\n",
    "for zone in tqdm(pickup_list,position=0):\n",
    "    for col in agg_2_scene_1.columns:\n",
    "        diff = (agg_2_scene_3.loc[zone,col]-agg_2_scene_1.loc[zone,col])\n",
    "        time_and_money = (origin_time_and_money_avg.loc[(origin_time_and_money_avg['PUlocationID']==zone)\\\n",
    "                                                       & (origin_time_and_money_avg['mode']==col)])\n",
    "        time_diff_2+= diff * (0 if time_and_money.empty else time_and_money['duration'].values[0])\n",
    "        money_diff_2+= diff * (0 if time_and_money.empty else time_and_money['price'].values[0])"
   ]
  },
  {
   "cell_type": "code",
   "execution_count": 127,
   "metadata": {},
   "outputs": [
    {
     "name": "stderr",
     "output_type": "stream",
     "text": [
      "100%|██████████| 256/256 [00:01<00:00, 185.52it/s]\n"
     ]
    }
   ],
   "source": [
    "time_diff_3 = 0\n",
    "money_diff_3 = 0\n",
    "for zone in tqdm(pickup_list,position=0):\n",
    "    for col in agg_3_scene_1.columns:\n",
    "        diff = (agg_3_scene_3.loc[zone,col]-agg_3_scene_1.loc[zone,col])\n",
    "        time_and_money = (origin_time_and_money_avg.loc[(origin_time_and_money_avg['PUlocationID']==zone)\\\n",
    "                                                       & (origin_time_and_money_avg['mode']==col)])\n",
    "        time_diff_3+= diff * (0 if time_and_money.empty else time_and_money['duration'].values[0])\n",
    "        money_diff_3+= diff * (0 if time_and_money.empty else time_and_money['price'].values[0])"
   ]
  },
  {
   "cell_type": "code",
   "execution_count": 128,
   "metadata": {},
   "outputs": [
    {
     "name": "stderr",
     "output_type": "stream",
     "text": [
      "100%|██████████| 256/256 [00:01<00:00, 204.96it/s]\n"
     ]
    }
   ],
   "source": [
    "time_diff_4 = 0\n",
    "money_diff_4 = 0\n",
    "for zone in tqdm(pickup_list,position=0):\n",
    "    for col in agg_4_scene_1.columns:\n",
    "        diff = (agg_4_scene_3.loc[zone,col]-agg_4_scene_1.loc[zone,col])\n",
    "        time_and_money = (origin_time_and_money_avg.loc[(origin_time_and_money_avg['PUlocationID']==zone)\\\n",
    "                                                       & (origin_time_and_money_avg['mode']==col)])\n",
    "        time_diff_4+= diff * (0 if time_and_money.empty else time_and_money['duration'].values[0])\n",
    "        money_diff_4+= diff * (0 if time_and_money.empty else time_and_money['price'].values[0])"
   ]
  },
  {
   "cell_type": "code",
   "execution_count": 129,
   "metadata": {},
   "outputs": [
    {
     "name": "stderr",
     "output_type": "stream",
     "text": [
      "100%|██████████| 256/256 [00:01<00:00, 202.63it/s]\n"
     ]
    }
   ],
   "source": [
    "time_diff_5 = 0\n",
    "money_diff_5 = 0\n",
    "for zone in tqdm(pickup_list,position=0):\n",
    "    for col in agg_5_scene_1.columns:\n",
    "        diff = (agg_5_scene_3.loc[zone,col]-agg_5_scene_1.loc[zone,col])\n",
    "        time_and_money = (origin_time_and_money_avg.loc[(origin_time_and_money_avg['PUlocationID']==zone)\\\n",
    "                                                       & (origin_time_and_money_avg['mode']==col)])\n",
    "        time_diff_5+= diff * (0 if time_and_money.empty else time_and_money['duration'].values[0])\n",
    "        money_diff_5+= diff * (0 if time_and_money.empty else time_and_money['price'].values[0])"
   ]
  },
  {
   "cell_type": "code",
   "execution_count": 130,
   "metadata": {},
   "outputs": [],
   "source": [
    "# Population is the same for all sets for scenario 1 as we have scaled the values to match the ground truth\n",
    "population = agg_1_scene_1.sum().sum()"
   ]
  },
  {
   "cell_type": "code",
   "execution_count": 131,
   "metadata": {},
   "outputs": [
    {
     "data": {
      "text/plain": [
       "(2.7389076236515626, 0.18192397375811076)"
      ]
     },
     "execution_count": 131,
     "metadata": {},
     "output_type": "execute_result"
    }
   ],
   "source": [
    "weighted_mean_and_std(time_diff_1/population,time_diff_2/population,time_diff_3/population,time_diff_4/population,time_diff_5/population)"
   ]
  },
  {
   "cell_type": "code",
   "execution_count": 134,
   "metadata": {},
   "outputs": [
    {
     "data": {
      "text/plain": [
       "(3.3978509567679236, 0.22308558993410893)"
      ]
     },
     "execution_count": 134,
     "metadata": {},
     "output_type": "execute_result"
    }
   ],
   "source": [
    "weighted_mean_and_std(time_diff_1/population/avg_commute_time_1 *100, time_diff_2/population/avg_commute_time_2 *100,\\\n",
    "                    time_diff_3/population/avg_commute_time_3 *100, time_diff_4/population/avg_commute_time_4 *100,\\\n",
    "                        time_diff_5/population/avg_commute_time_5 *100)"
   ]
  },
  {
   "cell_type": "code",
   "execution_count": 135,
   "metadata": {},
   "outputs": [
    {
     "data": {
      "text/plain": [
       "(-0.4533891814250036, 0.44174064521448486)"
      ]
     },
     "execution_count": 135,
     "metadata": {},
     "output_type": "execute_result"
    }
   ],
   "source": [
    "weighted_mean_and_std(money_diff_1/population/avg_commute_cost_1 *100, money_diff_2/population/avg_commute_cost_2 *100,\\\n",
    "                    money_diff_3/population/avg_commute_cost_3 *100, money_diff_4/population/avg_commute_cost_4 *100, \\\n",
    "                        money_diff_5/population/avg_commute_cost_5 *100)"
   ]
  },
  {
   "cell_type": "markdown",
   "metadata": {},
   "source": [
    "## 2.75 dollar Tax Commute Statistics"
   ]
  },
  {
   "cell_type": "code",
   "execution_count": 136,
   "metadata": {},
   "outputs": [],
   "source": [
    "# Total commute time for all 5 sets\n",
    "commute_time_1 = pivoted_time.multiply(agg_1_scene_2).sum().sum()\n",
    "commute_time_2 = pivoted_time.multiply(agg_2_scene_2).sum().sum()\n",
    "commute_time_3 = pivoted_time.multiply(agg_3_scene_2).sum().sum()\n",
    "commute_time_4 = pivoted_time.multiply(agg_4_scene_2).sum().sum()\n",
    "commute_time_5 = pivoted_time.multiply(agg_5_scene_2).sum().sum()"
   ]
  },
  {
   "cell_type": "code",
   "execution_count": 137,
   "metadata": {},
   "outputs": [
    {
     "data": {
      "text/plain": [
       "80.4803758317127"
      ]
     },
     "execution_count": 137,
     "metadata": {},
     "output_type": "execute_result"
    }
   ],
   "source": [
    "# Average commute time for all 5 sets\n",
    "avg_commute_time_1 = commute_time_1/agg_1_scene_2.sum().sum()\n",
    "avg_commute_time_2 = commute_time_2/agg_2_scene_2.sum().sum()\n",
    "avg_commute_time_3 = commute_time_3/agg_3_scene_2.sum().sum()\n",
    "avg_commute_time_4 = commute_time_4/agg_4_scene_2.sum().sum()\n",
    "avg_commute_time_5 = commute_time_5/agg_5_scene_2.sum().sum()\n",
    "avg_commute_time_2"
   ]
  },
  {
   "cell_type": "code",
   "execution_count": 138,
   "metadata": {},
   "outputs": [
    {
     "data": {
      "text/plain": [
       "(80.48752528127282, 0.019615935401559818)"
      ]
     },
     "execution_count": 138,
     "metadata": {},
     "output_type": "execute_result"
    }
   ],
   "source": [
    "# mean and std for individual commute time\n",
    "weighted_mean_and_std(avg_commute_time_1,avg_commute_time_2,avg_commute_time_3,avg_commute_time_4,avg_commute_time_5)"
   ]
  },
  {
   "cell_type": "code",
   "execution_count": 139,
   "metadata": {},
   "outputs": [],
   "source": [
    "# Total commute cost for all 5 sets\n",
    "commute_cost_1 = pivoted_money.multiply(agg_1_scene_2).sum().sum()\n",
    "commute_cost_2 = pivoted_money.multiply(agg_2_scene_2).sum().sum()\n",
    "commute_cost_3 = pivoted_money.multiply(agg_3_scene_2).sum().sum()\n",
    "commute_cost_4 = pivoted_money.multiply(agg_4_scene_2).sum().sum()\n",
    "commute_cost_5 = pivoted_money.multiply(agg_5_scene_2).sum().sum()"
   ]
  },
  {
   "cell_type": "code",
   "execution_count": 140,
   "metadata": {},
   "outputs": [
    {
     "data": {
      "text/plain": [
       "8.422370111676821"
      ]
     },
     "execution_count": 140,
     "metadata": {},
     "output_type": "execute_result"
    }
   ],
   "source": [
    "# Average commute cost for all 5 sets\n",
    "avg_commute_cost_1 = commute_cost_1/agg_1_scene_2.sum().sum()\n",
    "avg_commute_cost_2 = commute_cost_2/agg_2_scene_2.sum().sum()\n",
    "avg_commute_cost_3 = commute_cost_3/agg_3_scene_2.sum().sum()\n",
    "avg_commute_cost_4 = commute_cost_4/agg_4_scene_2.sum().sum()\n",
    "avg_commute_cost_5 = commute_cost_5/agg_5_scene_2.sum().sum()\n",
    "avg_commute_cost_1"
   ]
  },
  {
   "cell_type": "code",
   "execution_count": 141,
   "metadata": {},
   "outputs": [
    {
     "data": {
      "text/plain": [
       "(8.4320404340245, 0.006629451576328555)"
      ]
     },
     "execution_count": 141,
     "metadata": {},
     "output_type": "execute_result"
    }
   ],
   "source": [
    "# mean and std for individual commute cost\n",
    "weighted_mean_and_std(avg_commute_cost_1,avg_commute_cost_2,avg_commute_cost_3,avg_commute_cost_4,avg_commute_cost_5)"
   ]
  },
  {
   "cell_type": "markdown",
   "metadata": {},
   "source": [
    "### Scenario 2 VS 3"
   ]
  },
  {
   "cell_type": "code",
   "execution_count": 142,
   "metadata": {},
   "outputs": [
    {
     "name": "stderr",
     "output_type": "stream",
     "text": [
      "100%|██████████| 256/256 [00:01<00:00, 192.72it/s]\n"
     ]
    }
   ],
   "source": [
    "time_diff_1 = 0\n",
    "money_diff_1 = 0\n",
    "for zone in tqdm(pickup_list,position=0):\n",
    "    for col in agg_1_scene_2.columns:\n",
    "        diff = (agg_1_scene_3.loc[zone,col]-agg_1_scene_2.loc[zone,col])\n",
    "        time_and_money = (origin_time_and_money_avg.loc[(origin_time_and_money_avg['PUlocationID']==zone)\\\n",
    "                                                       & (origin_time_and_money_avg['mode']==col)])\n",
    "        time_diff_1+= diff * (0 if time_and_money.empty else time_and_money['duration'].values[0])\n",
    "        money_diff_1+= diff * (0 if time_and_money.empty else time_and_money['price'].values[0])"
   ]
  },
  {
   "cell_type": "code",
   "execution_count": 143,
   "metadata": {},
   "outputs": [
    {
     "name": "stderr",
     "output_type": "stream",
     "text": [
      "100%|██████████| 256/256 [00:01<00:00, 201.19it/s]\n"
     ]
    }
   ],
   "source": [
    "time_diff_2 = 0\n",
    "money_diff_2 = 0\n",
    "for zone in tqdm(pickup_list,position=0):\n",
    "    for col in agg_2_scene_2.columns:\n",
    "        diff = (agg_2_scene_3.loc[zone,col]-agg_2_scene_2.loc[zone,col])\n",
    "        time_and_money = (origin_time_and_money_avg.loc[(origin_time_and_money_avg['PUlocationID']==zone)\\\n",
    "                                                       & (origin_time_and_money_avg['mode']==col)])\n",
    "        time_diff_2+= diff * (0 if time_and_money.empty else time_and_money['duration'].values[0])\n",
    "        money_diff_2+= diff * (0 if time_and_money.empty else time_and_money['price'].values[0])"
   ]
  },
  {
   "cell_type": "code",
   "execution_count": 144,
   "metadata": {},
   "outputs": [
    {
     "name": "stderr",
     "output_type": "stream",
     "text": [
      "100%|██████████| 256/256 [00:01<00:00, 181.40it/s]\n"
     ]
    }
   ],
   "source": [
    "time_diff_3 = 0\n",
    "money_diff_3 = 0\n",
    "for zone in tqdm(pickup_list,position=0):\n",
    "    for col in agg_3_scene_2.columns:\n",
    "        diff = (agg_3_scene_3.loc[zone,col]-agg_3_scene_2.loc[zone,col])\n",
    "        time_and_money = (origin_time_and_money_avg.loc[(origin_time_and_money_avg['PUlocationID']==zone)\\\n",
    "                                                       & (origin_time_and_money_avg['mode']==col)])\n",
    "        time_diff_3+= diff * (0 if time_and_money.empty else time_and_money['duration'].values[0])\n",
    "        money_diff_3+= diff * (0 if time_and_money.empty else time_and_money['price'].values[0])"
   ]
  },
  {
   "cell_type": "code",
   "execution_count": 145,
   "metadata": {},
   "outputs": [
    {
     "name": "stderr",
     "output_type": "stream",
     "text": [
      "100%|██████████| 256/256 [00:01<00:00, 181.61it/s]\n"
     ]
    }
   ],
   "source": [
    "time_diff_4 = 0\n",
    "money_diff_4 = 0\n",
    "for zone in tqdm(pickup_list,position=0):\n",
    "    for col in agg_4_scene_2.columns:\n",
    "        diff = (agg_4_scene_3.loc[zone,col]-agg_4_scene_2.loc[zone,col])\n",
    "        time_and_money = (origin_time_and_money_avg.loc[(origin_time_and_money_avg['PUlocationID']==zone)\\\n",
    "                                                       & (origin_time_and_money_avg['mode']==col)])\n",
    "        time_diff_4+= diff * (0 if time_and_money.empty else time_and_money['duration'].values[0])\n",
    "        money_diff_4+= diff * (0 if time_and_money.empty else time_and_money['price'].values[0])"
   ]
  },
  {
   "cell_type": "code",
   "execution_count": 146,
   "metadata": {},
   "outputs": [
    {
     "name": "stderr",
     "output_type": "stream",
     "text": [
      "100%|██████████| 256/256 [00:01<00:00, 189.22it/s]\n"
     ]
    }
   ],
   "source": [
    "time_diff_5 = 0\n",
    "money_diff_5 = 0\n",
    "for zone in tqdm(pickup_list,position=0):\n",
    "    for col in agg_5_scene_2.columns:\n",
    "        diff = (agg_5_scene_3.loc[zone,col]-agg_5_scene_2.loc[zone,col])\n",
    "        time_and_money = (origin_time_and_money_avg.loc[(origin_time_and_money_avg['PUlocationID']==zone)\\\n",
    "                                                       & (origin_time_and_money_avg['mode']==col)])\n",
    "        time_diff_5+= diff * (0 if time_and_money.empty else time_and_money['duration'].values[0])\n",
    "        money_diff_5+= diff * (0 if time_and_money.empty else time_and_money['price'].values[0])"
   ]
  },
  {
   "cell_type": "code",
   "execution_count": 149,
   "metadata": {},
   "outputs": [],
   "source": [
    "# Population is not the same for scenario2\n",
    "population_1 = agg_1_scene_2.sum().sum()\n",
    "population_2 = agg_2_scene_2.sum().sum()\n",
    "population_3 = agg_3_scene_2.sum().sum()\n",
    "population_4 = agg_4_scene_2.sum().sum()\n",
    "population_5 = agg_5a_scene_2.sum().sum()"
   ]
  },
  {
   "cell_type": "code",
   "execution_count": 151,
   "metadata": {},
   "outputs": [
    {
     "data": {
      "text/plain": [
       "(2.183440898775167, 0.10109283475854218)"
      ]
     },
     "execution_count": 151,
     "metadata": {},
     "output_type": "execute_result"
    }
   ],
   "source": [
    "weighted_mean_and_std(time_diff_1/population_1,time_diff_2/population_2,time_diff_3/population_3,time_diff_4/population_4,time_diff_5/population_5)"
   ]
  },
  {
   "cell_type": "code",
   "execution_count": 152,
   "metadata": {},
   "outputs": [
    {
     "data": {
      "text/plain": [
       "(2.712742868088311, 0.12502628341335287)"
      ]
     },
     "execution_count": 152,
     "metadata": {},
     "output_type": "execute_result"
    }
   ],
   "source": [
    "weighted_mean_and_std(time_diff_1/population_1/avg_commute_time_1 *100, time_diff_2/population_2/avg_commute_time_2 *100,\\\n",
    "                    time_diff_3/population_3/avg_commute_time_3 *100, time_diff_4/population_4/avg_commute_time_4 *100,\\\n",
    "                        time_diff_5/population_5/avg_commute_time_5 *100)"
   ]
  },
  {
   "cell_type": "code",
   "execution_count": 153,
   "metadata": {},
   "outputs": [
    {
     "data": {
      "text/plain": [
       "(-0.775246813528913, 0.2869630801626301)"
      ]
     },
     "execution_count": 153,
     "metadata": {},
     "output_type": "execute_result"
    }
   ],
   "source": [
    "weighted_mean_and_std(money_diff_1/population_1/avg_commute_cost_1 *100, money_diff_2/population_2/avg_commute_cost_2 *100,\\\n",
    "                    money_diff_3/population_3/avg_commute_cost_3 *100, money_diff_4/population_4/avg_commute_cost_4 *100, \\\n",
    "                        money_diff_5/population_5/avg_commute_cost_5 *100)"
   ]
  },
  {
   "cell_type": "markdown",
   "metadata": {},
   "source": [
    "## 10 dollar Tax Commute Statistics"
   ]
  },
  {
   "cell_type": "code",
   "execution_count": 102,
   "metadata": {},
   "outputs": [],
   "source": [
    "# Total commute time for all 5 sets\n",
    "commute_time_1 = pivoted_time.multiply(agg_1_scene_3).sum().sum()\n",
    "commute_time_2 = pivoted_time.multiply(agg_2_scene_3).sum().sum()\n",
    "commute_time_3 = pivoted_time.multiply(agg_3_scene_3).sum().sum()\n",
    "commute_time_4 = pivoted_time.multiply(agg_4_scene_3).sum().sum()\n",
    "commute_time_5 = pivoted_time.multiply(agg_5_scene_3).sum().sum()"
   ]
  },
  {
   "cell_type": "code",
   "execution_count": 103,
   "metadata": {},
   "outputs": [
    {
     "data": {
      "text/plain": [
       "80.99970375810096"
      ]
     },
     "execution_count": 103,
     "metadata": {},
     "output_type": "execute_result"
    }
   ],
   "source": [
    "# Average commute time for all 5 sets\n",
    "avg_commute_time_1 = commute_time_1/agg_1_scene_3.sum().sum()\n",
    "avg_commute_time_2 = commute_time_2/agg_2_scene_3.sum().sum()\n",
    "avg_commute_time_3 = commute_time_3/agg_3_scene_3.sum().sum()\n",
    "avg_commute_time_4 = commute_time_4/agg_4_scene_3.sum().sum()\n",
    "avg_commute_time_5 = commute_time_5/agg_5_scene_3.sum().sum()\n",
    "avg_commute_time_1"
   ]
  },
  {
   "cell_type": "code",
   "execution_count": 104,
   "metadata": {},
   "outputs": [
    {
     "data": {
      "text/plain": [
       "(80.95245871555284, 0.036565196439753346)"
      ]
     },
     "execution_count": 104,
     "metadata": {},
     "output_type": "execute_result"
    }
   ],
   "source": [
    "# mean and std for individual commute time\n",
    "weighted_mean_and_std(avg_commute_time_1,avg_commute_time_2,avg_commute_time_3,avg_commute_time_4,avg_commute_time_5)"
   ]
  },
  {
   "cell_type": "code",
   "execution_count": 105,
   "metadata": {},
   "outputs": [],
   "source": [
    "# Total commute cost for all 5 sets\n",
    "commute_cost_1 = pivoted_money.multiply(agg_1_scene_3).sum().sum()\n",
    "commute_cost_2 = pivoted_money.multiply(agg_2_scene_3).sum().sum()\n",
    "commute_cost_3 = pivoted_money.multiply(agg_3_scene_3).sum().sum()\n",
    "commute_cost_4 = pivoted_money.multiply(agg_4_scene_3).sum().sum()\n",
    "commute_cost_5 = pivoted_money.multiply(agg_5_scene_3).sum().sum()"
   ]
  },
  {
   "cell_type": "code",
   "execution_count": 106,
   "metadata": {},
   "outputs": [
    {
     "data": {
      "text/plain": [
       "8.18108464945438"
      ]
     },
     "execution_count": 106,
     "metadata": {},
     "output_type": "execute_result"
    }
   ],
   "source": [
    "# Average commute cost for all 5 sets\n",
    "avg_commute_cost_1 = commute_cost_1/agg_1_scene_3.sum().sum()\n",
    "avg_commute_cost_2 = commute_cost_2/agg_2_scene_3.sum().sum()\n",
    "avg_commute_cost_3 = commute_cost_3/agg_3_scene_3.sum().sum()\n",
    "avg_commute_cost_4 = commute_cost_4/agg_4_scene_3.sum().sum()\n",
    "avg_commute_cost_5 = commute_cost_5/agg_5_scene_3.sum().sum()\n",
    "avg_commute_cost_1"
   ]
  },
  {
   "cell_type": "code",
   "execution_count": 107,
   "metadata": {},
   "outputs": [
    {
     "data": {
      "text/plain": [
       "(8.192727959940495, 0.010276763761331227)"
      ]
     },
     "execution_count": 107,
     "metadata": {},
     "output_type": "execute_result"
    }
   ],
   "source": [
    "# mean and std for individual commute cost\n",
    "weighted_mean_and_std(avg_commute_cost_1,avg_commute_cost_2,avg_commute_cost_3,avg_commute_cost_4,avg_commute_cost_5)"
   ]
  },
  {
   "cell_type": "markdown",
   "metadata": {},
   "source": [
    "#### Use below code only if you want exact values for the difference in time/money for commuters as it takes a very long time to run (>3 hours). It can also be used to get the difference for each taxi zone (after some minor changes)."
   ]
  },
  {
   "cell_type": "code",
   "execution_count": 148,
   "metadata": {},
   "outputs": [],
   "source": [
    "# time_total = 0\n",
    "# money_total = 0\n",
    "# for pair in tqdm(ODpair_list,position=0):\n",
    "#     time_pair = 0\n",
    "#     money_pair = 0\n",
    "#     for col in results_scene_1.columns:\n",
    "#         time_pair+=(results_scene_1.loc[results_scene_1.index==pair,col]-results_scene_2.loc[results_scene_2.index==pair,col])\\\n",
    "#         *wages.loc[(wages['ODpair']==pair) & wages['mode']==int(col),'duration']\n",
    "#         money_pair+=(results_scene_1.loc[results_scene_1.index==pair,col]-results_scene_2.loc[results_scene_2.index==pair,col])\\\n",
    "#         *wages.loc[(wages['ODpair']==pair) & wages['mode']==int(col),'price']\n",
    "#     time_total+=time_pair\n",
    "#     money_total+=money_pair"
   ]
  }
 ],
 "metadata": {
  "kernelspec": {
   "display_name": "Python 3",
   "language": "python",
   "name": "python3"
  },
  "language_info": {
   "codemirror_mode": {
    "name": "ipython",
    "version": 3
   },
   "file_extension": ".py",
   "mimetype": "text/x-python",
   "name": "python",
   "nbconvert_exporter": "python",
   "pygments_lexer": "ipython3",
   "version": "3.7.1"
  }
 },
 "nbformat": 4,
 "nbformat_minor": 2
}
