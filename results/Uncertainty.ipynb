{
 "cells": [
  {
   "cell_type": "code",
   "execution_count": 2,
   "metadata": {},
   "outputs": [],
   "source": [
    "import numpy as np\n",
    "import pandas as pd\n",
    "import warnings\n",
    "from tqdm import tqdm\n",
    "warnings.filterwarnings(\"ignore\")"
   ]
  },
  {
   "cell_type": "markdown",
   "metadata": {},
   "source": [
    "## Data"
   ]
  },
  {
   "cell_type": "code",
   "execution_count": 3,
   "metadata": {},
   "outputs": [
    {
     "data": {
      "text/html": [
       "<div>\n",
       "<style scoped>\n",
       "    .dataframe tbody tr th:only-of-type {\n",
       "        vertical-align: middle;\n",
       "    }\n",
       "\n",
       "    .dataframe tbody tr th {\n",
       "        vertical-align: top;\n",
       "    }\n",
       "\n",
       "    .dataframe thead th {\n",
       "        text-align: right;\n",
       "    }\n",
       "</style>\n",
       "<table border=\"1\" class=\"dataframe\">\n",
       "  <thead>\n",
       "    <tr style=\"text-align: right;\">\n",
       "      <th></th>\n",
       "      <th>taxi_zone</th>\n",
       "      <th>P(mode1)</th>\n",
       "      <th>P(mode2)</th>\n",
       "      <th>P(mode3)</th>\n",
       "      <th>P(mode4)</th>\n",
       "      <th>P(mode5)</th>\n",
       "      <th>P(mode6)</th>\n",
       "    </tr>\n",
       "  </thead>\n",
       "  <tbody>\n",
       "    <tr>\n",
       "      <th>0</th>\n",
       "      <td>3.0</td>\n",
       "      <td>0.115434</td>\n",
       "      <td>17.843262</td>\n",
       "      <td>7.334361</td>\n",
       "      <td>3885.402712</td>\n",
       "      <td>478.622467</td>\n",
       "      <td>4316.681764</td>\n",
       "    </tr>\n",
       "    <tr>\n",
       "      <th>1</th>\n",
       "      <td>4.0</td>\n",
       "      <td>42.851015</td>\n",
       "      <td>140.891180</td>\n",
       "      <td>84.609811</td>\n",
       "      <td>6937.780033</td>\n",
       "      <td>2631.714648</td>\n",
       "      <td>779.153313</td>\n",
       "    </tr>\n",
       "    <tr>\n",
       "      <th>2</th>\n",
       "      <td>5.0</td>\n",
       "      <td>0.081377</td>\n",
       "      <td>13.158607</td>\n",
       "      <td>2.120444</td>\n",
       "      <td>1860.706347</td>\n",
       "      <td>40.495673</td>\n",
       "      <td>6312.437553</td>\n",
       "    </tr>\n",
       "    <tr>\n",
       "      <th>3</th>\n",
       "      <td>6.0</td>\n",
       "      <td>0.109017</td>\n",
       "      <td>7.637848</td>\n",
       "      <td>1.878344</td>\n",
       "      <td>1974.772111</td>\n",
       "      <td>198.118892</td>\n",
       "      <td>3086.483787</td>\n",
       "    </tr>\n",
       "    <tr>\n",
       "      <th>4</th>\n",
       "      <td>7.0</td>\n",
       "      <td>25.522468</td>\n",
       "      <td>142.614028</td>\n",
       "      <td>37.582529</td>\n",
       "      <td>28436.765508</td>\n",
       "      <td>2680.397880</td>\n",
       "      <td>5365.117587</td>\n",
       "    </tr>\n",
       "  </tbody>\n",
       "</table>\n",
       "</div>"
      ],
      "text/plain": [
       "   taxi_zone   P(mode1)    P(mode2)   P(mode3)      P(mode4)     P(mode5)  \\\n",
       "0        3.0   0.115434   17.843262   7.334361   3885.402712   478.622467   \n",
       "1        4.0  42.851015  140.891180  84.609811   6937.780033  2631.714648   \n",
       "2        5.0   0.081377   13.158607   2.120444   1860.706347    40.495673   \n",
       "3        6.0   0.109017    7.637848   1.878344   1974.772111   198.118892   \n",
       "4        7.0  25.522468  142.614028  37.582529  28436.765508  2680.397880   \n",
       "\n",
       "      P(mode6)  \n",
       "0  4316.681764  \n",
       "1   779.153313  \n",
       "2  6312.437553  \n",
       "3  3086.483787  \n",
       "4  5365.117587  "
      ]
     },
     "execution_count": 3,
     "metadata": {},
     "output_type": "execute_result"
    }
   ],
   "source": [
    "acs = pd.read_csv('../modeling/final_acs_transportation_choice.csv')#, index_col=0)\n",
    "acs.head()"
   ]
  },
  {
   "cell_type": "code",
   "execution_count": 4,
   "metadata": {
    "scrolled": false
   },
   "outputs": [
    {
     "data": {
      "text/html": [
       "<div>\n",
       "<style scoped>\n",
       "    .dataframe tbody tr th:only-of-type {\n",
       "        vertical-align: middle;\n",
       "    }\n",
       "\n",
       "    .dataframe tbody tr th {\n",
       "        vertical-align: top;\n",
       "    }\n",
       "\n",
       "    .dataframe thead th {\n",
       "        text-align: right;\n",
       "    }\n",
       "</style>\n",
       "<table border=\"1\" class=\"dataframe\">\n",
       "  <thead>\n",
       "    <tr style=\"text-align: right;\">\n",
       "      <th></th>\n",
       "      <th>DOlocationID</th>\n",
       "      <th>ODpair</th>\n",
       "      <th>PUlocationID</th>\n",
       "      <th>duration</th>\n",
       "      <th>mode</th>\n",
       "      <th>nest</th>\n",
       "      <th>price</th>\n",
       "      <th>2500</th>\n",
       "      <th>7500</th>\n",
       "      <th>12500</th>\n",
       "      <th>17500</th>\n",
       "      <th>22500</th>\n",
       "      <th>30000</th>\n",
       "      <th>42500</th>\n",
       "      <th>62500</th>\n",
       "      <th>87500</th>\n",
       "      <th>125000</th>\n",
       "      <th>225000</th>\n",
       "    </tr>\n",
       "  </thead>\n",
       "  <tbody>\n",
       "    <tr>\n",
       "      <th>0</th>\n",
       "      <td>4</td>\n",
       "      <td>3-4</td>\n",
       "      <td>3</td>\n",
       "      <td>39.695000</td>\n",
       "      <td>2</td>\n",
       "      <td>1</td>\n",
       "      <td>64.000</td>\n",
       "      <td>0.250819</td>\n",
       "      <td>0.360216</td>\n",
       "      <td>0.648452</td>\n",
       "      <td>0.282211</td>\n",
       "      <td>0.414755</td>\n",
       "      <td>0.592009</td>\n",
       "      <td>0.671282</td>\n",
       "      <td>0.93859</td>\n",
       "      <td>0.586936</td>\n",
       "      <td>0.740725</td>\n",
       "      <td>0.514005</td>\n",
       "    </tr>\n",
       "    <tr>\n",
       "      <th>1</th>\n",
       "      <td>4</td>\n",
       "      <td>3-4</td>\n",
       "      <td>3</td>\n",
       "      <td>45.216667</td>\n",
       "      <td>3</td>\n",
       "      <td>1</td>\n",
       "      <td>61.500</td>\n",
       "      <td>0.250819</td>\n",
       "      <td>0.360216</td>\n",
       "      <td>0.648452</td>\n",
       "      <td>0.282211</td>\n",
       "      <td>0.414755</td>\n",
       "      <td>0.592009</td>\n",
       "      <td>0.671282</td>\n",
       "      <td>0.93859</td>\n",
       "      <td>0.586936</td>\n",
       "      <td>0.740725</td>\n",
       "      <td>0.514005</td>\n",
       "    </tr>\n",
       "    <tr>\n",
       "      <th>2</th>\n",
       "      <td>4</td>\n",
       "      <td>3-4</td>\n",
       "      <td>3</td>\n",
       "      <td>83.000000</td>\n",
       "      <td>4</td>\n",
       "      <td>2</td>\n",
       "      <td>5.500</td>\n",
       "      <td>0.250819</td>\n",
       "      <td>0.360216</td>\n",
       "      <td>0.648452</td>\n",
       "      <td>0.282211</td>\n",
       "      <td>0.414755</td>\n",
       "      <td>0.592009</td>\n",
       "      <td>0.671282</td>\n",
       "      <td>0.93859</td>\n",
       "      <td>0.586936</td>\n",
       "      <td>0.740725</td>\n",
       "      <td>0.514005</td>\n",
       "    </tr>\n",
       "    <tr>\n",
       "      <th>3</th>\n",
       "      <td>4</td>\n",
       "      <td>3-4</td>\n",
       "      <td>3</td>\n",
       "      <td>225.933333</td>\n",
       "      <td>5</td>\n",
       "      <td>3</td>\n",
       "      <td>0.000</td>\n",
       "      <td>0.250819</td>\n",
       "      <td>0.360216</td>\n",
       "      <td>0.648452</td>\n",
       "      <td>0.282211</td>\n",
       "      <td>0.414755</td>\n",
       "      <td>0.592009</td>\n",
       "      <td>0.671282</td>\n",
       "      <td>0.93859</td>\n",
       "      <td>0.586936</td>\n",
       "      <td>0.740725</td>\n",
       "      <td>0.514005</td>\n",
       "    </tr>\n",
       "    <tr>\n",
       "      <th>4</th>\n",
       "      <td>4</td>\n",
       "      <td>3-4</td>\n",
       "      <td>3</td>\n",
       "      <td>39.695000</td>\n",
       "      <td>6</td>\n",
       "      <td>4</td>\n",
       "      <td>29.424</td>\n",
       "      <td>0.250819</td>\n",
       "      <td>0.360216</td>\n",
       "      <td>0.648452</td>\n",
       "      <td>0.282211</td>\n",
       "      <td>0.414755</td>\n",
       "      <td>0.592009</td>\n",
       "      <td>0.671282</td>\n",
       "      <td>0.93859</td>\n",
       "      <td>0.586936</td>\n",
       "      <td>0.740725</td>\n",
       "      <td>0.514005</td>\n",
       "    </tr>\n",
       "  </tbody>\n",
       "</table>\n",
       "</div>"
      ],
      "text/plain": [
       "   DOlocationID ODpair  PUlocationID    duration  mode  nest   price  \\\n",
       "0             4    3-4             3   39.695000     2     1  64.000   \n",
       "1             4    3-4             3   45.216667     3     1  61.500   \n",
       "2             4    3-4             3   83.000000     4     2   5.500   \n",
       "3             4    3-4             3  225.933333     5     3   0.000   \n",
       "4             4    3-4             3   39.695000     6     4  29.424   \n",
       "\n",
       "       2500      7500     12500     17500     22500     30000     42500  \\\n",
       "0  0.250819  0.360216  0.648452  0.282211  0.414755  0.592009  0.671282   \n",
       "1  0.250819  0.360216  0.648452  0.282211  0.414755  0.592009  0.671282   \n",
       "2  0.250819  0.360216  0.648452  0.282211  0.414755  0.592009  0.671282   \n",
       "3  0.250819  0.360216  0.648452  0.282211  0.414755  0.592009  0.671282   \n",
       "4  0.250819  0.360216  0.648452  0.282211  0.414755  0.592009  0.671282   \n",
       "\n",
       "     62500     87500    125000    225000  \n",
       "0  0.93859  0.586936  0.740725  0.514005  \n",
       "1  0.93859  0.586936  0.740725  0.514005  \n",
       "2  0.93859  0.586936  0.740725  0.514005  \n",
       "3  0.93859  0.586936  0.740725  0.514005  \n",
       "4  0.93859  0.586936  0.740725  0.514005  "
      ]
     },
     "execution_count": 4,
     "metadata": {},
     "output_type": "execute_result"
    }
   ],
   "source": [
    "mode_data = pd.read_csv('../modeling/final_allMode_with_2017wage_cleaned_update.csv', index_col=0)\n",
    "mode_data = mode_data.dropna()\n",
    "mode_data.head()"
   ]
  },
  {
   "cell_type": "markdown",
   "metadata": {},
   "source": [
    "### Apply to our case"
   ]
  },
  {
   "cell_type": "code",
   "execution_count": 5,
   "metadata": {},
   "outputs": [],
   "source": [
    "def compare_with_ground_truth(predictdf, truedf):\n",
    "    '''\n",
    "    compare our predicted transportation choice with ground truth\n",
    "    \n",
    "    The header of the datafrme after merge (named 'data_compare') should be like:\n",
    "    taxi_zone | P(mode1)_x | P(mode2)_x | P(mode3)_x | P(mode4)_x | P(mode5)_x | P(mode1)_y | P(mode2)_y | P(mode3)_y | P(mode4)_y | P(mode5)_y\n",
    "    '''\n",
    "    import numpy as np\n",
    "    # makesure predictdf and truedf have the same formats\n",
    "    for col in predictdf.columns:\n",
    "        predictdf[col] = predictdf[col].astype(float) \n",
    "    predictdf = predictdf.fillna(0)\n",
    "    predictdf = predictdf.replace([np.inf, -np.inf], np.nan)\n",
    "    predictdf = predictdf.dropna()\n",
    "    predictdf['taxi_zone'] = predictdf.index.map(lambda x: x.split('-')[0]) #get origin taxi zone from each OD pair\n",
    "    predictdf = predictdf.groupby('taxi_zone').sum().reset_index() #group the popuation by taxi zone\n",
    "    predictdf['taxi_zone'] = predictdf['taxi_zone'].astype(int)\n",
    "    \n",
    "    #do same thing as predictdf to loss_function_deno dataframe\n",
    "#     for col in loss_function_deno.columns:\n",
    "#         loss_function_deno[col] = loss_function_deno[col].astype(float) \n",
    "#     loss_function_deno = loss_function_deno.fillna(0)\n",
    "#     loss_function_deno = loss_function_deno.replace([np.inf, -np.inf], np.nan)\n",
    "#     loss_function_deno = loss_function_deno.dropna()\n",
    "#     loss_function_deno['taxi_zone'] = loss_function_deno.index.map(lambda x: x.split('-')[0]) #get origin taxi zone from each OD pair\n",
    "#     loss_function_deno = loss_function_deno.groupby('taxi_zone').sum().reset_index() #group the popuation by taxi zone\n",
    "#     loss_function_deno['taxi_zone'] = loss_function_deno['taxi_zone'].astype(int)   \n",
    "    \n",
    "    truedf['taxi_zone'] = truedf['taxi_zone'].astype(int)\n",
    "    \n",
    "    data_compare = pd.merge(predictdf, truedf, left_on='taxi_zone', right_on = 'taxi_zone')\n",
    "\n",
    "    data_compare = data_compare.dropna() \n",
    "    data_compare_zone = data_compare['taxi_zone'].unique()\n",
    "#     loss_function_deno = loss_function_deno[loss_function_deno['taxi_zone'].isin(data_compare_zone)]\n",
    "\n",
    "    rloss = 0\n",
    "    rmse = 0\n",
    "    for i in range(1,totmode+1):\n",
    "        data_compare_deno = (data_compare[data_compare.columns[i+totmode]].replace(to_replace=0,value = 1)).copy()\n",
    "        rlossi = (np.sqrt(sum(((data_compare[data_compare.columns[i]] - data_compare[data_compare.columns[i+totmode]])**2)\\\n",
    "                        /(data_compare_deno))))\n",
    "        rmsei = (np.sqrt(sum((data_compare[data_compare.columns[i]] - data_compare[data_compare.columns[i+totmode]])**2)))\n",
    "        if rlossi == np.nan: print('Nan encountered')\n",
    "    rloss += rlossi\n",
    "    rmse += rmsei\n",
    "    tot_mse = np.sqrt(sum((np.asarray(predictdf.sum()[1:]) - np.asarray(truedf.sum()[1:]))**2))\n",
    "    return rloss, rmse, tot_mse"
   ]
  },
  {
   "cell_type": "code",
   "execution_count": 6,
   "metadata": {},
   "outputs": [],
   "source": [
    "totmode = 6"
   ]
  },
  {
   "cell_type": "markdown",
   "metadata": {},
   "source": [
    "1"
   ]
  },
  {
   "cell_type": "code",
   "execution_count": 7,
   "metadata": {},
   "outputs": [],
   "source": [
    "predict_choice_1 = pd.read_csv('Final_results/results_scenario1_.04_1.5_for_uncertainty.csv',\\\n",
    "                               index_col=0)"
   ]
  },
  {
   "cell_type": "code",
   "execution_count": 8,
   "metadata": {},
   "outputs": [],
   "source": [
    "rloss1, rmse1, tot_mse1 = compare_with_ground_truth(predict_choice_1, acs)"
   ]
  },
  {
   "cell_type": "code",
   "execution_count": 9,
   "metadata": {},
   "outputs": [
    {
     "data": {
      "text/html": [
       "<div>\n",
       "<style scoped>\n",
       "    .dataframe tbody tr th:only-of-type {\n",
       "        vertical-align: middle;\n",
       "    }\n",
       "\n",
       "    .dataframe tbody tr th {\n",
       "        vertical-align: top;\n",
       "    }\n",
       "\n",
       "    .dataframe thead th {\n",
       "        text-align: right;\n",
       "    }\n",
       "</style>\n",
       "<table border=\"1\" class=\"dataframe\">\n",
       "  <thead>\n",
       "    <tr style=\"text-align: right;\">\n",
       "      <th></th>\n",
       "      <th>P(mode1)</th>\n",
       "      <th>P(mode2)</th>\n",
       "      <th>P(mode3)</th>\n",
       "      <th>P(mode4)</th>\n",
       "      <th>P(mode5)</th>\n",
       "      <th>P(mode6)</th>\n",
       "    </tr>\n",
       "  </thead>\n",
       "  <tbody>\n",
       "    <tr>\n",
       "      <th>3-4</th>\n",
       "      <td>0.0</td>\n",
       "      <td>0.0</td>\n",
       "      <td>0.0</td>\n",
       "      <td>3.877147</td>\n",
       "      <td>0.249570</td>\n",
       "      <td>1.873283</td>\n",
       "    </tr>\n",
       "    <tr>\n",
       "      <th>3-7</th>\n",
       "      <td>0.0</td>\n",
       "      <td>0.0</td>\n",
       "      <td>0.0</td>\n",
       "      <td>12.012387</td>\n",
       "      <td>1.458571</td>\n",
       "      <td>22.529042</td>\n",
       "    </tr>\n",
       "    <tr>\n",
       "      <th>3-9</th>\n",
       "      <td>0.0</td>\n",
       "      <td>0.0</td>\n",
       "      <td>0.0</td>\n",
       "      <td>0.140546</td>\n",
       "      <td>0.072559</td>\n",
       "      <td>1.786895</td>\n",
       "    </tr>\n",
       "    <tr>\n",
       "      <th>3-10</th>\n",
       "      <td>0.0</td>\n",
       "      <td>0.0</td>\n",
       "      <td>0.0</td>\n",
       "      <td>0.157064</td>\n",
       "      <td>0.124834</td>\n",
       "      <td>2.718103</td>\n",
       "    </tr>\n",
       "    <tr>\n",
       "      <th>3-11</th>\n",
       "      <td>0.0</td>\n",
       "      <td>0.0</td>\n",
       "      <td>0.0</td>\n",
       "      <td>3.853464</td>\n",
       "      <td>0.145975</td>\n",
       "      <td>0.000561</td>\n",
       "    </tr>\n",
       "  </tbody>\n",
       "</table>\n",
       "</div>"
      ],
      "text/plain": [
       "      P(mode1)  P(mode2)  P(mode3)   P(mode4)  P(mode5)   P(mode6)\n",
       "3-4        0.0       0.0       0.0   3.877147  0.249570   1.873283\n",
       "3-7        0.0       0.0       0.0  12.012387  1.458571  22.529042\n",
       "3-9        0.0       0.0       0.0   0.140546  0.072559   1.786895\n",
       "3-10       0.0       0.0       0.0   0.157064  0.124834   2.718103\n",
       "3-11       0.0       0.0       0.0   3.853464  0.145975   0.000561"
      ]
     },
     "execution_count": 9,
     "metadata": {},
     "output_type": "execute_result"
    }
   ],
   "source": [
    "predict_choice_1.head()"
   ]
  },
  {
   "cell_type": "markdown",
   "metadata": {},
   "source": [
    "2"
   ]
  },
  {
   "cell_type": "code",
   "execution_count": 10,
   "metadata": {},
   "outputs": [],
   "source": [
    "predict_choice_2 = pd.read_csv('Final_results/results_scenario1_0.05_1.5.csv',index_col=0)"
   ]
  },
  {
   "cell_type": "code",
   "execution_count": 11,
   "metadata": {},
   "outputs": [],
   "source": [
    "rloss2, rmse2, tot_mse2 = compare_with_ground_truth(predict_choice_2, acs)"
   ]
  },
  {
   "cell_type": "markdown",
   "metadata": {},
   "source": [
    "3"
   ]
  },
  {
   "cell_type": "code",
   "execution_count": 12,
   "metadata": {},
   "outputs": [],
   "source": [
    "predict_choice_3 = pd.read_csv('Final_results/results_scenario1_.06_1.5.csv',index_col=0)"
   ]
  },
  {
   "cell_type": "code",
   "execution_count": 13,
   "metadata": {},
   "outputs": [],
   "source": [
    "rloss3, rmse3, tot_mse3 = compare_with_ground_truth(predict_choice_3, acs)"
   ]
  },
  {
   "cell_type": "markdown",
   "metadata": {},
   "source": [
    "4"
   ]
  },
  {
   "cell_type": "code",
   "execution_count": 14,
   "metadata": {},
   "outputs": [],
   "source": [
    "predict_choice_4 = pd.read_csv('Final_results/results_scenario1_.05_1.4_for_uncertainty.csv',index_col=0)"
   ]
  },
  {
   "cell_type": "code",
   "execution_count": 15,
   "metadata": {},
   "outputs": [],
   "source": [
    "rloss4, rmse4, tot_mse4 = compare_with_ground_truth(predict_choice_4, acs)"
   ]
  },
  {
   "cell_type": "markdown",
   "metadata": {},
   "source": [
    "5"
   ]
  },
  {
   "cell_type": "code",
   "execution_count": 16,
   "metadata": {},
   "outputs": [],
   "source": [
    "predict_choice_5 = pd.read_csv('Final_results/results_scenario1_.05_1.6_for_uncertainty.csv',index_col=0)"
   ]
  },
  {
   "cell_type": "code",
   "execution_count": 17,
   "metadata": {},
   "outputs": [],
   "source": [
    "rloss5, rmse5, tot_mse5 = compare_with_ground_truth(predict_choice_5, acs)"
   ]
  },
  {
   "cell_type": "code",
   "execution_count": 18,
   "metadata": {},
   "outputs": [
    {
     "data": {
      "text/plain": [
       "(55798, 6)"
      ]
     },
     "execution_count": 18,
     "metadata": {},
     "output_type": "execute_result"
    }
   ],
   "source": [
    "predict_choice_5.shape"
   ]
  },
  {
   "cell_type": "code",
   "execution_count": 19,
   "metadata": {},
   "outputs": [],
   "source": [
    "predict_choice_1['rmse'] = rmse1\n",
    "predict_choice_2['rmse'] = rmse2\n",
    "predict_choice_3['rmse'] = rmse3\n",
    "predict_choice_4['rmse'] = rmse4\n",
    "predict_choice_5['rmse'] = rmse5"
   ]
  },
  {
   "cell_type": "code",
   "execution_count": 20,
   "metadata": {},
   "outputs": [
    {
     "data": {
      "text/html": [
       "<div>\n",
       "<style scoped>\n",
       "    .dataframe tbody tr th:only-of-type {\n",
       "        vertical-align: middle;\n",
       "    }\n",
       "\n",
       "    .dataframe tbody tr th {\n",
       "        vertical-align: top;\n",
       "    }\n",
       "\n",
       "    .dataframe thead th {\n",
       "        text-align: right;\n",
       "    }\n",
       "</style>\n",
       "<table border=\"1\" class=\"dataframe\">\n",
       "  <thead>\n",
       "    <tr style=\"text-align: right;\">\n",
       "      <th></th>\n",
       "      <th>P(mode1)</th>\n",
       "      <th>P(mode2)</th>\n",
       "      <th>P(mode3)</th>\n",
       "      <th>P(mode4)</th>\n",
       "      <th>P(mode5)</th>\n",
       "      <th>P(mode6)</th>\n",
       "      <th>rmse</th>\n",
       "    </tr>\n",
       "  </thead>\n",
       "  <tbody>\n",
       "    <tr>\n",
       "      <th>3-4</th>\n",
       "      <td>0.0</td>\n",
       "      <td>0.0</td>\n",
       "      <td>0.0</td>\n",
       "      <td>3.877147</td>\n",
       "      <td>0.249570</td>\n",
       "      <td>1.873283</td>\n",
       "      <td>36787.252943</td>\n",
       "    </tr>\n",
       "    <tr>\n",
       "      <th>3-7</th>\n",
       "      <td>0.0</td>\n",
       "      <td>0.0</td>\n",
       "      <td>0.0</td>\n",
       "      <td>12.012387</td>\n",
       "      <td>1.458571</td>\n",
       "      <td>22.529042</td>\n",
       "      <td>36787.252943</td>\n",
       "    </tr>\n",
       "    <tr>\n",
       "      <th>3-9</th>\n",
       "      <td>0.0</td>\n",
       "      <td>0.0</td>\n",
       "      <td>0.0</td>\n",
       "      <td>0.140546</td>\n",
       "      <td>0.072559</td>\n",
       "      <td>1.786895</td>\n",
       "      <td>36787.252943</td>\n",
       "    </tr>\n",
       "    <tr>\n",
       "      <th>3-10</th>\n",
       "      <td>0.0</td>\n",
       "      <td>0.0</td>\n",
       "      <td>0.0</td>\n",
       "      <td>0.157064</td>\n",
       "      <td>0.124834</td>\n",
       "      <td>2.718103</td>\n",
       "      <td>36787.252943</td>\n",
       "    </tr>\n",
       "    <tr>\n",
       "      <th>3-11</th>\n",
       "      <td>0.0</td>\n",
       "      <td>0.0</td>\n",
       "      <td>0.0</td>\n",
       "      <td>3.853464</td>\n",
       "      <td>0.145975</td>\n",
       "      <td>0.000561</td>\n",
       "      <td>36787.252943</td>\n",
       "    </tr>\n",
       "  </tbody>\n",
       "</table>\n",
       "</div>"
      ],
      "text/plain": [
       "      P(mode1)  P(mode2)  P(mode3)   P(mode4)  P(mode5)   P(mode6)  \\\n",
       "3-4        0.0       0.0       0.0   3.877147  0.249570   1.873283   \n",
       "3-7        0.0       0.0       0.0  12.012387  1.458571  22.529042   \n",
       "3-9        0.0       0.0       0.0   0.140546  0.072559   1.786895   \n",
       "3-10       0.0       0.0       0.0   0.157064  0.124834   2.718103   \n",
       "3-11       0.0       0.0       0.0   3.853464  0.145975   0.000561   \n",
       "\n",
       "              rmse  \n",
       "3-4   36787.252943  \n",
       "3-7   36787.252943  \n",
       "3-9   36787.252943  \n",
       "3-10  36787.252943  \n",
       "3-11  36787.252943  "
      ]
     },
     "execution_count": 20,
     "metadata": {},
     "output_type": "execute_result"
    }
   ],
   "source": [
    "predict_choice_1.head()"
   ]
  },
  {
   "cell_type": "code",
   "execution_count": 21,
   "metadata": {},
   "outputs": [],
   "source": [
    "combined = predict_choice_1.append(predict_choice_2.append(predict_choice_3.append\\\n",
    "                                                           (predict_choice_4.append(predict_choice_5))))"
   ]
  },
  {
   "cell_type": "code",
   "execution_count": 22,
   "metadata": {},
   "outputs": [],
   "source": [
    "# wm = lambda dfx: (dfx * np.exp(-dfx[\"rmse\"])).sum() / np.exp(-dfx[\"rmse\"]).sum()"
   ]
  },
  {
   "cell_type": "code",
   "execution_count": 532,
   "metadata": {},
   "outputs": [
    {
     "data": {
      "text/plain": [
       "array([36787.25294336, 36394.52615727, 35921.7920947 , 36182.38317826,\n",
       "       36583.11298344])"
      ]
     },
     "execution_count": 532,
     "metadata": {},
     "output_type": "execute_result"
    }
   ],
   "source": [
    "combined.rmse.unique()"
   ]
  },
  {
   "cell_type": "code",
   "execution_count": 23,
   "metadata": {},
   "outputs": [],
   "source": [
    "combined['rmse'] = combined.rmse.apply(lambda x: np.exp(1/x))"
   ]
  },
  {
   "cell_type": "code",
   "execution_count": 534,
   "metadata": {},
   "outputs": [],
   "source": [
    "wm = lambda x: pd.Series(np.abs(np.average(x, weights= (x['rmse']),axis=0)))"
   ]
  },
  {
   "cell_type": "code",
   "execution_count": 24,
   "metadata": {},
   "outputs": [
    {
     "data": {
      "text/plain": [
       "array([0.19999994, 0.2       , 0.20000007, 0.20000003, 0.19999997])"
      ]
     },
     "execution_count": 24,
     "metadata": {},
     "output_type": "execute_result"
    }
   ],
   "source": [
    "combined.rmse.unique()/combined.rmse.unique().sum()"
   ]
  },
  {
   "cell_type": "code",
   "execution_count": 28,
   "metadata": {},
   "outputs": [
    {
     "data": {
      "text/plain": [
       "[((0.04, 1.5), 0.19999993782503958),\n",
       " ((0.05, 1.5), 0.1999999964911128),\n",
       " ((0.06, 1.5), 0.20000006881019378),\n",
       " ((0.5, 1.4), 0.20000002871110628),\n",
       " ((0.05, 1.6), 0.19999996816254745)]"
      ]
     },
     "execution_count": 28,
     "metadata": {},
     "output_type": "execute_result"
    }
   ],
   "source": [
    "list(zip([(0.04,1.5),(0.05,1.5),(0.06,1.5),(0.5,1.4),(0.05,1.6)],combined.rmse.unique()/combined.rmse.unique().sum()))"
   ]
  },
  {
   "cell_type": "code",
   "execution_count": 27,
   "metadata": {},
   "outputs": [
    {
     "data": {
      "text/html": [
       "<div>\n",
       "<style scoped>\n",
       "    .dataframe tbody tr th:only-of-type {\n",
       "        vertical-align: middle;\n",
       "    }\n",
       "\n",
       "    .dataframe tbody tr th {\n",
       "        vertical-align: top;\n",
       "    }\n",
       "\n",
       "    .dataframe thead th {\n",
       "        text-align: right;\n",
       "    }\n",
       "</style>\n",
       "<table border=\"1\" class=\"dataframe\">\n",
       "  <thead>\n",
       "    <tr style=\"text-align: right;\">\n",
       "      <th></th>\n",
       "      <th>0</th>\n",
       "    </tr>\n",
       "  </thead>\n",
       "  <tbody>\n",
       "    <tr>\n",
       "      <th>0</th>\n",
       "      <td>0.2</td>\n",
       "    </tr>\n",
       "    <tr>\n",
       "      <th>1</th>\n",
       "      <td>0.2</td>\n",
       "    </tr>\n",
       "    <tr>\n",
       "      <th>2</th>\n",
       "      <td>0.2</td>\n",
       "    </tr>\n",
       "    <tr>\n",
       "      <th>3</th>\n",
       "      <td>0.2</td>\n",
       "    </tr>\n",
       "    <tr>\n",
       "      <th>4</th>\n",
       "      <td>0.2</td>\n",
       "    </tr>\n",
       "  </tbody>\n",
       "</table>\n",
       "</div>"
      ],
      "text/plain": [
       "     0\n",
       "0  0.2\n",
       "1  0.2\n",
       "2  0.2\n",
       "3  0.2\n",
       "4  0.2"
      ]
     },
     "execution_count": 27,
     "metadata": {},
     "output_type": "execute_result"
    }
   ],
   "source": [
    "pd.DataFrame(([0.19999994, 0.2       , 0.20000007, 0.20000003, 0.19999997]))"
   ]
  },
  {
   "cell_type": "code",
   "execution_count": 535,
   "metadata": {},
   "outputs": [],
   "source": [
    "mean_combined = combined.groupby(combined.index).apply(wm)"
   ]
  },
  {
   "cell_type": "code",
   "execution_count": 536,
   "metadata": {},
   "outputs": [],
   "source": [
    "mean_combined.columns = predict_choice_1.columns"
   ]
  },
  {
   "cell_type": "code",
   "execution_count": 537,
   "metadata": {},
   "outputs": [],
   "source": [
    "mean_combined.drop(['rmse'],axis=1,inplace=True)"
   ]
  },
  {
   "cell_type": "code",
   "execution_count": 538,
   "metadata": {},
   "outputs": [
    {
     "data": {
      "text/html": [
       "<div>\n",
       "<style scoped>\n",
       "    .dataframe tbody tr th:only-of-type {\n",
       "        vertical-align: middle;\n",
       "    }\n",
       "\n",
       "    .dataframe tbody tr th {\n",
       "        vertical-align: top;\n",
       "    }\n",
       "\n",
       "    .dataframe thead th {\n",
       "        text-align: right;\n",
       "    }\n",
       "</style>\n",
       "<table border=\"1\" class=\"dataframe\">\n",
       "  <thead>\n",
       "    <tr style=\"text-align: right;\">\n",
       "      <th></th>\n",
       "      <th>P(mode1)</th>\n",
       "      <th>P(mode2)</th>\n",
       "      <th>P(mode3)</th>\n",
       "      <th>P(mode4)</th>\n",
       "      <th>P(mode5)</th>\n",
       "      <th>P(mode6)</th>\n",
       "    </tr>\n",
       "  </thead>\n",
       "  <tbody>\n",
       "    <tr>\n",
       "      <th>10-100</th>\n",
       "      <td>0.000000e+00</td>\n",
       "      <td>0.000000e+00</td>\n",
       "      <td>0.000000e+00</td>\n",
       "      <td>131.060201</td>\n",
       "      <td>4.939799</td>\n",
       "      <td>4.004003e-08</td>\n",
       "    </tr>\n",
       "    <tr>\n",
       "      <th>10-101</th>\n",
       "      <td>0.000000e+00</td>\n",
       "      <td>3.791167e-28</td>\n",
       "      <td>9.110685e-16</td>\n",
       "      <td>1.942899</td>\n",
       "      <td>18.874800</td>\n",
       "      <td>7.118230e+01</td>\n",
       "    </tr>\n",
       "    <tr>\n",
       "      <th>10-102</th>\n",
       "      <td>8.459467e-09</td>\n",
       "      <td>3.618705e-65</td>\n",
       "      <td>7.819331e-57</td>\n",
       "      <td>0.042130</td>\n",
       "      <td>5.670556</td>\n",
       "      <td>4.328731e+01</td>\n",
       "    </tr>\n",
       "    <tr>\n",
       "      <th>10-106</th>\n",
       "      <td>0.000000e+00</td>\n",
       "      <td>0.000000e+00</td>\n",
       "      <td>0.000000e+00</td>\n",
       "      <td>5.242844</td>\n",
       "      <td>2.022805</td>\n",
       "      <td>2.073435e+01</td>\n",
       "    </tr>\n",
       "    <tr>\n",
       "      <th>10-107</th>\n",
       "      <td>0.000000e+00</td>\n",
       "      <td>0.000000e+00</td>\n",
       "      <td>0.000000e+00</td>\n",
       "      <td>39.001455</td>\n",
       "      <td>1.200239</td>\n",
       "      <td>6.798306e+00</td>\n",
       "    </tr>\n",
       "  </tbody>\n",
       "</table>\n",
       "</div>"
      ],
      "text/plain": [
       "            P(mode1)      P(mode2)      P(mode3)    P(mode4)   P(mode5)  \\\n",
       "10-100  0.000000e+00  0.000000e+00  0.000000e+00  131.060201   4.939799   \n",
       "10-101  0.000000e+00  3.791167e-28  9.110685e-16    1.942899  18.874800   \n",
       "10-102  8.459467e-09  3.618705e-65  7.819331e-57    0.042130   5.670556   \n",
       "10-106  0.000000e+00  0.000000e+00  0.000000e+00    5.242844   2.022805   \n",
       "10-107  0.000000e+00  0.000000e+00  0.000000e+00   39.001455   1.200239   \n",
       "\n",
       "            P(mode6)  \n",
       "10-100  4.004003e-08  \n",
       "10-101  7.118230e+01  \n",
       "10-102  4.328731e+01  \n",
       "10-106  2.073435e+01  \n",
       "10-107  6.798306e+00  "
      ]
     },
     "execution_count": 538,
     "metadata": {},
     "output_type": "execute_result"
    }
   ],
   "source": [
    "mean_combined.head()"
   ]
  },
  {
   "cell_type": "code",
   "execution_count": 539,
   "metadata": {},
   "outputs": [
    {
     "data": {
      "text/plain": [
       "(55798, 6)"
      ]
     },
     "execution_count": 539,
     "metadata": {},
     "output_type": "execute_result"
    }
   ],
   "source": [
    "mean_combined.shape"
   ]
  },
  {
   "cell_type": "code",
   "execution_count": 540,
   "metadata": {},
   "outputs": [
    {
     "data": {
      "text/plain": [
       "(55798, 6)"
      ]
     },
     "execution_count": 540,
     "metadata": {},
     "output_type": "execute_result"
    }
   ],
   "source": [
    "mean_combined.dropna().shape"
   ]
  },
  {
   "cell_type": "code",
   "execution_count": 541,
   "metadata": {},
   "outputs": [],
   "source": [
    "def weighted_std(values):\n",
    "    average = (np.average(values, weights=(values['rmse']),axis=0))\n",
    "    # Fast and numerically precise:\n",
    "    variance = np.average((values-average)**2, weights=(values['rmse']),axis=0)\n",
    "    return (pd.Series(np.sqrt(np.abs(variance))))"
   ]
  },
  {
   "cell_type": "code",
   "execution_count": 542,
   "metadata": {},
   "outputs": [],
   "source": [
    "std_combined = combined.groupby(combined.index).apply(weighted_std)"
   ]
  },
  {
   "cell_type": "code",
   "execution_count": 543,
   "metadata": {},
   "outputs": [],
   "source": [
    "std_combined.columns = predict_choice_1.columns"
   ]
  },
  {
   "cell_type": "code",
   "execution_count": 544,
   "metadata": {},
   "outputs": [],
   "source": [
    "std_combined.drop(['rmse'],axis=1,inplace=True)"
   ]
  },
  {
   "cell_type": "code",
   "execution_count": 546,
   "metadata": {},
   "outputs": [
    {
     "data": {
      "text/html": [
       "<div>\n",
       "<style scoped>\n",
       "    .dataframe tbody tr th:only-of-type {\n",
       "        vertical-align: middle;\n",
       "    }\n",
       "\n",
       "    .dataframe tbody tr th {\n",
       "        vertical-align: top;\n",
       "    }\n",
       "\n",
       "    .dataframe thead th {\n",
       "        text-align: right;\n",
       "    }\n",
       "</style>\n",
       "<table border=\"1\" class=\"dataframe\">\n",
       "  <thead>\n",
       "    <tr style=\"text-align: right;\">\n",
       "      <th></th>\n",
       "      <th>P(mode1)</th>\n",
       "      <th>P(mode2)</th>\n",
       "      <th>P(mode3)</th>\n",
       "      <th>P(mode4)</th>\n",
       "      <th>P(mode5)</th>\n",
       "      <th>P(mode6)</th>\n",
       "    </tr>\n",
       "  </thead>\n",
       "  <tbody>\n",
       "    <tr>\n",
       "      <th>10-100</th>\n",
       "      <td>0.000000e+00</td>\n",
       "      <td>0.000000e+00</td>\n",
       "      <td>0.000000e+00</td>\n",
       "      <td>0.055687</td>\n",
       "      <td>0.055687</td>\n",
       "      <td>3.473214e-08</td>\n",
       "    </tr>\n",
       "    <tr>\n",
       "      <th>10-101</th>\n",
       "      <td>0.000000e+00</td>\n",
       "      <td>7.582332e-28</td>\n",
       "      <td>1.822137e-15</td>\n",
       "      <td>0.110773</td>\n",
       "      <td>0.089123</td>\n",
       "      <td>2.170443e-02</td>\n",
       "    </tr>\n",
       "    <tr>\n",
       "      <th>10-102</th>\n",
       "      <td>1.071153e-08</td>\n",
       "      <td>7.237408e-65</td>\n",
       "      <td>1.563866e-56</td>\n",
       "      <td>0.007989</td>\n",
       "      <td>0.025504</td>\n",
       "      <td>3.344761e-02</td>\n",
       "    </tr>\n",
       "    <tr>\n",
       "      <th>10-106</th>\n",
       "      <td>0.000000e+00</td>\n",
       "      <td>0.000000e+00</td>\n",
       "      <td>0.000000e+00</td>\n",
       "      <td>0.007416</td>\n",
       "      <td>0.004049</td>\n",
       "      <td>3.367155e-03</td>\n",
       "    </tr>\n",
       "    <tr>\n",
       "      <th>10-107</th>\n",
       "      <td>0.000000e+00</td>\n",
       "      <td>0.000000e+00</td>\n",
       "      <td>0.000000e+00</td>\n",
       "      <td>0.029121</td>\n",
       "      <td>0.000804</td>\n",
       "      <td>2.992347e-02</td>\n",
       "    </tr>\n",
       "  </tbody>\n",
       "</table>\n",
       "</div>"
      ],
      "text/plain": [
       "            P(mode1)      P(mode2)      P(mode3)  P(mode4)  P(mode5)  \\\n",
       "10-100  0.000000e+00  0.000000e+00  0.000000e+00  0.055687  0.055687   \n",
       "10-101  0.000000e+00  7.582332e-28  1.822137e-15  0.110773  0.089123   \n",
       "10-102  1.071153e-08  7.237408e-65  1.563866e-56  0.007989  0.025504   \n",
       "10-106  0.000000e+00  0.000000e+00  0.000000e+00  0.007416  0.004049   \n",
       "10-107  0.000000e+00  0.000000e+00  0.000000e+00  0.029121  0.000804   \n",
       "\n",
       "            P(mode6)  \n",
       "10-100  3.473214e-08  \n",
       "10-101  2.170443e-02  \n",
       "10-102  3.344761e-02  \n",
       "10-106  3.367155e-03  \n",
       "10-107  2.992347e-02  "
      ]
     },
     "execution_count": 546,
     "metadata": {},
     "output_type": "execute_result"
    }
   ],
   "source": [
    "std_combined.head()"
   ]
  },
  {
   "cell_type": "code",
   "execution_count": 547,
   "metadata": {},
   "outputs": [
    {
     "data": {
      "text/plain": [
       "(55798, 6)"
      ]
     },
     "execution_count": 547,
     "metadata": {},
     "output_type": "execute_result"
    }
   ],
   "source": [
    "std_combined.shape"
   ]
  },
  {
   "cell_type": "code",
   "execution_count": 548,
   "metadata": {},
   "outputs": [
    {
     "data": {
      "text/plain": [
       "(55798, 6)"
      ]
     },
     "execution_count": 548,
     "metadata": {},
     "output_type": "execute_result"
    }
   ],
   "source": [
    "std_combined.dropna().shape"
   ]
  },
  {
   "cell_type": "code",
   "execution_count": 549,
   "metadata": {},
   "outputs": [],
   "source": [
    "mean_combined.to_csv('Final_results/Uncertainty/mean_scenario_1.csv')"
   ]
  },
  {
   "cell_type": "code",
   "execution_count": 550,
   "metadata": {},
   "outputs": [],
   "source": [
    "std_combined.to_csv('Final_results/Uncertainty/std_scenario_1.csv')"
   ]
  },
  {
   "cell_type": "code",
   "execution_count": 327,
   "metadata": {},
   "outputs": [
    {
     "data": {
      "text/plain": [
       "P(mode1)    5.606551e+04\n",
       "P(mode2)    7.136258e+03\n",
       "P(mode3)    2.463458e+03\n",
       "P(mode4)    1.449029e+06\n",
       "P(mode5)    2.282187e+05\n",
       "P(mode6)    1.138438e+06\n",
       "dtype: float64"
      ]
     },
     "execution_count": 327,
     "metadata": {},
     "output_type": "execute_result"
    }
   ],
   "source": [
    "mean_combined.sum()"
   ]
  },
  {
   "cell_type": "code",
   "execution_count": 399,
   "metadata": {},
   "outputs": [
    {
     "data": {
      "text/plain": [
       "P(mode1)    3890.121024\n",
       "P(mode2)    2322.527044\n",
       "P(mode3)    4106.473318\n",
       "P(mode4)    5561.334405\n",
       "P(mode5)     237.574695\n",
       "P(mode6)    4558.344969\n",
       "dtype: float64"
      ]
     },
     "execution_count": 399,
     "metadata": {},
     "output_type": "execute_result"
    }
   ],
   "source": [
    "std_combined.sum()"
   ]
  },
  {
   "cell_type": "code",
   "execution_count": null,
   "metadata": {},
   "outputs": [],
   "source": []
  }
 ],
 "metadata": {
  "kernelspec": {
   "display_name": "Python 3",
   "language": "python",
   "name": "python3"
  },
  "language_info": {
   "codemirror_mode": {
    "name": "ipython",
    "version": 3
   },
   "file_extension": ".py",
   "mimetype": "text/x-python",
   "name": "python",
   "nbconvert_exporter": "python",
   "pygments_lexer": "ipython3",
   "version": "3.7.1"
  }
 },
 "nbformat": 4,
 "nbformat_minor": 2
}
