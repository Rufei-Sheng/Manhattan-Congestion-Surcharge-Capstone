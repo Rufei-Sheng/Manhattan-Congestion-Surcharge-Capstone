{
 "cells": [
  {
   "cell_type": "markdown",
   "metadata": {},
   "source": [
    "## Daily Impacts"
   ]
  },
  {
   "cell_type": "code",
   "execution_count": 1,
   "metadata": {},
   "outputs": [],
   "source": [
    "import numpy as np\n",
    "import pandas as pd\n",
    "import warnings\n",
    "warnings.filterwarnings(\"ignore\")\n",
    "import time\n",
    "import timeit\n",
    "from tqdm import tqdm\n",
    "from sklearn.model_selection import GridSearchCV\n",
    "import re"
   ]
  },
  {
   "cell_type": "code",
   "execution_count": 2,
   "metadata": {},
   "outputs": [
    {
     "data": {
      "text/html": [
       "<div>\n",
       "<style scoped>\n",
       "    .dataframe tbody tr th:only-of-type {\n",
       "        vertical-align: middle;\n",
       "    }\n",
       "\n",
       "    .dataframe tbody tr th {\n",
       "        vertical-align: top;\n",
       "    }\n",
       "\n",
       "    .dataframe thead th {\n",
       "        text-align: right;\n",
       "    }\n",
       "</style>\n",
       "<table border=\"1\" class=\"dataframe\">\n",
       "  <thead>\n",
       "    <tr style=\"text-align: right;\">\n",
       "      <th></th>\n",
       "      <th>P(mode1)</th>\n",
       "      <th>P(mode2)</th>\n",
       "      <th>P(mode3)</th>\n",
       "      <th>P(mode4)</th>\n",
       "      <th>P(mode5)</th>\n",
       "      <th>P(mode6)</th>\n",
       "    </tr>\n",
       "  </thead>\n",
       "  <tbody>\n",
       "    <tr>\n",
       "      <th>10-100</th>\n",
       "      <td>0.000000e+00</td>\n",
       "      <td>0.000000e+00</td>\n",
       "      <td>0.000000e+00</td>\n",
       "      <td>158.836678</td>\n",
       "      <td>6.649285</td>\n",
       "      <td>2.766530e-08</td>\n",
       "    </tr>\n",
       "    <tr>\n",
       "      <th>10-101</th>\n",
       "      <td>0.000000e+00</td>\n",
       "      <td>7.819299e-28</td>\n",
       "      <td>2.118372e-15</td>\n",
       "      <td>2.354671</td>\n",
       "      <td>25.406686</td>\n",
       "      <td>4.918278e+01</td>\n",
       "    </tr>\n",
       "    <tr>\n",
       "      <th>10-102</th>\n",
       "      <td>1.464256e-09</td>\n",
       "      <td>7.463596e-65</td>\n",
       "      <td>1.818113e-56</td>\n",
       "      <td>0.051058</td>\n",
       "      <td>7.632931</td>\n",
       "      <td>2.990898e+01</td>\n",
       "    </tr>\n",
       "    <tr>\n",
       "      <th>10-106</th>\n",
       "      <td>0.000000e+00</td>\n",
       "      <td>0.000000e+00</td>\n",
       "      <td>0.000000e+00</td>\n",
       "      <td>6.353996</td>\n",
       "      <td>2.722825</td>\n",
       "      <td>1.432621e+01</td>\n",
       "    </tr>\n",
       "    <tr>\n",
       "      <th>10-107</th>\n",
       "      <td>0.000000e+00</td>\n",
       "      <td>0.000000e+00</td>\n",
       "      <td>0.000000e+00</td>\n",
       "      <td>47.267298</td>\n",
       "      <td>1.615599</td>\n",
       "      <td>4.697229e+00</td>\n",
       "    </tr>\n",
       "  </tbody>\n",
       "</table>\n",
       "</div>"
      ],
      "text/plain": [
       "            P(mode1)      P(mode2)      P(mode3)    P(mode4)   P(mode5)  \\\n",
       "10-100  0.000000e+00  0.000000e+00  0.000000e+00  158.836678   6.649285   \n",
       "10-101  0.000000e+00  7.819299e-28  2.118372e-15    2.354671  25.406686   \n",
       "10-102  1.464256e-09  7.463596e-65  1.818113e-56    0.051058   7.632931   \n",
       "10-106  0.000000e+00  0.000000e+00  0.000000e+00    6.353996   2.722825   \n",
       "10-107  0.000000e+00  0.000000e+00  0.000000e+00   47.267298   1.615599   \n",
       "\n",
       "            P(mode6)  \n",
       "10-100  2.766530e-08  \n",
       "10-101  4.918278e+01  \n",
       "10-102  2.990898e+01  \n",
       "10-106  1.432621e+01  \n",
       "10-107  4.697229e+00  "
      ]
     },
     "execution_count": 2,
     "metadata": {},
     "output_type": "execute_result"
    }
   ],
   "source": [
    "mean_scene_1 = pd.read_csv('Final_results/Uncertainty/Scaled_results_scenario1_mean.csv',index_col=0)#,usecols=range(6))\n",
    "mean_scene_1.head()"
   ]
  },
  {
   "cell_type": "code",
   "execution_count": 3,
   "metadata": {},
   "outputs": [
    {
     "data": {
      "text/html": [
       "<div>\n",
       "<style scoped>\n",
       "    .dataframe tbody tr th:only-of-type {\n",
       "        vertical-align: middle;\n",
       "    }\n",
       "\n",
       "    .dataframe tbody tr th {\n",
       "        vertical-align: top;\n",
       "    }\n",
       "\n",
       "    .dataframe thead th {\n",
       "        text-align: right;\n",
       "    }\n",
       "</style>\n",
       "<table border=\"1\" class=\"dataframe\">\n",
       "  <thead>\n",
       "    <tr style=\"text-align: right;\">\n",
       "      <th></th>\n",
       "      <th>P(mode1)</th>\n",
       "      <th>P(mode2)</th>\n",
       "      <th>P(mode3)</th>\n",
       "      <th>P(mode4)</th>\n",
       "      <th>P(mode5)</th>\n",
       "      <th>P(mode6)</th>\n",
       "    </tr>\n",
       "  </thead>\n",
       "  <tbody>\n",
       "    <tr>\n",
       "      <th>10-100</th>\n",
       "      <td>0.000000e+00</td>\n",
       "      <td>0.000000e+00</td>\n",
       "      <td>0.000000e+00</td>\n",
       "      <td>158.836678</td>\n",
       "      <td>6.649285</td>\n",
       "      <td>2.766530e-08</td>\n",
       "    </tr>\n",
       "    <tr>\n",
       "      <th>10-101</th>\n",
       "      <td>0.000000e+00</td>\n",
       "      <td>7.819299e-28</td>\n",
       "      <td>2.118372e-15</td>\n",
       "      <td>2.354671</td>\n",
       "      <td>25.406686</td>\n",
       "      <td>4.918278e+01</td>\n",
       "    </tr>\n",
       "    <tr>\n",
       "      <th>10-102</th>\n",
       "      <td>1.464256e-09</td>\n",
       "      <td>7.463596e-65</td>\n",
       "      <td>1.818112e-56</td>\n",
       "      <td>0.051058</td>\n",
       "      <td>7.632931</td>\n",
       "      <td>2.990898e+01</td>\n",
       "    </tr>\n",
       "    <tr>\n",
       "      <th>10-106</th>\n",
       "      <td>0.000000e+00</td>\n",
       "      <td>0.000000e+00</td>\n",
       "      <td>0.000000e+00</td>\n",
       "      <td>6.353996</td>\n",
       "      <td>2.722825</td>\n",
       "      <td>1.432621e+01</td>\n",
       "    </tr>\n",
       "    <tr>\n",
       "      <th>10-107</th>\n",
       "      <td>0.000000e+00</td>\n",
       "      <td>0.000000e+00</td>\n",
       "      <td>0.000000e+00</td>\n",
       "      <td>47.267298</td>\n",
       "      <td>1.615599</td>\n",
       "      <td>4.697229e+00</td>\n",
       "    </tr>\n",
       "  </tbody>\n",
       "</table>\n",
       "</div>"
      ],
      "text/plain": [
       "            P(mode1)      P(mode2)      P(mode3)    P(mode4)   P(mode5)  \\\n",
       "10-100  0.000000e+00  0.000000e+00  0.000000e+00  158.836678   6.649285   \n",
       "10-101  0.000000e+00  7.819299e-28  2.118372e-15    2.354671  25.406686   \n",
       "10-102  1.464256e-09  7.463596e-65  1.818112e-56    0.051058   7.632931   \n",
       "10-106  0.000000e+00  0.000000e+00  0.000000e+00    6.353996   2.722825   \n",
       "10-107  0.000000e+00  0.000000e+00  0.000000e+00   47.267298   1.615599   \n",
       "\n",
       "            P(mode6)  \n",
       "10-100  2.766530e-08  \n",
       "10-101  4.918278e+01  \n",
       "10-102  2.990898e+01  \n",
       "10-106  1.432621e+01  \n",
       "10-107  4.697229e+00  "
      ]
     },
     "execution_count": 3,
     "metadata": {},
     "output_type": "execute_result"
    }
   ],
   "source": [
    "mean_scene_2 = pd.read_csv('Final_results/Uncertainty/Scaled_results_scenario2_mean.csv',index_col=0)\n",
    "mean_scene_2.head()"
   ]
  },
  {
   "cell_type": "code",
   "execution_count": 4,
   "metadata": {},
   "outputs": [
    {
     "data": {
      "text/html": [
       "<div>\n",
       "<style scoped>\n",
       "    .dataframe tbody tr th:only-of-type {\n",
       "        vertical-align: middle;\n",
       "    }\n",
       "\n",
       "    .dataframe tbody tr th {\n",
       "        vertical-align: top;\n",
       "    }\n",
       "\n",
       "    .dataframe thead th {\n",
       "        text-align: right;\n",
       "    }\n",
       "</style>\n",
       "<table border=\"1\" class=\"dataframe\">\n",
       "  <thead>\n",
       "    <tr style=\"text-align: right;\">\n",
       "      <th></th>\n",
       "      <th>P(mode1)</th>\n",
       "      <th>P(mode2)</th>\n",
       "      <th>P(mode3)</th>\n",
       "      <th>P(mode4)</th>\n",
       "      <th>P(mode5)</th>\n",
       "      <th>P(mode6)</th>\n",
       "    </tr>\n",
       "  </thead>\n",
       "  <tbody>\n",
       "    <tr>\n",
       "      <th>10-100</th>\n",
       "      <td>0.000000e+00</td>\n",
       "      <td>0.000000e+00</td>\n",
       "      <td>0.000000e+00</td>\n",
       "      <td>158.836678</td>\n",
       "      <td>6.649285</td>\n",
       "      <td>1.607797e-14</td>\n",
       "    </tr>\n",
       "    <tr>\n",
       "      <th>10-101</th>\n",
       "      <td>0.000000e+00</td>\n",
       "      <td>7.819299e-28</td>\n",
       "      <td>2.118372e-15</td>\n",
       "      <td>2.354671</td>\n",
       "      <td>25.406686</td>\n",
       "      <td>4.918278e+01</td>\n",
       "    </tr>\n",
       "    <tr>\n",
       "      <th>10-102</th>\n",
       "      <td>1.464256e-09</td>\n",
       "      <td>7.463596e-65</td>\n",
       "      <td>1.818112e-56</td>\n",
       "      <td>0.051058</td>\n",
       "      <td>7.632931</td>\n",
       "      <td>2.990898e+01</td>\n",
       "    </tr>\n",
       "    <tr>\n",
       "      <th>10-106</th>\n",
       "      <td>0.000000e+00</td>\n",
       "      <td>0.000000e+00</td>\n",
       "      <td>0.000000e+00</td>\n",
       "      <td>6.353996</td>\n",
       "      <td>2.722825</td>\n",
       "      <td>1.432621e+01</td>\n",
       "    </tr>\n",
       "    <tr>\n",
       "      <th>10-107</th>\n",
       "      <td>0.000000e+00</td>\n",
       "      <td>0.000000e+00</td>\n",
       "      <td>0.000000e+00</td>\n",
       "      <td>49.872440</td>\n",
       "      <td>1.615599</td>\n",
       "      <td>3.212003e+00</td>\n",
       "    </tr>\n",
       "  </tbody>\n",
       "</table>\n",
       "</div>"
      ],
      "text/plain": [
       "            P(mode1)      P(mode2)      P(mode3)    P(mode4)   P(mode5)  \\\n",
       "10-100  0.000000e+00  0.000000e+00  0.000000e+00  158.836678   6.649285   \n",
       "10-101  0.000000e+00  7.819299e-28  2.118372e-15    2.354671  25.406686   \n",
       "10-102  1.464256e-09  7.463596e-65  1.818112e-56    0.051058   7.632931   \n",
       "10-106  0.000000e+00  0.000000e+00  0.000000e+00    6.353996   2.722825   \n",
       "10-107  0.000000e+00  0.000000e+00  0.000000e+00   49.872440   1.615599   \n",
       "\n",
       "            P(mode6)  \n",
       "10-100  1.607797e-14  \n",
       "10-101  4.918278e+01  \n",
       "10-102  2.990898e+01  \n",
       "10-106  1.432621e+01  \n",
       "10-107  3.212003e+00  "
      ]
     },
     "execution_count": 4,
     "metadata": {},
     "output_type": "execute_result"
    }
   ],
   "source": [
    "mean_scene_3 = pd.read_csv('Final_results/Uncertainty/Scaled_results_scenario3_mean.csv',index_col=0)#,usecols=range(6))\n",
    "mean_scene_3.head()"
   ]
  },
  {
   "cell_type": "code",
   "execution_count": 35,
   "metadata": {},
   "outputs": [],
   "source": [
    "results_scene_1 = pd.read_csv('Final_results/Uncertainty/Scaled_results_scenario1_std.csv',index_col=0)#,usecols=range(6))std_scene_1.head()"
   ]
  },
  {
   "cell_type": "code",
   "execution_count": 36,
   "metadata": {},
   "outputs": [],
   "source": [
    "results_scene_2 = pd.read_csv('Final_results/Uncertainty/Scaled_results_scenario2_std.csv',index_col=0)\n",
    "# std_scene_2.head()"
   ]
  },
  {
   "cell_type": "code",
   "execution_count": 37,
   "metadata": {},
   "outputs": [],
   "source": [
    "results_scene_3 = pd.read_csv('Final_results/Uncertainty/Scaled_results_scenario3_std.csv',index_col=0)#,usecols=range(6))\n",
    "# std_scene_3.head()"
   ]
  },
  {
   "cell_type": "code",
   "execution_count": 38,
   "metadata": {},
   "outputs": [
    {
     "data": {
      "text/html": [
       "<div>\n",
       "<style scoped>\n",
       "    .dataframe tbody tr th:only-of-type {\n",
       "        vertical-align: middle;\n",
       "    }\n",
       "\n",
       "    .dataframe tbody tr th {\n",
       "        vertical-align: top;\n",
       "    }\n",
       "\n",
       "    .dataframe thead th {\n",
       "        text-align: right;\n",
       "    }\n",
       "</style>\n",
       "<table border=\"1\" class=\"dataframe\">\n",
       "  <thead>\n",
       "    <tr style=\"text-align: right;\">\n",
       "      <th></th>\n",
       "      <th>P(mode1)</th>\n",
       "      <th>P(mode2)</th>\n",
       "      <th>P(mode3)</th>\n",
       "      <th>P(mode4)</th>\n",
       "      <th>P(mode5)</th>\n",
       "      <th>P(mode6)</th>\n",
       "    </tr>\n",
       "  </thead>\n",
       "  <tbody>\n",
       "    <tr>\n",
       "      <th>10-100</th>\n",
       "      <td>0.000000e+00</td>\n",
       "      <td>0.000000e+00</td>\n",
       "      <td>0.000000e+00</td>\n",
       "      <td>0.067489</td>\n",
       "      <td>0.074958</td>\n",
       "      <td>2.399786e-08</td>\n",
       "    </tr>\n",
       "    <tr>\n",
       "      <th>10-101</th>\n",
       "      <td>0.000000e+00</td>\n",
       "      <td>1.563860e-27</td>\n",
       "      <td>4.236743e-15</td>\n",
       "      <td>0.134250</td>\n",
       "      <td>0.119965</td>\n",
       "      <td>1.499648e-02</td>\n",
       "    </tr>\n",
       "    <tr>\n",
       "      <th>10-102</th>\n",
       "      <td>1.854067e-09</td>\n",
       "      <td>1.492719e-64</td>\n",
       "      <td>3.636224e-56</td>\n",
       "      <td>0.009682</td>\n",
       "      <td>0.034331</td>\n",
       "      <td>2.311032e-02</td>\n",
       "    </tr>\n",
       "    <tr>\n",
       "      <th>10-106</th>\n",
       "      <td>0.000000e+00</td>\n",
       "      <td>0.000000e+00</td>\n",
       "      <td>0.000000e+00</td>\n",
       "      <td>0.008987</td>\n",
       "      <td>0.005450</td>\n",
       "      <td>2.326506e-03</td>\n",
       "    </tr>\n",
       "    <tr>\n",
       "      <th>10-107</th>\n",
       "      <td>0.000000e+00</td>\n",
       "      <td>0.000000e+00</td>\n",
       "      <td>0.000000e+00</td>\n",
       "      <td>0.035293</td>\n",
       "      <td>0.001082</td>\n",
       "      <td>2.067535e-02</td>\n",
       "    </tr>\n",
       "  </tbody>\n",
       "</table>\n",
       "</div>"
      ],
      "text/plain": [
       "            P(mode1)      P(mode2)      P(mode3)  P(mode4)  P(mode5)  \\\n",
       "10-100  0.000000e+00  0.000000e+00  0.000000e+00  0.067489  0.074958   \n",
       "10-101  0.000000e+00  1.563860e-27  4.236743e-15  0.134250  0.119965   \n",
       "10-102  1.854067e-09  1.492719e-64  3.636224e-56  0.009682  0.034331   \n",
       "10-106  0.000000e+00  0.000000e+00  0.000000e+00  0.008987  0.005450   \n",
       "10-107  0.000000e+00  0.000000e+00  0.000000e+00  0.035293  0.001082   \n",
       "\n",
       "            P(mode6)  \n",
       "10-100  2.399786e-08  \n",
       "10-101  1.499648e-02  \n",
       "10-102  2.311032e-02  \n",
       "10-106  2.326506e-03  \n",
       "10-107  2.067535e-02  "
      ]
     },
     "execution_count": 38,
     "metadata": {},
     "output_type": "execute_result"
    }
   ],
   "source": [
    "results_scene_1.head()"
   ]
  },
  {
   "cell_type": "code",
   "execution_count": 39,
   "metadata": {},
   "outputs": [
    {
     "data": {
      "text/plain": [
       "array([0.25199634, 0.35289896, 0.44580268, 0.00873183, 0.00528235,\n",
       "       0.00642778])"
      ]
     },
     "execution_count": 39,
     "metadata": {},
     "output_type": "execute_result"
    }
   ],
   "source": [
    "(results_scene_1.sum()/mean_scene_1.sum()).values"
   ]
  },
  {
   "cell_type": "code",
   "execution_count": 40,
   "metadata": {},
   "outputs": [
    {
     "data": {
      "text/plain": [
       "array([0.28612314, 0.30801688, 0.53835778, 0.00645724, 0.00516684,\n",
       "       0.00559368])"
      ]
     },
     "execution_count": 40,
     "metadata": {},
     "output_type": "execute_result"
    }
   ],
   "source": [
    "(results_scene_2.sum()/mean_scene_2.sum()).values"
   ]
  },
  {
   "cell_type": "code",
   "execution_count": 41,
   "metadata": {},
   "outputs": [
    {
     "data": {
      "text/plain": [
       "P(mode1)    0.158615\n",
       "P(mode2)    0.299863\n",
       "P(mode3)    0.660106\n",
       "P(mode4)    0.003901\n",
       "P(mode5)    0.004398\n",
       "P(mode6)    0.004647\n",
       "dtype: float64"
      ]
     },
     "execution_count": 41,
     "metadata": {},
     "output_type": "execute_result"
    }
   ],
   "source": [
    "results_scene_3.sum()/mean_scene_3.sum()"
   ]
  },
  {
   "cell_type": "code",
   "execution_count": 44,
   "metadata": {},
   "outputs": [],
   "source": [
    "var_scene_1 = results_scene_1**2\n",
    "var_scene_2 = results_scene_2**2\n",
    "var_scene_3 = results_scene_3**2"
   ]
  },
  {
   "cell_type": "code",
   "execution_count": 45,
   "metadata": {},
   "outputs": [],
   "source": [
    "# results_scene_1 = mean_scene_1 + 1.96 * std_scene_1"
   ]
  },
  {
   "cell_type": "code",
   "execution_count": 46,
   "metadata": {},
   "outputs": [
    {
     "data": {
      "text/html": [
       "<div>\n",
       "<style scoped>\n",
       "    .dataframe tbody tr th:only-of-type {\n",
       "        vertical-align: middle;\n",
       "    }\n",
       "\n",
       "    .dataframe tbody tr th {\n",
       "        vertical-align: top;\n",
       "    }\n",
       "\n",
       "    .dataframe thead th {\n",
       "        text-align: right;\n",
       "    }\n",
       "</style>\n",
       "<table border=\"1\" class=\"dataframe\">\n",
       "  <thead>\n",
       "    <tr style=\"text-align: right;\">\n",
       "      <th></th>\n",
       "      <th>DOlocationID</th>\n",
       "      <th>ODpair</th>\n",
       "      <th>PUlocationID</th>\n",
       "      <th>duration</th>\n",
       "      <th>mode</th>\n",
       "      <th>nest</th>\n",
       "      <th>price</th>\n",
       "      <th>2500</th>\n",
       "      <th>7500</th>\n",
       "      <th>12500</th>\n",
       "      <th>17500</th>\n",
       "      <th>22500</th>\n",
       "      <th>30000</th>\n",
       "      <th>42500</th>\n",
       "      <th>62500</th>\n",
       "      <th>87500</th>\n",
       "      <th>125000</th>\n",
       "      <th>225000</th>\n",
       "    </tr>\n",
       "  </thead>\n",
       "  <tbody>\n",
       "    <tr>\n",
       "      <th>0</th>\n",
       "      <td>4</td>\n",
       "      <td>3-4</td>\n",
       "      <td>3</td>\n",
       "      <td>39.695000</td>\n",
       "      <td>2</td>\n",
       "      <td>1</td>\n",
       "      <td>64.000</td>\n",
       "      <td>0.250819</td>\n",
       "      <td>0.360216</td>\n",
       "      <td>0.648452</td>\n",
       "      <td>0.282211</td>\n",
       "      <td>0.414755</td>\n",
       "      <td>0.592009</td>\n",
       "      <td>0.671282</td>\n",
       "      <td>0.93859</td>\n",
       "      <td>0.586936</td>\n",
       "      <td>0.740725</td>\n",
       "      <td>0.514005</td>\n",
       "    </tr>\n",
       "    <tr>\n",
       "      <th>1</th>\n",
       "      <td>4</td>\n",
       "      <td>3-4</td>\n",
       "      <td>3</td>\n",
       "      <td>45.216667</td>\n",
       "      <td>3</td>\n",
       "      <td>1</td>\n",
       "      <td>61.500</td>\n",
       "      <td>0.250819</td>\n",
       "      <td>0.360216</td>\n",
       "      <td>0.648452</td>\n",
       "      <td>0.282211</td>\n",
       "      <td>0.414755</td>\n",
       "      <td>0.592009</td>\n",
       "      <td>0.671282</td>\n",
       "      <td>0.93859</td>\n",
       "      <td>0.586936</td>\n",
       "      <td>0.740725</td>\n",
       "      <td>0.514005</td>\n",
       "    </tr>\n",
       "    <tr>\n",
       "      <th>2</th>\n",
       "      <td>4</td>\n",
       "      <td>3-4</td>\n",
       "      <td>3</td>\n",
       "      <td>83.000000</td>\n",
       "      <td>4</td>\n",
       "      <td>2</td>\n",
       "      <td>5.500</td>\n",
       "      <td>0.250819</td>\n",
       "      <td>0.360216</td>\n",
       "      <td>0.648452</td>\n",
       "      <td>0.282211</td>\n",
       "      <td>0.414755</td>\n",
       "      <td>0.592009</td>\n",
       "      <td>0.671282</td>\n",
       "      <td>0.93859</td>\n",
       "      <td>0.586936</td>\n",
       "      <td>0.740725</td>\n",
       "      <td>0.514005</td>\n",
       "    </tr>\n",
       "    <tr>\n",
       "      <th>3</th>\n",
       "      <td>4</td>\n",
       "      <td>3-4</td>\n",
       "      <td>3</td>\n",
       "      <td>225.933333</td>\n",
       "      <td>5</td>\n",
       "      <td>3</td>\n",
       "      <td>0.000</td>\n",
       "      <td>0.250819</td>\n",
       "      <td>0.360216</td>\n",
       "      <td>0.648452</td>\n",
       "      <td>0.282211</td>\n",
       "      <td>0.414755</td>\n",
       "      <td>0.592009</td>\n",
       "      <td>0.671282</td>\n",
       "      <td>0.93859</td>\n",
       "      <td>0.586936</td>\n",
       "      <td>0.740725</td>\n",
       "      <td>0.514005</td>\n",
       "    </tr>\n",
       "    <tr>\n",
       "      <th>4</th>\n",
       "      <td>4</td>\n",
       "      <td>3-4</td>\n",
       "      <td>3</td>\n",
       "      <td>39.695000</td>\n",
       "      <td>6</td>\n",
       "      <td>4</td>\n",
       "      <td>29.424</td>\n",
       "      <td>0.250819</td>\n",
       "      <td>0.360216</td>\n",
       "      <td>0.648452</td>\n",
       "      <td>0.282211</td>\n",
       "      <td>0.414755</td>\n",
       "      <td>0.592009</td>\n",
       "      <td>0.671282</td>\n",
       "      <td>0.93859</td>\n",
       "      <td>0.586936</td>\n",
       "      <td>0.740725</td>\n",
       "      <td>0.514005</td>\n",
       "    </tr>\n",
       "  </tbody>\n",
       "</table>\n",
       "</div>"
      ],
      "text/plain": [
       "   DOlocationID ODpair  PUlocationID    duration  mode  nest   price  \\\n",
       "0             4    3-4             3   39.695000     2     1  64.000   \n",
       "1             4    3-4             3   45.216667     3     1  61.500   \n",
       "2             4    3-4             3   83.000000     4     2   5.500   \n",
       "3             4    3-4             3  225.933333     5     3   0.000   \n",
       "4             4    3-4             3   39.695000     6     4  29.424   \n",
       "\n",
       "       2500      7500     12500     17500     22500     30000     42500  \\\n",
       "0  0.250819  0.360216  0.648452  0.282211  0.414755  0.592009  0.671282   \n",
       "1  0.250819  0.360216  0.648452  0.282211  0.414755  0.592009  0.671282   \n",
       "2  0.250819  0.360216  0.648452  0.282211  0.414755  0.592009  0.671282   \n",
       "3  0.250819  0.360216  0.648452  0.282211  0.414755  0.592009  0.671282   \n",
       "4  0.250819  0.360216  0.648452  0.282211  0.414755  0.592009  0.671282   \n",
       "\n",
       "     62500     87500    125000    225000  \n",
       "0  0.93859  0.586936  0.740725  0.514005  \n",
       "1  0.93859  0.586936  0.740725  0.514005  \n",
       "2  0.93859  0.586936  0.740725  0.514005  \n",
       "3  0.93859  0.586936  0.740725  0.514005  \n",
       "4  0.93859  0.586936  0.740725  0.514005  "
      ]
     },
     "execution_count": 46,
     "metadata": {},
     "output_type": "execute_result"
    }
   ],
   "source": [
    "wages = pd.read_csv('../modeling/final_allMode_with_2017wage_cleaned_update.csv',index_col=0)\n",
    "wages.head(5)"
   ]
  },
  {
   "cell_type": "code",
   "execution_count": 47,
   "metadata": {},
   "outputs": [],
   "source": [
    "# agg_scene_1 = results_scene_1.drop('destination',axis=1).groupby('origin').sum()\n",
    "# agg_scene_1.head()\n",
    "# agg_scene_1.columns = [name + '_predicted' for name in agg_scene_1.columns]\n",
    "# acs = pd.read_csv('final_acs_transportation_choice.csv',index_col=0)\n",
    "# acs.head()\n",
    "# acs.columns = [name + '_actual' for name in acs.columns]\n",
    "# scene_1_combined = agg_scene_1.merge(acs,how='left',left_index=True,right_index=True)\n",
    "# scene_1_combined.head()"
   ]
  },
  {
   "cell_type": "code",
   "execution_count": 48,
   "metadata": {},
   "outputs": [],
   "source": [
    "# Renaming for convenience in calculation\n",
    "var_scene_1.columns = [re.sub(r'[^\\d.]+','',col) for col in var_scene_1.columns]\n",
    "var_scene_2.columns = [re.sub(r'[^\\d.]+','',col) for col in var_scene_2.columns]\n",
    "var_scene_3.columns = [re.sub(r'[^\\d.]+','',col) for col in var_scene_3.columns]"
   ]
  },
  {
   "cell_type": "code",
   "execution_count": 50,
   "metadata": {},
   "outputs": [],
   "source": [
    "var_scene_1.reset_index(inplace=True)\n",
    "var_scene_2.reset_index(inplace=True)\n",
    "var_scene_3.reset_index(inplace=True)\n",
    "var_scene_1.rename_axis({'index':'ODpair'},axis=1,inplace=True)\n",
    "var_scene_2.rename_axis({'index':'ODpair'},axis=1,inplace=True)\n",
    "var_scene_3.rename_axis({'index':'ODpair'},axis=1,inplace=True)"
   ]
  },
  {
   "cell_type": "code",
   "execution_count": 51,
   "metadata": {},
   "outputs": [
    {
     "data": {
      "text/html": [
       "<div>\n",
       "<style scoped>\n",
       "    .dataframe tbody tr th:only-of-type {\n",
       "        vertical-align: middle;\n",
       "    }\n",
       "\n",
       "    .dataframe tbody tr th {\n",
       "        vertical-align: top;\n",
       "    }\n",
       "\n",
       "    .dataframe thead th {\n",
       "        text-align: right;\n",
       "    }\n",
       "</style>\n",
       "<table border=\"1\" class=\"dataframe\">\n",
       "  <thead>\n",
       "    <tr style=\"text-align: right;\">\n",
       "      <th></th>\n",
       "      <th>ODpair</th>\n",
       "      <th>1</th>\n",
       "      <th>2</th>\n",
       "      <th>3</th>\n",
       "      <th>4</th>\n",
       "      <th>5</th>\n",
       "      <th>6</th>\n",
       "    </tr>\n",
       "  </thead>\n",
       "  <tbody>\n",
       "    <tr>\n",
       "      <th>0</th>\n",
       "      <td>10-100</td>\n",
       "      <td>0.000000e+00</td>\n",
       "      <td>0.000000e+00</td>\n",
       "      <td>0.000000e+00</td>\n",
       "      <td>0.004555</td>\n",
       "      <td>0.005619</td>\n",
       "      <td>5.758974e-16</td>\n",
       "    </tr>\n",
       "    <tr>\n",
       "      <th>1</th>\n",
       "      <td>10-101</td>\n",
       "      <td>0.000000e+00</td>\n",
       "      <td>2.445656e-54</td>\n",
       "      <td>1.794999e-29</td>\n",
       "      <td>0.018023</td>\n",
       "      <td>0.014392</td>\n",
       "      <td>2.248944e-04</td>\n",
       "    </tr>\n",
       "    <tr>\n",
       "      <th>2</th>\n",
       "      <td>10-102</td>\n",
       "      <td>3.437565e-18</td>\n",
       "      <td>2.228210e-128</td>\n",
       "      <td>1.322213e-111</td>\n",
       "      <td>0.000094</td>\n",
       "      <td>0.001179</td>\n",
       "      <td>5.340871e-04</td>\n",
       "    </tr>\n",
       "    <tr>\n",
       "      <th>3</th>\n",
       "      <td>10-106</td>\n",
       "      <td>0.000000e+00</td>\n",
       "      <td>0.000000e+00</td>\n",
       "      <td>0.000000e+00</td>\n",
       "      <td>0.000081</td>\n",
       "      <td>0.000030</td>\n",
       "      <td>5.412629e-06</td>\n",
       "    </tr>\n",
       "    <tr>\n",
       "      <th>4</th>\n",
       "      <td>10-107</td>\n",
       "      <td>0.000000e+00</td>\n",
       "      <td>0.000000e+00</td>\n",
       "      <td>0.000000e+00</td>\n",
       "      <td>0.001246</td>\n",
       "      <td>0.000001</td>\n",
       "      <td>4.274702e-04</td>\n",
       "    </tr>\n",
       "  </tbody>\n",
       "</table>\n",
       "</div>"
      ],
      "text/plain": [
       "   ODpair             1              2              3         4         5  \\\n",
       "0  10-100  0.000000e+00   0.000000e+00   0.000000e+00  0.004555  0.005619   \n",
       "1  10-101  0.000000e+00   2.445656e-54   1.794999e-29  0.018023  0.014392   \n",
       "2  10-102  3.437565e-18  2.228210e-128  1.322213e-111  0.000094  0.001179   \n",
       "3  10-106  0.000000e+00   0.000000e+00   0.000000e+00  0.000081  0.000030   \n",
       "4  10-107  0.000000e+00   0.000000e+00   0.000000e+00  0.001246  0.000001   \n",
       "\n",
       "              6  \n",
       "0  5.758974e-16  \n",
       "1  2.248944e-04  \n",
       "2  5.340871e-04  \n",
       "3  5.412629e-06  \n",
       "4  4.274702e-04  "
      ]
     },
     "execution_count": 51,
     "metadata": {},
     "output_type": "execute_result"
    }
   ],
   "source": [
    "var_scene_2.head()"
   ]
  },
  {
   "cell_type": "code",
   "execution_count": 52,
   "metadata": {},
   "outputs": [],
   "source": [
    "# Getting the origin taxi zone\n",
    "var_scene_1['origin'] = var_scene_1.ODpair.apply(lambda x: x.split('-')[0]).astype('int')\n",
    "var_scene_2['origin'] = var_scene_2.ODpair.apply(lambda x: x.split('-')[0]).astype('int')\n",
    "var_scene_3['origin'] = var_scene_3.ODpair.apply(lambda x: x.split('-')[0]).astype('int')"
   ]
  },
  {
   "cell_type": "code",
   "execution_count": 53,
   "metadata": {},
   "outputs": [
    {
     "data": {
      "text/html": [
       "<div>\n",
       "<style scoped>\n",
       "    .dataframe tbody tr th:only-of-type {\n",
       "        vertical-align: middle;\n",
       "    }\n",
       "\n",
       "    .dataframe tbody tr th {\n",
       "        vertical-align: top;\n",
       "    }\n",
       "\n",
       "    .dataframe thead th {\n",
       "        text-align: right;\n",
       "    }\n",
       "</style>\n",
       "<table border=\"1\" class=\"dataframe\">\n",
       "  <thead>\n",
       "    <tr style=\"text-align: right;\">\n",
       "      <th></th>\n",
       "      <th>ODpair</th>\n",
       "      <th>1</th>\n",
       "      <th>2</th>\n",
       "      <th>3</th>\n",
       "      <th>4</th>\n",
       "      <th>5</th>\n",
       "      <th>6</th>\n",
       "      <th>origin</th>\n",
       "    </tr>\n",
       "  </thead>\n",
       "  <tbody>\n",
       "    <tr>\n",
       "      <th>0</th>\n",
       "      <td>10-100</td>\n",
       "      <td>0.000000e+00</td>\n",
       "      <td>0.000000e+00</td>\n",
       "      <td>0.000000e+00</td>\n",
       "      <td>0.004555</td>\n",
       "      <td>0.005619</td>\n",
       "      <td>5.758974e-16</td>\n",
       "      <td>10</td>\n",
       "    </tr>\n",
       "    <tr>\n",
       "      <th>1</th>\n",
       "      <td>10-101</td>\n",
       "      <td>0.000000e+00</td>\n",
       "      <td>2.445657e-54</td>\n",
       "      <td>1.794999e-29</td>\n",
       "      <td>0.018023</td>\n",
       "      <td>0.014392</td>\n",
       "      <td>2.248944e-04</td>\n",
       "      <td>10</td>\n",
       "    </tr>\n",
       "    <tr>\n",
       "      <th>2</th>\n",
       "      <td>10-102</td>\n",
       "      <td>3.437565e-18</td>\n",
       "      <td>2.228210e-128</td>\n",
       "      <td>1.322213e-111</td>\n",
       "      <td>0.000094</td>\n",
       "      <td>0.001179</td>\n",
       "      <td>5.340871e-04</td>\n",
       "      <td>10</td>\n",
       "    </tr>\n",
       "    <tr>\n",
       "      <th>3</th>\n",
       "      <td>10-106</td>\n",
       "      <td>0.000000e+00</td>\n",
       "      <td>0.000000e+00</td>\n",
       "      <td>0.000000e+00</td>\n",
       "      <td>0.000081</td>\n",
       "      <td>0.000030</td>\n",
       "      <td>5.412629e-06</td>\n",
       "      <td>10</td>\n",
       "    </tr>\n",
       "    <tr>\n",
       "      <th>4</th>\n",
       "      <td>10-107</td>\n",
       "      <td>0.000000e+00</td>\n",
       "      <td>0.000000e+00</td>\n",
       "      <td>0.000000e+00</td>\n",
       "      <td>0.001246</td>\n",
       "      <td>0.000001</td>\n",
       "      <td>4.274702e-04</td>\n",
       "      <td>10</td>\n",
       "    </tr>\n",
       "  </tbody>\n",
       "</table>\n",
       "</div>"
      ],
      "text/plain": [
       "   ODpair             1              2              3         4         5  \\\n",
       "0  10-100  0.000000e+00   0.000000e+00   0.000000e+00  0.004555  0.005619   \n",
       "1  10-101  0.000000e+00   2.445657e-54   1.794999e-29  0.018023  0.014392   \n",
       "2  10-102  3.437565e-18  2.228210e-128  1.322213e-111  0.000094  0.001179   \n",
       "3  10-106  0.000000e+00   0.000000e+00   0.000000e+00  0.000081  0.000030   \n",
       "4  10-107  0.000000e+00   0.000000e+00   0.000000e+00  0.001246  0.000001   \n",
       "\n",
       "              6  origin  \n",
       "0  5.758974e-16      10  \n",
       "1  2.248944e-04      10  \n",
       "2  5.340871e-04      10  \n",
       "3  5.412629e-06      10  \n",
       "4  4.274702e-04      10  "
      ]
     },
     "execution_count": 53,
     "metadata": {},
     "output_type": "execute_result"
    }
   ],
   "source": [
    "var_scene_1.head()"
   ]
  },
  {
   "cell_type": "code",
   "execution_count": 54,
   "metadata": {},
   "outputs": [],
   "source": [
    "# Aggregating the number of people in each ODpair by the origin zone\n",
    "agg_scene_1 = var_scene_1.groupby('origin').sum()\n",
    "agg_scene_2 = var_scene_2.groupby('origin').sum()\n",
    "agg_scene_3 = var_scene_3.groupby('origin').sum()"
   ]
  },
  {
   "cell_type": "code",
   "execution_count": 73,
   "metadata": {},
   "outputs": [],
   "source": [
    "agg_scene_1.columns = agg_scene_1.columns.astype('int')\n",
    "agg_scene_2.columns = agg_scene_2.columns.astype('int')\n",
    "agg_scene_3.columns = agg_scene_3.columns.astype('int')"
   ]
  },
  {
   "cell_type": "code",
   "execution_count": 74,
   "metadata": {},
   "outputs": [
    {
     "data": {
      "text/html": [
       "<div>\n",
       "<style scoped>\n",
       "    .dataframe tbody tr th:only-of-type {\n",
       "        vertical-align: middle;\n",
       "    }\n",
       "\n",
       "    .dataframe tbody tr th {\n",
       "        vertical-align: top;\n",
       "    }\n",
       "\n",
       "    .dataframe thead th {\n",
       "        text-align: right;\n",
       "    }\n",
       "</style>\n",
       "<table border=\"1\" class=\"dataframe\">\n",
       "  <thead>\n",
       "    <tr style=\"text-align: right;\">\n",
       "      <th></th>\n",
       "      <th>1</th>\n",
       "      <th>2</th>\n",
       "      <th>3</th>\n",
       "      <th>4</th>\n",
       "      <th>5</th>\n",
       "      <th>6</th>\n",
       "    </tr>\n",
       "    <tr>\n",
       "      <th>origin</th>\n",
       "      <th></th>\n",
       "      <th></th>\n",
       "      <th></th>\n",
       "      <th></th>\n",
       "      <th></th>\n",
       "      <th></th>\n",
       "    </tr>\n",
       "  </thead>\n",
       "  <tbody>\n",
       "    <tr>\n",
       "      <th>3</th>\n",
       "      <td>0.224270</td>\n",
       "      <td>174.918334</td>\n",
       "      <td>0.000776</td>\n",
       "      <td>2.556438</td>\n",
       "      <td>1.816088</td>\n",
       "      <td>22.836506</td>\n",
       "    </tr>\n",
       "    <tr>\n",
       "      <th>4</th>\n",
       "      <td>305.388544</td>\n",
       "      <td>173.639706</td>\n",
       "      <td>0.000003</td>\n",
       "      <td>9498.610087</td>\n",
       "      <td>6.145949</td>\n",
       "      <td>849.235326</td>\n",
       "    </tr>\n",
       "    <tr>\n",
       "      <th>5</th>\n",
       "      <td>0.000000</td>\n",
       "      <td>6728.255845</td>\n",
       "      <td>3.077393</td>\n",
       "      <td>0.708760</td>\n",
       "      <td>0.039109</td>\n",
       "      <td>782.106480</td>\n",
       "    </tr>\n",
       "    <tr>\n",
       "      <th>6</th>\n",
       "      <td>3.131738</td>\n",
       "      <td>0.000019</td>\n",
       "      <td>2.469220</td>\n",
       "      <td>1.518884</td>\n",
       "      <td>0.036465</td>\n",
       "      <td>50.149288</td>\n",
       "    </tr>\n",
       "    <tr>\n",
       "      <th>7</th>\n",
       "      <td>169.269415</td>\n",
       "      <td>152.260533</td>\n",
       "      <td>5.124548</td>\n",
       "      <td>3358.038608</td>\n",
       "      <td>1.351824</td>\n",
       "      <td>1250.450546</td>\n",
       "    </tr>\n",
       "  </tbody>\n",
       "</table>\n",
       "</div>"
      ],
      "text/plain": [
       "                 1            2         3            4         5            6\n",
       "origin                                                                       \n",
       "3         0.224270   174.918334  0.000776     2.556438  1.816088    22.836506\n",
       "4       305.388544   173.639706  0.000003  9498.610087  6.145949   849.235326\n",
       "5         0.000000  6728.255845  3.077393     0.708760  0.039109   782.106480\n",
       "6         3.131738     0.000019  2.469220     1.518884  0.036465    50.149288\n",
       "7       169.269415   152.260533  5.124548  3358.038608  1.351824  1250.450546"
      ]
     },
     "execution_count": 74,
     "metadata": {},
     "output_type": "execute_result"
    }
   ],
   "source": [
    "agg_scene_1.head()"
   ]
  },
  {
   "cell_type": "code",
   "execution_count": 69,
   "metadata": {},
   "outputs": [],
   "source": [
    "results_scene_1 = agg_scene_1.pow(1/2)\n",
    "results_scene_2 = agg_scene_2.pow(1/2)\n",
    "results_scene_3 = agg_scene_3.pow(1/2)"
   ]
  },
  {
   "cell_type": "code",
   "execution_count": 70,
   "metadata": {},
   "outputs": [
    {
     "data": {
      "text/html": [
       "<div>\n",
       "<style scoped>\n",
       "    .dataframe tbody tr th:only-of-type {\n",
       "        vertical-align: middle;\n",
       "    }\n",
       "\n",
       "    .dataframe tbody tr th {\n",
       "        vertical-align: top;\n",
       "    }\n",
       "\n",
       "    .dataframe thead th {\n",
       "        text-align: right;\n",
       "    }\n",
       "</style>\n",
       "<table border=\"1\" class=\"dataframe\">\n",
       "  <thead>\n",
       "    <tr style=\"text-align: right;\">\n",
       "      <th></th>\n",
       "      <th>1</th>\n",
       "      <th>2</th>\n",
       "      <th>3</th>\n",
       "      <th>4</th>\n",
       "      <th>5</th>\n",
       "      <th>6</th>\n",
       "    </tr>\n",
       "    <tr>\n",
       "      <th>origin</th>\n",
       "      <th></th>\n",
       "      <th></th>\n",
       "      <th></th>\n",
       "      <th></th>\n",
       "      <th></th>\n",
       "      <th></th>\n",
       "    </tr>\n",
       "  </thead>\n",
       "  <tbody>\n",
       "    <tr>\n",
       "      <th>3</th>\n",
       "      <td>0.473572</td>\n",
       "      <td>13.225669</td>\n",
       "      <td>0.027864</td>\n",
       "      <td>1.598887</td>\n",
       "      <td>1.347623</td>\n",
       "      <td>4.778756</td>\n",
       "    </tr>\n",
       "    <tr>\n",
       "      <th>4</th>\n",
       "      <td>17.475370</td>\n",
       "      <td>13.177242</td>\n",
       "      <td>0.001592</td>\n",
       "      <td>97.460813</td>\n",
       "      <td>2.479102</td>\n",
       "      <td>29.141642</td>\n",
       "    </tr>\n",
       "    <tr>\n",
       "      <th>5</th>\n",
       "      <td>0.000000</td>\n",
       "      <td>82.025946</td>\n",
       "      <td>1.754250</td>\n",
       "      <td>0.841879</td>\n",
       "      <td>0.197759</td>\n",
       "      <td>27.966167</td>\n",
       "    </tr>\n",
       "    <tr>\n",
       "      <th>6</th>\n",
       "      <td>1.769672</td>\n",
       "      <td>0.004360</td>\n",
       "      <td>1.571375</td>\n",
       "      <td>1.232430</td>\n",
       "      <td>0.190957</td>\n",
       "      <td>7.081616</td>\n",
       "    </tr>\n",
       "    <tr>\n",
       "      <th>7</th>\n",
       "      <td>13.010358</td>\n",
       "      <td>12.339389</td>\n",
       "      <td>2.263746</td>\n",
       "      <td>57.948586</td>\n",
       "      <td>1.162679</td>\n",
       "      <td>35.361710</td>\n",
       "    </tr>\n",
       "  </tbody>\n",
       "</table>\n",
       "</div>"
      ],
      "text/plain": [
       "                1          2         3          4         5          6\n",
       "origin                                                                \n",
       "3        0.473572  13.225669  0.027864   1.598887  1.347623   4.778756\n",
       "4       17.475370  13.177242  0.001592  97.460813  2.479102  29.141642\n",
       "5        0.000000  82.025946  1.754250   0.841879  0.197759  27.966167\n",
       "6        1.769672   0.004360  1.571375   1.232430  0.190957   7.081616\n",
       "7       13.010358  12.339389  2.263746  57.948586  1.162679  35.361710"
      ]
     },
     "execution_count": 70,
     "metadata": {},
     "output_type": "execute_result"
    }
   ],
   "source": [
    "results_scene_1.head()"
   ]
  },
  {
   "cell_type": "code",
   "execution_count": 95,
   "metadata": {},
   "outputs": [],
   "source": [
    "# # Renaming for convenience in calculation\n",
    "# results_scene_1.columns = [re.sub(r'[^\\d.]+','',col) for col in results_scene_1.columns]\n",
    "# results_scene_2.columns = [re.sub(r'[^\\d.]+','',col) for col in results_scene_2.columns]\n",
    "# results_scene_3.columns = [re.sub(r'[^\\d.]+','',col) for col in results_scene_3.columns]"
   ]
  },
  {
   "cell_type": "code",
   "execution_count": 96,
   "metadata": {},
   "outputs": [],
   "source": [
    "# results_scene_1.reset_index(inplace=True)\n",
    "# results_scene_2.reset_index(inplace=True)\n",
    "# results_scene_3.reset_index(inplace=True)\n",
    "# results_scene_1.rename_axis({'index':'ODpair'},axis=1,inplace=True)\n",
    "# results_scene_2.rename_axis({'index':'ODpair'},axis=1,inplace=True)\n",
    "# results_scene_3.rename_axis({'index':'ODpair'},axis=1,inplace=True)"
   ]
  },
  {
   "cell_type": "code",
   "execution_count": 98,
   "metadata": {},
   "outputs": [],
   "source": [
    "# # Getting the origin taxi zone\n",
    "# results_scene_1['origin'] = results_scene_1.ODpair.apply(lambda x: x.split('-')[0]).astype('int')\n",
    "# results_scene_2['origin'] = results_scene_2.ODpair.apply(lambda x: x.split('-')[0]).astype('int')\n",
    "# results_scene_3['origin'] = results_scene_3.ODpair.apply(lambda x: x.split('-')[0]).astype('int')"
   ]
  },
  {
   "cell_type": "code",
   "execution_count": 100,
   "metadata": {},
   "outputs": [],
   "source": [
    "# # Aggregating the number of people in each ODpair by the origin zone\n",
    "# agg_scene_1 = results_scene_1.groupby('origin').sum()\n",
    "# agg_scene_2 = results_scene_2.groupby('origin').sum()\n",
    "# agg_scene_3 = results_scene_3.groupby('origin').sum()"
   ]
  },
  {
   "cell_type": "code",
   "execution_count": 101,
   "metadata": {},
   "outputs": [],
   "source": [
    "# agg_scene_1.columns = agg_scene_1.columns.astype('int')\n",
    "# agg_scene_2.columns = agg_scene_2.columns.astype('int')\n",
    "# agg_scene_3.columns = agg_scene_3.columns.astype('int')"
   ]
  },
  {
   "cell_type": "code",
   "execution_count": 75,
   "metadata": {},
   "outputs": [],
   "source": [
    "pickup_list = wages.PUlocationID.unique()"
   ]
  },
  {
   "cell_type": "code",
   "execution_count": 76,
   "metadata": {},
   "outputs": [],
   "source": [
    "origin_time_and_money_avg = wages.groupby(['PUlocationID','mode'],as_index=False)['duration','price'].mean()"
   ]
  },
  {
   "cell_type": "code",
   "execution_count": 77,
   "metadata": {},
   "outputs": [
    {
     "data": {
      "text/html": [
       "<div>\n",
       "<style scoped>\n",
       "    .dataframe tbody tr th:only-of-type {\n",
       "        vertical-align: middle;\n",
       "    }\n",
       "\n",
       "    .dataframe tbody tr th {\n",
       "        vertical-align: top;\n",
       "    }\n",
       "\n",
       "    .dataframe thead th {\n",
       "        text-align: right;\n",
       "    }\n",
       "</style>\n",
       "<table border=\"1\" class=\"dataframe\">\n",
       "  <thead>\n",
       "    <tr style=\"text-align: right;\">\n",
       "      <th></th>\n",
       "      <th>PUlocationID</th>\n",
       "      <th>mode</th>\n",
       "      <th>duration</th>\n",
       "      <th>price</th>\n",
       "    </tr>\n",
       "  </thead>\n",
       "  <tbody>\n",
       "    <tr>\n",
       "      <th>0</th>\n",
       "      <td>3</td>\n",
       "      <td>1</td>\n",
       "      <td>38.302359</td>\n",
       "      <td>37.428045</td>\n",
       "    </tr>\n",
       "    <tr>\n",
       "      <th>1</th>\n",
       "      <td>3</td>\n",
       "      <td>2</td>\n",
       "      <td>37.718869</td>\n",
       "      <td>56.582192</td>\n",
       "    </tr>\n",
       "    <tr>\n",
       "      <th>2</th>\n",
       "      <td>3</td>\n",
       "      <td>3</td>\n",
       "      <td>41.066196</td>\n",
       "      <td>50.717949</td>\n",
       "    </tr>\n",
       "    <tr>\n",
       "      <th>3</th>\n",
       "      <td>3</td>\n",
       "      <td>4</td>\n",
       "      <td>81.756356</td>\n",
       "      <td>5.948623</td>\n",
       "    </tr>\n",
       "    <tr>\n",
       "      <th>4</th>\n",
       "      <td>3</td>\n",
       "      <td>5</td>\n",
       "      <td>268.553355</td>\n",
       "      <td>0.000000</td>\n",
       "    </tr>\n",
       "  </tbody>\n",
       "</table>\n",
       "</div>"
      ],
      "text/plain": [
       "   PUlocationID  mode    duration      price\n",
       "0             3     1   38.302359  37.428045\n",
       "1             3     2   37.718869  56.582192\n",
       "2             3     3   41.066196  50.717949\n",
       "3             3     4   81.756356   5.948623\n",
       "4             3     5  268.553355   0.000000"
      ]
     },
     "execution_count": 77,
     "metadata": {},
     "output_type": "execute_result"
    }
   ],
   "source": [
    "origin_time_and_money_avg.head()"
   ]
  },
  {
   "cell_type": "code",
   "execution_count": 78,
   "metadata": {},
   "outputs": [
    {
     "data": {
      "text/plain": [
       "(256, 6)"
      ]
     },
     "execution_count": 78,
     "metadata": {},
     "output_type": "execute_result"
    }
   ],
   "source": [
    "agg_scene_1.shape"
   ]
  },
  {
   "cell_type": "code",
   "execution_count": 79,
   "metadata": {},
   "outputs": [
    {
     "data": {
      "text/plain": [
       "256"
      ]
     },
     "execution_count": 79,
     "metadata": {},
     "output_type": "execute_result"
    }
   ],
   "source": [
    "len(pickup_list)"
   ]
  },
  {
   "cell_type": "markdown",
   "metadata": {},
   "source": [
    "## Status quo Commute Statistics"
   ]
  },
  {
   "cell_type": "code",
   "execution_count": 80,
   "metadata": {},
   "outputs": [],
   "source": [
    "pivoted_time = origin_time_and_money_avg.reset_index().pivot(index='PUlocationID',columns='mode',values='duration')"
   ]
  },
  {
   "cell_type": "code",
   "execution_count": 81,
   "metadata": {},
   "outputs": [],
   "source": [
    "commute_time = pivoted_time.multiply(agg_scene_1).sum().sum()"
   ]
  },
  {
   "cell_type": "code",
   "execution_count": 82,
   "metadata": {},
   "outputs": [
    {
     "data": {
      "text/plain": [
       "73161254.76622245"
      ]
     },
     "execution_count": 82,
     "metadata": {},
     "output_type": "execute_result"
    }
   ],
   "source": [
    "commute_time"
   ]
  },
  {
   "cell_type": "code",
   "execution_count": 87,
   "metadata": {},
   "outputs": [
    {
     "data": {
      "text/plain": [
       "7.087791130490507"
      ]
     },
     "execution_count": 87,
     "metadata": {},
     "output_type": "execute_result"
    }
   ],
   "source": [
    "avg_commute_time = commute_time/(agg_scene_1.sum().sum())\n",
    "np.sqrt(avg_commute_time)"
   ]
  },
  {
   "cell_type": "code",
   "execution_count": 84,
   "metadata": {},
   "outputs": [],
   "source": [
    "pivoted_money = origin_time_and_money_avg.reset_index().pivot(index='PUlocationID',columns='mode',values='price')"
   ]
  },
  {
   "cell_type": "code",
   "execution_count": 85,
   "metadata": {},
   "outputs": [],
   "source": [
    "commute_cost = pivoted_money.multiply(agg_scene_1).sum().sum()"
   ]
  },
  {
   "cell_type": "code",
   "execution_count": 88,
   "metadata": {},
   "outputs": [
    {
     "data": {
      "text/plain": [
       "4.515830251537208"
      ]
     },
     "execution_count": 88,
     "metadata": {},
     "output_type": "execute_result"
    }
   ],
   "source": [
    "avg_commute_cost = commute_cost/agg_scene_1.sum().sum()\n",
    "np.sqrt(avg_commute_cost)"
   ]
  },
  {
   "cell_type": "markdown",
   "metadata": {},
   "source": [
    "## Subway ridership"
   ]
  },
  {
   "cell_type": "code",
   "execution_count": 89,
   "metadata": {},
   "outputs": [
    {
     "data": {
      "text/plain": [
       "866.890321882611"
      ]
     },
     "execution_count": 89,
     "metadata": {},
     "output_type": "execute_result"
    }
   ],
   "source": [
    "np.sqrt(agg_scene_1.sum()[4])"
   ]
  },
  {
   "cell_type": "code",
   "execution_count": 90,
   "metadata": {},
   "outputs": [
    {
     "data": {
      "text/plain": [
       "711.5526958978288"
      ]
     },
     "execution_count": 90,
     "metadata": {},
     "output_type": "execute_result"
    }
   ],
   "source": [
    "np.sqrt(agg_scene_2.sum()[4])"
   ]
  },
  {
   "cell_type": "code",
   "execution_count": 91,
   "metadata": {},
   "outputs": [
    {
     "data": {
      "text/plain": [
       "473.2474531544493"
      ]
     },
     "execution_count": 91,
     "metadata": {},
     "output_type": "execute_result"
    }
   ],
   "source": [
    "np.sqrt(agg_scene_3.sum()[4])"
   ]
  },
  {
   "cell_type": "code",
   "execution_count": 92,
   "metadata": {},
   "outputs": [
    {
     "data": {
      "text/plain": [
       "-245191.5911342689"
      ]
     },
     "execution_count": 92,
     "metadata": {},
     "output_type": "execute_result"
    }
   ],
   "source": [
    "agg_scene_2.sum()[4] - agg_scene_1.sum()[4]"
   ]
  },
  {
   "cell_type": "code",
   "execution_count": 93,
   "metadata": {},
   "outputs": [
    {
     "data": {
      "text/plain": [
       "-527535.6782565643"
      ]
     },
     "execution_count": 93,
     "metadata": {},
     "output_type": "execute_result"
    }
   ],
   "source": [
    "agg_scene_3.sum()[4] - agg_scene_1.sum()[4]"
   ]
  },
  {
   "cell_type": "code",
   "execution_count": 94,
   "metadata": {},
   "outputs": [
    {
     "data": {
      "text/plain": [
       "-282344.0871222954"
      ]
     },
     "execution_count": 94,
     "metadata": {},
     "output_type": "execute_result"
    }
   ],
   "source": [
    "agg_scene_3.sum()[4] - agg_scene_2.sum()[4]"
   ]
  },
  {
   "cell_type": "code",
   "execution_count": 103,
   "metadata": {},
   "outputs": [
    {
     "data": {
      "text/plain": [
       "5.712005691853289"
      ]
     },
     "execution_count": 103,
     "metadata": {},
     "output_type": "execute_result"
    }
   ],
   "source": [
    "np.sqrt(np.abs((agg_scene_2.sum()[4] - agg_scene_1.sum()[4])/agg_scene_1.sum()[4] * 100))"
   ]
  },
  {
   "cell_type": "code",
   "execution_count": 104,
   "metadata": {},
   "outputs": [
    {
     "data": {
      "text/plain": [
       "8.378412995185082"
      ]
     },
     "execution_count": 104,
     "metadata": {},
     "output_type": "execute_result"
    }
   ],
   "source": [
    "np.sqrt(np.abs((agg_scene_3.sum()[4] - agg_scene_1.sum()[4])/agg_scene_1.sum()[4] * 100))"
   ]
  },
  {
   "cell_type": "code",
   "execution_count": 105,
   "metadata": {},
   "outputs": [
    {
     "data": {
      "text/plain": [
       "7.467621203036365"
      ]
     },
     "execution_count": 105,
     "metadata": {},
     "output_type": "execute_result"
    }
   ],
   "source": [
    "np.sqrt(np.abs((agg_scene_3.sum()[4] - agg_scene_2.sum()[4])/agg_scene_2.sum()[4] * 100))"
   ]
  },
  {
   "cell_type": "markdown",
   "metadata": {},
   "source": [
    "### Scenario 1 VS 2"
   ]
  },
  {
   "cell_type": "code",
   "execution_count": 106,
   "metadata": {},
   "outputs": [
    {
     "name": "stderr",
     "output_type": "stream",
     "text": [
      "100%|██████████| 256/256 [00:01<00:00, 200.28it/s]\n"
     ]
    }
   ],
   "source": [
    "time_diff = 0\n",
    "money_diff = 0\n",
    "for zone in tqdm(pickup_list,position=0):\n",
    "    for col in agg_scene_1.columns:\n",
    "        diff = (agg_scene_2.loc[zone,col]-agg_scene_1.loc[zone,col])\n",
    "        time_and_money = (origin_time_and_money_avg.loc[(origin_time_and_money_avg['PUlocationID']==zone)\\\n",
    "                                                       & (origin_time_and_money_avg['mode']==col)])\n",
    "        time_diff+= diff * (0 if time_and_money.empty else time_and_money['duration'].values[0])\n",
    "        money_diff+= diff * (0 if time_and_money.empty else time_and_money['price'].values[0])"
   ]
  },
  {
   "cell_type": "code",
   "execution_count": 107,
   "metadata": {},
   "outputs": [
    {
     "data": {
      "text/plain": [
       "-17192002.318680905"
      ]
     },
     "execution_count": 107,
     "metadata": {},
     "output_type": "execute_result"
    }
   ],
   "source": [
    "time_diff"
   ]
  },
  {
   "cell_type": "code",
   "execution_count": 108,
   "metadata": {},
   "outputs": [
    {
     "data": {
      "text/plain": [
       "-3553422.6102407444"
      ]
     },
     "execution_count": 108,
     "metadata": {},
     "output_type": "execute_result"
    }
   ],
   "source": [
    "money_diff"
   ]
  },
  {
   "cell_type": "code",
   "execution_count": 109,
   "metadata": {},
   "outputs": [],
   "source": [
    "population = agg_scene_1.sum().sum()"
   ]
  },
  {
   "cell_type": "code",
   "execution_count": 110,
   "metadata": {},
   "outputs": [
    {
     "data": {
      "text/plain": [
       "-11.805031152905393"
      ]
     },
     "execution_count": 110,
     "metadata": {},
     "output_type": "execute_result"
    }
   ],
   "source": [
    "# Extra commute time per person\n",
    "time_diff/population"
   ]
  },
  {
   "cell_type": "code",
   "execution_count": 111,
   "metadata": {},
   "outputs": [
    {
     "data": {
      "text/plain": [
       "-23.498780021769413"
      ]
     },
     "execution_count": 111,
     "metadata": {},
     "output_type": "execute_result"
    }
   ],
   "source": [
    "time_diff/population/avg_commute_time *100"
   ]
  },
  {
   "cell_type": "code",
   "execution_count": 111,
   "metadata": {},
   "outputs": [
    {
     "data": {
      "text/plain": [
       "-0.19852158448750543"
      ]
     },
     "execution_count": 111,
     "metadata": {},
     "output_type": "execute_result"
    }
   ],
   "source": [
    "# Money saved per person\n",
    "money_diff/population"
   ]
  },
  {
   "cell_type": "code",
   "execution_count": 112,
   "metadata": {},
   "outputs": [
    {
     "data": {
      "text/plain": [
       "-1.9517640885665672"
      ]
     },
     "execution_count": 112,
     "metadata": {},
     "output_type": "execute_result"
    }
   ],
   "source": [
    "money_diff/population/avg_commute_cost *100"
   ]
  },
  {
   "cell_type": "markdown",
   "metadata": {},
   "source": [
    "### Scenario 1 VS 3"
   ]
  },
  {
   "cell_type": "code",
   "execution_count": 113,
   "metadata": {},
   "outputs": [
    {
     "name": "stderr",
     "output_type": "stream",
     "text": [
      "100%|██████████| 256/256 [00:01<00:00, 202.64it/s]\n"
     ]
    }
   ],
   "source": [
    "time_diff = 0\n",
    "money_diff = 0\n",
    "for zone in tqdm(pickup_list,position=0):\n",
    "    for col in agg_scene_1.columns:\n",
    "        diff = (agg_scene_3.loc[zone,col]-agg_scene_1.loc[zone,col])\n",
    "        time_and_money = (origin_time_and_money_avg.loc[(origin_time_and_money_avg['PUlocationID']==zone)\\\n",
    "                                                       & (origin_time_and_money_avg['mode']==int(col))])\n",
    "        time_diff+= diff * (0 if time_and_money.empty else time_and_money['duration'].values[0])\n",
    "        money_diff+= diff * (0 if time_and_money.empty else time_and_money['price'].values[0])"
   ]
  },
  {
   "cell_type": "code",
   "execution_count": 114,
   "metadata": {},
   "outputs": [
    {
     "data": {
      "text/plain": [
       "4145773.768297022"
      ]
     },
     "execution_count": 114,
     "metadata": {},
     "output_type": "execute_result"
    }
   ],
   "source": [
    "time_diff"
   ]
  },
  {
   "cell_type": "code",
   "execution_count": 115,
   "metadata": {},
   "outputs": [
    {
     "data": {
      "text/plain": [
       "-1704369.9815825045"
      ]
     },
     "execution_count": 115,
     "metadata": {},
     "output_type": "execute_result"
    }
   ],
   "source": [
    "money_diff"
   ]
  },
  {
   "cell_type": "code",
   "execution_count": 116,
   "metadata": {},
   "outputs": [],
   "source": [
    "population = agg_scene_2.sum().sum()"
   ]
  },
  {
   "cell_type": "code",
   "execution_count": 117,
   "metadata": {},
   "outputs": [
    {
     "data": {
      "text/plain": [
       "1.4388298295823805"
      ]
     },
     "execution_count": 117,
     "metadata": {},
     "output_type": "execute_result"
    }
   ],
   "source": [
    "# Extra commute time per person\n",
    "time_diff/population"
   ]
  },
  {
   "cell_type": "code",
   "execution_count": 118,
   "metadata": {},
   "outputs": [
    {
     "data": {
      "text/plain": [
       "2.0170762195630907"
      ]
     },
     "execution_count": 118,
     "metadata": {},
     "output_type": "execute_result"
    }
   ],
   "source": [
    "time_diff/population/avg_commute_time *100"
   ]
  },
  {
   "cell_type": "code",
   "execution_count": 119,
   "metadata": {},
   "outputs": [
    {
     "data": {
      "text/plain": [
       "-0.5915176532059108"
      ]
     },
     "execution_count": 119,
     "metadata": {},
     "output_type": "execute_result"
    }
   ],
   "source": [
    "# Money saved per person\n",
    "money_diff/population"
   ]
  },
  {
   "cell_type": "code",
   "execution_count": 120,
   "metadata": {},
   "outputs": [
    {
     "data": {
      "text/plain": [
       "-5.815503217249062"
      ]
     },
     "execution_count": 120,
     "metadata": {},
     "output_type": "execute_result"
    }
   ],
   "source": [
    "money_diff/population/avg_commute_cost *100"
   ]
  },
  {
   "cell_type": "markdown",
   "metadata": {},
   "source": [
    "### Scenario 2 VS 3"
   ]
  },
  {
   "cell_type": "code",
   "execution_count": 121,
   "metadata": {},
   "outputs": [
    {
     "name": "stderr",
     "output_type": "stream",
     "text": [
      "100%|██████████| 256/256 [00:01<00:00, 202.61it/s]\n"
     ]
    }
   ],
   "source": [
    "time_diff = 0\n",
    "money_diff = 0\n",
    "for zone in tqdm(pickup_list,position=0):\n",
    "    for col in agg_scene_2.columns:\n",
    "        diff = (agg_scene_3.loc[zone,col]-agg_scene_2.loc[zone,col])\n",
    "        time_and_money = (origin_time_and_money_avg.loc[(origin_time_and_money_avg['PUlocationID']==zone)\\\n",
    "                                                       & (origin_time_and_money_avg['mode']==int(col))])\n",
    "        time_diff+= diff * (0 if time_and_money.empty else time_and_money['duration'].values[0])\n",
    "        money_diff+= diff * (0 if time_and_money.empty else time_and_money['price'].values[0])"
   ]
  },
  {
   "cell_type": "code",
   "execution_count": 122,
   "metadata": {},
   "outputs": [
    {
     "data": {
      "text/plain": [
       "3481590.9433983313"
      ]
     },
     "execution_count": 122,
     "metadata": {},
     "output_type": "execute_result"
    }
   ],
   "source": [
    "time_diff"
   ]
  },
  {
   "cell_type": "code",
   "execution_count": 123,
   "metadata": {},
   "outputs": [
    {
     "data": {
      "text/plain": [
       "-1132359.615597848"
      ]
     },
     "execution_count": 123,
     "metadata": {},
     "output_type": "execute_result"
    }
   ],
   "source": [
    "money_diff"
   ]
  },
  {
   "cell_type": "code",
   "execution_count": 124,
   "metadata": {},
   "outputs": [],
   "source": [
    "population = agg_scene_2.sum().sum()"
   ]
  },
  {
   "cell_type": "code",
   "execution_count": 125,
   "metadata": {},
   "outputs": [
    {
     "data": {
      "text/plain": [
       "1.208318925184169"
      ]
     },
     "execution_count": 125,
     "metadata": {},
     "output_type": "execute_result"
    }
   ],
   "source": [
    "# Extra commute time per person\n",
    "time_diff/population"
   ]
  },
  {
   "cell_type": "code",
   "execution_count": 126,
   "metadata": {},
   "outputs": [
    {
     "data": {
      "text/plain": [
       "1.6884697851478847"
      ]
     },
     "execution_count": 126,
     "metadata": {},
     "output_type": "execute_result"
    }
   ],
   "source": [
    "time_diff/population/(avg_commute_time+0.23051090439821367) *100"
   ]
  },
  {
   "cell_type": "code",
   "execution_count": 127,
   "metadata": {},
   "outputs": [
    {
     "data": {
      "text/plain": [
       "-0.39299606871840603"
      ]
     },
     "execution_count": 127,
     "metadata": {},
     "output_type": "execute_result"
    }
   ],
   "source": [
    "# Money saved per person\n",
    "money_diff/population"
   ]
  },
  {
   "cell_type": "code",
   "execution_count": 128,
   "metadata": {},
   "outputs": [
    {
     "data": {
      "text/plain": [
       "-3.9406513465194832"
      ]
     },
     "execution_count": 128,
     "metadata": {},
     "output_type": "execute_result"
    }
   ],
   "source": [
    "money_diff/population/(avg_commute_cost-0.19852158448750543) *100"
   ]
  },
  {
   "cell_type": "markdown",
   "metadata": {},
   "source": [
    "#### Use below code only if you want exact values for the difference in time/money for commuters as it takes a very long time to run (>3 hours). It can also be used to get the difference for each taxi zone (after some minor changes)."
   ]
  },
  {
   "cell_type": "code",
   "execution_count": 148,
   "metadata": {},
   "outputs": [],
   "source": [
    "# time_total = 0\n",
    "# money_total = 0\n",
    "# for pair in tqdm(ODpair_list,position=0):\n",
    "#     time_pair = 0\n",
    "#     money_pair = 0\n",
    "#     for col in results_scene_1.columns:\n",
    "#         time_pair+=(results_scene_1.loc[results_scene_1.index==pair,col]-results_scene_2.loc[results_scene_2.index==pair,col])\\\n",
    "#         *wages.loc[(wages['ODpair']==pair) & wages['mode']==int(col),'duration']\n",
    "#         money_pair+=(results_scene_1.loc[results_scene_1.index==pair,col]-results_scene_2.loc[results_scene_2.index==pair,col])\\\n",
    "#         *wages.loc[(wages['ODpair']==pair) & wages['mode']==int(col),'price']\n",
    "#     time_total+=time_pair\n",
    "#     money_total+=money_pair"
   ]
  }
 ],
 "metadata": {
  "kernelspec": {
   "display_name": "Python 3",
   "language": "python",
   "name": "python3"
  },
  "language_info": {
   "codemirror_mode": {
    "name": "ipython",
    "version": 3
   },
   "file_extension": ".py",
   "mimetype": "text/x-python",
   "name": "python",
   "nbconvert_exporter": "python",
   "pygments_lexer": "ipython3",
   "version": "3.7.1"
  }
 },
 "nbformat": 4,
 "nbformat_minor": 2
}
