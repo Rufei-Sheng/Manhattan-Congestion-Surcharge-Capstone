{
 "cells": [
  {
   "cell_type": "markdown",
   "metadata": {},
   "source": [
    "## Revenue change in Taxi, FHV, and Public Tranportation after the surcharges (based on the modeling results)"
   ]
  },
  {
   "cell_type": "code",
   "execution_count": 1,
   "metadata": {},
   "outputs": [],
   "source": [
    "import pandas as pd"
   ]
  },
  {
   "cell_type": "code",
   "execution_count": 2,
   "metadata": {},
   "outputs": [],
   "source": [
    "data = pd.read_csv('results_original_predict_transportation_choice.csv')\n",
    "data1 = pd.read_csv('results_add2.75_predict_transportation_choice.csv')\n",
    "data2 = pd.read_csv('results_add10_predict_transportation_choice.csv')\n",
    "ground = pd.read_csv(\"final_acs_transportation_choice-Copy1.csv\")"
   ]
  },
  {
   "cell_type": "code",
   "execution_count": 3,
   "metadata": {},
   "outputs": [],
   "source": [
    "cleaned_data= pd.read_csv('final_allMode_with_wage-Copy1.csv')\n",
    "taxi_price = cleaned_data[cleaned_data['mode']==1][['PUlocationID','DOlocationID','price']]\n",
    "fhv_price = cleaned_data[cleaned_data['mode']==2][['PUlocationID','DOlocationID','price']]\n",
    "fhv_s_price = cleaned_data[cleaned_data['mode']==3][['PUlocationID','DOlocationID','price']]\n",
    "pt_price = cleaned_data[cleaned_data['mode']==4][['PUlocationID','DOlocationID','price']]"
   ]
  },
  {
   "cell_type": "code",
   "execution_count": 4,
   "metadata": {},
   "outputs": [
    {
     "data": {
      "text/html": [
       "<div>\n",
       "<style scoped>\n",
       "    .dataframe tbody tr th:only-of-type {\n",
       "        vertical-align: middle;\n",
       "    }\n",
       "\n",
       "    .dataframe tbody tr th {\n",
       "        vertical-align: top;\n",
       "    }\n",
       "\n",
       "    .dataframe thead th {\n",
       "        text-align: right;\n",
       "    }\n",
       "</style>\n",
       "<table border=\"1\" class=\"dataframe\">\n",
       "  <thead>\n",
       "    <tr style=\"text-align: right;\">\n",
       "      <th></th>\n",
       "      <th>no fee total_revenue</th>\n",
       "      <th>$2.75 total_revenue</th>\n",
       "      <th>$10 total_revenue</th>\n",
       "    </tr>\n",
       "  </thead>\n",
       "  <tbody>\n",
       "    <tr>\n",
       "      <th>0</th>\n",
       "      <td>108.506191</td>\n",
       "      <td>108.506191</td>\n",
       "      <td>108.506191</td>\n",
       "    </tr>\n",
       "    <tr>\n",
       "      <th>1</th>\n",
       "      <td>195.683255</td>\n",
       "      <td>195.683255</td>\n",
       "      <td>195.683255</td>\n",
       "    </tr>\n",
       "    <tr>\n",
       "      <th>2</th>\n",
       "      <td>258.521023</td>\n",
       "      <td>258.521023</td>\n",
       "      <td>258.521023</td>\n",
       "    </tr>\n",
       "    <tr>\n",
       "      <th>3</th>\n",
       "      <td>95.944550</td>\n",
       "      <td>95.944550</td>\n",
       "      <td>95.944550</td>\n",
       "    </tr>\n",
       "    <tr>\n",
       "      <th>4</th>\n",
       "      <td>39.584564</td>\n",
       "      <td>39.584564</td>\n",
       "      <td>39.584564</td>\n",
       "    </tr>\n",
       "    <tr>\n",
       "      <th>5</th>\n",
       "      <td>118.310136</td>\n",
       "      <td>118.310136</td>\n",
       "      <td>118.310136</td>\n",
       "    </tr>\n",
       "    <tr>\n",
       "      <th>6</th>\n",
       "      <td>27.167948</td>\n",
       "      <td>27.167948</td>\n",
       "      <td>27.167948</td>\n",
       "    </tr>\n",
       "    <tr>\n",
       "      <th>7</th>\n",
       "      <td>10.966208</td>\n",
       "      <td>10.966208</td>\n",
       "      <td>10.966208</td>\n",
       "    </tr>\n",
       "    <tr>\n",
       "      <th>8</th>\n",
       "      <td>220.979837</td>\n",
       "      <td>220.979837</td>\n",
       "      <td>220.979837</td>\n",
       "    </tr>\n",
       "    <tr>\n",
       "      <th>9</th>\n",
       "      <td>284.462062</td>\n",
       "      <td>284.462062</td>\n",
       "      <td>284.462062</td>\n",
       "    </tr>\n",
       "  </tbody>\n",
       "</table>\n",
       "</div>"
      ],
      "text/plain": [
       "   no fee total_revenue  $2.75 total_revenue  $10 total_revenue\n",
       "0            108.506191           108.506191         108.506191\n",
       "1            195.683255           195.683255         195.683255\n",
       "2            258.521023           258.521023         258.521023\n",
       "3             95.944550            95.944550          95.944550\n",
       "4             39.584564            39.584564          39.584564\n",
       "5            118.310136           118.310136         118.310136\n",
       "6             27.167948            27.167948          27.167948\n",
       "7             10.966208            10.966208          10.966208\n",
       "8            220.979837           220.979837         220.979837\n",
       "9            284.462062           284.462062         284.462062"
      ]
     },
     "execution_count": 4,
     "metadata": {},
     "output_type": "execute_result"
    }
   ],
   "source": [
    "taxi = pd.DataFrame()\n",
    "taxi['pickup']=data['origin']\n",
    "taxi['dropoff']=data['destination']\n",
    "taxi = taxi.merge(ground[['P(mode1)','taxi_zone']], left_on='pickup', right_on = 'taxi_zone', how='outer')\n",
    "taxi = taxi.merge(data[['origin','destination','P(mode1)']], \n",
    "          left_on=['pickup','dropoff'], right_on = ['origin','destination'])\n",
    "taxi = taxi.rename({'P(mode1)_x': 'ground_choice', 'P(mode1)_y': 'model result with no fee'}, axis='columns')\n",
    "taxi = taxi.merge(data1[['origin','destination','P(mode1)']], \n",
    "          left_on=['pickup','dropoff'], right_on = ['origin','destination'])\n",
    "taxi = taxi.merge(data2[['origin','destination','P(mode1)']], \n",
    "          left_on=['pickup','dropoff'], right_on = ['origin','destination'])\n",
    "taxi = taxi.merge(taxi_price[['PUlocationID','DOlocationID','price']], \n",
    "          left_on=['pickup','dropoff'], right_on = ['PUlocationID','DOlocationID'])\n",
    "taxi = taxi.drop(['taxi_zone','PUlocationID','DOlocationID','origin_x','destination_x','origin_y',\n",
    "           'destination_y','origin','destination'], axis=1)\n",
    "taxi = taxi.rename({'P(mode1)_x':'model result with $2.75', 'P(mode1)_y': 'model result with $10'}, axis='columns')\n",
    "taxi_revenue = pd.DataFrame()\n",
    "#taxi_revenue['groud_total_revenue'] = taxi['ground_choice']*taxi['price']\n",
    "taxi_revenue['no fee total_revenue'] = taxi['model result with no fee']*taxi['price']\n",
    "#taxi_revenue['$2.75 baseline_revenue'] = taxi['model result with no fee']*(taxi['price']+2.75)\n",
    "#taxi_revenue['$10 baseline_revenue'] = taxi['model result with no fee']*(taxi['price']+10)\n",
    "taxi_revenue['$2.75 total_revenue'] = taxi['model result with $2.75']*taxi['price']\n",
    "taxi_revenue['$10 total_revenue'] = taxi['model result with $10']*taxi['price']\n",
    "taxi_revenue.head(10)"
   ]
  },
  {
   "cell_type": "code",
   "execution_count": 5,
   "metadata": {},
   "outputs": [],
   "source": [
    "revenue_change = pd.DataFrame(taxi_revenue.sum()).T\n",
    "revenue_change['revenue change from no fee to $2.75'] = revenue_change['$2.75 total_revenue']-revenue_change['no fee total_revenue']\n",
    "revenue_change['revenue change from  2.75 to 10']= revenue_change['$10 total_revenue']- revenue_change['$2.75 total_revenue']\n",
    "revenue_change['revenue change from no fee to $10']= revenue_change['$10 total_revenue'] - revenue_change['no fee total_revenue']\n",
    "revenue_change = revenue_change.T.rename({0:'Taxi'},axis = \"columns\")"
   ]
  },
  {
   "cell_type": "code",
   "execution_count": 6,
   "metadata": {},
   "outputs": [],
   "source": [
    "fhv = pd.DataFrame()\n",
    "fhv ['pickup']=data['origin']\n",
    "fhv ['dropoff']=data['destination']\n",
    "fhv  = fhv .merge(ground[['P(mode2)','taxi_zone']], left_on='pickup', right_on = 'taxi_zone', how='outer')\n",
    "fhv  = fhv .merge(data[['origin','destination','P(mode2)']], \n",
    "          left_on=['pickup','dropoff'], right_on = ['origin','destination'])\n",
    "fhv  = fhv .rename({'P(mode2)_x': 'ground_choice', 'P(mode2)_y': 'model result with no fee'}, axis='columns')\n",
    "fhv  = fhv .merge(data1[['origin','destination','P(mode2)']], \n",
    "          left_on=['pickup','dropoff'], right_on = ['origin','destination'])\n",
    "fhv  = fhv .merge(data2[['origin','destination','P(mode2)']], \n",
    "          left_on=['pickup','dropoff'], right_on = ['origin','destination'])\n",
    "fhv  = fhv .merge(fhv_price[['PUlocationID','DOlocationID','price']], \n",
    "          left_on=['pickup','dropoff'], right_on = ['PUlocationID','DOlocationID'])\n",
    "fhv  = fhv.drop(['taxi_zone','PUlocationID','DOlocationID','origin_x','destination_x','origin_y',\n",
    "           'destination_y','origin','destination'], axis=1)\n",
    "fhv = fhv.rename({'P(mode2)_x':'model result with $2.75', 'P(mode2)_y': 'model result with $10'}, axis='columns')\n",
    "fhv_revenue = pd.DataFrame()\n",
    "#taxi_revenue['groud_total_revenue'] = taxi['ground_choice']*taxi['price']\n",
    "fhv_revenue['no fee total_revenue'] = fhv['model result with no fee']*fhv['price']\n",
    "#taxi_revenue['$2.75 baseline_revenue'] = taxi['model result with no fee']*(taxi['price']+2.75)\n",
    "#taxi_revenue['$10 baseline_revenue'] = taxi['model result with no fee']*(taxi['price']+10)\n",
    "fhv_revenue['$2.75 total_revenue'] = fhv['model result with $2.75']*fhv['price']\n",
    "fhv_revenue['$10 total_revenue'] = fhv['model result with $10']*fhv['price']\n",
    "#fhv_revenue.head(10)"
   ]
  },
  {
   "cell_type": "code",
   "execution_count": 7,
   "metadata": {},
   "outputs": [],
   "source": [
    "fhv_revenue = pd.DataFrame(fhv_revenue.sum()).T\n",
    "fhv_revenue['revenue change from no fee to $2.75'] =  fhv_revenue['$2.75 total_revenue']-fhv_revenue['no fee total_revenue']\n",
    "fhv_revenue['revenue change from  2.75 to 10']= fhv_revenue['$10 total_revenue']- fhv_revenue['$2.75 total_revenue']\n",
    "fhv_revenue['revenue change from no fee to $10']= fhv_revenue['$10 total_revenue']- fhv_revenue['no fee total_revenue']\n",
    "revenue_change['FHV']= fhv_revenue.T[0]\n",
    "#revenue_change"
   ]
  },
  {
   "cell_type": "code",
   "execution_count": 8,
   "metadata": {},
   "outputs": [],
   "source": [
    "fhv_s = pd.DataFrame()\n",
    "fhv_s['pickup']=data['origin']\n",
    "fhv_s ['dropoff']=data['destination']\n",
    "fhv_s= fhv_s.merge(ground[['P(mode3)','taxi_zone']], left_on='pickup', right_on = 'taxi_zone', how='outer')\n",
    "fhv_s = fhv_s.merge(data[['origin','destination','P(mode3)']], \n",
    "          left_on=['pickup','dropoff'], right_on = ['origin','destination'])\n",
    "fhv_s= fhv_s.rename({'P(mode3)_x': 'ground_choice', 'P(mode3)_y': 'model result with no fee'}, axis='columns')\n",
    "fhv_s= fhv_s.merge(data1[['origin','destination','P(mode3)']], \n",
    "          left_on=['pickup','dropoff'], right_on = ['origin','destination'])\n",
    "fhv_s= fhv_s.merge(data2[['origin','destination','P(mode3)']], \n",
    "          left_on=['pickup','dropoff'], right_on = ['origin','destination'])\n",
    "fhv_s= fhv_s.merge(fhv_s_price[['PUlocationID','DOlocationID','price']], \n",
    "          left_on=['pickup','dropoff'], right_on = ['PUlocationID','DOlocationID'])\n",
    "fhv_s= fhv_s.drop(['taxi_zone','PUlocationID','DOlocationID','origin_x','destination_x','origin_y',\n",
    "           'destination_y','origin','destination'], axis=1)\n",
    "fhv_s= fhv_s.rename({'P(mode3)_x':'model result with $2.75', 'P(mode3)_y': 'model result with $10'}, axis='columns')\n",
    "fhv_s_revenue = pd.DataFrame()\n",
    "#taxi_revenue['groud_total_revenue'] = taxi['ground_choice']*taxi['price']\n",
    "fhv_s_revenue['no fee total_revenue'] = fhv_s['model result with no fee']*fhv_s['price']\n",
    "#taxi_revenue['$2.75 baseline_revenue'] = taxi['model result with no fee']*(taxi['price']+2.75)\n",
    "#taxi_revenue['$10 baseline_revenue'] = taxi['model result with no fee']*(taxi['price']+10)\n",
    "fhv_s_revenue['$2.75 total_revenue'] = fhv_s['model result with $2.75']*fhv_s['price']\n",
    "fhv_s_revenue['$10 total_revenue'] = fhv_s['model result with $10']*fhv_s['price']\n",
    "fhv_s_revenue = pd.DataFrame(fhv_s_revenue.sum()).T\n",
    "fhv_s_revenue['revenue change from no fee to $2.75'] =  fhv_s_revenue['$2.75 total_revenue']-fhv_s_revenue['no fee total_revenue']\n",
    "fhv_s_revenue['revenue change from  2.75 to 10']= fhv_s_revenue['$10 total_revenue']- fhv_s_revenue['$2.75 total_revenue']\n",
    "fhv_s_revenue['revenue change from no fee to $10']= fhv_s_revenue['$10 total_revenue']- fhv_s_revenue['no fee total_revenue']\n",
    "revenue_change['FHV_shared']= fhv_s_revenue.T[0]\n",
    "revenue_change['FHV_total']= revenue_change['FHV']+revenue_change['FHV_shared']\n",
    "#revenue_change"
   ]
  },
  {
   "cell_type": "code",
   "execution_count": 9,
   "metadata": {},
   "outputs": [
    {
     "data": {
      "text/html": [
       "<div>\n",
       "<style scoped>\n",
       "    .dataframe tbody tr th:only-of-type {\n",
       "        vertical-align: middle;\n",
       "    }\n",
       "\n",
       "    .dataframe tbody tr th {\n",
       "        vertical-align: top;\n",
       "    }\n",
       "\n",
       "    .dataframe thead th {\n",
       "        text-align: right;\n",
       "    }\n",
       "</style>\n",
       "<table border=\"1\" class=\"dataframe\">\n",
       "  <thead>\n",
       "    <tr style=\"text-align: right;\">\n",
       "      <th></th>\n",
       "      <th>Taxi</th>\n",
       "      <th>FHV</th>\n",
       "      <th>FHV_shared</th>\n",
       "      <th>FHV_total</th>\n",
       "      <th>Public Transportation</th>\n",
       "    </tr>\n",
       "  </thead>\n",
       "  <tbody>\n",
       "    <tr>\n",
       "      <th>no fee total_revenue</th>\n",
       "      <td>1.100979e+07</td>\n",
       "      <td>1.146081e+07</td>\n",
       "      <td>8.862697e+06</td>\n",
       "      <td>2.032351e+07</td>\n",
       "      <td>6.487861e+06</td>\n",
       "    </tr>\n",
       "    <tr>\n",
       "      <th>$2.75 total_revenue</th>\n",
       "      <td>1.045819e+07</td>\n",
       "      <td>1.091341e+07</td>\n",
       "      <td>9.120351e+06</td>\n",
       "      <td>2.003376e+07</td>\n",
       "      <td>6.592664e+06</td>\n",
       "    </tr>\n",
       "    <tr>\n",
       "      <th>$10 total_revenue</th>\n",
       "      <td>9.127869e+06</td>\n",
       "      <td>9.922014e+06</td>\n",
       "      <td>9.723822e+06</td>\n",
       "      <td>1.964584e+07</td>\n",
       "      <td>6.810433e+06</td>\n",
       "    </tr>\n",
       "    <tr>\n",
       "      <th>revenue change from no fee to $2.75</th>\n",
       "      <td>-5.516013e+05</td>\n",
       "      <td>-5.474035e+05</td>\n",
       "      <td>2.576544e+05</td>\n",
       "      <td>-2.897491e+05</td>\n",
       "      <td>1.048036e+05</td>\n",
       "    </tr>\n",
       "    <tr>\n",
       "      <th>revenue change from  2.75 to 10</th>\n",
       "      <td>-1.330316e+06</td>\n",
       "      <td>-9.913933e+05</td>\n",
       "      <td>6.034713e+05</td>\n",
       "      <td>-3.879220e+05</td>\n",
       "      <td>2.177688e+05</td>\n",
       "    </tr>\n",
       "    <tr>\n",
       "      <th>revenue change from no fee to $10</th>\n",
       "      <td>-1.881918e+06</td>\n",
       "      <td>-1.538797e+06</td>\n",
       "      <td>8.611256e+05</td>\n",
       "      <td>-6.776711e+05</td>\n",
       "      <td>3.225724e+05</td>\n",
       "    </tr>\n",
       "  </tbody>\n",
       "</table>\n",
       "</div>"
      ],
      "text/plain": [
       "                                             Taxi           FHV    FHV_shared  \\\n",
       "no fee total_revenue                 1.100979e+07  1.146081e+07  8.862697e+06   \n",
       "$2.75 total_revenue                  1.045819e+07  1.091341e+07  9.120351e+06   \n",
       "$10 total_revenue                    9.127869e+06  9.922014e+06  9.723822e+06   \n",
       "revenue change from no fee to $2.75 -5.516013e+05 -5.474035e+05  2.576544e+05   \n",
       "revenue change from  2.75 to 10     -1.330316e+06 -9.913933e+05  6.034713e+05   \n",
       "revenue change from no fee to $10   -1.881918e+06 -1.538797e+06  8.611256e+05   \n",
       "\n",
       "                                        FHV_total  Public Transportation  \n",
       "no fee total_revenue                 2.032351e+07           6.487861e+06  \n",
       "$2.75 total_revenue                  2.003376e+07           6.592664e+06  \n",
       "$10 total_revenue                    1.964584e+07           6.810433e+06  \n",
       "revenue change from no fee to $2.75 -2.897491e+05           1.048036e+05  \n",
       "revenue change from  2.75 to 10     -3.879220e+05           2.177688e+05  \n",
       "revenue change from no fee to $10   -6.776711e+05           3.225724e+05  "
      ]
     },
     "execution_count": 9,
     "metadata": {},
     "output_type": "execute_result"
    }
   ],
   "source": [
    "public_trans = pd.DataFrame()\n",
    "public_trans['pickup']=data['origin']\n",
    "public_trans['dropoff']=data['destination']\n",
    "public_trans= public_trans.merge(ground[['P(mode4)','taxi_zone']], left_on='pickup', right_on = 'taxi_zone', how='outer')\n",
    "public_trans = public_trans.merge(data[['origin','destination','P(mode4)']], \n",
    "          left_on=['pickup','dropoff'], right_on = ['origin','destination'])\n",
    "public_trans= public_trans.rename({'P(mode4)_x': 'ground_choice', 'P(mode4)_y': 'model result with no fee'}, axis='columns')\n",
    "public_trans= public_trans.merge(data1[['origin','destination','P(mode4)']], \n",
    "          left_on=['pickup','dropoff'], right_on = ['origin','destination'])\n",
    "public_trans= public_trans.merge(data2[['origin','destination','P(mode4)']], \n",
    "          left_on=['pickup','dropoff'], right_on = ['origin','destination'])\n",
    "public_trans= public_trans.merge(pt_price[['PUlocationID','DOlocationID','price']], \n",
    "          left_on=['pickup','dropoff'], right_on = ['PUlocationID','DOlocationID'])\n",
    "public_trans= public_trans.drop(['taxi_zone','PUlocationID','DOlocationID','origin_x','destination_x','origin_y',\n",
    "           'destination_y','origin','destination'], axis=1)\n",
    "public_trans= public_trans.rename({'P(mode4)_x':'model result with $2.75', 'P(mode4)_y': 'model result with $10'}, axis='columns')\n",
    "public_trans_revenue = pd.DataFrame()\n",
    "#taxi_revenue['groud_total_revenue'] = taxi['ground_choice']*taxi['price']\n",
    "public_trans_revenue['no fee total_revenue'] = public_trans['model result with no fee']*public_trans['price']\n",
    "#taxi_revenue['$2.75 baseline_revenue'] = taxi['model result with no fee']*(taxi['price']+2.75)\n",
    "#taxi_revenue['$10 baseline_revenue'] = taxi['model result with no fee']*(taxi['price']+10)\n",
    "public_trans_revenue['$2.75 total_revenue'] = public_trans['model result with $2.75']*public_trans['price']\n",
    "public_trans_revenue['$10 total_revenue'] = public_trans['model result with $10']*public_trans['price']\n",
    "public_trans_revenue = pd.DataFrame(public_trans_revenue.sum()).T\n",
    "public_trans_revenue['revenue change from no fee to $2.75'] =public_trans_revenue['$2.75 total_revenue']-public_trans_revenue['no fee total_revenue']\n",
    "public_trans_revenue['revenue change from  2.75 to 10']= public_trans_revenue['$10 total_revenue']- public_trans_revenue['$2.75 total_revenue']\n",
    "public_trans_revenue['revenue change from no fee to $10']= public_trans_revenue['$10 total_revenue']- public_trans_revenue['no fee total_revenue']\n",
    "revenue_change['Public Transportation']= public_trans_revenue.T[0]\n",
    "revenue_change"
   ]
  },
  {
   "cell_type": "markdown",
   "metadata": {},
   "source": [
    "## Tax Revenue"
   ]
  },
  {
   "cell_type": "code",
   "execution_count": 10,
   "metadata": {},
   "outputs": [],
   "source": [
    "zones_2_75 = [140,141, 237, 236, 263, 262, 43, 238, 239, 143,142, 12, 88, 261, 13, 87,\n",
    "              209, 231, 45, 232, 148, 144, 211, 125, 158,  249, 114, 113, 79, 4, 224, 107, 234, 90, 68,\n",
    "              246, 186, 164, 100, 170, 137, 233, 162, 161, 230, 48, 50, 163, 229]\n",
    "zones_10 = [12, 88, 261, 13, 87, 209, 231, 45, 232, 148, 144, 211, 125, 158,  249, 114,\n",
    "            113, 79, 4, 224, 107, 234, 90, 68, 246, 186, 164, 100, 170, 137, 233, 162, 161, 230, 48, 50, 163, 229]"
   ]
  },
  {
   "cell_type": "code",
   "execution_count": 11,
   "metadata": {
    "scrolled": true
   },
   "outputs": [
    {
     "data": {
      "text/plain": [
       "0    519686\n",
       "dtype: object"
      ]
     },
     "execution_count": 11,
     "metadata": {},
     "output_type": "execute_result"
    }
   ],
   "source": [
    "population_2_75 = data1[data1['origin'].isin(zones_2_75)|data1['destination'].isin(zones_2_75)]\n",
    "population_2_75 = pd.DataFrame(population_2_75.sum()).T\n",
    "population_2_75_total = population_2_75['P(mode1)'] + population_2_75['P(mode2)']+population_2_75['P(mode3)']\n",
    "population_2_75_total"
   ]
  },
  {
   "cell_type": "code",
   "execution_count": 12,
   "metadata": {},
   "outputs": [
    {
     "data": {
      "text/plain": [
       "0    392952\n",
       "dtype: object"
      ]
     },
     "execution_count": 12,
     "metadata": {},
     "output_type": "execute_result"
    }
   ],
   "source": [
    "population_10 = data2[data2['origin'].isin(zones_10) | data2['destination'].isin(zones_10)]\n",
    "population_10 = pd.DataFrame(population_10.sum()).T\n",
    "population_10_total = population_10['P(mode1)'] + population_10['P(mode2)']+population_10['P(mode3)']\n",
    "population_10_total"
   ]
  },
  {
   "cell_type": "code",
   "execution_count": 13,
   "metadata": {},
   "outputs": [
    {
     "data": {
      "text/plain": [
       "0    548680\n",
       "dtype: object"
      ]
     },
     "execution_count": 13,
     "metadata": {},
     "output_type": "execute_result"
    }
   ],
   "source": [
    "baseline_2_75 = data[data['origin'].isin(zones_2_75) | data['destination'].isin(zones_2_75)]\n",
    "baseline_2_75 = pd.DataFrame(baseline_2_75.sum()).T\n",
    "baseline_2_75_total = baseline_2_75['P(mode1)'] + baseline_2_75['P(mode2)']+baseline_2_75['P(mode3)']\n",
    "baseline_2_75_total"
   ]
  },
  {
   "cell_type": "code",
   "execution_count": 14,
   "metadata": {},
   "outputs": [
    {
     "data": {
      "text/plain": [
       "0    483797\n",
       "dtype: object"
      ]
     },
     "execution_count": 14,
     "metadata": {},
     "output_type": "execute_result"
    }
   ],
   "source": [
    "baseline_10 = data[data['origin'].isin(zones_10) | data['destination'].isin(zones_10)]\n",
    "baseline_10 = pd.DataFrame(baseline_10.sum()).T\n",
    "baseline_10_total = baseline_10['P(mode1)'] + baseline_10['P(mode2)']+baseline_10['P(mode3)']\n",
    "baseline_10_total"
   ]
  },
  {
   "cell_type": "code",
   "execution_count": 15,
   "metadata": {},
   "outputs": [],
   "source": [
    "tax_revenue = pd.DataFrame()"
   ]
  },
  {
   "cell_type": "code",
   "execution_count": 16,
   "metadata": {},
   "outputs": [
    {
     "data": {
      "text/html": [
       "<div>\n",
       "<style scoped>\n",
       "    .dataframe tbody tr th:only-of-type {\n",
       "        vertical-align: middle;\n",
       "    }\n",
       "\n",
       "    .dataframe tbody tr th {\n",
       "        vertical-align: top;\n",
       "    }\n",
       "\n",
       "    .dataframe thead th {\n",
       "        text-align: right;\n",
       "    }\n",
       "</style>\n",
       "<table border=\"1\" class=\"dataframe\">\n",
       "  <thead>\n",
       "    <tr style=\"text-align: right;\">\n",
       "      <th></th>\n",
       "      <th>Baseline revenue - $2.75</th>\n",
       "      <th>revenue after mode shift - $2.75</th>\n",
       "      <th>Baseline revenue - $10</th>\n",
       "      <th>revenue after mode shift -  $10</th>\n",
       "    </tr>\n",
       "  </thead>\n",
       "  <tbody>\n",
       "    <tr>\n",
       "      <th>Tax Revenue</th>\n",
       "      <td>1.50887e+06</td>\n",
       "      <td>1.42914e+06</td>\n",
       "      <td>4.83797e+06</td>\n",
       "      <td>3.92952e+06</td>\n",
       "    </tr>\n",
       "  </tbody>\n",
       "</table>\n",
       "</div>"
      ],
      "text/plain": [
       "            Baseline revenue - $2.75 revenue after mode shift - $2.75  \\\n",
       "Tax Revenue              1.50887e+06                      1.42914e+06   \n",
       "\n",
       "            Baseline revenue - $10 revenue after mode shift -  $10  \n",
       "Tax Revenue            4.83797e+06                     3.92952e+06  "
      ]
     },
     "execution_count": 16,
     "metadata": {},
     "output_type": "execute_result"
    }
   ],
   "source": [
    "tax_revenue['Baseline revenue - $2.75'] = baseline_2_75_total*2.75\n",
    "tax_revenue['revenue after mode shift - $2.75'] = population_2_75_total*2.75\n",
    "tax_revenue['Baseline revenue - $10'] = baseline_10_total*10\n",
    "tax_revenue['revenue after mode shift -  $10'] = population_10_total*10\n",
    "tax_revenue = tax_revenue.T.rename({0:'Tax Revenue'},axis ='columns').T\n",
    "tax_revenue"
   ]
  },
  {
   "cell_type": "markdown",
   "metadata": {},
   "source": [
    "# Change in Ridership"
   ]
  },
  {
   "cell_type": "markdown",
   "metadata": {},
   "source": [
    "## From No surcharge to $2.75 surcharge (negative number represent decrease in ridership) :"
   ]
  },
  {
   "cell_type": "code",
   "execution_count": 17,
   "metadata": {},
   "outputs": [
    {
     "name": "stdout",
     "output_type": "stream",
     "text": [
      "Total riderhsip change in Taxi: -22236\n",
      "Total riderhsip change in FHV: -6757\n",
      "Total riderhsip change in Taxi and FHV: -28993\n",
      "Total riderhsip change in Public Transportation: 24493\n",
      "Total riderhsip change in Walking: 4500\n"
     ]
    },
    {
     "data": {
      "text/html": [
       "<div>\n",
       "<style scoped>\n",
       "    .dataframe tbody tr th:only-of-type {\n",
       "        vertical-align: middle;\n",
       "    }\n",
       "\n",
       "    .dataframe tbody tr th {\n",
       "        vertical-align: top;\n",
       "    }\n",
       "\n",
       "    .dataframe thead th {\n",
       "        text-align: right;\n",
       "    }\n",
       "</style>\n",
       "<table border=\"1\" class=\"dataframe\">\n",
       "  <thead>\n",
       "    <tr style=\"text-align: right;\">\n",
       "      <th></th>\n",
       "      <th>Taxi</th>\n",
       "      <th>FHV</th>\n",
       "      <th>FHV_shared</th>\n",
       "      <th>Public Transportation</th>\n",
       "      <th>Walking</th>\n",
       "    </tr>\n",
       "  </thead>\n",
       "  <tbody>\n",
       "    <tr>\n",
       "      <th>0</th>\n",
       "      <td>-22236.7</td>\n",
       "      <td>-16677.2</td>\n",
       "      <td>9919.96</td>\n",
       "      <td>24493.2</td>\n",
       "      <td>4500.68</td>\n",
       "    </tr>\n",
       "  </tbody>\n",
       "</table>\n",
       "</div>"
      ],
      "text/plain": [
       "      Taxi      FHV FHV_shared Public Transportation  Walking\n",
       "0 -22236.7 -16677.2    9919.96               24493.2  4500.68"
      ]
     },
     "execution_count": 17,
     "metadata": {},
     "output_type": "execute_result"
    }
   ],
   "source": [
    "no_fee_to_2_75 = pd.DataFrame(data1.sum()).T - pd.DataFrame(data.sum()).T\n",
    "no_fee_to_2_75 = no_fee_to_2_75.drop(['ODpair','Unnamed: 0','destination','origin'],axis = 1)\n",
    "no_fee_to_2_75 = no_fee_to_2_75.rename({'P(mode1)':'Taxi', 'P(mode2)':'FHV', 'P(mode3)':'FHV_shared', 'P(mode4)':'Public Transportation',\n",
    "                       'P(mode5)':'Walking'}, axis = 'columns')\n",
    "Total_change_in_all_FHV_2_75 = no_fee_to_2_75.FHV + no_fee_to_2_75.FHV_shared\n",
    "Total_change_in_Taxi_FHV_2_75 = no_fee_to_2_75.Taxi + Total_change_in_all_FHV_2_75\n",
    "print('Total riderhsip change in Taxi: %d' %no_fee_to_2_75['Taxi'])\n",
    "print('Total riderhsip change in FHV: %d' %Total_change_in_all_FHV_2_75)\n",
    "print('Total riderhsip change in Taxi and FHV: %d' %Total_change_in_Taxi_FHV_2_75)\n",
    "print('Total riderhsip change in Public Transportation: %d' %no_fee_to_2_75['Public Transportation'])\n",
    "print('Total riderhsip change in Walking: %d' %no_fee_to_2_75['Walking'])\n",
    "no_fee_to_2_75"
   ]
  },
  {
   "cell_type": "markdown",
   "metadata": {},
   "source": [
    "## From 2.75 dollar surcharge to 10 dollar surcharge:"
   ]
  },
  {
   "cell_type": "code",
   "execution_count": 18,
   "metadata": {},
   "outputs": [
    {
     "name": "stdout",
     "output_type": "stream",
     "text": [
      "Total riderhsip change in Taxi: -54720\n",
      "Total riderhsip change in FHV: -7130\n",
      "Total riderhsip change in Taxi and FHV: -61851\n",
      "Total riderhsip change in Public Transportation: 52691\n",
      "Total riderhsip change in Walking: 9159\n"
     ]
    },
    {
     "data": {
      "text/html": [
       "<div>\n",
       "<style scoped>\n",
       "    .dataframe tbody tr th:only-of-type {\n",
       "        vertical-align: middle;\n",
       "    }\n",
       "\n",
       "    .dataframe tbody tr th {\n",
       "        vertical-align: top;\n",
       "    }\n",
       "\n",
       "    .dataframe thead th {\n",
       "        text-align: right;\n",
       "    }\n",
       "</style>\n",
       "<table border=\"1\" class=\"dataframe\">\n",
       "  <thead>\n",
       "    <tr style=\"text-align: right;\">\n",
       "      <th></th>\n",
       "      <th>Taxi</th>\n",
       "      <th>FHV</th>\n",
       "      <th>FHV_shared</th>\n",
       "      <th>Public Transportation</th>\n",
       "      <th>Walking</th>\n",
       "    </tr>\n",
       "  </thead>\n",
       "  <tbody>\n",
       "    <tr>\n",
       "      <th>0</th>\n",
       "      <td>-54720.3</td>\n",
       "      <td>-30697.3</td>\n",
       "      <td>23566.6</td>\n",
       "      <td>52691.2</td>\n",
       "      <td>9159.91</td>\n",
       "    </tr>\n",
       "  </tbody>\n",
       "</table>\n",
       "</div>"
      ],
      "text/plain": [
       "      Taxi      FHV FHV_shared Public Transportation  Walking\n",
       "0 -54720.3 -30697.3    23566.6               52691.2  9159.91"
      ]
     },
     "execution_count": 18,
     "metadata": {},
     "output_type": "execute_result"
    }
   ],
   "source": [
    "from_2_75_to_10 = pd.DataFrame(data2.sum()).T - pd.DataFrame(data1.sum()).T\n",
    "from_2_75_to_10 = from_2_75_to_10.drop(['ODpair','Unnamed: 0','destination','origin'],axis = 1)\n",
    "from_2_75_to_10 = from_2_75_to_10.rename({'P(mode1)':'Taxi', 'P(mode2)':'FHV', 'P(mode3)':'FHV_shared', 'P(mode4)':'Public Transportation',\n",
    "                       'P(mode5)':'Walking'}, axis = 'columns')\n",
    "Total_change_in_all_FHV_10 = from_2_75_to_10.FHV + from_2_75_to_10.FHV_shared\n",
    "Total_change_in_Taxi_FHV_10 = from_2_75_to_10.Taxi + Total_change_in_all_FHV_10\n",
    "print('Total riderhsip change in Taxi: %d' %from_2_75_to_10['Taxi'])\n",
    "print('Total riderhsip change in FHV: %d' %Total_change_in_all_FHV_10)\n",
    "print('Total riderhsip change in Taxi and FHV: %d' % Total_change_in_Taxi_FHV_10)\n",
    "print('Total riderhsip change in Public Transportation: %d' %from_2_75_to_10['Public Transportation'])\n",
    "print('Total riderhsip change in Walking: %d' %from_2_75_to_10['Walking'])\n",
    "from_2_75_to_10"
   ]
  },
  {
   "cell_type": "markdown",
   "metadata": {},
   "source": [
    "## From no surcharge to $10 surcharge:"
   ]
  },
  {
   "cell_type": "code",
   "execution_count": 19,
   "metadata": {},
   "outputs": [
    {
     "data": {
      "text/html": [
       "<div>\n",
       "<style scoped>\n",
       "    .dataframe tbody tr th:only-of-type {\n",
       "        vertical-align: middle;\n",
       "    }\n",
       "\n",
       "    .dataframe tbody tr th {\n",
       "        vertical-align: top;\n",
       "    }\n",
       "\n",
       "    .dataframe thead th {\n",
       "        text-align: right;\n",
       "    }\n",
       "</style>\n",
       "<table border=\"1\" class=\"dataframe\">\n",
       "  <thead>\n",
       "    <tr style=\"text-align: right;\">\n",
       "      <th></th>\n",
       "      <th>Taxi</th>\n",
       "      <th>FHV</th>\n",
       "      <th>FHV_shared</th>\n",
       "      <th>Public Transportation</th>\n",
       "      <th>Walking</th>\n",
       "    </tr>\n",
       "  </thead>\n",
       "  <tbody>\n",
       "    <tr>\n",
       "      <th>0</th>\n",
       "      <td>-76957</td>\n",
       "      <td>-47374.5</td>\n",
       "      <td>33486.5</td>\n",
       "      <td>77184.4</td>\n",
       "      <td>13660.6</td>\n",
       "    </tr>\n",
       "  </tbody>\n",
       "</table>\n",
       "</div>"
      ],
      "text/plain": [
       "    Taxi      FHV FHV_shared Public Transportation  Walking\n",
       "0 -76957 -47374.5    33486.5               77184.4  13660.6"
      ]
     },
     "execution_count": 19,
     "metadata": {},
     "output_type": "execute_result"
    }
   ],
   "source": [
    "no_fee_to_10 = no_fee_to_2_75+from_2_75_to_10\n",
    "no_fee_to_10"
   ]
  },
  {
   "cell_type": "code",
   "execution_count": 20,
   "metadata": {},
   "outputs": [
    {
     "name": "stdout",
     "output_type": "stream",
     "text": [
      "Total riderhsip change in Taxi: -76957\n",
      "Total riderhsip change in FHV: -13887\n",
      "Total riderhsip change in Taxi and FHV: -13887\n",
      "Total riderhsip change in Public Transportation: 77184\n",
      "Total riderhsip change in Walking: 13660\n"
     ]
    }
   ],
   "source": [
    "Total_change_in_all_FHV_no_10 = no_fee_to_10.FHV + no_fee_to_10.FHV_shared\n",
    "Total_change_in_Taxi_FHV_no_10 = no_fee_to_10.Taxi + Total_change_in_all_FHV_no_10\n",
    "print('Total riderhsip change in Taxi: %d' %no_fee_to_10['Taxi'])\n",
    "print('Total riderhsip change in FHV: %d' %Total_change_in_all_FHV_no_10)\n",
    "print('Total riderhsip change in Taxi and FHV: %d' % Total_change_in_all_FHV_no_10)\n",
    "print('Total riderhsip change in Public Transportation: %d' %no_fee_to_10['Public Transportation'])\n",
    "print('Total riderhsip change in Walking: %d' %no_fee_to_10['Walking'])"
   ]
  },
  {
   "cell_type": "code",
   "execution_count": null,
   "metadata": {},
   "outputs": [],
   "source": []
  }
 ],
 "metadata": {
  "kernelspec": {
   "display_name": "Python 3",
   "language": "python",
   "name": "python3"
  },
  "language_info": {
   "codemirror_mode": {
    "name": "ipython",
    "version": 3
   },
   "file_extension": ".py",
   "mimetype": "text/x-python",
   "name": "python",
   "nbconvert_exporter": "python",
   "pygments_lexer": "ipython3",
   "version": "3.7.3"
  }
 },
 "nbformat": 4,
 "nbformat_minor": 2
}
