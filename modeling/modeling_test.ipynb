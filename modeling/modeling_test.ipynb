{
 "cells": [
  {
   "cell_type": "markdown",
   "metadata": {},
   "source": [
    "## Note: mode1-taxi, mode2-FHV, mode3-shared FHV, mode4-PT, mode5-walking"
   ]
  },
  {
   "cell_type": "code",
   "execution_count": 1,
   "metadata": {},
   "outputs": [],
   "source": [
    "import numpy as np\n",
    "import pandas as pd\n",
    "import warnings\n",
    "warnings.filterwarnings(\"ignore\")\n",
    "import time\n",
    "import timeit\n",
    "from tqdm import tqdm\n",
    "from sklearn.model_selection import GridSearchCV"
   ]
  },
  {
   "cell_type": "markdown",
   "metadata": {},
   "source": [
    "## Data"
   ]
  },
  {
   "cell_type": "code",
   "execution_count": 2,
   "metadata": {},
   "outputs": [
    {
     "data": {
      "text/html": [
       "<div>\n",
       "<style scoped>\n",
       "    .dataframe tbody tr th:only-of-type {\n",
       "        vertical-align: middle;\n",
       "    }\n",
       "\n",
       "    .dataframe tbody tr th {\n",
       "        vertical-align: top;\n",
       "    }\n",
       "\n",
       "    .dataframe thead th {\n",
       "        text-align: right;\n",
       "    }\n",
       "</style>\n",
       "<table border=\"1\" class=\"dataframe\">\n",
       "  <thead>\n",
       "    <tr style=\"text-align: right;\">\n",
       "      <th></th>\n",
       "      <th>taxi_zone</th>\n",
       "      <th>P(mode1)</th>\n",
       "      <th>P(mode2)</th>\n",
       "      <th>P(mode3)</th>\n",
       "      <th>P(mode4)</th>\n",
       "      <th>P(mode5)</th>\n",
       "    </tr>\n",
       "  </thead>\n",
       "  <tbody>\n",
       "    <tr>\n",
       "      <th>0</th>\n",
       "      <td>3.0</td>\n",
       "      <td>0.228957</td>\n",
       "      <td>35.391246</td>\n",
       "      <td>14.547350</td>\n",
       "      <td>7706.507979</td>\n",
       "      <td>949.324468</td>\n",
       "    </tr>\n",
       "    <tr>\n",
       "      <th>1</th>\n",
       "      <td>4.0</td>\n",
       "      <td>46.244797</td>\n",
       "      <td>152.049702</td>\n",
       "      <td>91.310873</td>\n",
       "      <td>7487.249289</td>\n",
       "      <td>2840.145340</td>\n",
       "    </tr>\n",
       "    <tr>\n",
       "      <th>2</th>\n",
       "      <td>5.0</td>\n",
       "      <td>0.349401</td>\n",
       "      <td>56.498123</td>\n",
       "      <td>9.104389</td>\n",
       "      <td>7989.174863</td>\n",
       "      <td>173.873224</td>\n",
       "    </tr>\n",
       "    <tr>\n",
       "      <th>3</th>\n",
       "      <td>6.0</td>\n",
       "      <td>0.263186</td>\n",
       "      <td>18.439186</td>\n",
       "      <td>4.534672</td>\n",
       "      <td>4767.467108</td>\n",
       "      <td>478.295847</td>\n",
       "    </tr>\n",
       "    <tr>\n",
       "      <th>4</th>\n",
       "      <td>7.0</td>\n",
       "      <td>29.894066</td>\n",
       "      <td>167.041570</td>\n",
       "      <td>44.019826</td>\n",
       "      <td>33307.536619</td>\n",
       "      <td>3139.507920</td>\n",
       "    </tr>\n",
       "  </tbody>\n",
       "</table>\n",
       "</div>"
      ],
      "text/plain": [
       "   taxi_zone   P(mode1)    P(mode2)   P(mode3)      P(mode4)     P(mode5)\n",
       "0        3.0   0.228957   35.391246  14.547350   7706.507979   949.324468\n",
       "1        4.0  46.244797  152.049702  91.310873   7487.249289  2840.145340\n",
       "2        5.0   0.349401   56.498123   9.104389   7989.174863   173.873224\n",
       "3        6.0   0.263186   18.439186   4.534672   4767.467108   478.295847\n",
       "4        7.0  29.894066  167.041570  44.019826  33307.536619  3139.507920"
      ]
     },
     "execution_count": 2,
     "metadata": {},
     "output_type": "execute_result"
    }
   ],
   "source": [
    "acs = pd.read_csv('final_acs_transportation_choice.csv')\n",
    "acs.head()"
   ]
  },
  {
   "cell_type": "code",
   "execution_count": 4,
   "metadata": {
    "scrolled": false
   },
   "outputs": [
    {
     "data": {
      "text/html": [
       "<div>\n",
       "<style scoped>\n",
       "    .dataframe tbody tr th:only-of-type {\n",
       "        vertical-align: middle;\n",
       "    }\n",
       "\n",
       "    .dataframe tbody tr th {\n",
       "        vertical-align: top;\n",
       "    }\n",
       "\n",
       "    .dataframe thead th {\n",
       "        text-align: right;\n",
       "    }\n",
       "</style>\n",
       "<table border=\"1\" class=\"dataframe\">\n",
       "  <thead>\n",
       "    <tr style=\"text-align: right;\">\n",
       "      <th></th>\n",
       "      <th>PUlocationID</th>\n",
       "      <th>DOlocationID</th>\n",
       "      <th>duration</th>\n",
       "      <th>price</th>\n",
       "      <th>2500</th>\n",
       "      <th>7500</th>\n",
       "      <th>12500</th>\n",
       "      <th>17500</th>\n",
       "      <th>22500</th>\n",
       "      <th>30000</th>\n",
       "      <th>42500</th>\n",
       "      <th>62500</th>\n",
       "      <th>87500</th>\n",
       "      <th>125000</th>\n",
       "      <th>225000</th>\n",
       "      <th>mode</th>\n",
       "      <th>nest</th>\n",
       "    </tr>\n",
       "    <tr>\n",
       "      <th>ODpair</th>\n",
       "      <th></th>\n",
       "      <th></th>\n",
       "      <th></th>\n",
       "      <th></th>\n",
       "      <th></th>\n",
       "      <th></th>\n",
       "      <th></th>\n",
       "      <th></th>\n",
       "      <th></th>\n",
       "      <th></th>\n",
       "      <th></th>\n",
       "      <th></th>\n",
       "      <th></th>\n",
       "      <th></th>\n",
       "      <th></th>\n",
       "      <th></th>\n",
       "      <th></th>\n",
       "    </tr>\n",
       "  </thead>\n",
       "  <tbody>\n",
       "    <tr>\n",
       "      <th>3-4</th>\n",
       "      <td>3</td>\n",
       "      <td>4</td>\n",
       "      <td>39.695000</td>\n",
       "      <td>64.000000</td>\n",
       "      <td>0.250819</td>\n",
       "      <td>0.360216</td>\n",
       "      <td>0.648452</td>\n",
       "      <td>0.282211</td>\n",
       "      <td>0.414755</td>\n",
       "      <td>0.592009</td>\n",
       "      <td>0.671282</td>\n",
       "      <td>0.93859</td>\n",
       "      <td>0.586936</td>\n",
       "      <td>0.740725</td>\n",
       "      <td>0.514005</td>\n",
       "      <td>2</td>\n",
       "      <td>1</td>\n",
       "    </tr>\n",
       "    <tr>\n",
       "      <th>3-4</th>\n",
       "      <td>3</td>\n",
       "      <td>4</td>\n",
       "      <td>45.216667</td>\n",
       "      <td>61.500000</td>\n",
       "      <td>0.250819</td>\n",
       "      <td>0.360216</td>\n",
       "      <td>0.648452</td>\n",
       "      <td>0.282211</td>\n",
       "      <td>0.414755</td>\n",
       "      <td>0.592009</td>\n",
       "      <td>0.671282</td>\n",
       "      <td>0.93859</td>\n",
       "      <td>0.586936</td>\n",
       "      <td>0.740725</td>\n",
       "      <td>0.514005</td>\n",
       "      <td>3</td>\n",
       "      <td>1</td>\n",
       "    </tr>\n",
       "    <tr>\n",
       "      <th>3-7</th>\n",
       "      <td>3</td>\n",
       "      <td>7</td>\n",
       "      <td>47.880952</td>\n",
       "      <td>43.157143</td>\n",
       "      <td>1.504915</td>\n",
       "      <td>2.161294</td>\n",
       "      <td>3.890709</td>\n",
       "      <td>1.693267</td>\n",
       "      <td>2.488532</td>\n",
       "      <td>3.552056</td>\n",
       "      <td>4.027693</td>\n",
       "      <td>5.63154</td>\n",
       "      <td>3.521615</td>\n",
       "      <td>4.444350</td>\n",
       "      <td>3.084029</td>\n",
       "      <td>1</td>\n",
       "      <td>1</td>\n",
       "    </tr>\n",
       "    <tr>\n",
       "      <th>3-7</th>\n",
       "      <td>3</td>\n",
       "      <td>7</td>\n",
       "      <td>30.521739</td>\n",
       "      <td>47.000000</td>\n",
       "      <td>1.504915</td>\n",
       "      <td>2.161294</td>\n",
       "      <td>3.890709</td>\n",
       "      <td>1.693267</td>\n",
       "      <td>2.488532</td>\n",
       "      <td>3.552056</td>\n",
       "      <td>4.027693</td>\n",
       "      <td>5.63154</td>\n",
       "      <td>3.521615</td>\n",
       "      <td>4.444350</td>\n",
       "      <td>3.084029</td>\n",
       "      <td>2</td>\n",
       "      <td>1</td>\n",
       "    </tr>\n",
       "    <tr>\n",
       "      <th>3-7</th>\n",
       "      <td>3</td>\n",
       "      <td>7</td>\n",
       "      <td>37.159009</td>\n",
       "      <td>45.000000</td>\n",
       "      <td>1.504915</td>\n",
       "      <td>2.161294</td>\n",
       "      <td>3.890709</td>\n",
       "      <td>1.693267</td>\n",
       "      <td>2.488532</td>\n",
       "      <td>3.552056</td>\n",
       "      <td>4.027693</td>\n",
       "      <td>5.63154</td>\n",
       "      <td>3.521615</td>\n",
       "      <td>4.444350</td>\n",
       "      <td>3.084029</td>\n",
       "      <td>3</td>\n",
       "      <td>1</td>\n",
       "    </tr>\n",
       "  </tbody>\n",
       "</table>\n",
       "</div>"
      ],
      "text/plain": [
       "        PUlocationID  DOlocationID   duration      price      2500      7500  \\\n",
       "ODpair                                                                         \n",
       "3-4                3             4  39.695000  64.000000  0.250819  0.360216   \n",
       "3-4                3             4  45.216667  61.500000  0.250819  0.360216   \n",
       "3-7                3             7  47.880952  43.157143  1.504915  2.161294   \n",
       "3-7                3             7  30.521739  47.000000  1.504915  2.161294   \n",
       "3-7                3             7  37.159009  45.000000  1.504915  2.161294   \n",
       "\n",
       "           12500     17500     22500     30000     42500    62500     87500  \\\n",
       "ODpair                                                                        \n",
       "3-4     0.648452  0.282211  0.414755  0.592009  0.671282  0.93859  0.586936   \n",
       "3-4     0.648452  0.282211  0.414755  0.592009  0.671282  0.93859  0.586936   \n",
       "3-7     3.890709  1.693267  2.488532  3.552056  4.027693  5.63154  3.521615   \n",
       "3-7     3.890709  1.693267  2.488532  3.552056  4.027693  5.63154  3.521615   \n",
       "3-7     3.890709  1.693267  2.488532  3.552056  4.027693  5.63154  3.521615   \n",
       "\n",
       "          125000    225000  mode  nest  \n",
       "ODpair                                  \n",
       "3-4     0.740725  0.514005     2     1  \n",
       "3-4     0.740725  0.514005     3     1  \n",
       "3-7     4.444350  3.084029     1     1  \n",
       "3-7     4.444350  3.084029     2     1  \n",
       "3-7     4.444350  3.084029     3     1  "
      ]
     },
     "execution_count": 4,
     "metadata": {},
     "output_type": "execute_result"
    }
   ],
   "source": [
    "mode_data = pd.read_csv('final_allMode_with_wage_cleaned.csv', index_col=0)\n",
    "mode_data.head(5)"
   ]
  },
  {
   "cell_type": "code",
   "execution_count": 18,
   "metadata": {},
   "outputs": [
    {
     "data": {
      "text/plain": [
       "49054.8"
      ]
     },
     "execution_count": 18,
     "metadata": {},
     "output_type": "execute_result"
    }
   ],
   "source": [
    "mode_data.shape[0]/5"
   ]
  },
  {
   "cell_type": "markdown",
   "metadata": {},
   "source": [
    "## Modeling"
   ]
  },
  {
   "cell_type": "markdown",
   "metadata": {},
   "source": [
    "### Nested Logit Model"
   ]
  },
  {
   "cell_type": "code",
   "execution_count": 5,
   "metadata": {},
   "outputs": [],
   "source": [
    "def denoSum(T, nestList, wage, Lambda, dataset):\n",
    "    '''\n",
    "    Calculate the denomenator for P(y=Nk)\n",
    "    T: the dict that contains Tk for each Nest, in our case T={1:T1, 2:T2, 3:T3}; T1, T2, T3 defined by us \n",
    "    TotK: the total number of nest this model has, in our case TotK = 3\n",
    "    '''\n",
    "    deno = 0\n",
    "    dictIVk = {}\n",
    "    dictVj = {}\n",
    "    for Nk in nestList: #k is the k Nest, in our case k=1,2,3\n",
    "        Tk = T[Nk] #get the tao for nest k \n",
    "        subsetNk = dataset[dataset['nest'] == Nk]\n",
    "        modes = list(subsetNk['mode'].unique()) #what modes contained in this nest k\n",
    "    #     print(modes)\n",
    "        sumIV = 0\n",
    "        for j in (modes):   \n",
    "            subset = dataset[dataset['mode'] == j]\n",
    "            vj = Lambda * (float(int(wage)/124800) * float(subset['duration']) + float(subset['price']))\n",
    "#             vj = utility(j, wage, Lambda, subsetNk)\n",
    "            dictVj[j] = -vj\n",
    "            sumIV += np.exp((1/Tk)*vj)  \n",
    "    #     print(sumIV,Nk)\n",
    "        IVk = (sumIV)\n",
    "#         dictVj, IVk = InclusiveValue(Nk, Tk, wage, dictVj, Lambda, dataset)\n",
    "        denok = np.exp(Tk*np.log(IVk))\n",
    "        deno += denok\n",
    "        dictIVk[Nk] = IVk\n",
    "    return dictVj, dictIVk, deno\n",
    "\n",
    "\n",
    "# def InclusiveValue(Nk, Tk, wage, dictVj, Lambda, dataset):\n",
    "#     '''\n",
    "#     Get the inclusive value for nest K\n",
    "#     Nk:nest k\n",
    "#     T: the dict that contains Tao(dissmilarity parameter) for each Nest. for example, Tk meeas Tao for nest K\n",
    "#     '''\n",
    "#     subsetNk = dataset[dataset['nest'] == Nk]\n",
    "#     modes = list(subsetNk['mode'].unique()) #what modes contained in this nest k\n",
    "# #     print(modes)\n",
    "#     sumIV = 0\n",
    "#     for j in (modes):   \n",
    "#         vj = utility(j, wage, Lambda, subsetNk)\n",
    "#         dictVj[j] = vj\n",
    "#         sumIV += np.exp((1/Tk)*vj)  \n",
    "# #     print(sumIV,Nk)\n",
    "#     IVk = (sumIV)\n",
    "# #     print(IVk,Nk)\n",
    "#     return dictVj, IVk\n",
    "    \n",
    "\n",
    "# def utility(mode, wage, Lambda, dataset):\n",
    "#     '''\n",
    "#     Get the utility for mode j under specific OD pair\n",
    "    \n",
    "#     Arguments:\n",
    "#         mode:\n",
    "#         wage:\n",
    "#         Lambda: parameter that trade-off different transportation mode\n",
    "#         dataset:\n",
    "        \n",
    "#     Returns: \n",
    "#         -vj: Negative utility for the given \n",
    "#     '''\n",
    "#     subset = dataset[dataset['mode'] == mode]\n",
    "#     vj = Lambda * (float(int(wage)/124800) * float(subset['duration']) + float(subset['price'])) #525600: convert wage scale 'year' to 'minutes'\n",
    "#     return -vj #assign negative utility?\n",
    "\n",
    "\n",
    "def probability (j, Nk, T, dictVj, dictIVk, deno):  \n",
    "    '''\n",
    "    Calculate the probability for the specific mode j and Nest Nk\n",
    "    '''\n",
    "    Tk = T[Nk]\n",
    "    IVk = dictIVk[Nk]\n",
    "    vj = dictVj[j]\n",
    "    pjk = np.exp((1/Tk)*vj)/(IVk) #pjk: P(y=j, y belong to Nk)\n",
    "    pk = np.exp(Tk*np.log(IVk))/deno #pk: P(y belong to Nk)\n",
    "    pj = pjk*pk #pj: P(y=j)\n",
    "    return pj"
   ]
  },
  {
   "cell_type": "markdown",
   "metadata": {},
   "source": [
    "### Apply to our case"
   ]
  },
  {
   "cell_type": "code",
   "execution_count": 6,
   "metadata": {},
   "outputs": [],
   "source": [
    "def apply_model(T, nestList, wageList, Lambda, dataAll):\n",
    "    '''\n",
    "    apply to our case\n",
    "    '''\n",
    "    start = timeit.default_timer()\n",
    "\n",
    "    ODpair_list = list(dataAll.index.unique())\n",
    "#     print(len(ODpair_list))\n",
    "    p = []\n",
    "    for i in tqdm(ODpair_list,position=0): #identify OD pair  \n",
    "        dataOD = dataAll[dataAll.index==i] \n",
    "        modeList = list(dataOD['mode'])\n",
    "        nestList = list(dataOD['nest'])\n",
    "        pop_OD = [] #store the results under each OD pair\n",
    "        for wage in (wageList):            \n",
    "            dictVj, dictIVk, deno = denoSum(T, set(nestList), wage, Lambda, dataOD)\n",
    "            pop_mode = [] #store the results under each OD pair and each wage\n",
    "            for i in (range(1,6)):\n",
    "                if i in modeList: #not all modes appear in every OD pair\n",
    "                    pop = dataOD[wage].mean() * probability(i, nestList[modeList.index(i)], T, dictVj, dictIVk, deno)\n",
    "                    if np.isnan(pop) == True: #if predicted population is nan, replace it as 0, means no people choose\n",
    "                        pop = 0\n",
    "                \n",
    "                    pop_mode.append(pop)\n",
    "                else: \n",
    "                    pop_mode.append(0)\n",
    "            pop_OD.append(pop_mode)\n",
    "        pop_OD_sum = [sum(x) for x in zip(*pop_OD)] #sum the weighted population under each wage scenario\n",
    "        p.append(pop_OD_sum)\n",
    "\n",
    "    df = pd.DataFrame(p, columns=['P(mode1)', 'P(mode2)', 'P(mode3)', 'P(mode4)', 'P(mode5)']\n",
    "                      , index=ODpair_list)\n",
    "    \n",
    "    stop = timeit.default_timer()\n",
    "    timeslot = stop - start\n",
    "    return df, timeslot\n",
    "\n",
    "def compare_with_ground_truth(predictdf, truedf):\n",
    "    '''\n",
    "    compare our predicted transportation choice with ground truth\n",
    "    \n",
    "    The header of the datafrme after merge (named 'data_compare') should be like:\n",
    "    taxi_zone | P(mode1)_x | P(mode2)_x | P(mode3)_x | P(mode4)_x | P(mode5)_x | P(mode1)_y | P(mode2)_y | P(mode3)_y | P(mode4)_y | P(mode5)_y\n",
    "    '''\n",
    "    import numpy as np\n",
    "    # makesure predictdf and truedf have the same formats\n",
    "    for col in predictdf.columns:\n",
    "        predictdf[col] = predictdf[col].astype(float) \n",
    "    predictdf = predictdf.fillna(0)\n",
    "    predictdf = predictdf.replace([np.inf, -np.inf], np.nan)\n",
    "    predictdf = predictdf.dropna()\n",
    "    predictdf['taxi_zone'] = predictdf.index.map(lambda x: x.split('-')[0]) #get origin taxi zone from each OD pair\n",
    "    predictdf = predictdf.groupby('taxi_zone').sum().reset_index() #group the popuation by taxi zone\n",
    "    predictdf['taxi_zone'] = predictdf['taxi_zone'].astype(int)\n",
    "    truedf['taxi_zone'] = truedf['taxi_zone'].astype(int)\n",
    "    \n",
    "    data_compare = pd.merge(predictdf, truedf, left_on='taxi_zone', right_on = 'taxi_zone', how = 'left')\n",
    "    data_compare = data_compare.dropna() \n",
    "    \n",
    "    rmse = 0\n",
    "    for i in range(1,6):\n",
    "        rmsei = np.sqrt(sum((data_compare[data_compare.columns[i]] - data_compare[data_compare.columns[i+5]])**2))\n",
    "    rmse += rmsei\n",
    "    return data_compare, rmse"
   ]
  },
  {
   "cell_type": "code",
   "execution_count": 7,
   "metadata": {
    "scrolled": false
   },
   "outputs": [
    {
     "name": "stderr",
     "output_type": "stream",
     "text": [
      "100%|██████████| 5/5 [00:00<00:00, 10.65it/s]"
     ]
    },
    {
     "name": "stdout",
     "output_type": "stream",
     "text": [
      "The time used to run the code: 0.4815499633550644\n",
      "The rmse of this model is: 949.324468085\n",
      "\n",
      "The predict transportation choice is:\n"
     ]
    },
    {
     "name": "stderr",
     "output_type": "stream",
     "text": [
      "\n"
     ]
    },
    {
     "data": {
      "text/html": [
       "<div>\n",
       "<style scoped>\n",
       "    .dataframe tbody tr th:only-of-type {\n",
       "        vertical-align: middle;\n",
       "    }\n",
       "\n",
       "    .dataframe tbody tr th {\n",
       "        vertical-align: top;\n",
       "    }\n",
       "\n",
       "    .dataframe thead th {\n",
       "        text-align: right;\n",
       "    }\n",
       "</style>\n",
       "<table border=\"1\" class=\"dataframe\">\n",
       "  <thead>\n",
       "    <tr style=\"text-align: right;\">\n",
       "      <th></th>\n",
       "      <th>P(mode1)</th>\n",
       "      <th>P(mode2)</th>\n",
       "      <th>P(mode3)</th>\n",
       "      <th>P(mode4)</th>\n",
       "      <th>P(mode5)</th>\n",
       "    </tr>\n",
       "  </thead>\n",
       "  <tbody>\n",
       "    <tr>\n",
       "      <th>3-4</th>\n",
       "      <td>0.000000e+00</td>\n",
       "      <td>2.407918e-12</td>\n",
       "      <td>3.676785e-12</td>\n",
       "      <td>6.341576e-66</td>\n",
       "      <td>1.237151e-63</td>\n",
       "    </tr>\n",
       "    <tr>\n",
       "      <th>3-7</th>\n",
       "      <td>2.005013e-08</td>\n",
       "      <td>1.195894e-08</td>\n",
       "      <td>1.613853e-08</td>\n",
       "      <td>2.816200e-51</td>\n",
       "      <td>2.521473e-49</td>\n",
       "    </tr>\n",
       "    <tr>\n",
       "      <th>3-9</th>\n",
       "      <td>0.000000e+00</td>\n",
       "      <td>2.097967e-08</td>\n",
       "      <td>2.215934e-08</td>\n",
       "      <td>3.656066e-47</td>\n",
       "      <td>4.546049e-46</td>\n",
       "    </tr>\n",
       "    <tr>\n",
       "      <th>3-10</th>\n",
       "      <td>0.000000e+00</td>\n",
       "      <td>1.392308e-13</td>\n",
       "      <td>1.602258e-13</td>\n",
       "      <td>4.493201e-76</td>\n",
       "      <td>5.865468e-73</td>\n",
       "    </tr>\n",
       "    <tr>\n",
       "      <th>3-11</th>\n",
       "      <td>0.000000e+00</td>\n",
       "      <td>1.666031e-17</td>\n",
       "      <td>0.000000e+00</td>\n",
       "      <td>6.899500e-89</td>\n",
       "      <td>9.013368e-88</td>\n",
       "    </tr>\n",
       "  </tbody>\n",
       "</table>\n",
       "</div>"
      ],
      "text/plain": [
       "          P(mode1)      P(mode2)      P(mode3)      P(mode4)      P(mode5)\n",
       "3-4   0.000000e+00  2.407918e-12  3.676785e-12  6.341576e-66  1.237151e-63\n",
       "3-7   2.005013e-08  1.195894e-08  1.613853e-08  2.816200e-51  2.521473e-49\n",
       "3-9   0.000000e+00  2.097967e-08  2.215934e-08  3.656066e-47  4.546049e-46\n",
       "3-10  0.000000e+00  1.392308e-13  1.602258e-13  4.493201e-76  5.865468e-73\n",
       "3-11  0.000000e+00  1.666031e-17  0.000000e+00  6.899500e-89  9.013368e-88"
      ]
     },
     "execution_count": 7,
     "metadata": {},
     "output_type": "execute_result"
    }
   ],
   "source": [
    "#choose ODpair 3-1 to test the algrithm whether bug-free:\n",
    "T1 = 10\n",
    "T2 = 1\n",
    "T3 = 1\n",
    "T = {1:T1, 2:T2, 3:T3} #Tao for each nest\n",
    "Lambda = 2 \n",
    "nestList = [1, 2, 3]\n",
    "wagelist = ['2500', '7500', '12500', '17500', '22500', '30000', '42500', '62500', '87500', '125000', '225000']\n",
    "testdf = mode_data[mode_data.index.isin(list(mode_data.index[:10]))] #test OD pair 3-1,3-2,3-3,3-4\n",
    "\n",
    "predict_choice_test, timeslot_test = apply_model(T, nestList, wagelist, Lambda, testdf)\n",
    "results_test,rmse_test = compare_with_ground_truth(predict_choice_test, acs)\n",
    "print('The time used to run the code:', timeslot_test)\n",
    "print('The rmse of this model is:', rmse_test)\n",
    "print()\n",
    "print('The predict transportation choice is:')\n",
    "predict_choice_test"
   ]
  },
  {
   "cell_type": "code",
   "execution_count": 35,
   "metadata": {},
   "outputs": [
    {
     "data": {
      "text/plain": [
       "array([1.00000000e-05, 1.59985872e-05, 2.55954792e-05, 4.09491506e-05,\n",
       "       6.55128557e-05, 1.04811313e-04, 1.67683294e-04, 2.68269580e-04,\n",
       "       4.29193426e-04, 6.86648845e-04, 1.09854114e-03, 1.75751062e-03,\n",
       "       2.81176870e-03, 4.49843267e-03, 7.19685673e-03, 1.15139540e-02,\n",
       "       1.84206997e-02, 2.94705170e-02, 4.71486636e-02, 7.54312006e-02,\n",
       "       1.20679264e-01, 1.93069773e-01, 3.08884360e-01, 4.94171336e-01,\n",
       "       7.90604321e-01, 1.26485522e+00, 2.02358965e+00, 3.23745754e+00,\n",
       "       5.17947468e+00, 8.28642773e+00, 1.32571137e+01, 2.12095089e+01,\n",
       "       3.39322177e+01, 5.42867544e+01, 8.68511374e+01, 1.38949549e+02,\n",
       "       2.22299648e+02, 3.55648031e+02, 5.68986603e+02, 9.10298178e+02,\n",
       "       1.45634848e+03, 2.32995181e+03, 3.72759372e+03, 5.96362332e+03,\n",
       "       9.54095476e+03, 1.52641797e+04, 2.44205309e+04, 3.90693994e+04,\n",
       "       6.25055193e+04, 1.00000000e+05])"
      ]
     },
     "execution_count": 35,
     "metadata": {},
     "output_type": "execute_result"
    }
   ],
   "source": [
    "np.logspace(-5,5,50)"
   ]
  },
  {
   "cell_type": "code",
   "execution_count": 33,
   "metadata": {},
   "outputs": [
    {
     "name": "stderr",
     "output_type": "stream",
     "text": [
      "100%|██████████| 1816/1816 [01:09<00:00, 28.01it/s]\n"
     ]
    }
   ],
   "source": [
    "#Run the model for the whole dataset\n",
    "T1 = 0.05 #should set grid search for T1 \n",
    "T2 = 1\n",
    "T3 = 1\n",
    "T = {1:T1, 2:T2, 3:T3} #Tao for each nest\n",
    "Lambda = 0.45 #should set grid search for Lambda \n",
    "nestList = [1, 2, 3]\n",
    "wagelist = ['2500', '7500', '12500', '17500', '22500', '30000', '42500', '62500', '87500', '125000', '225000']\n",
    "\n",
    "predict_transportation_choice, timeslot = apply_model(T, nestList, wagelist, Lambda, mode_data[:7000])\n",
    "results,rmse = compare_with_ground_truth(mode_data[:7000], acs[:6])"
   ]
  },
  {
   "cell_type": "code",
   "execution_count": null,
   "metadata": {},
   "outputs": [],
   "source": [
    "param_grid ={'Lambda':np.logspace(-5,5,50),'T[1]':np.logspace(-5,5,50)}\n",
    "\n",
    "# dt=DecisionTreeClassifier(random_state=2019)\n",
    "gr=GridSearchCV(dt,param_grid=param_grid,cv=None)\n",
    "gr.fit(X_train,y_train)\n",
    "print(gr.best_params_)\n",
    "print(gr.score(X_test,y_test))"
   ]
  },
  {
   "cell_type": "code",
   "execution_count": 8,
   "metadata": {},
   "outputs": [],
   "source": [
    "rmse_best = np.inf"
   ]
  },
  {
   "cell_type": "code",
   "execution_count": 9,
   "metadata": {},
   "outputs": [],
   "source": [
    "rmse_all = []"
   ]
  },
  {
   "cell_type": "code",
   "execution_count": null,
   "metadata": {},
   "outputs": [
    {
     "name": "stderr",
     "output_type": "stream",
     "text": [
      "100%|██████████| 3020/3020 [02:24<00:00, 20.93it/s]\n",
      "100%|██████████| 3020/3020 [02:18<00:00, 21.77it/s]\n",
      "100%|██████████| 3020/3020 [02:18<00:00, 21.77it/s]\n",
      "100%|██████████| 3020/3020 [02:17<00:00, 21.93it/s]\n",
      "100%|██████████| 3020/3020 [02:21<00:00, 16.21it/s]\n",
      " 60%|██████    | 1824/3020 [01:25<00:43, 27.56it/s]"
     ]
    }
   ],
   "source": [
    "for Tau in np.logspace(-3,3,20):\n",
    "    for lamb in np.logspace(-2,2,20):\n",
    "        T1 = Tau #should set grid search for T1 \n",
    "        T2 = 1\n",
    "        T3 = 1\n",
    "        T = {1:T1, 2:T2, 3:T3} #Tao for each nest\n",
    "        Lambda = lamb #should set grid search for Lambda \n",
    "        nestList = [1, 2, 3]\n",
    "        wagelist = ['2500', '7500', '12500', '17500', '22500', '30000', '42500', '62500', '87500', '125000', '225000']\n",
    "\n",
    "        predict_transportation_choice, timeslot = apply_model(T, nestList, wagelist, Lambda, mode_data[:7242])\n",
    "        results,rmse = compare_with_ground_truth(predict_transportation_choice, acs[:6])\n",
    "        rmse_all.append(rmse)\n",
    "        if rmse < rmse_best:\n",
    "            predictions_best = predict_transportation_choice.copy()\n",
    "            T1_best = T1\n",
    "            Lambda_best = Lambda\n",
    "            rmse_best = rmse\n",
    "            results_best = results.copy()\n",
    "        "
   ]
  },
  {
   "cell_type": "code",
   "execution_count": 83,
   "metadata": {},
   "outputs": [
    {
     "name": "stdout",
     "output_type": "stream",
     "text": [
      "The time used to run the code: 70.01652399900195\n",
      "The rmse of this model is: 2114.54804310397\n",
      "\n",
      "The predict transportation choice is:\n"
     ]
    },
    {
     "data": {
      "text/html": [
       "<div>\n",
       "<style scoped>\n",
       "    .dataframe tbody tr th:only-of-type {\n",
       "        vertical-align: middle;\n",
       "    }\n",
       "\n",
       "    .dataframe tbody tr th {\n",
       "        vertical-align: top;\n",
       "    }\n",
       "\n",
       "    .dataframe thead th {\n",
       "        text-align: right;\n",
       "    }\n",
       "</style>\n",
       "<table border=\"1\" class=\"dataframe\">\n",
       "  <thead>\n",
       "    <tr style=\"text-align: right;\">\n",
       "      <th></th>\n",
       "      <th>P(mode1)</th>\n",
       "      <th>P(mode2)</th>\n",
       "      <th>P(mode3)</th>\n",
       "      <th>P(mode4)</th>\n",
       "      <th>P(mode5)</th>\n",
       "    </tr>\n",
       "  </thead>\n",
       "  <tbody>\n",
       "    <tr>\n",
       "      <th>3-3</th>\n",
       "      <td>1.600013e-09</td>\n",
       "      <td>0.000000e+00</td>\n",
       "      <td>0.000000e+00</td>\n",
       "      <td>0.000000</td>\n",
       "      <td>0.000000</td>\n",
       "    </tr>\n",
       "    <tr>\n",
       "      <th>3-4</th>\n",
       "      <td>0.000000e+00</td>\n",
       "      <td>3.026883e-43</td>\n",
       "      <td>2.046884e-42</td>\n",
       "      <td>0.024686</td>\n",
       "      <td>0.034683</td>\n",
       "    </tr>\n",
       "    <tr>\n",
       "      <th>3-7</th>\n",
       "      <td>8.317963e-30</td>\n",
       "      <td>4.598054e-31</td>\n",
       "      <td>2.096455e-30</td>\n",
       "      <td>0.528232</td>\n",
       "      <td>0.733263</td>\n",
       "    </tr>\n",
       "    <tr>\n",
       "      <th>3-9</th>\n",
       "      <td>0.000000e+00</td>\n",
       "      <td>5.444108e-27</td>\n",
       "      <td>1.112477e-26</td>\n",
       "      <td>0.040346</td>\n",
       "      <td>0.062675</td>\n",
       "    </tr>\n",
       "    <tr>\n",
       "      <th>3-10</th>\n",
       "      <td>0.000000e+00</td>\n",
       "      <td>3.446623e-47</td>\n",
       "      <td>2.934572e-46</td>\n",
       "      <td>0.005241</td>\n",
       "      <td>0.009984</td>\n",
       "    </tr>\n",
       "  </tbody>\n",
       "</table>\n",
       "</div>"
      ],
      "text/plain": [
       "          P(mode1)      P(mode2)      P(mode3)  P(mode4)  P(mode5)\n",
       "3-3   1.600013e-09  0.000000e+00  0.000000e+00  0.000000  0.000000\n",
       "3-4   0.000000e+00  3.026883e-43  2.046884e-42  0.024686  0.034683\n",
       "3-7   8.317963e-30  4.598054e-31  2.096455e-30  0.528232  0.733263\n",
       "3-9   0.000000e+00  5.444108e-27  1.112477e-26  0.040346  0.062675\n",
       "3-10  0.000000e+00  3.446623e-47  2.934572e-46  0.005241  0.009984"
      ]
     },
     "execution_count": 83,
     "metadata": {},
     "output_type": "execute_result"
    }
   ],
   "source": [
    "print('The time used to run the code:', timeslot)\n",
    "print('The rmse of this model is:', rmse_best)\n",
    "print()\n",
    "print('The predict transportation choice is:')\n",
    "predictions_best.head()"
   ]
  },
  {
   "cell_type": "code",
   "execution_count": 84,
   "metadata": {},
   "outputs": [
    {
     "data": {
      "text/plain": [
       "0.46415888336127786"
      ]
     },
     "execution_count": 84,
     "metadata": {},
     "output_type": "execute_result"
    }
   ],
   "source": [
    "T1_best"
   ]
  },
  {
   "cell_type": "code",
   "execution_count": 85,
   "metadata": {},
   "outputs": [
    {
     "data": {
      "text/plain": [
       "0.046415888336127774"
      ]
     },
     "execution_count": 85,
     "metadata": {},
     "output_type": "execute_result"
    }
   ],
   "source": [
    "Lambda_best"
   ]
  },
  {
   "cell_type": "code",
   "execution_count": 95,
   "metadata": {},
   "outputs": [],
   "source": [
    "rmse_best_new = np.inf"
   ]
  },
  {
   "cell_type": "code",
   "execution_count": 96,
   "metadata": {},
   "outputs": [],
   "source": [
    "rmse_all_new = []"
   ]
  },
  {
   "cell_type": "code",
   "execution_count": 97,
   "metadata": {},
   "outputs": [
    {
     "data": {
      "text/html": [
       "<div>\n",
       "<style scoped>\n",
       "    .dataframe tbody tr th:only-of-type {\n",
       "        vertical-align: middle;\n",
       "    }\n",
       "\n",
       "    .dataframe tbody tr th {\n",
       "        vertical-align: top;\n",
       "    }\n",
       "\n",
       "    .dataframe thead th {\n",
       "        text-align: right;\n",
       "    }\n",
       "</style>\n",
       "<table border=\"1\" class=\"dataframe\">\n",
       "  <thead>\n",
       "    <tr style=\"text-align: right;\">\n",
       "      <th></th>\n",
       "      <th>taxi_zone</th>\n",
       "      <th>P(mode1)</th>\n",
       "      <th>P(mode2)</th>\n",
       "      <th>P(mode3)</th>\n",
       "      <th>P(mode4)</th>\n",
       "      <th>P(mode5)</th>\n",
       "    </tr>\n",
       "  </thead>\n",
       "  <tbody>\n",
       "    <tr>\n",
       "      <th>0</th>\n",
       "      <td>3.0</td>\n",
       "      <td>0.526074</td>\n",
       "      <td>81.318503</td>\n",
       "      <td>33.425463</td>\n",
       "      <td>7948.271384</td>\n",
       "      <td>915.458576</td>\n",
       "    </tr>\n",
       "    <tr>\n",
       "      <th>1</th>\n",
       "      <td>4.0</td>\n",
       "      <td>32.888450</td>\n",
       "      <td>108.134955</td>\n",
       "      <td>64.938615</td>\n",
       "      <td>7212.769464</td>\n",
       "      <td>3373.268515</td>\n",
       "    </tr>\n",
       "    <tr>\n",
       "      <th>2</th>\n",
       "      <td>5.0</td>\n",
       "      <td>0.245777</td>\n",
       "      <td>39.742128</td>\n",
       "      <td>6.404244</td>\n",
       "      <td>8270.173881</td>\n",
       "      <td>114.433969</td>\n",
       "    </tr>\n",
       "    <tr>\n",
       "      <th>3</th>\n",
       "      <td>6.0</td>\n",
       "      <td>0.453222</td>\n",
       "      <td>31.753306</td>\n",
       "      <td>7.808959</td>\n",
       "      <td>4919.798684</td>\n",
       "      <td>480.185830</td>\n",
       "    </tr>\n",
       "    <tr>\n",
       "      <th>4</th>\n",
       "      <td>7.0</td>\n",
       "      <td>27.457307</td>\n",
       "      <td>153.425489</td>\n",
       "      <td>40.431632</td>\n",
       "      <td>34826.940798</td>\n",
       "      <td>2987.744775</td>\n",
       "    </tr>\n",
       "    <tr>\n",
       "      <th>5</th>\n",
       "      <td>9.0</td>\n",
       "      <td>0.051277</td>\n",
       "      <td>8.292491</td>\n",
       "      <td>2.345830</td>\n",
       "      <td>6118.013650</td>\n",
       "      <td>397.296751</td>\n",
       "    </tr>\n",
       "    <tr>\n",
       "      <th>6</th>\n",
       "      <td>10.0</td>\n",
       "      <td>8.828095</td>\n",
       "      <td>113.555345</td>\n",
       "      <td>48.233656</td>\n",
       "      <td>10257.551077</td>\n",
       "      <td>647.831828</td>\n",
       "    </tr>\n",
       "  </tbody>\n",
       "</table>\n",
       "</div>"
      ],
      "text/plain": [
       "   taxi_zone   P(mode1)    P(mode2)   P(mode3)      P(mode4)     P(mode5)\n",
       "0        3.0   0.526074   81.318503  33.425463   7948.271384   915.458576\n",
       "1        4.0  32.888450  108.134955  64.938615   7212.769464  3373.268515\n",
       "2        5.0   0.245777   39.742128   6.404244   8270.173881   114.433969\n",
       "3        6.0   0.453222   31.753306   7.808959   4919.798684   480.185830\n",
       "4        7.0  27.457307  153.425489  40.431632  34826.940798  2987.744775\n",
       "5        9.0   0.051277    8.292491   2.345830   6118.013650   397.296751\n",
       "6       10.0   8.828095  113.555345  48.233656  10257.551077   647.831828"
      ]
     },
     "execution_count": 97,
     "metadata": {},
     "output_type": "execute_result"
    },
    {
     "name": "stderr",
     "output_type": "stream",
     "text": [
      "  8%|▊         | 140/1742 [00:23<01:02, 25.70it/s]"
     ]
    }
   ],
   "source": [
    "acs[:7]"
   ]
  },
  {
   "cell_type": "code",
   "execution_count": 100,
   "metadata": {},
   "outputs": [
    {
     "name": "stderr",
     "output_type": "stream",
     "text": [
      "100%|██████████| 1742/1742 [01:07<00:00, 25.66it/s]\n",
      "100%|██████████| 1742/1742 [01:04<00:00, 27.13it/s]\n",
      "100%|██████████| 1742/1742 [29:50<00:00,  1.03s/it]\n",
      "100%|██████████| 1742/1742 [01:05<00:00, 26.66it/s]\n",
      "100%|██████████| 1742/1742 [01:08<00:00, 25.27it/s]\n",
      "100%|██████████| 1742/1742 [01:08<00:00, 24.75it/s]\n",
      "100%|██████████| 1742/1742 [01:05<00:00, 26.60it/s]\n",
      "100%|██████████| 1742/1742 [01:06<00:00, 24.31it/s]\n",
      "100%|██████████| 1742/1742 [01:08<00:00, 25.57it/s]\n",
      "100%|██████████| 1742/1742 [01:07<00:00, 25.74it/s]\n",
      "100%|██████████| 1742/1742 [01:03<00:00, 27.23it/s]\n",
      "100%|██████████| 1742/1742 [01:04<00:00, 27.05it/s]\n",
      "100%|██████████| 1742/1742 [07:42<00:00,  3.77it/s]\n",
      "100%|██████████| 1742/1742 [01:11<00:00, 24.45it/s]\n",
      "100%|██████████| 1742/1742 [01:12<00:00, 22.70it/s]\n",
      "100%|██████████| 1742/1742 [01:09<00:00, 25.05it/s]\n",
      "100%|██████████| 1742/1742 [01:04<00:00, 27.12it/s]\n",
      "100%|██████████| 1742/1742 [01:03<00:00, 27.23it/s]\n",
      "100%|██████████| 1742/1742 [01:09<00:00, 21.40it/s]\n",
      "100%|██████████| 1742/1742 [01:12<00:00, 23.88it/s]\n",
      "100%|██████████| 1742/1742 [01:03<00:00, 27.31it/s]\n",
      "100%|██████████| 1742/1742 [01:06<00:00, 18.82it/s]\n",
      "100%|██████████| 1742/1742 [01:05<00:00, 26.56it/s]\n",
      "100%|██████████| 1742/1742 [01:05<00:00, 26.46it/s]\n",
      "100%|██████████| 1742/1742 [01:03<00:00, 27.45it/s]\n",
      "100%|██████████| 1742/1742 [01:03<00:00, 27.50it/s]\n",
      "100%|██████████| 1742/1742 [01:03<00:00, 27.49it/s]\n",
      "100%|██████████| 1742/1742 [01:51<00:00, 23.60it/s]\n",
      "100%|██████████| 1742/1742 [01:07<00:00, 25.93it/s]\n",
      "100%|██████████| 1742/1742 [01:07<00:00, 25.71it/s]\n",
      "100%|██████████| 1742/1742 [31:51<00:00,  1.10s/it]\n",
      "100%|██████████| 1742/1742 [01:16<00:00, 22.91it/s]\n",
      "100%|██████████| 1742/1742 [01:10<00:00, 24.64it/s]\n",
      "100%|██████████| 1742/1742 [01:06<00:00, 26.10it/s]\n",
      "100%|██████████| 1742/1742 [01:07<00:00, 25.83it/s]\n",
      "100%|██████████| 1742/1742 [01:13<00:00, 23.66it/s]\n",
      "100%|██████████| 1742/1742 [01:11<00:00, 24.35it/s]\n",
      "100%|██████████| 1742/1742 [01:09<00:00, 25.08it/s]\n",
      "100%|██████████| 1742/1742 [01:12<00:00, 24.15it/s]\n",
      "100%|██████████| 1742/1742 [01:07<00:00, 25.84it/s]\n",
      "100%|██████████| 1742/1742 [01:07<00:00, 23.48it/s]\n",
      "100%|██████████| 1742/1742 [01:07<00:00, 25.62it/s]\n",
      "100%|██████████| 1742/1742 [01:06<00:00, 23.17it/s]\n",
      "100%|██████████| 1742/1742 [01:07<00:00, 25.92it/s]\n",
      "100%|██████████| 1742/1742 [01:07<00:00, 23.14it/s]\n",
      "100%|██████████| 1742/1742 [01:07<00:00, 25.86it/s]\n",
      "100%|██████████| 1742/1742 [01:07<00:00, 25.87it/s]\n",
      "100%|██████████| 1742/1742 [01:09<00:00, 25.01it/s]\n",
      "100%|██████████| 1742/1742 [01:07<00:00, 25.78it/s]\n",
      "100%|██████████| 1742/1742 [01:07<00:00, 23.67it/s]\n",
      "100%|██████████| 1742/1742 [01:07<00:00, 25.97it/s]\n",
      "100%|██████████| 1742/1742 [01:07<00:00, 25.86it/s]\n",
      "100%|██████████| 1742/1742 [01:07<00:00, 23.68it/s]\n",
      "100%|██████████| 1742/1742 [01:07<00:00, 23.70it/s]\n",
      "100%|██████████| 1742/1742 [01:07<00:00, 25.86it/s]\n",
      "100%|██████████| 1742/1742 [01:07<00:00, 25.84it/s]\n",
      "100%|██████████| 1742/1742 [01:07<00:00, 22.68it/s]\n",
      "100%|██████████| 1742/1742 [01:07<00:00, 23.49it/s]\n",
      "100%|██████████| 1742/1742 [01:08<00:00, 21.05it/s]\n",
      "100%|██████████| 1742/1742 [01:14<00:00, 22.10it/s]\n",
      "100%|██████████| 1742/1742 [01:09<00:00, 21.51it/s]\n",
      "100%|██████████| 1742/1742 [01:09<00:00, 22.66it/s]\n",
      "100%|██████████| 1742/1742 [01:11<00:00, 24.44it/s]\n",
      "100%|██████████| 1742/1742 [01:11<00:00, 24.33it/s]\n",
      "100%|██████████| 1742/1742 [01:10<00:00, 23.31it/s]\n",
      "100%|██████████| 1742/1742 [01:11<00:00, 24.39it/s]\n",
      "100%|██████████| 1742/1742 [01:04<00:00, 26.94it/s]\n",
      "100%|██████████| 1742/1742 [01:04<00:00, 26.96it/s]\n",
      "100%|██████████| 1742/1742 [01:04<00:00, 26.98it/s]\n",
      "100%|██████████| 1742/1742 [01:04<00:00, 26.90it/s]\n",
      "100%|██████████| 1742/1742 [01:06<00:00, 22.27it/s]\n",
      "100%|██████████| 1742/1742 [01:08<00:00, 25.35it/s]\n",
      "100%|██████████| 1742/1742 [01:03<00:00, 27.23it/s]\n",
      "100%|██████████| 1742/1742 [01:08<00:00, 25.36it/s]\n",
      "100%|██████████| 1742/1742 [01:07<00:00, 23.54it/s]\n",
      "100%|██████████| 1742/1742 [01:07<00:00, 25.77it/s]\n",
      "100%|██████████| 1742/1742 [01:07<00:00, 25.72it/s]\n",
      "100%|██████████| 1742/1742 [01:07<00:00, 25.68it/s]\n",
      "100%|██████████| 1742/1742 [01:08<00:00, 23.16it/s]\n",
      "100%|██████████| 1742/1742 [01:08<00:00, 23.42it/s]\n",
      "100%|██████████| 1742/1742 [01:07<00:00, 25.62it/s]\n",
      "100%|██████████| 1742/1742 [01:08<00:00, 23.12it/s]\n",
      "100%|██████████| 1742/1742 [01:08<00:00, 23.22it/s]\n",
      "100%|██████████| 1742/1742 [01:08<00:00, 25.54it/s]\n",
      "100%|██████████| 1742/1742 [01:08<00:00, 23.48it/s]\n",
      "100%|██████████| 1742/1742 [01:08<00:00, 25.47it/s]\n",
      "100%|██████████| 1742/1742 [01:08<00:00, 25.44it/s]\n",
      "100%|██████████| 1742/1742 [01:08<00:00, 23.45it/s]\n",
      "100%|██████████| 1742/1742 [01:08<00:00, 23.07it/s]\n",
      "100%|██████████| 1742/1742 [01:09<00:00, 22.95it/s]\n",
      "100%|██████████| 1742/1742 [01:08<00:00, 25.37it/s]\n",
      "100%|██████████| 1742/1742 [01:09<00:00, 23.42it/s]\n",
      "100%|██████████| 1742/1742 [01:08<00:00, 23.44it/s]\n",
      "100%|██████████| 1742/1742 [01:08<00:00, 22.72it/s]\n",
      "100%|██████████| 1742/1742 [01:08<00:00, 23.26it/s]\n",
      "100%|██████████| 1742/1742 [01:08<00:00, 23.00it/s]\n",
      "100%|██████████| 1742/1742 [01:08<00:00, 23.21it/s]\n",
      "100%|██████████| 1742/1742 [01:08<00:00, 25.31it/s]\n",
      "100%|██████████| 1742/1742 [01:09<00:00, 25.07it/s]\n",
      "100%|██████████| 1742/1742 [01:06<00:00, 26.38it/s]\n"
     ]
    }
   ],
   "source": [
    "for Tau in np.logspace(-1,1,10):\n",
    "    for lamb in np.logspace(-2,2,10):\n",
    "        T1 = Tau #should set grid search for T1 \n",
    "        T2 = 1\n",
    "        T3 = 1\n",
    "        T = {1:T1, 2:T2, 3:T3} #Tao for each nest\n",
    "        Lambda = lamb #should set grid search for Lambda \n",
    "        nestList = [1, 2, 3]\n",
    "        wagelist = ['2500', '7500', '12500', '17500', '22500', '30000', '42500', '62500', '87500', '125000', '225000']\n",
    "\n",
    "        predict_transportation_choice, timeslot = apply_model(T, nestList, wagelist, Lambda, mode_data[:7242])\n",
    "        results,rmse = compare_with_ground_truth(predict_transportation_choice, acs[:7])\n",
    "        rmse_all_new.append(rmse)\n",
    "        if rmse < rmse_best_new:\n",
    "            predictions_best_new = predict_transportation_choice.copy()\n",
    "            T1_best_new = T1\n",
    "            Lambda_best_new = Lambda\n",
    "            rmse_best_new = rmse\n",
    "            results_best_new = results.copy()\n",
    "        "
   ]
  },
  {
   "cell_type": "code",
   "execution_count": 101,
   "metadata": {},
   "outputs": [
    {
     "name": "stdout",
     "output_type": "stream",
     "text": [
      "The time used to run the code: 66.04060706000018\n",
      "The rmse of this model is: 2303.899468476459\n",
      "\n",
      "The predict transportation choice is:\n"
     ]
    },
    {
     "data": {
      "text/html": [
       "<div>\n",
       "<style scoped>\n",
       "    .dataframe tbody tr th:only-of-type {\n",
       "        vertical-align: middle;\n",
       "    }\n",
       "\n",
       "    .dataframe tbody tr th {\n",
       "        vertical-align: top;\n",
       "    }\n",
       "\n",
       "    .dataframe thead th {\n",
       "        text-align: right;\n",
       "    }\n",
       "</style>\n",
       "<table border=\"1\" class=\"dataframe\">\n",
       "  <thead>\n",
       "    <tr style=\"text-align: right;\">\n",
       "      <th></th>\n",
       "      <th>P(mode1)</th>\n",
       "      <th>P(mode2)</th>\n",
       "      <th>P(mode3)</th>\n",
       "      <th>P(mode4)</th>\n",
       "      <th>P(mode5)</th>\n",
       "    </tr>\n",
       "  </thead>\n",
       "  <tbody>\n",
       "    <tr>\n",
       "      <th>3-3</th>\n",
       "      <td>1.600013e-09</td>\n",
       "      <td>0.000000e+00</td>\n",
       "      <td>0.000000e+00</td>\n",
       "      <td>0.000000</td>\n",
       "      <td>0.000000</td>\n",
       "    </tr>\n",
       "    <tr>\n",
       "      <th>3-4</th>\n",
       "      <td>0.000000e+00</td>\n",
       "      <td>3.026883e-43</td>\n",
       "      <td>2.046884e-42</td>\n",
       "      <td>0.024686</td>\n",
       "      <td>0.034683</td>\n",
       "    </tr>\n",
       "    <tr>\n",
       "      <th>3-7</th>\n",
       "      <td>8.317963e-30</td>\n",
       "      <td>4.598054e-31</td>\n",
       "      <td>2.096455e-30</td>\n",
       "      <td>0.528232</td>\n",
       "      <td>0.733263</td>\n",
       "    </tr>\n",
       "    <tr>\n",
       "      <th>3-9</th>\n",
       "      <td>0.000000e+00</td>\n",
       "      <td>5.444108e-27</td>\n",
       "      <td>1.112477e-26</td>\n",
       "      <td>0.040346</td>\n",
       "      <td>0.062675</td>\n",
       "    </tr>\n",
       "    <tr>\n",
       "      <th>3-10</th>\n",
       "      <td>0.000000e+00</td>\n",
       "      <td>3.446623e-47</td>\n",
       "      <td>2.934572e-46</td>\n",
       "      <td>0.005241</td>\n",
       "      <td>0.009984</td>\n",
       "    </tr>\n",
       "  </tbody>\n",
       "</table>\n",
       "</div>"
      ],
      "text/plain": [
       "          P(mode1)      P(mode2)      P(mode3)  P(mode4)  P(mode5)\n",
       "3-3   1.600013e-09  0.000000e+00  0.000000e+00  0.000000  0.000000\n",
       "3-4   0.000000e+00  3.026883e-43  2.046884e-42  0.024686  0.034683\n",
       "3-7   8.317963e-30  4.598054e-31  2.096455e-30  0.528232  0.733263\n",
       "3-9   0.000000e+00  5.444108e-27  1.112477e-26  0.040346  0.062675\n",
       "3-10  0.000000e+00  3.446623e-47  2.934572e-46  0.005241  0.009984"
      ]
     },
     "execution_count": 101,
     "metadata": {},
     "output_type": "execute_result"
    }
   ],
   "source": [
    "print('The time used to run the code:', timeslot)\n",
    "print('The rmse of this model is:', rmse_best_new)\n",
    "print()\n",
    "print('The predict transportation choice is:')\n",
    "predictions_best.head()"
   ]
  },
  {
   "cell_type": "code",
   "execution_count": 102,
   "metadata": {},
   "outputs": [
    {
     "data": {
      "text/plain": [
       "0.1"
      ]
     },
     "execution_count": 102,
     "metadata": {},
     "output_type": "execute_result"
    }
   ],
   "source": [
    "T1_best_new"
   ]
  },
  {
   "cell_type": "code",
   "execution_count": 103,
   "metadata": {},
   "outputs": [
    {
     "data": {
      "text/plain": [
       "0.0774263682681127"
      ]
     },
     "execution_count": 103,
     "metadata": {},
     "output_type": "execute_result"
    }
   ],
   "source": [
    "Lambda_best_new"
   ]
  },
  {
   "cell_type": "code",
   "execution_count": 72,
   "metadata": {},
   "outputs": [
    {
     "data": {
      "text/plain": [
       "385"
      ]
     },
     "execution_count": 72,
     "metadata": {},
     "output_type": "execute_result"
    }
   ],
   "source": [
    "len(rmse_all)"
   ]
  },
  {
   "cell_type": "code",
   "execution_count": 74,
   "metadata": {},
   "outputs": [
    {
     "data": {
      "text/plain": [
       "2114.54804310397"
      ]
     },
     "execution_count": 74,
     "metadata": {},
     "output_type": "execute_result"
    }
   ],
   "source": [
    "np.min(np.array(rmse_all[250:]))"
   ]
  },
  {
   "cell_type": "code",
   "execution_count": 76,
   "metadata": {},
   "outputs": [
    {
     "data": {
      "text/plain": [
       "array([4635.28588546, 4634.99639662, 4634.03263556, 4630.8962934 ,\n",
       "       4621.5652708 , 4604.45675757, 4614.39449745, 4633.1622889 ,\n",
       "       4640.64603161, 4641.65298494, 4641.67265529, 4641.67443939,\n",
       "       4641.67448129, 4641.67448129, 4641.67448129, 4641.67448129,\n",
       "       4641.67448129, 4641.67448129, 4641.67448129, 4671.62722016,\n",
       "       4671.52995778, 4671.20382924, 4670.11556122, 4666.54593084,\n",
       "       4655.61976274, 4632.3888258 , 4626.55107618, 4634.39941346,\n",
       "       4640.6562189 , 4641.65298506, 4641.67265529, 4641.67443939,\n",
       "       4641.67448129, 4641.67448129, 4641.67448129, 7469.69799175,\n",
       "       6210.75683358, 4412.70750061, 2430.80433813, 2303.87454569,\n",
       "       3649.85965585, 4395.93669405, 4605.23565116, 4638.50870755,\n",
       "       4641.43137962, 7180.98421512, 5951.08264099, 4209.53804258,\n",
       "       2347.93149025, 2362.03710135, 3679.7094174 , 4402.56493235,\n",
       "       4606.07954601, 4638.56579518, 4641.43270592, 6685.69471522,\n",
       "       5500.10241295, 3856.14086899, 2225.27216469, 2480.08980739,\n",
       "       3739.64748973, 4416.540104  , 4607.94123059, 4638.68673162,\n",
       "       4641.43510062, 5859.07688213, 4754.67028248, 3294.95523138,\n",
       "       2114.5480431 , 2704.56886004, 3849.39646624, 4442.95337323,\n",
       "       4611.56657878, 4638.92659523, 4641.43968558, 4568.13502665,\n",
       "       3647.08644574, 2596.16715357, 2228.1670861 , 3088.48524998,\n",
       "       4024.81004974, 4486.35163157, 4617.63978499, 4639.33640751,\n",
       "       4641.44772996, 3047.78324068, 2607.90674456, 2422.32106759,\n",
       "       2851.82479743, 3634.97482174, 4254.4707769 , 4543.62853237,\n",
       "       4625.81187978, 4639.89900636, 4641.45911429, 3034.88914836,\n",
       "       3139.08738812, 3395.78110315, 3792.46627866, 4197.25881237,\n",
       "       4473.48725329, 4597.6326864 , 4633.6101147 , 4640.44941438,\n",
       "       4641.47071272, 4192.75383088, 4242.48092515, 4326.28154661,\n",
       "       4434.42764734, 4533.67149863, 4598.12155064, 4627.93347003,\n",
       "       4638.01627448, 4640.76868635, 4641.47780556, 4603.53088575,\n",
       "       4598.28272631, 4600.79494157, 4611.17320702, 4622.23101726,\n",
       "       4630.21270333, 4635.69431898, 4639.15442689, 4640.85319914,\n",
       "       4641.47978097, 4639.30757581, 4629.16964311, 4624.35950932,\n",
       "       4626.02518425, 4629.49992719, 4632.80985504, 4636.32032773,\n",
       "       4639.24668999, 4640.86015178, 4641.47994917])"
      ]
     },
     "execution_count": 76,
     "metadata": {},
     "output_type": "execute_result"
    }
   ],
   "source": [
    "np.array(rmse_all[250:])"
   ]
  },
  {
   "cell_type": "code",
   "execution_count": 69,
   "metadata": {},
   "outputs": [
    {
     "data": {
      "text/plain": [
       "2102.631062881024"
      ]
     },
     "execution_count": 69,
     "metadata": {},
     "output_type": "execute_result"
    }
   ],
   "source": [
    "rmse_all[216]"
   ]
  },
  {
   "cell_type": "code",
   "execution_count": 70,
   "metadata": {},
   "outputs": [
    {
     "data": {
      "text/plain": [
       "0.5455594781168515"
      ]
     },
     "execution_count": 70,
     "metadata": {},
     "output_type": "execute_result"
    }
   ],
   "source": [
    "T1_best"
   ]
  },
  {
   "cell_type": "code",
   "execution_count": 71,
   "metadata": {},
   "outputs": [
    {
     "data": {
      "text/plain": [
       "0.04832930238571752"
      ]
     },
     "execution_count": 71,
     "metadata": {},
     "output_type": "execute_result"
    }
   ],
   "source": [
    "Lambda_best"
   ]
  },
  {
   "cell_type": "code",
   "execution_count": 52,
   "metadata": {},
   "outputs": [
    {
     "data": {
      "text/plain": [
       "216"
      ]
     },
     "execution_count": 52,
     "metadata": {},
     "output_type": "execute_result"
    }
   ],
   "source": [
    "np.argmin(np.array(rmse_all))"
   ]
  },
  {
   "cell_type": "code",
   "execution_count": 65,
   "metadata": {},
   "outputs": [
    {
     "data": {
      "text/plain": [
       "2102.631062881024"
      ]
     },
     "execution_count": 65,
     "metadata": {},
     "output_type": "execute_result"
    }
   ],
   "source": [
    "rmse_all[216]"
   ]
  },
  {
   "cell_type": "code",
   "execution_count": 53,
   "metadata": {},
   "outputs": [
    {
     "data": {
      "text/plain": [
       "0.5455594781168515"
      ]
     },
     "execution_count": 53,
     "metadata": {},
     "output_type": "execute_result"
    }
   ],
   "source": [
    "T1_best"
   ]
  },
  {
   "cell_type": "code",
   "execution_count": 54,
   "metadata": {},
   "outputs": [
    {
     "data": {
      "text/plain": [
       "0.04832930238571752"
      ]
     },
     "execution_count": 54,
     "metadata": {},
     "output_type": "execute_result"
    }
   ],
   "source": [
    "Lambda_best"
   ]
  },
  {
   "cell_type": "markdown",
   "metadata": {},
   "source": [
    "### Getting data ready for plotting"
   ]
  },
  {
   "cell_type": "code",
   "execution_count": 135,
   "metadata": {},
   "outputs": [],
   "source": [
    "results_2 = pd.read_csv('../results/original_predict_transportation_choice.csv',index_col=0)"
   ]
  },
  {
   "cell_type": "code",
   "execution_count": 136,
   "metadata": {},
   "outputs": [
    {
     "data": {
      "text/html": [
       "<div>\n",
       "<style scoped>\n",
       "    .dataframe tbody tr th:only-of-type {\n",
       "        vertical-align: middle;\n",
       "    }\n",
       "\n",
       "    .dataframe tbody tr th {\n",
       "        vertical-align: top;\n",
       "    }\n",
       "\n",
       "    .dataframe thead th {\n",
       "        text-align: right;\n",
       "    }\n",
       "</style>\n",
       "<table border=\"1\" class=\"dataframe\">\n",
       "  <thead>\n",
       "    <tr style=\"text-align: right;\">\n",
       "      <th></th>\n",
       "      <th>P(mode1)</th>\n",
       "      <th>P(mode2)</th>\n",
       "      <th>P(mode3)</th>\n",
       "      <th>P(mode4)</th>\n",
       "      <th>P(mode5)</th>\n",
       "    </tr>\n",
       "  </thead>\n",
       "  <tbody>\n",
       "    <tr>\n",
       "      <th>3-3</th>\n",
       "      <td>273.000000</td>\n",
       "      <td>0.000000</td>\n",
       "      <td>0.000000</td>\n",
       "      <td>0.000000</td>\n",
       "      <td>0.000000</td>\n",
       "    </tr>\n",
       "    <tr>\n",
       "      <th>3-4</th>\n",
       "      <td>0.000000</td>\n",
       "      <td>0.739250</td>\n",
       "      <td>0.565102</td>\n",
       "      <td>3.753164</td>\n",
       "      <td>0.942485</td>\n",
       "    </tr>\n",
       "    <tr>\n",
       "      <th>3-7</th>\n",
       "      <td>2.514212</td>\n",
       "      <td>5.736936</td>\n",
       "      <td>3.988082</td>\n",
       "      <td>19.192310</td>\n",
       "      <td>4.568461</td>\n",
       "    </tr>\n",
       "    <tr>\n",
       "      <th>3-9</th>\n",
       "      <td>0.000000</td>\n",
       "      <td>0.645932</td>\n",
       "      <td>0.321317</td>\n",
       "      <td>0.904404</td>\n",
       "      <td>0.128346</td>\n",
       "    </tr>\n",
       "    <tr>\n",
       "      <th>3-10</th>\n",
       "      <td>0.000000</td>\n",
       "      <td>0.896300</td>\n",
       "      <td>0.111315</td>\n",
       "      <td>1.759122</td>\n",
       "      <td>0.233263</td>\n",
       "    </tr>\n",
       "  </tbody>\n",
       "</table>\n",
       "</div>"
      ],
      "text/plain": [
       "        P(mode1)  P(mode2)  P(mode3)   P(mode4)  P(mode5)\n",
       "3-3   273.000000  0.000000  0.000000   0.000000  0.000000\n",
       "3-4     0.000000  0.739250  0.565102   3.753164  0.942485\n",
       "3-7     2.514212  5.736936  3.988082  19.192310  4.568461\n",
       "3-9     0.000000  0.645932  0.321317   0.904404  0.128346\n",
       "3-10    0.000000  0.896300  0.111315   1.759122  0.233263"
      ]
     },
     "execution_count": 136,
     "metadata": {},
     "output_type": "execute_result"
    }
   ],
   "source": [
    "results_2.head()"
   ]
  },
  {
   "cell_type": "code",
   "execution_count": 138,
   "metadata": {},
   "outputs": [],
   "source": [
    "results_2_selected = pd.read_csv('../results/results_2_selected.csv',index_col=0)"
   ]
  },
  {
   "cell_type": "code",
   "execution_count": 139,
   "metadata": {},
   "outputs": [
    {
     "data": {
      "text/html": [
       "<div>\n",
       "<style scoped>\n",
       "    .dataframe tbody tr th:only-of-type {\n",
       "        vertical-align: middle;\n",
       "    }\n",
       "\n",
       "    .dataframe tbody tr th {\n",
       "        vertical-align: top;\n",
       "    }\n",
       "\n",
       "    .dataframe thead th {\n",
       "        text-align: right;\n",
       "    }\n",
       "</style>\n",
       "<table border=\"1\" class=\"dataframe\">\n",
       "  <thead>\n",
       "    <tr style=\"text-align: right;\">\n",
       "      <th></th>\n",
       "      <th>P(mode1)</th>\n",
       "      <th>P(mode2)</th>\n",
       "      <th>P(mode3)</th>\n",
       "      <th>P(mode4)</th>\n",
       "      <th>P(mode5)</th>\n",
       "    </tr>\n",
       "  </thead>\n",
       "  <tbody>\n",
       "    <tr>\n",
       "      <th>3-4</th>\n",
       "      <td>0.000000</td>\n",
       "      <td>0.644911</td>\n",
       "      <td>0.595489</td>\n",
       "      <td>3.811452</td>\n",
       "      <td>0.948148</td>\n",
       "    </tr>\n",
       "    <tr>\n",
       "      <th>3-13</th>\n",
       "      <td>0.000000</td>\n",
       "      <td>0.287853</td>\n",
       "      <td>1.780154</td>\n",
       "      <td>8.977651</td>\n",
       "      <td>1.954342</td>\n",
       "    </tr>\n",
       "    <tr>\n",
       "      <th>3-43</th>\n",
       "      <td>0.000000</td>\n",
       "      <td>0.616507</td>\n",
       "      <td>0.495885</td>\n",
       "      <td>6.599487</td>\n",
       "      <td>1.288121</td>\n",
       "    </tr>\n",
       "    <tr>\n",
       "      <th>3-45</th>\n",
       "      <td>0.000000</td>\n",
       "      <td>0.269604</td>\n",
       "      <td>0.685894</td>\n",
       "      <td>7.561866</td>\n",
       "      <td>1.482636</td>\n",
       "    </tr>\n",
       "    <tr>\n",
       "      <th>3-48</th>\n",
       "      <td>11.719155</td>\n",
       "      <td>1.373324</td>\n",
       "      <td>1.487324</td>\n",
       "      <td>41.788931</td>\n",
       "      <td>8.631266</td>\n",
       "    </tr>\n",
       "  </tbody>\n",
       "</table>\n",
       "</div>"
      ],
      "text/plain": [
       "       P(mode1)  P(mode2)  P(mode3)   P(mode4)  P(mode5)\n",
       "3-4    0.000000  0.644911  0.595489   3.811452  0.948148\n",
       "3-13   0.000000  0.287853  1.780154   8.977651  1.954342\n",
       "3-43   0.000000  0.616507  0.495885   6.599487  1.288121\n",
       "3-45   0.000000  0.269604  0.685894   7.561866  1.482636\n",
       "3-48  11.719155  1.373324  1.487324  41.788931  8.631266"
      ]
     },
     "execution_count": 139,
     "metadata": {},
     "output_type": "execute_result"
    }
   ],
   "source": [
    "results_2_selected.head()"
   ]
  },
  {
   "cell_type": "code",
   "execution_count": 148,
   "metadata": {},
   "outputs": [],
   "source": [
    "results_2.loc[results_2_selected.index] = results_2_selected.loc[results_2_selected.index]"
   ]
  },
  {
   "cell_type": "code",
   "execution_count": 149,
   "metadata": {},
   "outputs": [
    {
     "data": {
      "text/html": [
       "<div>\n",
       "<style scoped>\n",
       "    .dataframe tbody tr th:only-of-type {\n",
       "        vertical-align: middle;\n",
       "    }\n",
       "\n",
       "    .dataframe tbody tr th {\n",
       "        vertical-align: top;\n",
       "    }\n",
       "\n",
       "    .dataframe thead th {\n",
       "        text-align: right;\n",
       "    }\n",
       "</style>\n",
       "<table border=\"1\" class=\"dataframe\">\n",
       "  <thead>\n",
       "    <tr style=\"text-align: right;\">\n",
       "      <th></th>\n",
       "      <th>P(mode1)</th>\n",
       "      <th>P(mode2)</th>\n",
       "      <th>P(mode3)</th>\n",
       "      <th>P(mode4)</th>\n",
       "      <th>P(mode5)</th>\n",
       "    </tr>\n",
       "  </thead>\n",
       "  <tbody>\n",
       "    <tr>\n",
       "      <th>3-3</th>\n",
       "      <td>273.000000</td>\n",
       "      <td>0.000000</td>\n",
       "      <td>0.000000</td>\n",
       "      <td>0.000000</td>\n",
       "      <td>0.000000</td>\n",
       "    </tr>\n",
       "    <tr>\n",
       "      <th>3-4</th>\n",
       "      <td>0.000000</td>\n",
       "      <td>0.644911</td>\n",
       "      <td>0.595489</td>\n",
       "      <td>3.811452</td>\n",
       "      <td>0.948148</td>\n",
       "    </tr>\n",
       "    <tr>\n",
       "      <th>3-7</th>\n",
       "      <td>2.514212</td>\n",
       "      <td>5.736936</td>\n",
       "      <td>3.988082</td>\n",
       "      <td>19.192310</td>\n",
       "      <td>4.568461</td>\n",
       "    </tr>\n",
       "    <tr>\n",
       "      <th>3-9</th>\n",
       "      <td>0.000000</td>\n",
       "      <td>0.645932</td>\n",
       "      <td>0.321317</td>\n",
       "      <td>0.904404</td>\n",
       "      <td>0.128346</td>\n",
       "    </tr>\n",
       "    <tr>\n",
       "      <th>3-10</th>\n",
       "      <td>0.000000</td>\n",
       "      <td>0.896300</td>\n",
       "      <td>0.111315</td>\n",
       "      <td>1.759122</td>\n",
       "      <td>0.233263</td>\n",
       "    </tr>\n",
       "  </tbody>\n",
       "</table>\n",
       "</div>"
      ],
      "text/plain": [
       "        P(mode1)  P(mode2)  P(mode3)   P(mode4)  P(mode5)\n",
       "3-3   273.000000  0.000000  0.000000   0.000000  0.000000\n",
       "3-4     0.000000  0.644911  0.595489   3.811452  0.948148\n",
       "3-7     2.514212  5.736936  3.988082  19.192310  4.568461\n",
       "3-9     0.000000  0.645932  0.321317   0.904404  0.128346\n",
       "3-10    0.000000  0.896300  0.111315   1.759122  0.233263"
      ]
     },
     "execution_count": 149,
     "metadata": {},
     "output_type": "execute_result"
    }
   ],
   "source": [
    "results_2.head()"
   ]
  },
  {
   "cell_type": "code",
   "execution_count": 152,
   "metadata": {},
   "outputs": [],
   "source": [
    "results_2.rename_axis('ODpair',inplace=True)\n",
    "results_2.reset_index(inplace=True)"
   ]
  },
  {
   "cell_type": "code",
   "execution_count": 153,
   "metadata": {},
   "outputs": [],
   "source": [
    "results_2['O'] = results_2['ODpair'].apply(lambda x: str(x).split('-')[0]).astype('int')\n",
    "results_2['D'] = results_2['ODpair'].apply(lambda x: str(x).split('-')[1]).astype('int')"
   ]
  },
  {
   "cell_type": "code",
   "execution_count": 156,
   "metadata": {},
   "outputs": [],
   "source": [
    "results_2.set_index('ODpair',inplace=True)"
   ]
  },
  {
   "cell_type": "code",
   "execution_count": 157,
   "metadata": {},
   "outputs": [
    {
     "data": {
      "text/html": [
       "<div>\n",
       "<style scoped>\n",
       "    .dataframe tbody tr th:only-of-type {\n",
       "        vertical-align: middle;\n",
       "    }\n",
       "\n",
       "    .dataframe tbody tr th {\n",
       "        vertical-align: top;\n",
       "    }\n",
       "\n",
       "    .dataframe thead th {\n",
       "        text-align: right;\n",
       "    }\n",
       "</style>\n",
       "<table border=\"1\" class=\"dataframe\">\n",
       "  <thead>\n",
       "    <tr style=\"text-align: right;\">\n",
       "      <th></th>\n",
       "      <th>P(mode1)</th>\n",
       "      <th>P(mode2)</th>\n",
       "      <th>P(mode3)</th>\n",
       "      <th>P(mode4)</th>\n",
       "      <th>P(mode5)</th>\n",
       "      <th>O</th>\n",
       "      <th>D</th>\n",
       "    </tr>\n",
       "    <tr>\n",
       "      <th>ODpair</th>\n",
       "      <th></th>\n",
       "      <th></th>\n",
       "      <th></th>\n",
       "      <th></th>\n",
       "      <th></th>\n",
       "      <th></th>\n",
       "      <th></th>\n",
       "    </tr>\n",
       "  </thead>\n",
       "  <tbody>\n",
       "    <tr>\n",
       "      <th>3-3</th>\n",
       "      <td>273.000000</td>\n",
       "      <td>0.000000</td>\n",
       "      <td>0.000000</td>\n",
       "      <td>0.000000</td>\n",
       "      <td>0.000000</td>\n",
       "      <td>3</td>\n",
       "      <td>3</td>\n",
       "    </tr>\n",
       "    <tr>\n",
       "      <th>3-4</th>\n",
       "      <td>0.000000</td>\n",
       "      <td>0.644911</td>\n",
       "      <td>0.595489</td>\n",
       "      <td>3.811452</td>\n",
       "      <td>0.948148</td>\n",
       "      <td>3</td>\n",
       "      <td>4</td>\n",
       "    </tr>\n",
       "    <tr>\n",
       "      <th>3-7</th>\n",
       "      <td>2.514212</td>\n",
       "      <td>5.736936</td>\n",
       "      <td>3.988082</td>\n",
       "      <td>19.192310</td>\n",
       "      <td>4.568461</td>\n",
       "      <td>3</td>\n",
       "      <td>7</td>\n",
       "    </tr>\n",
       "    <tr>\n",
       "      <th>3-9</th>\n",
       "      <td>0.000000</td>\n",
       "      <td>0.645932</td>\n",
       "      <td>0.321317</td>\n",
       "      <td>0.904404</td>\n",
       "      <td>0.128346</td>\n",
       "      <td>3</td>\n",
       "      <td>9</td>\n",
       "    </tr>\n",
       "    <tr>\n",
       "      <th>3-10</th>\n",
       "      <td>0.000000</td>\n",
       "      <td>0.896300</td>\n",
       "      <td>0.111315</td>\n",
       "      <td>1.759122</td>\n",
       "      <td>0.233263</td>\n",
       "      <td>3</td>\n",
       "      <td>10</td>\n",
       "    </tr>\n",
       "  </tbody>\n",
       "</table>\n",
       "</div>"
      ],
      "text/plain": [
       "          P(mode1)  P(mode2)  P(mode3)   P(mode4)  P(mode5)  O   D\n",
       "ODpair                                                            \n",
       "3-3     273.000000  0.000000  0.000000   0.000000  0.000000  3   3\n",
       "3-4       0.000000  0.644911  0.595489   3.811452  0.948148  3   4\n",
       "3-7       2.514212  5.736936  3.988082  19.192310  4.568461  3   7\n",
       "3-9       0.000000  0.645932  0.321317   0.904404  0.128346  3   9\n",
       "3-10      0.000000  0.896300  0.111315   1.759122  0.233263  3  10"
      ]
     },
     "execution_count": 157,
     "metadata": {},
     "output_type": "execute_result"
    }
   ],
   "source": [
    "results_2.head()"
   ]
  },
  {
   "cell_type": "code",
   "execution_count": 158,
   "metadata": {},
   "outputs": [
    {
     "data": {
      "text/plain": [
       "(56108, 7)"
      ]
     },
     "execution_count": 158,
     "metadata": {},
     "output_type": "execute_result"
    }
   ],
   "source": [
    "results_2.shape"
   ]
  },
  {
   "cell_type": "code",
   "execution_count": 159,
   "metadata": {},
   "outputs": [],
   "source": [
    "results_2.drop(results_2[results_2.O==results_2.D].index,inplace=True)"
   ]
  },
  {
   "cell_type": "code",
   "execution_count": 160,
   "metadata": {},
   "outputs": [
    {
     "data": {
      "text/plain": [
       "(55868, 7)"
      ]
     },
     "execution_count": 160,
     "metadata": {},
     "output_type": "execute_result"
    }
   ],
   "source": [
    "results_2.shape"
   ]
  },
  {
   "cell_type": "code",
   "execution_count": 161,
   "metadata": {},
   "outputs": [],
   "source": [
    "results_2.to_csv('results_scenario_2.csv')"
   ]
  },
  {
   "cell_type": "code",
   "execution_count": null,
   "metadata": {},
   "outputs": [],
   "source": []
  }
 ],
 "metadata": {
  "kernelspec": {
   "display_name": "ADS",
   "language": "python",
   "name": "ads"
  },
  "language_info": {
   "codemirror_mode": {
    "name": "ipython",
    "version": 3
   },
   "file_extension": ".py",
   "mimetype": "text/x-python",
   "name": "python",
   "nbconvert_exporter": "python",
   "pygments_lexer": "ipython3",
   "version": "3.5.0"
  }
 },
 "nbformat": 4,
 "nbformat_minor": 2
}
