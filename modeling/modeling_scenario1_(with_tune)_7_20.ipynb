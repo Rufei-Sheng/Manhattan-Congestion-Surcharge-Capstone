{
 "cells": [
  {
   "cell_type": "markdown",
   "metadata": {},
   "source": [
    "## Note: mode1-taxi, mode2-FHV, mode3-shared FHV, mode4-PT, mode5-walking"
   ]
  },
  {
   "cell_type": "code",
   "execution_count": 1,
   "metadata": {},
   "outputs": [],
   "source": [
    "import numpy as np\n",
    "import pandas as pd\n",
    "import warnings\n",
    "random_seed = 1\n",
    "warnings.filterwarnings(\"ignore\")\n",
    "import matplotlib.pyplot as plt\n",
    "from tqdm import tqdm\n",
    "%matplotlib inline"
   ]
  },
  {
   "cell_type": "markdown",
   "metadata": {},
   "source": [
    "Suggestions from Stan @ July_17\n",
    "\n",
    "* tune parameter with sampling taxi zone (large pop); do both for MSE and Weightening one; and store all history of tuning parameters\n",
    "\n",
    "* comapre the population of all modes for all zones with ACS, plotting bar chart"
   ]
  },
  {
   "cell_type": "markdown",
   "metadata": {},
   "source": [
    "### Zero scnario outcome"
   ]
  },
  {
   "cell_type": "code",
   "execution_count": 2,
   "metadata": {},
   "outputs": [],
   "source": [
    "# tax = (acs['P(mode1)'].sum())*2.75 + (acs['P(mode2)'].sum())*2.5 + (acs['P(mode3)'].sum())*0.85\n",
    "# tax"
   ]
  },
  {
   "cell_type": "markdown",
   "metadata": {},
   "source": [
    "## Data Preparation"
   ]
  },
  {
   "cell_type": "code",
   "execution_count": 3,
   "metadata": {},
   "outputs": [
    {
     "data": {
      "text/html": [
       "<div>\n",
       "<style scoped>\n",
       "    .dataframe tbody tr th:only-of-type {\n",
       "        vertical-align: middle;\n",
       "    }\n",
       "\n",
       "    .dataframe tbody tr th {\n",
       "        vertical-align: top;\n",
       "    }\n",
       "\n",
       "    .dataframe thead th {\n",
       "        text-align: right;\n",
       "    }\n",
       "</style>\n",
       "<table border=\"1\" class=\"dataframe\">\n",
       "  <thead>\n",
       "    <tr style=\"text-align: right;\">\n",
       "      <th></th>\n",
       "      <th>taxi_zone</th>\n",
       "      <th>P(mode1)</th>\n",
       "      <th>P(mode2)</th>\n",
       "      <th>P(mode3)</th>\n",
       "      <th>P(mode4)</th>\n",
       "      <th>P(mode5)</th>\n",
       "      <th>P(mode6)</th>\n",
       "    </tr>\n",
       "  </thead>\n",
       "  <tbody>\n",
       "    <tr>\n",
       "      <th>0</th>\n",
       "      <td>3.0</td>\n",
       "      <td>0.115434</td>\n",
       "      <td>17.843262</td>\n",
       "      <td>7.334361</td>\n",
       "      <td>3885.402712</td>\n",
       "      <td>478.622467</td>\n",
       "      <td>4316.681764</td>\n",
       "    </tr>\n",
       "    <tr>\n",
       "      <th>1</th>\n",
       "      <td>4.0</td>\n",
       "      <td>42.851015</td>\n",
       "      <td>140.891180</td>\n",
       "      <td>84.609811</td>\n",
       "      <td>6937.780033</td>\n",
       "      <td>2631.714648</td>\n",
       "      <td>779.153313</td>\n",
       "    </tr>\n",
       "    <tr>\n",
       "      <th>2</th>\n",
       "      <td>5.0</td>\n",
       "      <td>0.081377</td>\n",
       "      <td>13.158607</td>\n",
       "      <td>2.120444</td>\n",
       "      <td>1860.706347</td>\n",
       "      <td>40.495673</td>\n",
       "      <td>6312.437553</td>\n",
       "    </tr>\n",
       "    <tr>\n",
       "      <th>3</th>\n",
       "      <td>6.0</td>\n",
       "      <td>0.109017</td>\n",
       "      <td>7.637848</td>\n",
       "      <td>1.878344</td>\n",
       "      <td>1974.772111</td>\n",
       "      <td>198.118892</td>\n",
       "      <td>3086.483787</td>\n",
       "    </tr>\n",
       "    <tr>\n",
       "      <th>4</th>\n",
       "      <td>7.0</td>\n",
       "      <td>25.522468</td>\n",
       "      <td>142.614028</td>\n",
       "      <td>37.582529</td>\n",
       "      <td>28436.765508</td>\n",
       "      <td>2680.397880</td>\n",
       "      <td>5365.117587</td>\n",
       "    </tr>\n",
       "  </tbody>\n",
       "</table>\n",
       "</div>"
      ],
      "text/plain": [
       "   taxi_zone   P(mode1)    P(mode2)   P(mode3)      P(mode4)     P(mode5)  \\\n",
       "0        3.0   0.115434   17.843262   7.334361   3885.402712   478.622467   \n",
       "1        4.0  42.851015  140.891180  84.609811   6937.780033  2631.714648   \n",
       "2        5.0   0.081377   13.158607   2.120444   1860.706347    40.495673   \n",
       "3        6.0   0.109017    7.637848   1.878344   1974.772111   198.118892   \n",
       "4        7.0  25.522468  142.614028  37.582529  28436.765508  2680.397880   \n",
       "\n",
       "      P(mode6)  \n",
       "0  4316.681764  \n",
       "1   779.153313  \n",
       "2  6312.437553  \n",
       "3  3086.483787  \n",
       "4  5365.117587  "
      ]
     },
     "execution_count": 3,
     "metadata": {},
     "output_type": "execute_result"
    }
   ],
   "source": [
    "acs = pd.read_csv('final_acs_transportation_choice.csv')\n",
    "acs.head()"
   ]
  },
  {
   "cell_type": "code",
   "execution_count": 4,
   "metadata": {
    "scrolled": false
   },
   "outputs": [
    {
     "name": "stdout",
     "output_type": "stream",
     "text": [
      "(298632, 18)\n"
     ]
    },
    {
     "data": {
      "text/html": [
       "<div>\n",
       "<style scoped>\n",
       "    .dataframe tbody tr th:only-of-type {\n",
       "        vertical-align: middle;\n",
       "    }\n",
       "\n",
       "    .dataframe tbody tr th {\n",
       "        vertical-align: top;\n",
       "    }\n",
       "\n",
       "    .dataframe thead th {\n",
       "        text-align: right;\n",
       "    }\n",
       "</style>\n",
       "<table border=\"1\" class=\"dataframe\">\n",
       "  <thead>\n",
       "    <tr style=\"text-align: right;\">\n",
       "      <th></th>\n",
       "      <th>DOlocationID</th>\n",
       "      <th>ODpair</th>\n",
       "      <th>PUlocationID</th>\n",
       "      <th>duration</th>\n",
       "      <th>mode</th>\n",
       "      <th>nest</th>\n",
       "      <th>price</th>\n",
       "      <th>2500</th>\n",
       "      <th>7500</th>\n",
       "      <th>12500</th>\n",
       "      <th>17500</th>\n",
       "      <th>22500</th>\n",
       "      <th>30000</th>\n",
       "      <th>42500</th>\n",
       "      <th>62500</th>\n",
       "      <th>87500</th>\n",
       "      <th>125000</th>\n",
       "      <th>225000</th>\n",
       "    </tr>\n",
       "  </thead>\n",
       "  <tbody>\n",
       "    <tr>\n",
       "      <th>0</th>\n",
       "      <td>4</td>\n",
       "      <td>3-4</td>\n",
       "      <td>3</td>\n",
       "      <td>39.695000</td>\n",
       "      <td>2</td>\n",
       "      <td>1</td>\n",
       "      <td>64.000</td>\n",
       "      <td>0.250819</td>\n",
       "      <td>0.360216</td>\n",
       "      <td>0.648452</td>\n",
       "      <td>0.282211</td>\n",
       "      <td>0.414755</td>\n",
       "      <td>0.592009</td>\n",
       "      <td>0.671282</td>\n",
       "      <td>0.93859</td>\n",
       "      <td>0.586936</td>\n",
       "      <td>0.740725</td>\n",
       "      <td>0.514005</td>\n",
       "    </tr>\n",
       "    <tr>\n",
       "      <th>1</th>\n",
       "      <td>4</td>\n",
       "      <td>3-4</td>\n",
       "      <td>3</td>\n",
       "      <td>45.216667</td>\n",
       "      <td>3</td>\n",
       "      <td>1</td>\n",
       "      <td>61.500</td>\n",
       "      <td>0.250819</td>\n",
       "      <td>0.360216</td>\n",
       "      <td>0.648452</td>\n",
       "      <td>0.282211</td>\n",
       "      <td>0.414755</td>\n",
       "      <td>0.592009</td>\n",
       "      <td>0.671282</td>\n",
       "      <td>0.93859</td>\n",
       "      <td>0.586936</td>\n",
       "      <td>0.740725</td>\n",
       "      <td>0.514005</td>\n",
       "    </tr>\n",
       "    <tr>\n",
       "      <th>2</th>\n",
       "      <td>4</td>\n",
       "      <td>3-4</td>\n",
       "      <td>3</td>\n",
       "      <td>83.000000</td>\n",
       "      <td>4</td>\n",
       "      <td>2</td>\n",
       "      <td>5.500</td>\n",
       "      <td>0.250819</td>\n",
       "      <td>0.360216</td>\n",
       "      <td>0.648452</td>\n",
       "      <td>0.282211</td>\n",
       "      <td>0.414755</td>\n",
       "      <td>0.592009</td>\n",
       "      <td>0.671282</td>\n",
       "      <td>0.93859</td>\n",
       "      <td>0.586936</td>\n",
       "      <td>0.740725</td>\n",
       "      <td>0.514005</td>\n",
       "    </tr>\n",
       "    <tr>\n",
       "      <th>3</th>\n",
       "      <td>4</td>\n",
       "      <td>3-4</td>\n",
       "      <td>3</td>\n",
       "      <td>225.933333</td>\n",
       "      <td>5</td>\n",
       "      <td>3</td>\n",
       "      <td>0.000</td>\n",
       "      <td>0.250819</td>\n",
       "      <td>0.360216</td>\n",
       "      <td>0.648452</td>\n",
       "      <td>0.282211</td>\n",
       "      <td>0.414755</td>\n",
       "      <td>0.592009</td>\n",
       "      <td>0.671282</td>\n",
       "      <td>0.93859</td>\n",
       "      <td>0.586936</td>\n",
       "      <td>0.740725</td>\n",
       "      <td>0.514005</td>\n",
       "    </tr>\n",
       "    <tr>\n",
       "      <th>4</th>\n",
       "      <td>4</td>\n",
       "      <td>3-4</td>\n",
       "      <td>3</td>\n",
       "      <td>39.695000</td>\n",
       "      <td>6</td>\n",
       "      <td>4</td>\n",
       "      <td>29.424</td>\n",
       "      <td>0.250819</td>\n",
       "      <td>0.360216</td>\n",
       "      <td>0.648452</td>\n",
       "      <td>0.282211</td>\n",
       "      <td>0.414755</td>\n",
       "      <td>0.592009</td>\n",
       "      <td>0.671282</td>\n",
       "      <td>0.93859</td>\n",
       "      <td>0.586936</td>\n",
       "      <td>0.740725</td>\n",
       "      <td>0.514005</td>\n",
       "    </tr>\n",
       "  </tbody>\n",
       "</table>\n",
       "</div>"
      ],
      "text/plain": [
       "   DOlocationID ODpair  PUlocationID    duration  mode  nest   price  \\\n",
       "0             4    3-4             3   39.695000     2     1  64.000   \n",
       "1             4    3-4             3   45.216667     3     1  61.500   \n",
       "2             4    3-4             3   83.000000     4     2   5.500   \n",
       "3             4    3-4             3  225.933333     5     3   0.000   \n",
       "4             4    3-4             3   39.695000     6     4  29.424   \n",
       "\n",
       "       2500      7500     12500     17500     22500     30000     42500  \\\n",
       "0  0.250819  0.360216  0.648452  0.282211  0.414755  0.592009  0.671282   \n",
       "1  0.250819  0.360216  0.648452  0.282211  0.414755  0.592009  0.671282   \n",
       "2  0.250819  0.360216  0.648452  0.282211  0.414755  0.592009  0.671282   \n",
       "3  0.250819  0.360216  0.648452  0.282211  0.414755  0.592009  0.671282   \n",
       "4  0.250819  0.360216  0.648452  0.282211  0.414755  0.592009  0.671282   \n",
       "\n",
       "     62500     87500    125000    225000  \n",
       "0  0.93859  0.586936  0.740725  0.514005  \n",
       "1  0.93859  0.586936  0.740725  0.514005  \n",
       "2  0.93859  0.586936  0.740725  0.514005  \n",
       "3  0.93859  0.586936  0.740725  0.514005  \n",
       "4  0.93859  0.586936  0.740725  0.514005  "
      ]
     },
     "execution_count": 4,
     "metadata": {},
     "output_type": "execute_result"
    }
   ],
   "source": [
    "mode_data = pd.read_csv('final_allMode_with_2017wage_cleaned_update.csv', index_col=0)\n",
    "mode_data = mode_data.dropna()\n",
    "print(mode_data.shape)\n",
    "mode_data.head()"
   ]
  },
  {
   "cell_type": "markdown",
   "metadata": {},
   "source": [
    "## Modeling"
   ]
  },
  {
   "cell_type": "markdown",
   "metadata": {},
   "source": [
    "### Nested Logit Model"
   ]
  },
  {
   "cell_type": "code",
   "execution_count": 5,
   "metadata": {},
   "outputs": [],
   "source": [
    "def utility(mode, wage, Lambda, dataset):\n",
    "    '''\n",
    "    Get the utility for mode j under specific OD pair\n",
    "    Lambda: parameter that trade-off different transportation mode\n",
    "    '''\n",
    "    subset = dataset[dataset['mode'] == mode]\n",
    "    vj = Lambda * (float(int(wage)/124800) * float(subset['duration']) + float(subset['price'])) #124800: convert wage scale 'year' to 'minitues'. 52 weeks * 5 workdays/week * 8 hrs/day * 60 mins/hour = 124800 minutes\n",
    "    return -vj \n",
    "\n",
    "\n",
    "def InclusiveValue(Nk, Tk, wage, dictVj, Lambda, dataset):\n",
    "    '''\n",
    "    Get the inclusive value for nest K\n",
    "    Nk:nest k\n",
    "    T: the dict that contains Tao(dissmilarity parameter) for each Nest. for example, Tk meeas Tao for nest K\n",
    "    '''\n",
    "    subsetNk = dataset[dataset['nest'] == Nk]\n",
    "    modes = list(subsetNk['mode'].unique()) #what modes contained in this nest k\n",
    "    sumIV = 0\n",
    "    for j in modes:   \n",
    "        vj = utility(j, wage, Lambda, subsetNk)\n",
    "        dictVj[j] = vj\n",
    "        sumIV += np.exp((1/Tk)*vj)  \n",
    "    IVk = np.log(sumIV)\n",
    "    return dictVj, IVk\n",
    "    \n",
    "\n",
    "def denoSum(T, nestList, wage, Lambda, dataset):\n",
    "    '''\n",
    "    Calculate the denomenator for P(y=Nk)\n",
    "    T: the dict that contains Tk for each Nest, in our case T={1:T1, 2:T2, 3:T3}; T1, T2, T3 defined by us \n",
    "    TotK: the total number of nest this model has, in our case TotK = 3\n",
    "    '''\n",
    "    deno = 0\n",
    "    dictIVk = {}\n",
    "    dictVj = {}\n",
    "    for Nk in nestList: #k is the k Nest, in our case k=1,2,3\n",
    "        Tk = T[Nk] #get the tao for nest k \n",
    "        dictVj, IVk = InclusiveValue(Nk, Tk, wage, dictVj, Lambda, dataset)\n",
    "        denok = np.exp(Tk*IVk)\n",
    "        deno += denok\n",
    "        dictIVk[Nk] = IVk\n",
    "    return dictVj, dictIVk, deno\n",
    "\n",
    "\n",
    "def probability (j, Nk, T, dictVj, dictIVk, deno):  \n",
    "    '''\n",
    "    Calculate the probability for the specific mode j and Nest Nk\n",
    "    '''\n",
    "    Tk = T[Nk]\n",
    "    IVk = dictIVk[Nk]\n",
    "    vj = dictVj[j]\n",
    "    pjk = np.exp((1/Tk)*vj)/np.exp(IVk) #pjk: P(y=j, y belong to Nk)\n",
    "    pk = np.exp(Tk*IVk)/deno #pk: P(y belong to Nk)\n",
    "    pj = pjk*pk #pj: P(y=j)\n",
    "    return pj"
   ]
  },
  {
   "cell_type": "markdown",
   "metadata": {},
   "source": [
    "### Apply to our case"
   ]
  },
  {
   "cell_type": "code",
   "execution_count": 6,
   "metadata": {},
   "outputs": [],
   "source": [
    "def apply_model(T, totmode, wageList, Lambda, dataAll):\n",
    "    '''\n",
    "    apply to our case\n",
    "    '''\n",
    "    import timeit\n",
    "    start = timeit.default_timer()\n",
    "\n",
    "    ODpair_list = list(dataAll.ODpair.unique())\n",
    "    p = []\n",
    "    loss_function_deno = []\n",
    "    pop_wage = [] #store the population under od and wage\n",
    "    for od in tqdm(ODpair_list,position=0): #indentify OD pair  \n",
    "        dataOD = dataAll[dataAll.ODpair==od] \n",
    "        modeList = list(dataOD['mode'])\n",
    "        nestList = list(dataOD['nest'])\n",
    "        \n",
    "        pop_OD = [] #store the results under each OD pair\n",
    "        loss_function_deno_OD = [] #store the denominator of the loss function under each OD pair\n",
    "        \n",
    "        for wage in wageList:            \n",
    "            dictVj, dictIVk, deno = denoSum(T, set(nestList), wage, Lambda, dataOD)\n",
    "            pop_mode = [] #store the population results under each OD pair and each wage\n",
    "            loss_function_deno_mode = [] #store the deno of loss function under each OD pair and each wage\n",
    "            pop_wage_mode = [od, wage] #store the population for each wage\n",
    "            for i in range(1,totmode+1):\n",
    "                if i in modeList: #not all modes appear in every OD pair\n",
    "                    prob = probability(i, nestList[modeList.index(i)], T, dictVj, dictIVk, deno) #probability under OD pari and mode i\n",
    "                    if np.isnan(prob) == True: #if predicted probability is nan, replace it as 0, means no people choose\n",
    "                        prob = 0\n",
    "                    \n",
    "                    pop = dataOD[wage].mean() * prob\n",
    "                    loss_function_denoi = dataOD[wage].mean() * (prob - prob**2)               \n",
    "                    pop_mode.append(pop)\n",
    "                    pop_wage_mode.append(pop)\n",
    "                    loss_function_deno_mode.append(loss_function_denoi)\n",
    "                    \n",
    "                else: \n",
    "                    pop_mode.append(0) #the probability of mode which not in the modeList is also 0\n",
    "                    pop_wage_mode.append(0)\n",
    "                    loss_function_deno_mode.append(0)\n",
    "                    #pop_mode.append(1)\n",
    "            pop_OD.append((pop_mode)) #the shape of pop_OD is len(wageList) * 5 \n",
    "            pop_wage.append(pop_wage_mode)\n",
    "            loss_function_deno_OD.append(loss_function_deno_mode)\n",
    "        pop_OD_sum = [sum(x) for x in zip(*pop_OD)] #sum the population of each wage \n",
    "        loss_function_deno_sum = [sum(x) for x in zip(*loss_function_deno_OD)]\n",
    "        p.append(pop_OD_sum)\n",
    "        loss_function_deno.append(loss_function_deno_sum)\n",
    "\n",
    "    df = pd.DataFrame(p, columns=['P(mode1)', 'P(mode2)', 'P(mode3)', 'P(mode4)', 'P(mode5)', 'P(mode6)']\n",
    "                      , index=ODpair_list)\n",
    "    df_LF_deno = pd.DataFrame(loss_function_deno, columns=['mode1', 'mode2', 'mode3', 'mode4', 'mode5', 'mode6']\n",
    "                               , index=ODpair_list)\n",
    "    \n",
    "    df_pop_wage = pd.DataFrame(pop_wage, columns=['ODpair', 'wage', 'P(mode1)', 'P(mode2)', 'P(mode3)', 'P(mode4)', \n",
    "                                                  'P(mode5)', 'P(mode6)'])\n",
    "    \n",
    "    stop = timeit.default_timer()\n",
    "    timeslot = stop - start\n",
    "    return df, df_LF_deno, df_pop_wage, timeslot\n",
    "\n",
    "\n",
    "def compare_with_ground_truth(predictdf, loss_function_deno, truedf):\n",
    "    '''\n",
    "    compare our predicted transportation choice with ground truth\n",
    "    \n",
    "    The header of the datafrme after merge (named 'data_compare') should be like:\n",
    "    taxi_zone | P(mode1)_x | P(mode2)_x | P(mode3)_x | P(mode4)_x | P(mode5)_x | P(mode1)_y | P(mode2)_y | P(mode3)_y | P(mode4)_y | P(mode5)_y\n",
    "    '''\n",
    "    import numpy as np\n",
    "    # makesure predictdf and truedf have the same formats\n",
    "    for col in predictdf.columns:\n",
    "        predictdf[col] = predictdf[col].astype(float) \n",
    "    predictdf = predictdf.fillna(0)\n",
    "    predictdf = predictdf.replace([np.inf, -np.inf], np.nan)\n",
    "    predictdf = predictdf.dropna()\n",
    "    predictdf['taxi_zone'] = predictdf.index.map(lambda x: x.split('-')[0]) #get origin taxi zone from each OD pair\n",
    "    predictdf = predictdf.groupby('taxi_zone').sum().reset_index() #group the popuation by taxi zone\n",
    "    predictdf['taxi_zone'] = predictdf['taxi_zone'].astype(int)\n",
    "    \n",
    "    #do same thing as predictdf to loss_function_deno dataframe\n",
    "    for col in loss_function_deno.columns:\n",
    "        loss_function_deno[col] = loss_function_deno[col].astype(float) \n",
    "    loss_function_deno = loss_function_deno.fillna(0)\n",
    "    loss_function_deno = loss_function_deno.replace([np.inf, -np.inf], np.nan)\n",
    "    loss_function_deno = loss_function_deno.dropna()\n",
    "    loss_function_deno['taxi_zone'] = loss_function_deno.index.map(lambda x: x.split('-')[0]) #get origin taxi zone from each OD pair\n",
    "    loss_function_deno = loss_function_deno.groupby('taxi_zone').sum().reset_index() #group the popuation by taxi zone\n",
    "    loss_function_deno['taxi_zone'] = loss_function_deno['taxi_zone'].astype(int)   \n",
    "    \n",
    "    truedf['taxi_zone'] = truedf['taxi_zone'].astype(int)\n",
    "    \n",
    "    data_compare = pd.merge(predictdf, truedf, left_on='taxi_zone', right_on = 'taxi_zone')\n",
    "#     data_compare = pd.merge(predictdf, truedf, left_on='taxi_zone', right_on = 'taxi_zone', how='left')\n",
    "    data_compare = data_compare.dropna()  #some zone in predictdf are not exist in acs!!!!?????\n",
    "    data_compare_zone = data_compare['taxi_zone'].unique()\n",
    "    loss_function_deno = loss_function_deno[loss_function_deno['taxi_zone'].isin(data_compare_zone)]\n",
    "#     print(data_compare.head())\n",
    "    \n",
    "#     loss = 0\n",
    "    rloss = 0\n",
    "    rmse = 0\n",
    "    for i in range(1,totmode+1):\n",
    "        #define the loss function\n",
    "#         lossi = sum((data_compare[data_compare.columns[i]] - data_compare[data_compare.columns[i+totmode]])**2/loss_function_deno[loss_function_deno.columns[i]])\n",
    "#         rlossi = np.sqrt(lossi)\n",
    "        data_compare_deno = (data_compare[data_compare.columns[i+totmode]].replace(to_replace=0,value = 1)).copy()\n",
    "        rlossi = (np.sqrt(sum(((data_compare[data_compare.columns[i]] - data_compare[data_compare.columns[i+totmode]])**2)\\\n",
    "                        /(data_compare_deno))))\n",
    "#         rlossi = (np.sqrt(sum((data_compare[data_compare.columns[i]] - data_compare[data_compare.columns[i+totmode]])**2)))\\\n",
    "#                         /(sum(data_compare[data_compare.columns[i+totmode]]) if sum(data_compare[data_compare.columns[i+totmode]])!=0 else 1)\n",
    "        rmsei = (np.sqrt(sum((data_compare[data_compare.columns[i]] - data_compare[data_compare.columns[i+totmode]])**2)))#\\\n",
    "#                         /data_compare[data_compare.columns[i+5]]) if data_compare[data_compare.columns[i+5]]!=0 else \\\n",
    "#                  (np.sqrt(sum((data_compare[data_compare.columns[i]])**2) )\n",
    "        if rlossi == np.nan: print('Nan encountered')\n",
    "#     loss += lossi\n",
    "    rloss += rlossi\n",
    "    rmse += rmsei\n",
    "    \n",
    "    tot_mse = np.sqrt(sum((np.asarray(predictdf.sum()[1:]) - np.asarray(truedf.sum()[1:]))**2))\n",
    "    return data_compare, loss_function_deno, rloss, rmse, tot_mse"
   ]
  },
  {
   "cell_type": "code",
   "execution_count": 7,
   "metadata": {
    "scrolled": false
   },
   "outputs": [
    {
     "name": "stderr",
     "output_type": "stream",
     "text": [
      "100%|██████████| 237/237 [00:15<00:00, 14.89it/s]\n"
     ]
    },
    {
     "name": "stdout",
     "output_type": "stream",
     "text": [
      "P(mode2)     272.882378\n",
      "P(mode3)       5.162411\n",
      "P(mode4)    3969.854761\n",
      "P(mode5)     700.540521\n",
      "P(mode6)    3571.714454\n",
      "dtype: float64 (0.01, 0.2, 744.9673095865487, 1943476.5917180197)\n",
      "The time used to run the code: 15.926798707\n",
      "The root of weighted cumulative square error of this model is: 11.33867217978443\n",
      "The root of mean squared error of this model is: 744.9673095865487\n",
      "The root of mean squared error from total population: 1943476.5917180197\n"
     ]
    }
   ],
   "source": [
    "#choose taxi zone 3 to test the algrithm whether bug-free:\n",
    "T1 = 0.01\n",
    "T2 = 1\n",
    "T3 = 1\n",
    "T4 = 1\n",
    "T = {1:T1, 2:T2, 3:T3, 4:T4} #Tao for each nest\n",
    "Lambda = .2\n",
    "totmode = 6\n",
    "wagelist = ['2500', '7500', '12500', '17500', '22500', '30000', '42500', '62500', '87500', '125000', '225000']\n",
    "# testdf = mode_data[mode_data.index.isin(list(mode_data.index[:20]))] #test OD pair 3-1,3-2,3-3,3-4\n",
    "testdf = mode_data[mode_data['PUlocationID']== 3]\n",
    "# testdf = mode_data[mode_data.index == '3-2']\n",
    "\n",
    "predict_choice_test, loss_function_denodf_test, pop_wage_test, timeslot_test = apply_model(T, totmode, wagelist, Lambda, testdf)\n",
    "combine_test, loss_deno_test, rloss_test, rmse_test, tot_mse_test= compare_with_ground_truth(predict_choice_test, loss_function_denodf_test, acs)\n",
    "print(predict_choice_test.sum()[1:], (T1, Lambda, rmse_test, tot_mse_test))\n",
    "\n",
    "print('The time used to run the code:', timeslot_test)\n",
    "# print('The weighted cumulative square error of this model is:', loss_test)\n",
    "print('The root of weighted cumulative square error of this model is:', rloss_test)\n",
    "print('The root of mean squared error of this model is:', rmse_test)\n",
    "print('The root of mean squared error from total population:', tot_mse_test)"
   ]
  },
  {
   "cell_type": "code",
   "execution_count": 11,
   "metadata": {},
   "outputs": [],
   "source": [
    "pop_wage_test['sum'] = pop_wage_test['P(mode1)'] +  pop_wage_test['P(mode2)'] +\\\n",
    "         pop_wage_test['P(mode3)'] +  pop_wage_test['P(mode4)'] + \\\n",
    "        pop_wage_test['P(mode5)'] +  pop_wage_test['P(mode6)']\n"
   ]
  },
  {
   "cell_type": "code",
   "execution_count": 12,
   "metadata": {},
   "outputs": [
    {
     "data": {
      "text/html": [
       "<div>\n",
       "<style scoped>\n",
       "    .dataframe tbody tr th:only-of-type {\n",
       "        vertical-align: middle;\n",
       "    }\n",
       "\n",
       "    .dataframe tbody tr th {\n",
       "        vertical-align: top;\n",
       "    }\n",
       "\n",
       "    .dataframe thead th {\n",
       "        text-align: right;\n",
       "    }\n",
       "</style>\n",
       "<table border=\"1\" class=\"dataframe\">\n",
       "  <thead>\n",
       "    <tr style=\"text-align: right;\">\n",
       "      <th></th>\n",
       "      <th>ODpair</th>\n",
       "      <th>wage</th>\n",
       "      <th>P(mode1)</th>\n",
       "      <th>P(mode2)</th>\n",
       "      <th>P(mode3)</th>\n",
       "      <th>P(mode4)</th>\n",
       "      <th>P(mode5)</th>\n",
       "      <th>P(mode6)</th>\n",
       "      <th>sum</th>\n",
       "    </tr>\n",
       "  </thead>\n",
       "  <tbody>\n",
       "    <tr>\n",
       "      <th>0</th>\n",
       "      <td>3-4</td>\n",
       "      <td>2500</td>\n",
       "      <td>0.0</td>\n",
       "      <td>0.0</td>\n",
       "      <td>0.0</td>\n",
       "      <td>0.092746</td>\n",
       "      <td>0.157152</td>\n",
       "      <td>0.000922</td>\n",
       "      <td>0.250819</td>\n",
       "    </tr>\n",
       "    <tr>\n",
       "      <th>1</th>\n",
       "      <td>3-4</td>\n",
       "      <td>7500</td>\n",
       "      <td>0.0</td>\n",
       "      <td>0.0</td>\n",
       "      <td>0.0</td>\n",
       "      <td>0.231932</td>\n",
       "      <td>0.125023</td>\n",
       "      <td>0.003261</td>\n",
       "      <td>0.360216</td>\n",
       "    </tr>\n",
       "    <tr>\n",
       "      <th>2</th>\n",
       "      <td>3-4</td>\n",
       "      <td>12500</td>\n",
       "      <td>0.0</td>\n",
       "      <td>0.0</td>\n",
       "      <td>0.0</td>\n",
       "      <td>0.544285</td>\n",
       "      <td>0.093338</td>\n",
       "      <td>0.010828</td>\n",
       "      <td>0.648452</td>\n",
       "    </tr>\n",
       "    <tr>\n",
       "      <th>3</th>\n",
       "      <td>3-4</td>\n",
       "      <td>17500</td>\n",
       "      <td>0.0</td>\n",
       "      <td>0.0</td>\n",
       "      <td>0.0</td>\n",
       "      <td>0.260655</td>\n",
       "      <td>0.014220</td>\n",
       "      <td>0.007337</td>\n",
       "      <td>0.282211</td>\n",
       "    </tr>\n",
       "    <tr>\n",
       "      <th>4</th>\n",
       "      <td>3-4</td>\n",
       "      <td>22500</td>\n",
       "      <td>0.0</td>\n",
       "      <td>0.0</td>\n",
       "      <td>0.0</td>\n",
       "      <td>0.392323</td>\n",
       "      <td>0.006809</td>\n",
       "      <td>0.015623</td>\n",
       "      <td>0.414755</td>\n",
       "    </tr>\n",
       "  </tbody>\n",
       "</table>\n",
       "</div>"
      ],
      "text/plain": [
       "  ODpair   wage  P(mode1)  P(mode2)  P(mode3)  P(mode4)  P(mode5)  P(mode6)  \\\n",
       "0    3-4   2500       0.0       0.0       0.0  0.092746  0.157152  0.000922   \n",
       "1    3-4   7500       0.0       0.0       0.0  0.231932  0.125023  0.003261   \n",
       "2    3-4  12500       0.0       0.0       0.0  0.544285  0.093338  0.010828   \n",
       "3    3-4  17500       0.0       0.0       0.0  0.260655  0.014220  0.007337   \n",
       "4    3-4  22500       0.0       0.0       0.0  0.392323  0.006809  0.015623   \n",
       "\n",
       "        sum  \n",
       "0  0.250819  \n",
       "1  0.360216  \n",
       "2  0.648452  \n",
       "3  0.282211  \n",
       "4  0.414755  "
      ]
     },
     "execution_count": 12,
     "metadata": {},
     "output_type": "execute_result"
    }
   ],
   "source": [
    "pop_wage_test.head()"
   ]
  },
  {
   "cell_type": "code",
   "execution_count": 13,
   "metadata": {},
   "outputs": [
    {
     "data": {
      "text/html": [
       "<div>\n",
       "<style scoped>\n",
       "    .dataframe tbody tr th:only-of-type {\n",
       "        vertical-align: middle;\n",
       "    }\n",
       "\n",
       "    .dataframe tbody tr th {\n",
       "        vertical-align: top;\n",
       "    }\n",
       "\n",
       "    .dataframe thead th {\n",
       "        text-align: right;\n",
       "    }\n",
       "</style>\n",
       "<table border=\"1\" class=\"dataframe\">\n",
       "  <thead>\n",
       "    <tr style=\"text-align: right;\">\n",
       "      <th></th>\n",
       "      <th>mode1</th>\n",
       "      <th>mode2</th>\n",
       "      <th>mode3</th>\n",
       "      <th>mode4</th>\n",
       "      <th>mode5</th>\n",
       "      <th>mode6</th>\n",
       "    </tr>\n",
       "  </thead>\n",
       "  <tbody>\n",
       "    <tr>\n",
       "      <th>3-4</th>\n",
       "      <td>0.0</td>\n",
       "      <td>0.0</td>\n",
       "      <td>0.0</td>\n",
       "      <td>0.722910</td>\n",
       "      <td>0.242243</td>\n",
       "      <td>0.488701</td>\n",
       "    </tr>\n",
       "    <tr>\n",
       "      <th>3-7</th>\n",
       "      <td>0.0</td>\n",
       "      <td>0.0</td>\n",
       "      <td>0.0</td>\n",
       "      <td>5.638801</td>\n",
       "      <td>1.087046</td>\n",
       "      <td>5.106361</td>\n",
       "    </tr>\n",
       "    <tr>\n",
       "      <th>3-9</th>\n",
       "      <td>0.0</td>\n",
       "      <td>0.0</td>\n",
       "      <td>0.0</td>\n",
       "      <td>0.188567</td>\n",
       "      <td>0.025974</td>\n",
       "      <td>0.181785</td>\n",
       "    </tr>\n",
       "    <tr>\n",
       "      <th>3-10</th>\n",
       "      <td>0.0</td>\n",
       "      <td>0.0</td>\n",
       "      <td>0.0</td>\n",
       "      <td>0.225531</td>\n",
       "      <td>0.040404</td>\n",
       "      <td>0.213028</td>\n",
       "    </tr>\n",
       "    <tr>\n",
       "      <th>3-11</th>\n",
       "      <td>0.0</td>\n",
       "      <td>0.0</td>\n",
       "      <td>0.0</td>\n",
       "      <td>0.360670</td>\n",
       "      <td>0.096818</td>\n",
       "      <td>0.270532</td>\n",
       "    </tr>\n",
       "  </tbody>\n",
       "</table>\n",
       "</div>"
      ],
      "text/plain": [
       "      mode1  mode2  mode3     mode4     mode5     mode6\n",
       "3-4     0.0    0.0    0.0  0.722910  0.242243  0.488701\n",
       "3-7     0.0    0.0    0.0  5.638801  1.087046  5.106361\n",
       "3-9     0.0    0.0    0.0  0.188567  0.025974  0.181785\n",
       "3-10    0.0    0.0    0.0  0.225531  0.040404  0.213028\n",
       "3-11    0.0    0.0    0.0  0.360670  0.096818  0.270532"
      ]
     },
     "execution_count": 13,
     "metadata": {},
     "output_type": "execute_result"
    }
   ],
   "source": [
    "loss_function_denodf_test.head()"
   ]
  },
  {
   "cell_type": "code",
   "execution_count": 14,
   "metadata": {},
   "outputs": [
    {
     "data": {
      "text/html": [
       "<div>\n",
       "<style scoped>\n",
       "    .dataframe tbody tr th:only-of-type {\n",
       "        vertical-align: middle;\n",
       "    }\n",
       "\n",
       "    .dataframe tbody tr th {\n",
       "        vertical-align: top;\n",
       "    }\n",
       "\n",
       "    .dataframe thead th {\n",
       "        text-align: right;\n",
       "    }\n",
       "</style>\n",
       "<table border=\"1\" class=\"dataframe\">\n",
       "  <thead>\n",
       "    <tr style=\"text-align: right;\">\n",
       "      <th></th>\n",
       "      <th>ODpair</th>\n",
       "      <th>wage</th>\n",
       "      <th>P(mode1)</th>\n",
       "      <th>P(mode2)</th>\n",
       "      <th>P(mode3)</th>\n",
       "      <th>P(mode4)</th>\n",
       "      <th>P(mode5)</th>\n",
       "      <th>P(mode6)</th>\n",
       "      <th>sum</th>\n",
       "    </tr>\n",
       "  </thead>\n",
       "  <tbody>\n",
       "    <tr>\n",
       "      <th>0</th>\n",
       "      <td>3-4</td>\n",
       "      <td>2500</td>\n",
       "      <td>0.0</td>\n",
       "      <td>0.0</td>\n",
       "      <td>0.0</td>\n",
       "      <td>0.092746</td>\n",
       "      <td>0.157152</td>\n",
       "      <td>0.000922</td>\n",
       "      <td>0.250819</td>\n",
       "    </tr>\n",
       "    <tr>\n",
       "      <th>1</th>\n",
       "      <td>3-4</td>\n",
       "      <td>7500</td>\n",
       "      <td>0.0</td>\n",
       "      <td>0.0</td>\n",
       "      <td>0.0</td>\n",
       "      <td>0.231932</td>\n",
       "      <td>0.125023</td>\n",
       "      <td>0.003261</td>\n",
       "      <td>0.360216</td>\n",
       "    </tr>\n",
       "    <tr>\n",
       "      <th>2</th>\n",
       "      <td>3-4</td>\n",
       "      <td>12500</td>\n",
       "      <td>0.0</td>\n",
       "      <td>0.0</td>\n",
       "      <td>0.0</td>\n",
       "      <td>0.544285</td>\n",
       "      <td>0.093338</td>\n",
       "      <td>0.010828</td>\n",
       "      <td>0.648452</td>\n",
       "    </tr>\n",
       "    <tr>\n",
       "      <th>3</th>\n",
       "      <td>3-4</td>\n",
       "      <td>17500</td>\n",
       "      <td>0.0</td>\n",
       "      <td>0.0</td>\n",
       "      <td>0.0</td>\n",
       "      <td>0.260655</td>\n",
       "      <td>0.014220</td>\n",
       "      <td>0.007337</td>\n",
       "      <td>0.282211</td>\n",
       "    </tr>\n",
       "    <tr>\n",
       "      <th>4</th>\n",
       "      <td>3-4</td>\n",
       "      <td>22500</td>\n",
       "      <td>0.0</td>\n",
       "      <td>0.0</td>\n",
       "      <td>0.0</td>\n",
       "      <td>0.392323</td>\n",
       "      <td>0.006809</td>\n",
       "      <td>0.015623</td>\n",
       "      <td>0.414755</td>\n",
       "    </tr>\n",
       "  </tbody>\n",
       "</table>\n",
       "</div>"
      ],
      "text/plain": [
       "  ODpair   wage  P(mode1)  P(mode2)  P(mode3)  P(mode4)  P(mode5)  P(mode6)  \\\n",
       "0    3-4   2500       0.0       0.0       0.0  0.092746  0.157152  0.000922   \n",
       "1    3-4   7500       0.0       0.0       0.0  0.231932  0.125023  0.003261   \n",
       "2    3-4  12500       0.0       0.0       0.0  0.544285  0.093338  0.010828   \n",
       "3    3-4  17500       0.0       0.0       0.0  0.260655  0.014220  0.007337   \n",
       "4    3-4  22500       0.0       0.0       0.0  0.392323  0.006809  0.015623   \n",
       "\n",
       "        sum  \n",
       "0  0.250819  \n",
       "1  0.360216  \n",
       "2  0.648452  \n",
       "3  0.282211  \n",
       "4  0.414755  "
      ]
     },
     "execution_count": 14,
     "metadata": {},
     "output_type": "execute_result"
    }
   ],
   "source": [
    "pop_wage_test.head()"
   ]
  },
  {
   "cell_type": "code",
   "execution_count": 15,
   "metadata": {},
   "outputs": [
    {
     "data": {
      "text/html": [
       "<div>\n",
       "<style scoped>\n",
       "    .dataframe tbody tr th:only-of-type {\n",
       "        vertical-align: middle;\n",
       "    }\n",
       "\n",
       "    .dataframe tbody tr th {\n",
       "        vertical-align: top;\n",
       "    }\n",
       "\n",
       "    .dataframe thead th {\n",
       "        text-align: right;\n",
       "    }\n",
       "</style>\n",
       "<table border=\"1\" class=\"dataframe\">\n",
       "  <thead>\n",
       "    <tr style=\"text-align: right;\">\n",
       "      <th></th>\n",
       "      <th>taxi_zone</th>\n",
       "      <th>P(mode1)_x</th>\n",
       "      <th>P(mode2)_x</th>\n",
       "      <th>P(mode3)_x</th>\n",
       "      <th>P(mode4)_x</th>\n",
       "      <th>P(mode5)_x</th>\n",
       "      <th>P(mode6)_x</th>\n",
       "      <th>P(mode1)_y</th>\n",
       "      <th>P(mode2)_y</th>\n",
       "      <th>P(mode3)_y</th>\n",
       "      <th>P(mode4)_y</th>\n",
       "      <th>P(mode5)_y</th>\n",
       "      <th>P(mode6)_y</th>\n",
       "    </tr>\n",
       "  </thead>\n",
       "  <tbody>\n",
       "    <tr>\n",
       "      <th>0</th>\n",
       "      <td>3</td>\n",
       "      <td>185.845475</td>\n",
       "      <td>272.882378</td>\n",
       "      <td>5.162411</td>\n",
       "      <td>3969.854761</td>\n",
       "      <td>700.540521</td>\n",
       "      <td>3571.714454</td>\n",
       "      <td>0.115434</td>\n",
       "      <td>17.843262</td>\n",
       "      <td>7.334361</td>\n",
       "      <td>3885.402712</td>\n",
       "      <td>478.622467</td>\n",
       "      <td>4316.681764</td>\n",
       "    </tr>\n",
       "  </tbody>\n",
       "</table>\n",
       "</div>"
      ],
      "text/plain": [
       "   taxi_zone  P(mode1)_x  P(mode2)_x  P(mode3)_x   P(mode4)_x  P(mode5)_x  \\\n",
       "0          3  185.845475  272.882378    5.162411  3969.854761  700.540521   \n",
       "\n",
       "    P(mode6)_x  P(mode1)_y  P(mode2)_y  P(mode3)_y   P(mode4)_y  P(mode5)_y  \\\n",
       "0  3571.714454    0.115434   17.843262    7.334361  3885.402712  478.622467   \n",
       "\n",
       "    P(mode6)_y  \n",
       "0  4316.681764  "
      ]
     },
     "execution_count": 15,
     "metadata": {},
     "output_type": "execute_result"
    }
   ],
   "source": [
    "combine_test"
   ]
  },
  {
   "cell_type": "code",
   "execution_count": 16,
   "metadata": {},
   "outputs": [
    {
     "data": {
      "text/html": [
       "<div>\n",
       "<style scoped>\n",
       "    .dataframe tbody tr th:only-of-type {\n",
       "        vertical-align: middle;\n",
       "    }\n",
       "\n",
       "    .dataframe tbody tr th {\n",
       "        vertical-align: top;\n",
       "    }\n",
       "\n",
       "    .dataframe thead th {\n",
       "        text-align: right;\n",
       "    }\n",
       "</style>\n",
       "<table border=\"1\" class=\"dataframe\">\n",
       "  <thead>\n",
       "    <tr style=\"text-align: right;\">\n",
       "      <th></th>\n",
       "      <th>taxi_zone</th>\n",
       "      <th>mode1</th>\n",
       "      <th>mode2</th>\n",
       "      <th>mode3</th>\n",
       "      <th>mode4</th>\n",
       "      <th>mode5</th>\n",
       "      <th>mode6</th>\n",
       "    </tr>\n",
       "  </thead>\n",
       "  <tbody>\n",
       "    <tr>\n",
       "      <th>0</th>\n",
       "      <td>3</td>\n",
       "      <td>144.011186</td>\n",
       "      <td>194.761908</td>\n",
       "      <td>5.010392</td>\n",
       "      <td>1064.521869</td>\n",
       "      <td>451.852722</td>\n",
       "      <td>1070.07079</td>\n",
       "    </tr>\n",
       "  </tbody>\n",
       "</table>\n",
       "</div>"
      ],
      "text/plain": [
       "   taxi_zone       mode1       mode2     mode3        mode4       mode5  \\\n",
       "0          3  144.011186  194.761908  5.010392  1064.521869  451.852722   \n",
       "\n",
       "        mode6  \n",
       "0  1070.07079  "
      ]
     },
     "execution_count": 16,
     "metadata": {},
     "output_type": "execute_result"
    }
   ],
   "source": [
    "loss_deno_test"
   ]
  },
  {
   "cell_type": "markdown",
   "metadata": {},
   "source": [
    "### Tune the parameters"
   ]
  },
  {
   "cell_type": "markdown",
   "metadata": {},
   "source": [
    "**Pick the taxi zone which sum population accounts for 80% of the total population**"
   ]
  },
  {
   "cell_type": "code",
   "execution_count": 17,
   "metadata": {},
   "outputs": [
    {
     "data": {
      "text/html": [
       "<div>\n",
       "<style scoped>\n",
       "    .dataframe tbody tr th:only-of-type {\n",
       "        vertical-align: middle;\n",
       "    }\n",
       "\n",
       "    .dataframe tbody tr th {\n",
       "        vertical-align: top;\n",
       "    }\n",
       "\n",
       "    .dataframe thead th {\n",
       "        text-align: right;\n",
       "    }\n",
       "</style>\n",
       "<table border=\"1\" class=\"dataframe\">\n",
       "  <thead>\n",
       "    <tr style=\"text-align: right;\">\n",
       "      <th></th>\n",
       "      <th>population</th>\n",
       "      <th>cummulative</th>\n",
       "      <th>cummulative_percent</th>\n",
       "    </tr>\n",
       "  </thead>\n",
       "  <tbody>\n",
       "    <tr>\n",
       "      <th>82</th>\n",
       "      <td>42250.0</td>\n",
       "      <td>42250.0</td>\n",
       "      <td>0.014506</td>\n",
       "    </tr>\n",
       "    <tr>\n",
       "      <th>54</th>\n",
       "      <td>41875.0</td>\n",
       "      <td>84125.0</td>\n",
       "      <td>0.028883</td>\n",
       "    </tr>\n",
       "    <tr>\n",
       "      <th>4</th>\n",
       "      <td>36695.0</td>\n",
       "      <td>120820.0</td>\n",
       "      <td>0.041482</td>\n",
       "    </tr>\n",
       "    <tr>\n",
       "      <th>114</th>\n",
       "      <td>34325.0</td>\n",
       "      <td>155145.0</td>\n",
       "      <td>0.053267</td>\n",
       "    </tr>\n",
       "    <tr>\n",
       "      <th>87</th>\n",
       "      <td>34245.0</td>\n",
       "      <td>189390.0</td>\n",
       "      <td>0.065024</td>\n",
       "    </tr>\n",
       "  </tbody>\n",
       "</table>\n",
       "</div>"
      ],
      "text/plain": [
       "     population  cummulative  cummulative_percent\n",
       "82      42250.0      42250.0             0.014506\n",
       "54      41875.0      84125.0             0.028883\n",
       "4       36695.0     120820.0             0.041482\n",
       "114     34325.0     155145.0             0.053267\n",
       "87      34245.0     189390.0             0.065024"
      ]
     },
     "execution_count": 17,
     "metadata": {},
     "output_type": "execute_result"
    }
   ],
   "source": [
    "pop_zone = pd.DataFrame(acs.sum(axis=1), columns=['population']).sort_values('population', ascending=False)\n",
    "pop_zone['cummulative'] = pop_zone['population'].cumsum(axis=None, skipna=True)\n",
    "pop_zone['cummulative_percent'] = pop_zone['cummulative']/sum(pop_zone['population'])\n",
    "pop_zone.head()"
   ]
  },
  {
   "cell_type": "code",
   "execution_count": 18,
   "metadata": {},
   "outputs": [
    {
     "data": {
      "text/plain": [
       "86"
      ]
     },
     "execution_count": 18,
     "metadata": {},
     "output_type": "execute_result"
    }
   ],
   "source": [
    "topPoP_zone = pop_zone[pop_zone['cummulative_percent']<=0.60].index\n",
    "len(topPoP_zone)"
   ]
  },
  {
   "cell_type": "markdown",
   "metadata": {},
   "source": [
    "**Use rloss and rmse to tune the parameters:**"
   ]
  },
  {
   "cell_type": "code",
   "execution_count": 19,
   "metadata": {},
   "outputs": [
    {
     "name": "stderr",
     "output_type": "stream",
     "text": [
      "100%|██████████| 18188/18188 [19:54<00:00, 14.85it/s]\n",
      "  0%|          | 4/18188 [00:00<19:09, 15.83it/s]"
     ]
    },
    {
     "name": "stdout",
     "output_type": "stream",
     "text": [
      "P(mode1)    195343.018026\n",
      "P(mode2)    239517.203520\n",
      "P(mode3)    228577.168039\n",
      "P(mode4)    109232.779839\n",
      "P(mode5)     62584.846598\n",
      "P(mode6)    110591.983979\n",
      "dtype: float64 (2.0, 0.01, 24268.910884175853, 1833951.0957235554)\n"
     ]
    },
    {
     "name": "stderr",
     "output_type": "stream",
     "text": [
      "100%|██████████| 18188/18188 [19:57<00:00, 14.74it/s]\n",
      "  0%|          | 2/18188 [00:00<17:54, 16.93it/s]"
     ]
    },
    {
     "name": "stdout",
     "output_type": "stream",
     "text": [
      "P(mode1)     61313.986752\n",
      "P(mode2)     32357.950472\n",
      "P(mode3)     23658.662488\n",
      "P(mode4)    437274.927430\n",
      "P(mode5)     73157.864319\n",
      "P(mode6)    318083.608538\n",
      "dtype: float64 (2.0, 0.5, 15396.065138640164, 1420099.5001584801)\n"
     ]
    },
    {
     "name": "stderr",
     "output_type": "stream",
     "text": [
      "100%|██████████| 18188/18188 [20:33<00:00, 14.75it/s]\n",
      "  0%|          | 2/18188 [00:00<21:36, 14.03it/s]"
     ]
    },
    {
     "name": "stdout",
     "output_type": "stream",
     "text": [
      "P(mode1)     50738.428441\n",
      "P(mode2)     15952.567102\n",
      "P(mode3)      6666.497676\n",
      "P(mode4)    454828.634962\n",
      "P(mode5)     78300.460410\n",
      "P(mode6)    339360.411409\n",
      "dtype: float64 (2.0, 1.5, 17947.237782812466, 1395428.5510851147)\n"
     ]
    },
    {
     "name": "stderr",
     "output_type": "stream",
     "text": [
      "100%|██████████| 18188/18188 [21:12<00:00, 14.30it/s]\n",
      "  0%|          | 2/18188 [00:00<17:24, 17.41it/s]"
     ]
    },
    {
     "name": "stdout",
     "output_type": "stream",
     "text": [
      "P(mode1)    226053.760076\n",
      "P(mode2)    280359.433348\n",
      "P(mode3)    268410.043742\n",
      "P(mode4)     65779.143088\n",
      "P(mode5)     38013.357760\n",
      "P(mode6)     67231.261985\n",
      "dtype: float64 (2.75, 0.01, 28508.21064259323, 1906101.0590023736)\n"
     ]
    },
    {
     "name": "stderr",
     "output_type": "stream",
     "text": [
      "100%|██████████| 18188/18188 [21:02<00:00, 13.87it/s]\n",
      "  0%|          | 2/18188 [00:00<19:16, 15.72it/s]"
     ]
    },
    {
     "name": "stdout",
     "output_type": "stream",
     "text": [
      "P(mode1)     68377.688961\n",
      "P(mode2)     42277.570047\n",
      "P(mode3)     33567.287421\n",
      "P(mode4)    425329.243247\n",
      "P(mode5)     71029.180667\n",
      "P(mode6)    305266.029657\n",
      "dtype: float64 (2.75, 0.5, 14038.257105784793, 1436379.7511151966)\n"
     ]
    },
    {
     "name": "stderr",
     "output_type": "stream",
     "text": [
      "100%|██████████| 18188/18188 [21:04<00:00, 13.90it/s]\n",
      "  0%|          | 2/18188 [00:00<19:03, 15.90it/s]"
     ]
    },
    {
     "name": "stdout",
     "output_type": "stream",
     "text": [
      "P(mode1)     50816.898838\n",
      "P(mode2)     17752.190076\n",
      "P(mode3)      8944.082076\n",
      "P(mode4)    453050.053658\n",
      "P(mode5)     78169.069437\n",
      "P(mode6)    337114.705915\n",
      "dtype: float64 (2.75, 1.5, 17696.417723127764, 1397837.542713971)\n"
     ]
    },
    {
     "name": "stderr",
     "output_type": "stream",
     "text": [
      "100%|██████████| 18188/18188 [21:07<00:00, 14.52it/s]\n",
      "  0%|          | 4/18188 [00:00<19:42, 15.38it/s]"
     ]
    },
    {
     "name": "stdout",
     "output_type": "stream",
     "text": [
      "P(mode1)    243209.693829\n",
      "P(mode2)    305963.080490\n",
      "P(mode3)    293180.720017\n",
      "P(mode4)     39528.140919\n",
      "P(mode5)     22961.682464\n",
      "P(mode6)     41003.682281\n",
      "dtype: float64 (3.5, 0.01, 31360.772201587162, 1950641.6442647513)\n"
     ]
    },
    {
     "name": "stderr",
     "output_type": "stream",
     "text": [
      "100%|██████████| 18188/18188 [21:14<00:00, 14.01it/s]\n",
      "  0%|          | 2/18188 [00:00<19:30, 15.53it/s]"
     ]
    },
    {
     "name": "stdout",
     "output_type": "stream",
     "text": [
      "P(mode1)     77622.267169\n",
      "P(mode2)     53399.539977\n",
      "P(mode3)     44393.652910\n",
      "P(mode4)    411633.756197\n",
      "P(mode5)     68294.564593\n",
      "P(mode6)    290503.219154\n",
      "dtype: float64 (3.5, 0.5, 12590.12488563201, 1455395.849524994)\n"
     ]
    },
    {
     "name": "stderr",
     "output_type": "stream",
     "text": [
      "100%|██████████| 18188/18188 [21:20<00:00, 13.96it/s]\n",
      "  0%|          | 2/18188 [00:00<19:14, 15.76it/s]"
     ]
    },
    {
     "name": "stdout",
     "output_type": "stream",
     "text": [
      "P(mode1)     51563.961161\n",
      "P(mode2)     20101.390976\n",
      "P(mode3)     11576.000947\n",
      "P(mode4)    450657.241927\n",
      "P(mode5)     77964.251052\n",
      "P(mode6)    333984.153937\n",
      "dtype: float64 (3.5, 1.5, 17338.142832384863, 1401147.4542381016)\n"
     ]
    },
    {
     "name": "stderr",
     "output_type": "stream",
     "text": [
      "100%|██████████| 18188/18188 [21:18<00:00, 12.79it/s]\n",
      "  0%|          | 2/18188 [00:00<21:57, 13.80it/s]"
     ]
    },
    {
     "name": "stdout",
     "output_type": "stream",
     "text": [
      "P(mode1)    251741.825371\n",
      "P(mode2)    320896.060225\n",
      "P(mode3)    307502.361117\n",
      "P(mode4)     24887.368719\n",
      "P(mode5)     14502.494297\n",
      "P(mode6)     26316.890271\n",
      "dtype: float64 (4.25, 0.01, 33033.317436385725, 1975826.5746718573)\n"
     ]
    },
    {
     "name": "stderr",
     "output_type": "stream",
     "text": [
      "100%|██████████| 18188/18188 [22:09<00:00, 13.45it/s]\n",
      "  0%|          | 2/18188 [00:00<19:46, 15.33it/s]"
     ]
    },
    {
     "name": "stdout",
     "output_type": "stream",
     "text": [
      "P(mode1)     88104.213462\n",
      "P(mode2)     65261.646035\n",
      "P(mode3)     55783.456446\n",
      "P(mode4)    396910.294996\n",
      "P(mode5)     65197.754054\n",
      "P(mode6)    274589.635006\n",
      "dtype: float64 (4.25, 0.5, 11242.722614536744, 1476182.3181450549)\n"
     ]
    },
    {
     "name": "stderr",
     "output_type": "stream",
     "text": [
      "100%|██████████| 18188/18188 [22:09<00:00, 13.37it/s]\n",
      "  0%|          | 2/18188 [00:00<19:56, 15.20it/s]"
     ]
    },
    {
     "name": "stdout",
     "output_type": "stream",
     "text": [
      "P(mode1)     52948.299260\n",
      "P(mode2)     22887.425896\n",
      "P(mode3)     14527.972106\n",
      "P(mode4)    447665.854772\n",
      "P(mode5)     77672.747022\n",
      "P(mode6)    330144.700944\n",
      "dtype: float64 (4.25, 1.5, 16888.898385963275, 1405295.416587113)\n"
     ]
    },
    {
     "name": "stderr",
     "output_type": "stream",
     "text": [
      "100%|██████████| 18188/18188 [22:08<00:00, 13.12it/s]\n",
      "  0%|          | 2/18188 [00:00<19:39, 15.42it/s]"
     ]
    },
    {
     "name": "stdout",
     "output_type": "stream",
     "text": [
      "P(mode1)    255733.355161\n",
      "P(mode2)    329392.056047\n",
      "P(mode3)    315587.581074\n",
      "P(mode4)     16940.942772\n",
      "P(mode5)      9889.481694\n",
      "P(mode6)     18303.583251\n",
      "dtype: float64 (5.0, 0.01, 33969.539050091706, 1989624.0558609478)\n"
     ]
    },
    {
     "name": "stderr",
     "output_type": "stream",
     "text": [
      " 45%|████▌     | 8270/18188 [10:00<11:02, 14.98it/s]"
     ]
    },
    {
     "ename": "KeyboardInterrupt",
     "evalue": "",
     "output_type": "error",
     "traceback": [
      "\u001b[0;31m---------------------------------------------------------------------------\u001b[0m",
      "\u001b[0;31mKeyboardInterrupt\u001b[0m                         Traceback (most recent call last)",
      "\u001b[0;32m<ipython-input-19-8d40425e5861>\u001b[0m in \u001b[0;36m<module>\u001b[0;34m\u001b[0m\n\u001b[1;32m     28\u001b[0m         \u001b[0mtestdf\u001b[0m \u001b[0;34m=\u001b[0m \u001b[0mmode_data\u001b[0m\u001b[0;34m[\u001b[0m\u001b[0mmode_data\u001b[0m\u001b[0;34m[\u001b[0m\u001b[0;34m'PUlocationID'\u001b[0m\u001b[0;34m]\u001b[0m\u001b[0;34m.\u001b[0m\u001b[0misin\u001b[0m\u001b[0;34m(\u001b[0m\u001b[0mtopPoP_zone\u001b[0m\u001b[0;34m)\u001b[0m\u001b[0;34m]\u001b[0m\u001b[0;34m\u001b[0m\u001b[0;34m\u001b[0m\u001b[0m\n\u001b[1;32m     29\u001b[0m \u001b[0;34m\u001b[0m\u001b[0m\n\u001b[0;32m---> 30\u001b[0;31m         \u001b[0mpredict_choice_test\u001b[0m\u001b[0;34m,\u001b[0m \u001b[0mloss_function_denodf_test\u001b[0m\u001b[0;34m,\u001b[0m \u001b[0mpop_wage_test\u001b[0m\u001b[0;34m,\u001b[0m \u001b[0mtimeslot_test\u001b[0m \u001b[0;34m=\u001b[0m \u001b[0mapply_model\u001b[0m\u001b[0;34m(\u001b[0m\u001b[0mT\u001b[0m\u001b[0;34m,\u001b[0m \u001b[0mtotmode\u001b[0m\u001b[0;34m,\u001b[0m \u001b[0mwagelist\u001b[0m\u001b[0;34m,\u001b[0m \u001b[0mLambda\u001b[0m\u001b[0;34m,\u001b[0m \u001b[0mtestdf\u001b[0m\u001b[0;34m)\u001b[0m\u001b[0;34m\u001b[0m\u001b[0;34m\u001b[0m\u001b[0m\n\u001b[0m\u001b[1;32m     31\u001b[0m         \u001b[0mcombine_test\u001b[0m\u001b[0;34m,\u001b[0m \u001b[0mloss_deno_test\u001b[0m\u001b[0;34m,\u001b[0m \u001b[0mrloss_test\u001b[0m\u001b[0;34m,\u001b[0m \u001b[0mrmse_test\u001b[0m\u001b[0;34m,\u001b[0m \u001b[0mtot_mse_test\u001b[0m\u001b[0;34m=\u001b[0m \u001b[0mcompare_with_ground_truth\u001b[0m\u001b[0;34m(\u001b[0m\u001b[0mpredict_choice_test\u001b[0m\u001b[0;34m,\u001b[0m \u001b[0mloss_function_denodf_test\u001b[0m\u001b[0;34m,\u001b[0m \u001b[0macs\u001b[0m\u001b[0;34m)\u001b[0m\u001b[0;34m\u001b[0m\u001b[0;34m\u001b[0m\u001b[0m\n\u001b[1;32m     32\u001b[0m         \u001b[0mprint\u001b[0m\u001b[0;34m(\u001b[0m\u001b[0mpredict_choice_test\u001b[0m\u001b[0;34m.\u001b[0m\u001b[0msum\u001b[0m\u001b[0;34m(\u001b[0m\u001b[0;34m)\u001b[0m\u001b[0;34m,\u001b[0m \u001b[0;34m(\u001b[0m\u001b[0mTi\u001b[0m\u001b[0;34m,\u001b[0m \u001b[0mlambdai\u001b[0m\u001b[0;34m,\u001b[0m \u001b[0mrmse_test\u001b[0m\u001b[0;34m,\u001b[0m \u001b[0mtot_mse_test\u001b[0m\u001b[0;34m)\u001b[0m\u001b[0;34m)\u001b[0m\u001b[0;34m\u001b[0m\u001b[0;34m\u001b[0m\u001b[0m\n",
      "\u001b[0;32m<ipython-input-6-f3d84605e111>\u001b[0m in \u001b[0;36mapply_model\u001b[0;34m(T, totmode, wageList, Lambda, dataAll)\u001b[0m\n\u001b[1;32m     19\u001b[0m \u001b[0;34m\u001b[0m\u001b[0m\n\u001b[1;32m     20\u001b[0m         \u001b[0;32mfor\u001b[0m \u001b[0mwage\u001b[0m \u001b[0;32min\u001b[0m \u001b[0mwageList\u001b[0m\u001b[0;34m:\u001b[0m\u001b[0;34m\u001b[0m\u001b[0;34m\u001b[0m\u001b[0m\n\u001b[0;32m---> 21\u001b[0;31m             \u001b[0mdictVj\u001b[0m\u001b[0;34m,\u001b[0m \u001b[0mdictIVk\u001b[0m\u001b[0;34m,\u001b[0m \u001b[0mdeno\u001b[0m \u001b[0;34m=\u001b[0m \u001b[0mdenoSum\u001b[0m\u001b[0;34m(\u001b[0m\u001b[0mT\u001b[0m\u001b[0;34m,\u001b[0m \u001b[0mset\u001b[0m\u001b[0;34m(\u001b[0m\u001b[0mnestList\u001b[0m\u001b[0;34m)\u001b[0m\u001b[0;34m,\u001b[0m \u001b[0mwage\u001b[0m\u001b[0;34m,\u001b[0m \u001b[0mLambda\u001b[0m\u001b[0;34m,\u001b[0m \u001b[0mdataOD\u001b[0m\u001b[0;34m)\u001b[0m\u001b[0;34m\u001b[0m\u001b[0;34m\u001b[0m\u001b[0m\n\u001b[0m\u001b[1;32m     22\u001b[0m             \u001b[0mpop_mode\u001b[0m \u001b[0;34m=\u001b[0m \u001b[0;34m[\u001b[0m\u001b[0;34m]\u001b[0m \u001b[0;31m#store the population results under each OD pair and each wage\u001b[0m\u001b[0;34m\u001b[0m\u001b[0;34m\u001b[0m\u001b[0m\n\u001b[1;32m     23\u001b[0m             \u001b[0mloss_function_deno_mode\u001b[0m \u001b[0;34m=\u001b[0m \u001b[0;34m[\u001b[0m\u001b[0;34m]\u001b[0m \u001b[0;31m#store the deno of loss function under each OD pair and each wage\u001b[0m\u001b[0;34m\u001b[0m\u001b[0;34m\u001b[0m\u001b[0m\n",
      "\u001b[0;32m<ipython-input-5-f6454d11bd5a>\u001b[0m in \u001b[0;36mdenoSum\u001b[0;34m(T, nestList, wage, Lambda, dataset)\u001b[0m\n\u001b[1;32m     37\u001b[0m     \u001b[0;32mfor\u001b[0m \u001b[0mNk\u001b[0m \u001b[0;32min\u001b[0m \u001b[0mnestList\u001b[0m\u001b[0;34m:\u001b[0m \u001b[0;31m#k is the k Nest, in our case k=1,2,3\u001b[0m\u001b[0;34m\u001b[0m\u001b[0;34m\u001b[0m\u001b[0m\n\u001b[1;32m     38\u001b[0m         \u001b[0mTk\u001b[0m \u001b[0;34m=\u001b[0m \u001b[0mT\u001b[0m\u001b[0;34m[\u001b[0m\u001b[0mNk\u001b[0m\u001b[0;34m]\u001b[0m \u001b[0;31m#get the tao for nest k\u001b[0m\u001b[0;34m\u001b[0m\u001b[0;34m\u001b[0m\u001b[0m\n\u001b[0;32m---> 39\u001b[0;31m         \u001b[0mdictVj\u001b[0m\u001b[0;34m,\u001b[0m \u001b[0mIVk\u001b[0m \u001b[0;34m=\u001b[0m \u001b[0mInclusiveValue\u001b[0m\u001b[0;34m(\u001b[0m\u001b[0mNk\u001b[0m\u001b[0;34m,\u001b[0m \u001b[0mTk\u001b[0m\u001b[0;34m,\u001b[0m \u001b[0mwage\u001b[0m\u001b[0;34m,\u001b[0m \u001b[0mdictVj\u001b[0m\u001b[0;34m,\u001b[0m \u001b[0mLambda\u001b[0m\u001b[0;34m,\u001b[0m \u001b[0mdataset\u001b[0m\u001b[0;34m)\u001b[0m\u001b[0;34m\u001b[0m\u001b[0;34m\u001b[0m\u001b[0m\n\u001b[0m\u001b[1;32m     40\u001b[0m         \u001b[0mdenok\u001b[0m \u001b[0;34m=\u001b[0m \u001b[0mnp\u001b[0m\u001b[0;34m.\u001b[0m\u001b[0mexp\u001b[0m\u001b[0;34m(\u001b[0m\u001b[0mTk\u001b[0m\u001b[0;34m*\u001b[0m\u001b[0mIVk\u001b[0m\u001b[0;34m)\u001b[0m\u001b[0;34m\u001b[0m\u001b[0;34m\u001b[0m\u001b[0m\n\u001b[1;32m     41\u001b[0m         \u001b[0mdeno\u001b[0m \u001b[0;34m+=\u001b[0m \u001b[0mdenok\u001b[0m\u001b[0;34m\u001b[0m\u001b[0;34m\u001b[0m\u001b[0m\n",
      "\u001b[0;32m<ipython-input-5-f6454d11bd5a>\u001b[0m in \u001b[0;36mInclusiveValue\u001b[0;34m(Nk, Tk, wage, dictVj, Lambda, dataset)\u001b[0m\n\u001b[1;32m     16\u001b[0m     '''\n\u001b[1;32m     17\u001b[0m     \u001b[0msubsetNk\u001b[0m \u001b[0;34m=\u001b[0m \u001b[0mdataset\u001b[0m\u001b[0;34m[\u001b[0m\u001b[0mdataset\u001b[0m\u001b[0;34m[\u001b[0m\u001b[0;34m'nest'\u001b[0m\u001b[0;34m]\u001b[0m \u001b[0;34m==\u001b[0m \u001b[0mNk\u001b[0m\u001b[0;34m]\u001b[0m\u001b[0;34m\u001b[0m\u001b[0;34m\u001b[0m\u001b[0m\n\u001b[0;32m---> 18\u001b[0;31m     \u001b[0mmodes\u001b[0m \u001b[0;34m=\u001b[0m \u001b[0mlist\u001b[0m\u001b[0;34m(\u001b[0m\u001b[0msubsetNk\u001b[0m\u001b[0;34m[\u001b[0m\u001b[0;34m'mode'\u001b[0m\u001b[0;34m]\u001b[0m\u001b[0;34m.\u001b[0m\u001b[0munique\u001b[0m\u001b[0;34m(\u001b[0m\u001b[0;34m)\u001b[0m\u001b[0;34m)\u001b[0m \u001b[0;31m#what modes contained in this nest k\u001b[0m\u001b[0;34m\u001b[0m\u001b[0;34m\u001b[0m\u001b[0m\n\u001b[0m\u001b[1;32m     19\u001b[0m     \u001b[0msumIV\u001b[0m \u001b[0;34m=\u001b[0m \u001b[0;36m0\u001b[0m\u001b[0;34m\u001b[0m\u001b[0;34m\u001b[0m\u001b[0m\n\u001b[1;32m     20\u001b[0m     \u001b[0;32mfor\u001b[0m \u001b[0mj\u001b[0m \u001b[0;32min\u001b[0m \u001b[0mmodes\u001b[0m\u001b[0;34m:\u001b[0m\u001b[0;34m\u001b[0m\u001b[0;34m\u001b[0m\u001b[0m\n",
      "\u001b[0;32m/anaconda3/lib/python3.7/site-packages/pandas/core/series.py\u001b[0m in \u001b[0;36munique\u001b[0;34m(self)\u001b[0m\n\u001b[1;32m   1491\u001b[0m         \u001b[0mCategories\u001b[0m \u001b[0;34m(\u001b[0m\u001b[0;36m3\u001b[0m\u001b[0;34m,\u001b[0m \u001b[0mobject\u001b[0m\u001b[0;34m)\u001b[0m\u001b[0;34m:\u001b[0m \u001b[0;34m[\u001b[0m\u001b[0ma\u001b[0m \u001b[0;34m<\u001b[0m \u001b[0mb\u001b[0m \u001b[0;34m<\u001b[0m \u001b[0mc\u001b[0m\u001b[0;34m]\u001b[0m\u001b[0;34m\u001b[0m\u001b[0;34m\u001b[0m\u001b[0m\n\u001b[1;32m   1492\u001b[0m         \"\"\"\n\u001b[0;32m-> 1493\u001b[0;31m         \u001b[0mresult\u001b[0m \u001b[0;34m=\u001b[0m \u001b[0msuper\u001b[0m\u001b[0;34m(\u001b[0m\u001b[0mSeries\u001b[0m\u001b[0;34m,\u001b[0m \u001b[0mself\u001b[0m\u001b[0;34m)\u001b[0m\u001b[0;34m.\u001b[0m\u001b[0munique\u001b[0m\u001b[0;34m(\u001b[0m\u001b[0;34m)\u001b[0m\u001b[0;34m\u001b[0m\u001b[0;34m\u001b[0m\u001b[0m\n\u001b[0m\u001b[1;32m   1494\u001b[0m \u001b[0;34m\u001b[0m\u001b[0m\n\u001b[1;32m   1495\u001b[0m         \u001b[0;32mif\u001b[0m \u001b[0mis_datetime64tz_dtype\u001b[0m\u001b[0;34m(\u001b[0m\u001b[0mself\u001b[0m\u001b[0;34m.\u001b[0m\u001b[0mdtype\u001b[0m\u001b[0;34m)\u001b[0m\u001b[0;34m:\u001b[0m\u001b[0;34m\u001b[0m\u001b[0;34m\u001b[0m\u001b[0m\n",
      "\u001b[0;32m/anaconda3/lib/python3.7/site-packages/pandas/core/base.py\u001b[0m in \u001b[0;36munique\u001b[0;34m(self)\u001b[0m\n\u001b[1;32m   1047\u001b[0m         \u001b[0;32melse\u001b[0m\u001b[0;34m:\u001b[0m\u001b[0;34m\u001b[0m\u001b[0;34m\u001b[0m\u001b[0m\n\u001b[1;32m   1048\u001b[0m             \u001b[0;32mfrom\u001b[0m \u001b[0mpandas\u001b[0m\u001b[0;34m.\u001b[0m\u001b[0mcore\u001b[0m\u001b[0;34m.\u001b[0m\u001b[0malgorithms\u001b[0m \u001b[0;32mimport\u001b[0m \u001b[0munique1d\u001b[0m\u001b[0;34m\u001b[0m\u001b[0;34m\u001b[0m\u001b[0m\n\u001b[0;32m-> 1049\u001b[0;31m             \u001b[0mresult\u001b[0m \u001b[0;34m=\u001b[0m \u001b[0munique1d\u001b[0m\u001b[0;34m(\u001b[0m\u001b[0mvalues\u001b[0m\u001b[0;34m)\u001b[0m\u001b[0;34m\u001b[0m\u001b[0;34m\u001b[0m\u001b[0m\n\u001b[0m\u001b[1;32m   1050\u001b[0m \u001b[0;34m\u001b[0m\u001b[0m\n\u001b[1;32m   1051\u001b[0m         \u001b[0;32mreturn\u001b[0m \u001b[0mresult\u001b[0m\u001b[0;34m\u001b[0m\u001b[0;34m\u001b[0m\u001b[0m\n",
      "\u001b[0;32m/anaconda3/lib/python3.7/site-packages/pandas/core/algorithms.py\u001b[0m in \u001b[0;36munique\u001b[0;34m(values)\u001b[0m\n\u001b[1;32m    365\u001b[0m     \u001b[0mhtable\u001b[0m\u001b[0;34m,\u001b[0m \u001b[0m_\u001b[0m\u001b[0;34m,\u001b[0m \u001b[0mvalues\u001b[0m\u001b[0;34m,\u001b[0m \u001b[0mdtype\u001b[0m\u001b[0;34m,\u001b[0m \u001b[0mndtype\u001b[0m \u001b[0;34m=\u001b[0m \u001b[0m_get_hashtable_algo\u001b[0m\u001b[0;34m(\u001b[0m\u001b[0mvalues\u001b[0m\u001b[0;34m)\u001b[0m\u001b[0;34m\u001b[0m\u001b[0;34m\u001b[0m\u001b[0m\n\u001b[1;32m    366\u001b[0m \u001b[0;34m\u001b[0m\u001b[0m\n\u001b[0;32m--> 367\u001b[0;31m     \u001b[0mtable\u001b[0m \u001b[0;34m=\u001b[0m \u001b[0mhtable\u001b[0m\u001b[0;34m(\u001b[0m\u001b[0mlen\u001b[0m\u001b[0;34m(\u001b[0m\u001b[0mvalues\u001b[0m\u001b[0;34m)\u001b[0m\u001b[0;34m)\u001b[0m\u001b[0;34m\u001b[0m\u001b[0;34m\u001b[0m\u001b[0m\n\u001b[0m\u001b[1;32m    368\u001b[0m     \u001b[0muniques\u001b[0m \u001b[0;34m=\u001b[0m \u001b[0mtable\u001b[0m\u001b[0;34m.\u001b[0m\u001b[0munique\u001b[0m\u001b[0;34m(\u001b[0m\u001b[0mvalues\u001b[0m\u001b[0;34m)\u001b[0m\u001b[0;34m\u001b[0m\u001b[0;34m\u001b[0m\u001b[0m\n\u001b[1;32m    369\u001b[0m     \u001b[0muniques\u001b[0m \u001b[0;34m=\u001b[0m \u001b[0m_reconstruct_data\u001b[0m\u001b[0;34m(\u001b[0m\u001b[0muniques\u001b[0m\u001b[0;34m,\u001b[0m \u001b[0mdtype\u001b[0m\u001b[0;34m,\u001b[0m \u001b[0moriginal\u001b[0m\u001b[0;34m)\u001b[0m\u001b[0;34m\u001b[0m\u001b[0;34m\u001b[0m\u001b[0m\n",
      "\u001b[0;31mKeyboardInterrupt\u001b[0m: "
     ]
    },
    {
     "name": "stderr",
     "output_type": "stream",
     "text": [
      " 45%|████▌     | 8270/18188 [10:11<11:02, 14.98it/s]"
     ]
    }
   ],
   "source": [
    "#tune the parameters based on large population taxi zone, use rloss\n",
    "#REMEMEBER: SAVE THE tuning_history_rloss & tuning_history_rmse AS TXT !!!!!!!\n",
    "rloss_best = 1e10\n",
    "best_T1_loss = .2\n",
    "best_Lambda_loss = .001\n",
    "tuning_history_rloss = []\n",
    "\n",
    "rmse_best = 1e10 \n",
    "best_T1_mse = .2\n",
    "best_Lambda_mse = .005\n",
    "tuning_history_rmse = []\n",
    "\n",
    "tot_mse_best = 1e10 \n",
    "best_T1_tot_mse = .2\n",
    "best_Lambda_tot_mse = .005\n",
    "tuning_history_tot_mse = []\n",
    "\n",
    "for Ti in np.linspace(2,5,5): #Set your grid search range\n",
    "    for lambdai in [0.01,0.5,1.5]:\n",
    "        T1 = Ti\n",
    "        T2 = 1\n",
    "        T3 = 1\n",
    "        T4 = 1\n",
    "        T = {1:T1, 2:T2, 3:T3, 4:T4} #Tao for each nest\n",
    "        Lambda = lambdai \n",
    "        totmode = 6\n",
    "        wagelist = ['2500', '7500', '12500', '17500', '22500', '30000', '42500', '62500', '87500', '125000', '225000']\n",
    "        testdf = mode_data[mode_data['PUlocationID'].isin(topPoP_zone)]\n",
    "        \n",
    "        predict_choice_test, loss_function_denodf_test, pop_wage_test, timeslot_test = apply_model(T, totmode, wagelist, Lambda, testdf)\n",
    "        combine_test, loss_deno_test, rloss_test, rmse_test, tot_mse_test= compare_with_ground_truth(predict_choice_test, loss_function_denodf_test, acs)\n",
    "        print(predict_choice_test.sum(), (Ti, lambdai, rmse_test, tot_mse_test))\n",
    "        \n",
    "        tuning_history_rloss.append((Ti, lambdai, rloss_test))\n",
    "        tuning_history_rmse.append((Ti, lambdai, rmse_test))\n",
    "        tuning_history_tot_mse.append((Ti, lambdai, tot_mse_test))\n",
    "        \n",
    "        if rloss_test < rloss_best:\n",
    "            rloss_best = rloss_test\n",
    "            best_T1_loss = Ti\n",
    "            best_Lambda_loss = lambdai\n",
    "            \n",
    "        if rmse_test < rmse_best:\n",
    "            rmse_best = rmse_test\n",
    "            best_T1_mse = Ti\n",
    "            best_Lambda_mse = lambdai\n",
    "            \n",
    "        if tot_mse_test < tot_mse_best:\n",
    "            tot_mse_best = tot_mse_test\n",
    "            best_T1_tot_mse = Ti\n",
    "            best_Lambda_tot_mse = lambdai"
   ]
  },
  {
   "cell_type": "code",
   "execution_count": 52,
   "metadata": {},
   "outputs": [
    {
     "name": "stdout",
     "output_type": "stream",
     "text": [
      "The best parameters form weighting loss are: 74.79612136068504 0.001 0.0005\n",
      "The best parameters form rmse are: 2829.400575830949 0.001 0.0005\n",
      "The best parameters form total_mse are: 1933453.7128406558 0.001 0.0005\n"
     ]
    }
   ],
   "source": [
    "print('The best parameters form weighting loss are:', rloss_best, best_T1_loss, best_Lambda_loss)\n",
    "print('The best parameters form rmse are:', rmse_best, best_T1_mse, best_Lambda_mse)\n",
    "print('The best parameters form total_mse are:', tot_mse_best, best_T1_tot_mse, best_Lambda_tot_mse)"
   ]
  },
  {
   "cell_type": "code",
   "execution_count": 53,
   "metadata": {},
   "outputs": [
    {
     "data": {
      "text/plain": [
       "[(0.001, 0.0005, 74.79612136068504)]"
      ]
     },
     "execution_count": 53,
     "metadata": {},
     "output_type": "execute_result"
    }
   ],
   "source": [
    "tuning_history_rloss"
   ]
  },
  {
   "cell_type": "code",
   "execution_count": 54,
   "metadata": {},
   "outputs": [
    {
     "data": {
      "text/plain": [
       "[(0.001, 0.0005, 2829.400575830949)]"
      ]
     },
     "execution_count": 54,
     "metadata": {},
     "output_type": "execute_result"
    }
   ],
   "source": [
    "tuning_history_rmse"
   ]
  },
  {
   "cell_type": "code",
   "execution_count": 55,
   "metadata": {},
   "outputs": [
    {
     "data": {
      "text/plain": [
       "[(0.001, 0.0005, 1933453.7128406558)]"
      ]
     },
     "execution_count": 55,
     "metadata": {},
     "output_type": "execute_result"
    }
   ],
   "source": [
    "tuning_history_tot_mse"
   ]
  },
  {
   "cell_type": "code",
   "execution_count": 49,
   "metadata": {},
   "outputs": [],
   "source": [
    "with open('tuning_rloss.txt','w') as f:\n",
    "    f.write(\"\\n\".join(F'{x}' for x in tuning_history_rloss))\n",
    "\n",
    "with open('tuning_rmse.txt','w') as f:\n",
    "    f.write(\"\\n\".join(F'{x}' for x in tuning_history_rmse))\n",
    "    \n",
    "with open('tuning_tot_mse.txt','w') as f:\n",
    "    f.write(\"\\n\".join(F'{x}' for x in tuning_history_tot_mse))"
   ]
  },
  {
   "cell_type": "code",
   "execution_count": null,
   "metadata": {},
   "outputs": [],
   "source": []
  },
  {
   "cell_type": "code",
   "execution_count": 53,
   "metadata": {},
   "outputs": [
    {
     "data": {
      "text/html": [
       "<div>\n",
       "<style scoped>\n",
       "    .dataframe tbody tr th:only-of-type {\n",
       "        vertical-align: middle;\n",
       "    }\n",
       "\n",
       "    .dataframe tbody tr th {\n",
       "        vertical-align: top;\n",
       "    }\n",
       "\n",
       "    .dataframe thead th {\n",
       "        text-align: right;\n",
       "    }\n",
       "</style>\n",
       "<table border=\"1\" class=\"dataframe\">\n",
       "  <thead>\n",
       "    <tr style=\"text-align: right;\">\n",
       "      <th></th>\n",
       "      <th>P(mode1)</th>\n",
       "      <th>P(mode2)</th>\n",
       "      <th>P(mode3)</th>\n",
       "      <th>P(mode4)</th>\n",
       "      <th>P(mode5)</th>\n",
       "      <th>P(mode6)</th>\n",
       "    </tr>\n",
       "  </thead>\n",
       "  <tbody>\n",
       "    <tr>\n",
       "      <th>4-3</th>\n",
       "      <td>0.000000</td>\n",
       "      <td>0.257884</td>\n",
       "      <td>0.254270</td>\n",
       "      <td>0.169952</td>\n",
       "      <td>0.112349</td>\n",
       "      <td>0.205546</td>\n",
       "    </tr>\n",
       "    <tr>\n",
       "      <th>4-6</th>\n",
       "      <td>0.000000</td>\n",
       "      <td>0.583221</td>\n",
       "      <td>0.000000</td>\n",
       "      <td>0.825247</td>\n",
       "      <td>0.550922</td>\n",
       "      <td>1.040611</td>\n",
       "    </tr>\n",
       "    <tr>\n",
       "      <th>4-7</th>\n",
       "      <td>6.613683</td>\n",
       "      <td>6.098216</td>\n",
       "      <td>6.086484</td>\n",
       "      <td>2.358611</td>\n",
       "      <td>2.046708</td>\n",
       "      <td>2.796299</td>\n",
       "    </tr>\n",
       "    <tr>\n",
       "      <th>4-9</th>\n",
       "      <td>0.000000</td>\n",
       "      <td>0.272230</td>\n",
       "      <td>0.270038</td>\n",
       "      <td>0.153745</td>\n",
       "      <td>0.094839</td>\n",
       "      <td>0.209148</td>\n",
       "    </tr>\n",
       "    <tr>\n",
       "      <th>4-10</th>\n",
       "      <td>0.247192</td>\n",
       "      <td>0.239381</td>\n",
       "      <td>0.245836</td>\n",
       "      <td>0.096379</td>\n",
       "      <td>0.052529</td>\n",
       "      <td>0.118683</td>\n",
       "    </tr>\n",
       "  </tbody>\n",
       "</table>\n",
       "</div>"
      ],
      "text/plain": [
       "      P(mode1)  P(mode2)  P(mode3)  P(mode4)  P(mode5)  P(mode6)\n",
       "4-3   0.000000  0.257884  0.254270  0.169952  0.112349  0.205546\n",
       "4-6   0.000000  0.583221  0.000000  0.825247  0.550922  1.040611\n",
       "4-7   6.613683  6.098216  6.086484  2.358611  2.046708  2.796299\n",
       "4-9   0.000000  0.272230  0.270038  0.153745  0.094839  0.209148\n",
       "4-10  0.247192  0.239381  0.245836  0.096379  0.052529  0.118683"
      ]
     },
     "execution_count": 53,
     "metadata": {},
     "output_type": "execute_result"
    }
   ],
   "source": []
  },
  {
   "cell_type": "code",
   "execution_count": 192,
   "metadata": {},
   "outputs": [],
   "source": [
    "predict_choice_test = predict_choice_test.reset_index()\n",
    "predict_choice_test.rename_axis({'index' : 'ODpair'},axis=1,inplace=True)\n",
    "predict_choice_test['origin'] = predict_choice_test.ODpair.apply(lambda x: x.split('-')[0])"
   ]
  },
  {
   "cell_type": "code",
   "execution_count": 193,
   "metadata": {},
   "outputs": [],
   "source": [
    "o = list(predict_choice_test.origin.unique())"
   ]
  },
  {
   "cell_type": "code",
   "execution_count": 194,
   "metadata": {},
   "outputs": [],
   "source": [
    "acs_check = acs[acs.taxi_zone.isin(o)]"
   ]
  },
  {
   "cell_type": "code",
   "execution_count": 195,
   "metadata": {},
   "outputs": [
    {
     "data": {
      "text/html": [
       "<div>\n",
       "<style scoped>\n",
       "    .dataframe tbody tr th:only-of-type {\n",
       "        vertical-align: middle;\n",
       "    }\n",
       "\n",
       "    .dataframe tbody tr th {\n",
       "        vertical-align: top;\n",
       "    }\n",
       "\n",
       "    .dataframe thead th {\n",
       "        text-align: right;\n",
       "    }\n",
       "</style>\n",
       "<table border=\"1\" class=\"dataframe\">\n",
       "  <thead>\n",
       "    <tr style=\"text-align: right;\">\n",
       "      <th></th>\n",
       "      <th>ODpair</th>\n",
       "      <th>P(mode1)</th>\n",
       "      <th>P(mode2)</th>\n",
       "      <th>P(mode3)</th>\n",
       "      <th>P(mode4)</th>\n",
       "      <th>P(mode5)</th>\n",
       "      <th>P(mode6)</th>\n",
       "    </tr>\n",
       "  </thead>\n",
       "  <tbody>\n",
       "    <tr>\n",
       "      <th>0</th>\n",
       "      <td>4-3</td>\n",
       "      <td>0.000000</td>\n",
       "      <td>0.162470</td>\n",
       "      <td>0.086493</td>\n",
       "      <td>0.252168</td>\n",
       "      <td>0.244250</td>\n",
       "      <td>0.254619</td>\n",
       "    </tr>\n",
       "    <tr>\n",
       "      <th>1</th>\n",
       "      <td>4-6</td>\n",
       "      <td>0.000000</td>\n",
       "      <td>0.743388</td>\n",
       "      <td>0.000000</td>\n",
       "      <td>0.756806</td>\n",
       "      <td>0.734582</td>\n",
       "      <td>0.765224</td>\n",
       "    </tr>\n",
       "    <tr>\n",
       "      <th>2</th>\n",
       "      <td>4-7</td>\n",
       "      <td>6.493206</td>\n",
       "      <td>0.002159</td>\n",
       "      <td>0.004037</td>\n",
       "      <td>6.501776</td>\n",
       "      <td>6.439378</td>\n",
       "      <td>6.559444</td>\n",
       "    </tr>\n",
       "    <tr>\n",
       "      <th>3</th>\n",
       "      <td>4-9</td>\n",
       "      <td>0.000000</td>\n",
       "      <td>0.149446</td>\n",
       "      <td>0.101404</td>\n",
       "      <td>0.252000</td>\n",
       "      <td>0.241056</td>\n",
       "      <td>0.256094</td>\n",
       "    </tr>\n",
       "    <tr>\n",
       "      <th>4</th>\n",
       "      <td>4-10</td>\n",
       "      <td>0.150825</td>\n",
       "      <td>0.013678</td>\n",
       "      <td>0.087242</td>\n",
       "      <td>0.253199</td>\n",
       "      <td>0.238958</td>\n",
       "      <td>0.256098</td>\n",
       "    </tr>\n",
       "  </tbody>\n",
       "</table>\n",
       "</div>"
      ],
      "text/plain": [
       "  ODpair  P(mode1)  P(mode2)  P(mode3)  P(mode4)  P(mode5)  P(mode6)\n",
       "0    4-3  0.000000  0.162470  0.086493  0.252168  0.244250  0.254619\n",
       "1    4-6  0.000000  0.743388  0.000000  0.756806  0.734582  0.765224\n",
       "2    4-7  6.493206  0.002159  0.004037  6.501776  6.439378  6.559444\n",
       "3    4-9  0.000000  0.149446  0.101404  0.252000  0.241056  0.256094\n",
       "4   4-10  0.150825  0.013678  0.087242  0.253199  0.238958  0.256098"
      ]
     },
     "execution_count": 195,
     "metadata": {},
     "output_type": "execute_result"
    }
   ],
   "source": [
    "predict_choice_test.iloc[:,0:7].head()"
   ]
  },
  {
   "cell_type": "code",
   "execution_count": 205,
   "metadata": {},
   "outputs": [
    {
     "data": {
      "text/plain": [
       "array([94.34391819, 15.14123078, 25.53578099,  0.39711405,  1.7610402 ,\n",
       "        1.17402005])"
      ]
     },
     "execution_count": 205,
     "metadata": {},
     "output_type": "execute_result"
    }
   ],
   "source": [
    "predict_choice_test.iloc[:,1:7].sum(axis=0).values/acs_check.iloc[:,1:].sum(axis=0).values"
   ]
  },
  {
   "cell_type": "code",
   "execution_count": 204,
   "metadata": {},
   "outputs": [
    {
     "data": {
      "text/plain": [
       "0.9997892783005966"
      ]
     },
     "execution_count": 204,
     "metadata": {},
     "output_type": "execute_result"
    }
   ],
   "source": [
    "predict_choice_test.iloc[:,1:7].sum(axis=0).sum()"
   ]
  },
  {
   "cell_type": "code",
   "execution_count": 203,
   "metadata": {},
   "outputs": [
    {
     "data": {
      "text/plain": [
       "223042.99999999997"
      ]
     },
     "execution_count": 203,
     "metadata": {},
     "output_type": "execute_result"
    }
   ],
   "source": [
    "acs_check.iloc[:,1:].sum(axis=0).sum()"
   ]
  },
  {
   "cell_type": "markdown",
   "metadata": {},
   "source": [
    "## Apply to Scenario 1"
   ]
  },
  {
   "cell_type": "code",
   "execution_count": null,
   "metadata": {},
   "outputs": [],
   "source": [
    "T1 = ... #Input best T1\n",
    "Lambda = ... # Input best Lambda \n",
    "T2 = 1\n",
    "T3 = 1\n",
    "T4 = 1\n",
    "T = {1:T1, 2:T2, 3:T3, 4:T4} #Tao for each nest\n",
    "totmode = 6\n",
    "wagelist = ['2500', '7500', '12500', '17500', '22500', '30000', '42500', '62500', '87500', '125000', '225000']\n",
    "\n",
    "predict_choice, loss_function_denodf, pop_wage, timeslot = apply_model(T, totmode, wagelist, Lambda, mode_data)\n",
    "combine, loss_deno, rloss, rmse = compare_with_ground_truth(predict_choice, loss_function_denodf, acs)"
   ]
  },
  {
   "cell_type": "code",
   "execution_count": 53,
   "metadata": {
    "scrolled": true
   },
   "outputs": [
    {
     "name": "stdout",
     "output_type": "stream",
     "text": [
      "The time used to run the code: 3046.9771932660005\n",
      "The rmse of this model is: 22363.61354101562\n",
      "\n",
      "The predict transportation choice is:\n"
     ]
    },
    {
     "data": {
      "text/html": [
       "<div>\n",
       "<style scoped>\n",
       "    .dataframe tbody tr th:only-of-type {\n",
       "        vertical-align: middle;\n",
       "    }\n",
       "\n",
       "    .dataframe tbody tr th {\n",
       "        vertical-align: top;\n",
       "    }\n",
       "\n",
       "    .dataframe thead th {\n",
       "        text-align: right;\n",
       "    }\n",
       "</style>\n",
       "<table border=\"1\" class=\"dataframe\">\n",
       "  <thead>\n",
       "    <tr style=\"text-align: right;\">\n",
       "      <th></th>\n",
       "      <th>P(mode1)</th>\n",
       "      <th>P(mode2)</th>\n",
       "      <th>P(mode3)</th>\n",
       "      <th>P(mode4)</th>\n",
       "      <th>P(mode5)</th>\n",
       "    </tr>\n",
       "  </thead>\n",
       "  <tbody>\n",
       "    <tr>\n",
       "      <th>3-4</th>\n",
       "      <td>0.000000e+00</td>\n",
       "      <td>5.143610e-01</td>\n",
       "      <td>2.955623e-09</td>\n",
       "      <td>5.216414</td>\n",
       "      <td>0.269225</td>\n",
       "    </tr>\n",
       "    <tr>\n",
       "      <th>3-7</th>\n",
       "      <td>1.992068e-07</td>\n",
       "      <td>3.910663e+00</td>\n",
       "      <td>1.179624e-06</td>\n",
       "      <td>30.705659</td>\n",
       "      <td>1.383677</td>\n",
       "    </tr>\n",
       "    <tr>\n",
       "      <th>3-9</th>\n",
       "      <td>0.000000e+00</td>\n",
       "      <td>6.564801e-01</td>\n",
       "      <td>4.014125e-07</td>\n",
       "      <td>1.288755</td>\n",
       "      <td>0.054765</td>\n",
       "    </tr>\n",
       "    <tr>\n",
       "      <th>3-10</th>\n",
       "      <td>0.000000e+00</td>\n",
       "      <td>6.715375e-01</td>\n",
       "      <td>4.977698e-13</td>\n",
       "      <td>2.220289</td>\n",
       "      <td>0.108173</td>\n",
       "    </tr>\n",
       "    <tr>\n",
       "      <th>3-11</th>\n",
       "      <td>0.000000e+00</td>\n",
       "      <td>2.144113e-18</td>\n",
       "      <td>0.000000e+00</td>\n",
       "      <td>3.883684</td>\n",
       "      <td>0.116316</td>\n",
       "    </tr>\n",
       "    <tr>\n",
       "      <th>3-13</th>\n",
       "      <td>0.000000e+00</td>\n",
       "      <td>4.608020e-22</td>\n",
       "      <td>1.111936e+00</td>\n",
       "      <td>11.574317</td>\n",
       "      <td>0.313747</td>\n",
       "    </tr>\n",
       "    <tr>\n",
       "      <th>3-14</th>\n",
       "      <td>0.000000e+00</td>\n",
       "      <td>2.684983e-07</td>\n",
       "      <td>1.943933e-15</td>\n",
       "      <td>10.311189</td>\n",
       "      <td>0.688811</td>\n",
       "    </tr>\n",
       "    <tr>\n",
       "      <th>3-15</th>\n",
       "      <td>0.000000e+00</td>\n",
       "      <td>7.586212e+00</td>\n",
       "      <td>1.901040e+00</td>\n",
       "      <td>9.770136</td>\n",
       "      <td>0.742612</td>\n",
       "    </tr>\n",
       "    <tr>\n",
       "      <th>3-16</th>\n",
       "      <td>0.000000e+00</td>\n",
       "      <td>1.828701e-03</td>\n",
       "      <td>7.392624e+00</td>\n",
       "      <td>8.176450</td>\n",
       "      <td>0.429098</td>\n",
       "    </tr>\n",
       "    <tr>\n",
       "      <th>3-17</th>\n",
       "      <td>0.000000e+00</td>\n",
       "      <td>3.330155e-06</td>\n",
       "      <td>1.041209e-11</td>\n",
       "      <td>19.766922</td>\n",
       "      <td>1.233074</td>\n",
       "    </tr>\n",
       "    <tr>\n",
       "      <th>3-18</th>\n",
       "      <td>2.332150e+01</td>\n",
       "      <td>5.894731e-05</td>\n",
       "      <td>6.417720e-05</td>\n",
       "      <td>44.877386</td>\n",
       "      <td>10.800990</td>\n",
       "    </tr>\n",
       "    <tr>\n",
       "      <th>3-19</th>\n",
       "      <td>0.000000e+00</td>\n",
       "      <td>1.475196e-06</td>\n",
       "      <td>2.765981e+00</td>\n",
       "      <td>4.974505</td>\n",
       "      <td>0.259512</td>\n",
       "    </tr>\n",
       "    <tr>\n",
       "      <th>3-20</th>\n",
       "      <td>5.863804e+01</td>\n",
       "      <td>1.083801e-06</td>\n",
       "      <td>4.174936e-06</td>\n",
       "      <td>25.364341</td>\n",
       "      <td>14.997609</td>\n",
       "    </tr>\n",
       "    <tr>\n",
       "      <th>3-21</th>\n",
       "      <td>0.000000e+00</td>\n",
       "      <td>1.469941e-03</td>\n",
       "      <td>1.013339e-15</td>\n",
       "      <td>9.702249</td>\n",
       "      <td>0.296281</td>\n",
       "    </tr>\n",
       "    <tr>\n",
       "      <th>3-22</th>\n",
       "      <td>0.000000e+00</td>\n",
       "      <td>6.666440e-11</td>\n",
       "      <td>0.000000e+00</td>\n",
       "      <td>11.616480</td>\n",
       "      <td>0.383520</td>\n",
       "    </tr>\n",
       "  </tbody>\n",
       "</table>\n",
       "</div>"
      ],
      "text/plain": [
       "          P(mode1)      P(mode2)      P(mode3)   P(mode4)   P(mode5)\n",
       "3-4   0.000000e+00  5.143610e-01  2.955623e-09   5.216414   0.269225\n",
       "3-7   1.992068e-07  3.910663e+00  1.179624e-06  30.705659   1.383677\n",
       "3-9   0.000000e+00  6.564801e-01  4.014125e-07   1.288755   0.054765\n",
       "3-10  0.000000e+00  6.715375e-01  4.977698e-13   2.220289   0.108173\n",
       "3-11  0.000000e+00  2.144113e-18  0.000000e+00   3.883684   0.116316\n",
       "3-13  0.000000e+00  4.608020e-22  1.111936e+00  11.574317   0.313747\n",
       "3-14  0.000000e+00  2.684983e-07  1.943933e-15  10.311189   0.688811\n",
       "3-15  0.000000e+00  7.586212e+00  1.901040e+00   9.770136   0.742612\n",
       "3-16  0.000000e+00  1.828701e-03  7.392624e+00   8.176450   0.429098\n",
       "3-17  0.000000e+00  3.330155e-06  1.041209e-11  19.766922   1.233074\n",
       "3-18  2.332150e+01  5.894731e-05  6.417720e-05  44.877386  10.800990\n",
       "3-19  0.000000e+00  1.475196e-06  2.765981e+00   4.974505   0.259512\n",
       "3-20  5.863804e+01  1.083801e-06  4.174936e-06  25.364341  14.997609\n",
       "3-21  0.000000e+00  1.469941e-03  1.013339e-15   9.702249   0.296281\n",
       "3-22  0.000000e+00  6.666440e-11  0.000000e+00  11.616480   0.383520"
      ]
     },
     "execution_count": 53,
     "metadata": {},
     "output_type": "execute_result"
    }
   ],
   "source": [
    "print('The time used to run the code:', timeslot)\n",
    "print('The rmse of this model is:', rmse)\n",
    "print()\n",
    "print('The predict transportation choice is:')\n",
    "predict_choice.head(15)"
   ]
  },
  {
   "cell_type": "code",
   "execution_count": 54,
   "metadata": {},
   "outputs": [
    {
     "data": {
      "text/html": [
       "<div>\n",
       "<style scoped>\n",
       "    .dataframe tbody tr th:only-of-type {\n",
       "        vertical-align: middle;\n",
       "    }\n",
       "\n",
       "    .dataframe tbody tr th {\n",
       "        vertical-align: top;\n",
       "    }\n",
       "\n",
       "    .dataframe thead th {\n",
       "        text-align: right;\n",
       "    }\n",
       "</style>\n",
       "<table border=\"1\" class=\"dataframe\">\n",
       "  <thead>\n",
       "    <tr style=\"text-align: right;\">\n",
       "      <th></th>\n",
       "      <th>taxi_zone</th>\n",
       "      <th>P(mode1)_x</th>\n",
       "      <th>P(mode2)_x</th>\n",
       "      <th>P(mode3)_x</th>\n",
       "      <th>P(mode4)_x</th>\n",
       "      <th>P(mode5)_x</th>\n",
       "      <th>P(mode1)_y</th>\n",
       "      <th>P(mode2)_y</th>\n",
       "      <th>P(mode3)_y</th>\n",
       "      <th>P(mode4)_y</th>\n",
       "      <th>P(mode5)_y</th>\n",
       "    </tr>\n",
       "  </thead>\n",
       "  <tbody>\n",
       "    <tr>\n",
       "      <th>0</th>\n",
       "      <td>10</td>\n",
       "      <td>696.226520</td>\n",
       "      <td>2210.845068</td>\n",
       "      <td>186.978763</td>\n",
       "      <td>6407.563514</td>\n",
       "      <td>1355.386135</td>\n",
       "      <td>11.652287</td>\n",
       "      <td>149.882786</td>\n",
       "      <td>63.664064</td>\n",
       "      <td>9899.616882</td>\n",
       "      <td>736.183981</td>\n",
       "    </tr>\n",
       "    <tr>\n",
       "      <th>1</th>\n",
       "      <td>100</td>\n",
       "      <td>131.163394</td>\n",
       "      <td>1.268864</td>\n",
       "      <td>3.497878</td>\n",
       "      <td>560.384303</td>\n",
       "      <td>5.685561</td>\n",
       "      <td>48.244337</td>\n",
       "      <td>13.880226</td>\n",
       "      <td>2.623010</td>\n",
       "      <td>293.067961</td>\n",
       "      <td>344.184466</td>\n",
       "    </tr>\n",
       "    <tr>\n",
       "      <th>2</th>\n",
       "      <td>101</td>\n",
       "      <td>784.254402</td>\n",
       "      <td>953.617604</td>\n",
       "      <td>359.841589</td>\n",
       "      <td>3240.818084</td>\n",
       "      <td>798.468322</td>\n",
       "      <td>0.785213</td>\n",
       "      <td>46.909507</td>\n",
       "      <td>7.434348</td>\n",
       "      <td>5191.320614</td>\n",
       "      <td>893.550318</td>\n",
       "    </tr>\n",
       "    <tr>\n",
       "      <th>3</th>\n",
       "      <td>102</td>\n",
       "      <td>2813.388459</td>\n",
       "      <td>1512.980240</td>\n",
       "      <td>118.758824</td>\n",
       "      <td>6902.522214</td>\n",
       "      <td>2263.350262</td>\n",
       "      <td>0.346400</td>\n",
       "      <td>66.242517</td>\n",
       "      <td>22.211104</td>\n",
       "      <td>12097.874199</td>\n",
       "      <td>1428.325779</td>\n",
       "    </tr>\n",
       "    <tr>\n",
       "      <th>4</th>\n",
       "      <td>106</td>\n",
       "      <td>655.970129</td>\n",
       "      <td>70.909008</td>\n",
       "      <td>16.412553</td>\n",
       "      <td>2468.909214</td>\n",
       "      <td>49.799097</td>\n",
       "      <td>0.763520</td>\n",
       "      <td>15.625191</td>\n",
       "      <td>2.837223</td>\n",
       "      <td>2986.428291</td>\n",
       "      <td>256.345776</td>\n",
       "    </tr>\n",
       "  </tbody>\n",
       "</table>\n",
       "</div>"
      ],
      "text/plain": [
       "   taxi_zone   P(mode1)_x   P(mode2)_x  P(mode3)_x   P(mode4)_x   P(mode5)_x  \\\n",
       "0         10   696.226520  2210.845068  186.978763  6407.563514  1355.386135   \n",
       "1        100   131.163394     1.268864    3.497878   560.384303     5.685561   \n",
       "2        101   784.254402   953.617604  359.841589  3240.818084   798.468322   \n",
       "3        102  2813.388459  1512.980240  118.758824  6902.522214  2263.350262   \n",
       "4        106   655.970129    70.909008   16.412553  2468.909214    49.799097   \n",
       "\n",
       "   P(mode1)_y  P(mode2)_y  P(mode3)_y    P(mode4)_y   P(mode5)_y  \n",
       "0   11.652287  149.882786   63.664064   9899.616882   736.183981  \n",
       "1   48.244337   13.880226    2.623010    293.067961   344.184466  \n",
       "2    0.785213   46.909507    7.434348   5191.320614   893.550318  \n",
       "3    0.346400   66.242517   22.211104  12097.874199  1428.325779  \n",
       "4    0.763520   15.625191    2.837223   2986.428291   256.345776  "
      ]
     },
     "execution_count": 54,
     "metadata": {},
     "output_type": "execute_result"
    }
   ],
   "source": [
    "combine.head()"
   ]
  },
  {
   "cell_type": "code",
   "execution_count": 55,
   "metadata": {},
   "outputs": [],
   "source": [
    "# Save the dataframe to your local computer!!!\n",
    "predict_choice.to_csv('../results/Final_results/results_scenario1.csv')\n",
    "combine.to_csv('../results/Final_results/results_scenario1_combined.csv')\n",
    "pop_wage.tocsv('../results/Final_results/results_pop_under_wage.csv')\n",
    "loss_function_denodf.to_csv('loss_function_denodf.csv')\n",
    "loss_deno.to_csv('loss_function_deno.csv')"
   ]
  },
  {
   "cell_type": "markdown",
   "metadata": {},
   "source": [
    "### Apply to scenario 2 and 3\n",
    "Only use effeccted taxi zone for Scenario2 (+2.75) and scenario 3 (+10):\n",
    "\n",
    "**For Scenario 2**\n",
    "Taxi-zones below 96th street: 140,141, 237, 236, 263, 262, 43, 238, 239, 143,142, 12, 88, 261, 13, 87, 209, 231, 45, 232, 148, 144, 211, 125, 158, 249, 114, 113, 79, 4, 224, 107, 234, 90, 68, 246, 186, 164, 100, 170, 137, 233, 162, 161, 230, 48, 50, 163, 229.\n",
    "\n",
    "**For Scenario 3**\n",
    "Taxi-zones under 60th street: 12, 88, 261, 13, 87, 209, 231, 45, 232, 148, 144, 211, 125, 158, 249, 114, 113, 79, 4, 224, 107, 234, 90, 68, 246, 186, 164, 100, 170, 137, 233, 162, 161, 230, 48, 50, 163, 229."
   ]
  },
  {
   "cell_type": "code",
   "execution_count": null,
   "metadata": {},
   "outputs": [],
   "source": []
  },
  {
   "cell_type": "code",
   "execution_count": null,
   "metadata": {},
   "outputs": [],
   "source": []
  }
 ],
 "metadata": {
  "kernelspec": {
   "display_name": "Python 3",
   "language": "python",
   "name": "python3"
  },
  "language_info": {
   "codemirror_mode": {
    "name": "ipython",
    "version": 3
   },
   "file_extension": ".py",
   "mimetype": "text/x-python",
   "name": "python",
   "nbconvert_exporter": "python",
   "pygments_lexer": "ipython3",
   "version": "3.7.1"
  }
 },
 "nbformat": 4,
 "nbformat_minor": 2
}
