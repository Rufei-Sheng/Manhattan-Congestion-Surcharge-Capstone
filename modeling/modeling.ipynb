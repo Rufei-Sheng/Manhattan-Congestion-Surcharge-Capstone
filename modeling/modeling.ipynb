{
 "cells": [
  {
   "cell_type": "markdown",
   "metadata": {},
   "source": [
    "## Note: mode1-taxi, mode2-FHV, mode3-shared FHV, mode4-PT, mode5-walking"
   ]
  },
  {
   "cell_type": "code",
   "execution_count": 165,
   "metadata": {},
   "outputs": [],
   "source": [
    "import numpy as np\n",
    "import pandas as pd\n",
    "import warnings\n",
    "warnings.filterwarnings(\"ignore\")"
   ]
  },
  {
   "cell_type": "markdown",
   "metadata": {},
   "source": [
    "## Data"
   ]
  },
  {
   "cell_type": "code",
   "execution_count": 167,
   "metadata": {},
   "outputs": [
    {
     "data": {
      "text/html": [
       "<div>\n",
       "<style scoped>\n",
       "    .dataframe tbody tr th:only-of-type {\n",
       "        vertical-align: middle;\n",
       "    }\n",
       "\n",
       "    .dataframe tbody tr th {\n",
       "        vertical-align: top;\n",
       "    }\n",
       "\n",
       "    .dataframe thead th {\n",
       "        text-align: right;\n",
       "    }\n",
       "</style>\n",
       "<table border=\"1\" class=\"dataframe\">\n",
       "  <thead>\n",
       "    <tr style=\"text-align: right;\">\n",
       "      <th></th>\n",
       "      <th>taxi_zone</th>\n",
       "      <th>P(mode1)</th>\n",
       "      <th>P(mode2)</th>\n",
       "      <th>P(mode3)</th>\n",
       "      <th>P(mode4)</th>\n",
       "      <th>P(mode5)</th>\n",
       "    </tr>\n",
       "  </thead>\n",
       "  <tbody>\n",
       "    <tr>\n",
       "      <th>0</th>\n",
       "      <td>3</td>\n",
       "      <td>177.762595</td>\n",
       "      <td>73.068204</td>\n",
       "      <td>1.150001</td>\n",
       "      <td>16668.822855</td>\n",
       "      <td>2001.196346</td>\n",
       "    </tr>\n",
       "    <tr>\n",
       "      <th>1</th>\n",
       "      <td>4</td>\n",
       "      <td>201.297419</td>\n",
       "      <td>120.885755</td>\n",
       "      <td>61.223127</td>\n",
       "      <td>13318.123341</td>\n",
       "      <td>6279.470358</td>\n",
       "    </tr>\n",
       "    <tr>\n",
       "      <th>2</th>\n",
       "      <td>5</td>\n",
       "      <td>49.601278</td>\n",
       "      <td>7.992997</td>\n",
       "      <td>0.306749</td>\n",
       "      <td>8847.276451</td>\n",
       "      <td>142.822526</td>\n",
       "    </tr>\n",
       "    <tr>\n",
       "      <th>3</th>\n",
       "      <td>6</td>\n",
       "      <td>164.390442</td>\n",
       "      <td>40.427858</td>\n",
       "      <td>2.346380</td>\n",
       "      <td>22929.859149</td>\n",
       "      <td>2485.976170</td>\n",
       "    </tr>\n",
       "    <tr>\n",
       "      <th>4</th>\n",
       "      <td>7</td>\n",
       "      <td>616.150103</td>\n",
       "      <td>162.371679</td>\n",
       "      <td>110.267353</td>\n",
       "      <td>138012.557541</td>\n",
       "      <td>11998.653324</td>\n",
       "    </tr>\n",
       "  </tbody>\n",
       "</table>\n",
       "</div>"
      ],
      "text/plain": [
       "   taxi_zone    P(mode1)    P(mode2)    P(mode3)       P(mode4)      P(mode5)\n",
       "0          3  177.762595   73.068204    1.150001   16668.822855   2001.196346\n",
       "1          4  201.297419  120.885755   61.223127   13318.123341   6279.470358\n",
       "2          5   49.601278    7.992997    0.306749    8847.276451    142.822526\n",
       "3          6  164.390442   40.427858    2.346380   22929.859149   2485.976170\n",
       "4          7  616.150103  162.371679  110.267353  138012.557541  11998.653324"
      ]
     },
     "execution_count": 167,
     "metadata": {},
     "output_type": "execute_result"
    }
   ],
   "source": [
    "acs = pd.read_csv('final_acs_transportation_choice.csv', index_col=0)\n",
    "acs.head()"
   ]
  },
  {
   "cell_type": "code",
   "execution_count": null,
   "metadata": {
    "scrolled": false
   },
   "outputs": [],
   "source": [
    "mode_data = pd.read_csv('final_allMode_with_wage.csv', index_col=0).set_index('ODpair')\n",
    "mode_data = mode_data.dropna()\n",
    "mode_data.head()"
   ]
  },
  {
   "cell_type": "markdown",
   "metadata": {},
   "source": [
    "## Modeling"
   ]
  },
  {
   "cell_type": "markdown",
   "metadata": {},
   "source": [
    "### Nested Logit Model"
   ]
  },
  {
   "cell_type": "code",
   "execution_count": 97,
   "metadata": {},
   "outputs": [],
   "source": [
    "def utility(mode, wage, Lambda, dataset):\n",
    "    '''\n",
    "    Get the utility for mode j under specific OD pair\n",
    "    Lambda: parameter that trade-off different transportation mode\n",
    "    '''\n",
    "    subset = dataset[dataset['mode'] == mode]\n",
    "    vj = Lambda * (float(int(wage)/525600) * float(subset['duration']) + float(subset['price'])) #525600: convert wage scale 'year' to 'minitues'\n",
    "    return -vj #assign negative utility?\n",
    "\n",
    "\n",
    "def InclusiveValue(Nk, Tk, wage, dictVj, Lambda, dataset):\n",
    "    '''\n",
    "    Get the inclusive value for nest K\n",
    "    Nk:nest k\n",
    "    T: the dict that contains Tao(dissmilarity parameter) for each Nest. for example, Tk meeas Tao for nest K\n",
    "    '''\n",
    "    subsetNk = dataset[dataset['nest'] == Nk]\n",
    "    modes = list(subsetNk['mode'].unique()) #what modes contained in this nest k\n",
    "    sumIV = 0\n",
    "    for j in modes:   \n",
    "        vj = utility(j, wage, Lambda, subsetNk)\n",
    "        dictVj[j] = vj\n",
    "        sumIV += np.exp((1/Tk)*vj)  \n",
    "    IVk = np.log(sumIV)\n",
    "    return dictVj, IVk\n",
    "    \n",
    "\n",
    "def denoSum(T, nestList, wage, Lambda, dataset):\n",
    "    '''\n",
    "    Calculate the denomenator for P(y=Nk)\n",
    "    T: the dict that contains Tk for each Nest, in our case T={1:T1, 2:T2, 3:T3}; T1, T2, T3 defined by us \n",
    "    TotK: the total number of nest this model has, in our case TotK = 3\n",
    "    '''\n",
    "    deno = 0\n",
    "    dictIVk = {}\n",
    "    dictVj = {}\n",
    "    for Nk in nestList: #k is the k Nest, in our case k=1,2,3\n",
    "        Tk = T[Nk] #get the tao for nest k \n",
    "        dictVj, IVk = InclusiveValue(Nk, Tk, wage, dictVj, Lambda, dataset)\n",
    "        denok = np.exp(Tk*IVk)\n",
    "        deno += denok\n",
    "        dictIVk[Nk] = IVk\n",
    "    return dictVj, dictIVk, deno\n",
    "\n",
    "\n",
    "def probability (j, Nk, T, dictVj, dictIVk, deno):  \n",
    "    '''\n",
    "    Calculate the probability for the specific mode j and Nest Nk\n",
    "    '''\n",
    "    Tk = T[Nk]\n",
    "    IVk = dictIVk[Nk]\n",
    "    vj = dictVj[j]\n",
    "    pjk = np.exp((1/Tk)*vj)/np.exp(IVk) #pjk: P(y=j, y belong to Nk)\n",
    "    pk = np.exp(Tk*IVk)/deno #pk: P(y belong to Nk)\n",
    "    pj = pjk*pk #pj: P(y=j)\n",
    "    return pj"
   ]
  },
  {
   "cell_type": "markdown",
   "metadata": {},
   "source": [
    "### Apply to our case"
   ]
  },
  {
   "cell_type": "code",
   "execution_count": 170,
   "metadata": {},
   "outputs": [],
   "source": [
    "def apply_model(T, nestList, wageList, Lambda, dataAll):\n",
    "    '''\n",
    "    apply to our case\n",
    "    '''\n",
    "    import timeit\n",
    "    start = timeit.default_timer()\n",
    "\n",
    "    ODpair_list = list(dataAll.index.unique())\n",
    "    p = []\n",
    "    for i in ODpair_list: #indentify OD pair  \n",
    "        dataOD = dataAll[dataAll.index==i] \n",
    "        modeList = list(dataOD['mode'])\n",
    "        nestList = list(dataOD['nest'])\n",
    "        \n",
    "        pop_OD = [] #store the results under each OD pair\n",
    "        for wage in wageList:            \n",
    "            dictVj, dictIVk, deno = denoSum(T, set(nestList), wage, Lambda, dataOD)\n",
    "            pop_mode = [] #store the results under each OD pair and each wage\n",
    "            for i in range(1,6):\n",
    "                if i in modeList: #not all modes appear in every OD pair\n",
    "                    pop = dataOD[wage].mean() * probability(i, nestList[modeList.index(i)], T, dictVj, dictIVk, deno)\n",
    "                    if np.isnan(pop) == True: #if predicted population is nan, replace it as 0, means no people choose\n",
    "                        pop = 0\n",
    "                \n",
    "                    pop_mode.append(pop)\n",
    "                else: \n",
    "                    pop_mode.append(0)\n",
    "            pop_OD.append(pop_mode)\n",
    "        pop_OD_sum = [sum(x) for x in zip(*pop_OD)] #sum the weighted population under each wage scenario\n",
    "        p.append(pop_OD_sum)\n",
    "\n",
    "    df = pd.DataFrame(p, columns=['P(mode1)', 'P(mode2)', 'P(mode3)', 'P(mode4)', 'P(mode5)']\n",
    "                      , index=ODpair_list)\n",
    "    \n",
    "    stop = timeit.default_timer()\n",
    "    timeslot = stop - start\n",
    "    return df, timeslot\n",
    "\n",
    "def compare_with_ground_truth(predictdf, truedf):\n",
    "    '''\n",
    "    compare our predicted transportation choice with ground truth\n",
    "    \n",
    "    The header of the datafrme after merge (named 'data_compare') should be like:\n",
    "    taxi_zone | P(mode1)_x | P(mode2)_x | P(mode3)_x | P(mode4)_x | P(mode5)_x | P(mode1)_y | P(mode2)_y | P(mode3)_y | P(mode4)_y | P(mode5)_y\n",
    "    '''\n",
    "    import numpy as np\n",
    "    # makesure predictdf and truedf have the same formats\n",
    "    for col in predictdf.columns:\n",
    "        predictdf[col] = predictdf[col].astype(float) \n",
    "    predictdf = predictdf.fillna(0)\n",
    "    predictdf = predictdf.replace([np.inf, -np.inf], np.nan)\n",
    "    predictdf = predictdf.dropna()\n",
    "    predictdf['taxi_zone'] = predictdf.index.map(lambda x: x.split('-')[0])\n",
    "    predictdf = predictdf.groupby('taxi_zone').mean().reset_index() #group the popuation by taxi zone\n",
    "    predictdf['taxi_zone'] = predictdf['taxi_zone'].astype(int)\n",
    "    truedf['taxi_zone'] = truedf['taxi_zone'].astype(int)\n",
    "    \n",
    "    data_compare = pd.merge(predictdf, truedf, left_on='taxi_zone', right_on = 'taxi_zone', how = 'left')\n",
    "    data_compare = data_compare.dropna() \n",
    "    \n",
    "    mse = 0\n",
    "    for i in range(1,6):\n",
    "        msei = (data_compare[data_compare.columns[i]] - data_compare[data_compare.columns[i+5]])**2\n",
    "    mse += msei\n",
    "    return float(mse)"
   ]
  },
  {
   "cell_type": "code",
   "execution_count": 172,
   "metadata": {
    "scrolled": false
   },
   "outputs": [
    {
     "name": "stdout",
     "output_type": "stream",
     "text": [
      "The time used to run the code: 0.22920473299745936\n",
      "The mse of this model is: 4004786.8137141904\n",
      "\n",
      "The predict transportation choice is:\n"
     ]
    },
    {
     "data": {
      "text/html": [
       "<div>\n",
       "<style scoped>\n",
       "    .dataframe tbody tr th:only-of-type {\n",
       "        vertical-align: middle;\n",
       "    }\n",
       "\n",
       "    .dataframe tbody tr th {\n",
       "        vertical-align: top;\n",
       "    }\n",
       "\n",
       "    .dataframe thead th {\n",
       "        text-align: right;\n",
       "    }\n",
       "</style>\n",
       "<table border=\"1\" class=\"dataframe\">\n",
       "  <thead>\n",
       "    <tr style=\"text-align: right;\">\n",
       "      <th></th>\n",
       "      <th>P(mode1)</th>\n",
       "      <th>P(mode2)</th>\n",
       "      <th>P(mode3)</th>\n",
       "      <th>P(mode4)</th>\n",
       "      <th>P(mode5)</th>\n",
       "    </tr>\n",
       "  </thead>\n",
       "  <tbody>\n",
       "    <tr>\n",
       "      <th>3-1</th>\n",
       "      <td>565.151604</td>\n",
       "      <td>561.849947</td>\n",
       "      <td>493.998449</td>\n",
       "      <td>0.0</td>\n",
       "      <td>0.000000e+00</td>\n",
       "    </tr>\n",
       "    <tr>\n",
       "      <th>3-2</th>\n",
       "      <td>0.000000</td>\n",
       "      <td>0.000000</td>\n",
       "      <td>0.000000</td>\n",
       "      <td>6170.0</td>\n",
       "      <td>1.164735e-43</td>\n",
       "    </tr>\n",
       "    <tr>\n",
       "      <th>3-3</th>\n",
       "      <td>18922.000000</td>\n",
       "      <td>0.000000</td>\n",
       "      <td>0.000000</td>\n",
       "      <td>0.0</td>\n",
       "      <td>0.000000e+00</td>\n",
       "    </tr>\n",
       "    <tr>\n",
       "      <th>3-4</th>\n",
       "      <td>0.000000</td>\n",
       "      <td>2059.254069</td>\n",
       "      <td>1897.745931</td>\n",
       "      <td>0.0</td>\n",
       "      <td>0.000000e+00</td>\n",
       "    </tr>\n",
       "  </tbody>\n",
       "</table>\n",
       "</div>"
      ],
      "text/plain": [
       "         P(mode1)     P(mode2)     P(mode3)  P(mode4)      P(mode5)\n",
       "3-1    565.151604   561.849947   493.998449       0.0  0.000000e+00\n",
       "3-2      0.000000     0.000000     0.000000    6170.0  1.164735e-43\n",
       "3-3  18922.000000     0.000000     0.000000       0.0  0.000000e+00\n",
       "3-4      0.000000  2059.254069  1897.745931       0.0  0.000000e+00"
      ]
     },
     "execution_count": 172,
     "metadata": {},
     "output_type": "execute_result"
    }
   ],
   "source": [
    "#choose ODpair 3-1 to test the algrithm whether bug-free:\n",
    "T1 = 2500\n",
    "T2 = 1\n",
    "T3 = 1\n",
    "T = {1:T1, 2:T2, 3:T3} #Tao for each nest\n",
    "Lambda = 2 \n",
    "nestList = [1, 2, 3]\n",
    "wagelist = ['2500', '7500', '12500', '17500', '22500', '30000', '42500', '62500', '87500', '125000', '225000']\n",
    "testdf = mode_data[mode_data.index.isin(list(mode_data.index[:10]))] #test OD pair 3-1,3-2,3-3,3-4\n",
    "\n",
    "predict_choice_test, timeslot_test = apply_model(T, nestList, wagelist, Lambda, testdf)\n",
    "mse_test = compare_with_ground_truth(predict_choice_test, acs)\n",
    "print('The time used to run the code:', timeslot_test)\n",
    "print('The mse of this model is:', mse_test)\n",
    "print()\n",
    "print('The predict transportation choice is:')\n",
    "predict_choice_test"
   ]
  },
  {
   "cell_type": "code",
   "execution_count": null,
   "metadata": {},
   "outputs": [],
   "source": [
    "#Run the model for the whole dataset\n",
    "T1 = 3000 #should set grid search for T1 \n",
    "T2 = 1\n",
    "T3 = 1\n",
    "T = {1:T1, 2:T2, 3:T3} #Tao for each nest\n",
    "Lambda = 2 #should set grid search for Lambda \n",
    "nestList = [1, 2, 3]\n",
    "wagelist = ['2500', '7500', '12500', '17500', '22500', '30000', '42500', '62500', '87500', '125000', '225000']\n",
    "\n",
    "predict_transportation_choice, timeslot = apply_model(T, nestList, wagelist, Lambda, mode_data)\n",
    "mse = compare_with_ground_truth(predict_choice_test, acs)"
   ]
  },
  {
   "cell_type": "code",
   "execution_count": null,
   "metadata": {},
   "outputs": [],
   "source": [
    "print('The time used to run the code:', timeslot)\n",
    "print('The mse of this model is:', mse)\n",
    "print()\n",
    "print('The predict transportation choice is:')\n",
    "predict_transportation_choice"
   ]
  },
  {
   "cell_type": "code",
   "execution_count": null,
   "metadata": {},
   "outputs": [],
   "source": []
  }
 ],
 "metadata": {
  "kernelspec": {
   "display_name": "Python 3",
   "language": "python",
   "name": "python3"
  },
  "language_info": {
   "codemirror_mode": {
    "name": "ipython",
    "version": 3
   },
   "file_extension": ".py",
   "mimetype": "text/x-python",
   "name": "python",
   "nbconvert_exporter": "python",
   "pygments_lexer": "ipython3",
   "version": "3.7.1"
  }
 },
 "nbformat": 4,
 "nbformat_minor": 2
}
